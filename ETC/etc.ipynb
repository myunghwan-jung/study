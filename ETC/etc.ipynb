{
 "cells": [
  {
   "cell_type": "markdown",
   "id": "33ab7772",
   "metadata": {},
   "source": [
    "# 기타"
   ]
  },
  {
   "cell_type": "markdown",
   "id": "20caccfb",
   "metadata": {},
   "source": [
    "## 논리적 단위?\n",
    "- 물리적(랜 케이블, HDD 장치 등)과 달리, 추상적 개념이나 계층에서 존재하는 것\n",
    "- 클라우드 리소스를 물리적 자원에 구애받지 않고 효율적으로 관리할 수 있는 이유\n",
    "- 예: 베어메탈 서버는 물리적 리소스. EC2 인스턴스는 가상의 논리적 리소스"
   ]
  }
 ],
 "metadata": {
  "language_info": {
   "name": "python"
  }
 },
 "nbformat": 4,
 "nbformat_minor": 5
}
