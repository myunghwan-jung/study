{
 "cells": [
  {
   "cell_type": "markdown",
   "metadata": {},
   "source": [
    "# 가상화\n",
    "- 단일 컴퓨터의 하드웨어 요소를, 일반적으로 가상 머신이라고 하는 다수의 가상 컴퓨터로 분할할 수 있도록 해주는 기술"
   ]
  },
  {
   "cell_type": "markdown",
   "metadata": {},
   "source": [
    "## 배경 지식\n",
    "- 운영 체제 (Operation System, OS) : 시스템 하드웨어 자원과 소프트웨어 자원을 운영 관리하는 프로그램. 윈도우, 리눅스 등등\n",
    "- 특권 명령 (Privileged instruction) : 시스템 요소들과 소통할 수 있는 명령 - OS(Kernel)만 가능\n",
    "    - OS는 특권 명령 때문에 하나의 하드웨어 시스템 당 하나밖에 돌아갈 수 없음\n",
    "    - 일반 프로그램은 특권 명령이 필요 없기 때문에 많은 프로그램을 동시에 수행 가능\n",
    "- 가상화가 나타나기 전 까지는 하나의 하드웨어 시스템은 하나의 OS만 실행 가능\n",
    "    - 즉, 일반적인 컴퓨터처럼 직접 OS가 하드웨어에 설치된 상태(Bare-Metal)로만 운영 가능."
   ]
  },
  {
   "cell_type": "markdown",
   "metadata": {},
   "source": [
    "## 가상화의 역사\n",
    "- 1세대 : 완전 가상화 (Fully Emulated)\n",
    "    - 모든 시스템 요소가 에뮬레이터 안에서 돌아감.\n",
    "        - 즉, CPU, 하드디스크, 마더보드 등 모든 요소를 에뮬레이터로 구현, Guest OS(가상 환경 OS)와 연동\n",
    "    - 엄청나게 느림\n",
    "- 2세대 : Paravirtualization\n",
    "    - Guest OS는 하이퍼바이저와 통신\n",
    "    - 하이버파이버 : OS와 하드웨어 사이에 존재하는 일종의 가상화 매니저\n",
    "    - 속도의 향상\n",
    "    - 몇 몇 요소의 경우 여전히 에뮬레이터 필요 : 여전히 느린 부분이 있음\n",
    "- 3세대 : Hardware Virtual Machine (HVM)\n",
    "    - 하드웨어에서 직접 가상화를 지원\n",
    "    - 직접 Guest-OS가 하드웨어와 통신 = 빠른 속도 (Near bare-metal)"
   ]
  },
  {
   "cell_type": "markdown",
   "metadata": {},
   "source": [
    "### 가상화와 클라우드\n",
    "- AWS클라우드 환경에서 리소스를 작은 단위로 빠르게 구성할 수 있는 원동력은 가상화\n",
    "- 즉 AWS에서 사용자마다 컴퓨터를 할당해 주는 것이 아닌 이미 구축된 가상화 가능한 서버의 한 부분을 할당해 주는 것"
   ]
  }
 ],
 "metadata": {
  "language_info": {
   "name": "python"
  }
 },
 "nbformat": 4,
 "nbformat_minor": 2
}
