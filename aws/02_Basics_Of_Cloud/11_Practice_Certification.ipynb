{
 "cells": [
  {
   "cell_type": "markdown",
   "metadata": {},
   "source": [
    "# AWS 사용과 인증 실습"
   ]
  },
  {
   "cell_type": "markdown",
   "metadata": {},
   "source": [
    "1. Demo IAM 만들기\n",
    "    - 콘솔 접근 권한 필요 없음\n",
    "    - IAMReadOnlyAccess 정책 적용\n",
    "2. IAM 액세스 키 만들기\n",
    "    - IAM의 \"보안 자격 증명\" 메뉴\n",
    "    - 사용 사례는 기타, 태그 필요 없음.\n",
    "    - 액세스, 비밀 액세스 키 csv 다운로드\n",
    "3. EC2에 적용해보자\n",
    "    - 키페어 없이\n",
    "    - 보안 그룹도 그대로\n",
    "4. 기본 SSH 연결\n",
    "    - sudo -s (관리자 권한 획득)\n",
    "    - aws iam list-users aws\n",
    "        - Unable to locate credentials. You can configure credentials by running \"aws configure\". (권한 문제)\n",
    "    - aws configure\n",
    "        - AWS Access Key ID [None] : csv 파일에서 가져오자\n",
    "        - AWS Secret Access Key [None] : csv 파일에서 가져오자\n",
    "        - Default region name [None] : ap-northeast-2\n",
    "        - Default outpur format [None] : 그냥 엔터\n",
    "    - aws iam list-users aws\n",
    "        - 이제 보안 자격을 갖췄으니 리스트가 보임.\n",
    "5. 권한을 제거해보자\n",
    "    - demo-iam-user 의 iamreadonlyaccess 권한 정책을 제거\n",
    "    - 다시 aws iam list-users\n",
    "        - 이제 권한이 없으니 access denied\n",
    "    - 다시 권한 추가하고 aws iam list-users\n",
    "        - 권한 있으니 잘 뜸\n",
    "6. Access Key를 비활성화 해보자.\n",
    "    - 비활성화 하고 aws iam list-users\n",
    "        - invalid client token id 나옴.\n",
    "    - 활성화 하고 aws iam list-users\n",
    "        - 잘 나오겠지\n",
    "7. Access Key는 2개를 만들 수 있다. 둘 다 쓰라는 것이 아니라 Rotation.\n",
    "8. 이때까지는 CLI에서 Access Key를 활용한거고, 어플리케이션에서도 활용 가능 (코드 내부에 직접 넣어서)\n",
    "9. 프로파일에 대해 살펴보자(AWS CloudShell)\n",
    "    - 하나의 IAM 사용자를 더 만들자 (demo-iam-ec2-user)\n",
    "    - 콘솔 접근 필요 없음. 직접 정책 연결로 AmazonEC2ReadOnlyAccess 부여\n",
    "    - 여기에도 access key 만들어주자\n",
    "    - cloudshell에 aws configure --profile iamuser\n",
    "    - 키, 리젼 잘 넣고 컨피규어 한번 더 aws configure --profile ec2user\n",
    "    - aws iam list-users --profile iamuser\n",
    "    - aws ec2 describe-instances --profile iamuser\n",
    "10. 인스턴스 삭제!!!!!!\n"
   ]
  }
 ],
 "metadata": {
  "language_info": {
   "name": "python"
  }
 },
 "nbformat": 4,
 "nbformat_minor": 2
}
