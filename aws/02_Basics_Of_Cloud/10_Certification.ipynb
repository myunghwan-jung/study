{
 "cells": [
  {
   "cell_type": "markdown",
   "metadata": {},
   "source": [
    "# AWS 사용과 인증"
   ]
  },
  {
   "cell_type": "markdown",
   "metadata": {},
   "source": [
    "## AWS 이용 방법\n",
    "- AWS 웹 콘솔\n",
    "    - 웹 기반의 콘솔에 로그인하여 사용\n",
    "    - 콘솔 액세스 자격 증명을 사용하여 인증\n",
    "- 프로그래임 액세스 방식\n",
    "    - Command Line Interface(CLI) : 명령줄 기반으로 AWS 서비스를 관리하는 통한 도구\n",
    "    - Software Development Kit(SDK) : 다양한 프로그래밍 언어로 만들어진 AWS 서비스를 관리하는 패키지\n",
    "        - 프로그래밍 언어에 맞는 SDK를 사용해 개발에 활용\n",
    "    - 프로그램 방식 액세스 자격 증명을 사용하여 인증"
   ]
  },
  {
   "cell_type": "markdown",
   "metadata": {},
   "source": [
    "### 콘솔 액세스 자격 증면\n",
    "- 콘솔 로그인을 위해 필요\n",
    "    - Root Email/Password : 루트 사용자 로그인을 위해 사용\n",
    "    - IAM 사용자 이름/Password : IAM 사용자가 로그인 하기 위해 사용\n",
    "    - Multi Factor Authentificator : 다른 자격 증명의 보안을 강화하기 위한 임시 비밀번호"
   ]
  },
  {
   "cell_type": "markdown",
   "metadata": {},
   "source": [
    "### 프로그램 방식 액세스 자격 증명\n",
    "- AWS의 CLI, SDK를 사용할 때 필요한 자격 증명\n",
    "- Access Key의 구성\n",
    "    - Access Key ID : 유저 이름에 해당하는 키. 일반적으로 공개되어도 무방\n",
    "    - Secret Access Key : 패스워드에 해당하는 키. 공개되면 안됨\n",
    "- 하나의 IAM 사용자 당 2개의 Access Key Pair 발급 가능\n",
    "- 활성화 / 비활성화 가능\n",
    "- Secret Access Key의 경우 발급 시점 외에 다시 확인 불가능\n",
    "- 생성한 IAM 사용자의 권한을 행사 가능\n",
    "- IAM 사용자를 서버 / 프로그램 별로 생성하여 Access Key를 전달하여 CLI / SDK 사용\n",
    "    - AWS CLI의 경우 서버의 별도 파일에 자격 증명을 저장하여 인증\n",
    "    - AWS SDK의 경우 별도 파일에 자격 증명을 저장하거나 런타임에 자격 증명을 명시해서 인증\n",
    "- 프로파일 : 자격 증명의 단위로 서로 다른 자격 증명에 이름을 부여해서 필요할 때 마다 스위칭 가능"
   ]
  },
  {
   "cell_type": "markdown",
   "metadata": {},
   "source": [
    "### 정리\n",
    "- AWS 이용 방법\n",
    "    - 웹 콘솔\n",
    "        - 콘솔 액세스 자격 증명을 사용하여 인증\n",
    "            - Root Email / Password\n",
    "            - IAM Username / Password\n",
    "            - MFA\n",
    "    - 프로그래밍 액세스\n",
    "        - CLI\n",
    "        - SDK\n",
    "        - 프로그램 방식 액세스 자격 증명을 사용하여 인증\n",
    "            - Access Key Pair\n",
    "            - 하나의 IAM 사용자 당 2개의 Access Key 발급 가능\n"
   ]
  }
 ],
 "metadata": {
  "language_info": {
   "name": "python"
  }
 },
 "nbformat": 4,
 "nbformat_minor": 2
}
