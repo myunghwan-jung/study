{
 "cells": [
  {
   "cell_type": "markdown",
   "metadata": {},
   "source": [
    "# AWS계정과 프리티어"
   ]
  },
  {
   "cell_type": "markdown",
   "metadata": {},
   "source": [
    "## AWS Account\n",
    "- AWS의 사용자와 리소스를 관리하는 단위\n",
    "    - AWS 계정에 리소스를 생성\n",
    "    - 이후 다양한 사용 주체(IAM 사용자, 역할 등)이 생성된 리소스를 사용\n",
    "    - 계정 != 사용자\n",
    "- 계정 생성 방법\n",
    "    - 이메일, 신용카드, 계정 이름을 제공해서 신규 계정 생성\n",
    "    - AWS Organization으로 생성\n",
    "- 계정 생성 시 Root 사용자 자동으로 생성"
   ]
  },
  {
   "cell_type": "markdown",
   "metadata": {},
   "source": [
    "## Root 사용자\n",
    "- 계정을 생성할 때 같이 생성되는 사용자\n",
    "- 계정의 모든 권한을 가지고 있으며, 계정 권한을 제한할 방법이 없음\n",
    "    - 탈취당했을 때 복구가 매우 어려움 = MFA 필수\n",
    "- Root 사용자만 가능한 작업\n",
    "    - AWS 계정 설명 변경 (메인 이메일 주소, 계정 이름, 연락처 변경 등)\n",
    "    - 요금 관련 설정 (IAM 유저에게 위임 가능)\n",
    "    - AWS Support Plan (지원 플랜) 구독, 변경, 취소\n",
    "    - AWS 계정 삭제\n",
    "- Root 계정은 너무 많은 권한을 가지고 있고, 탈취당했을 때 복구가 매우 힘들다. IAM 사용자를 만들어 사용하는 것이 권장사항.\n",
    "- Root 계정은 관리용으로만 사용하는 것을 권장. (계정 설정 변경, 빌링 등)"
   ]
  },
  {
   "cell_type": "markdown",
   "metadata": {},
   "source": [
    "## IAM 사용자\n",
    "- IAM(Identity and Acces Management)를 통해 생성한 사용자\n",
    "- 생성 시 권한이 따로 부여되어있지 않으며 정책 혹은 그룹을 통해 권한을 부여받아 활동\n",
    "    - 권한 부여 시 루트 사용자와 같이 모든 권한을 가질 수 있지만, 빌링 관련 권한은 루트 사용자가 허용해야 함\n",
    "- 꼭 사람이 아닌 어플리케이션 등의 가상의 주체를 대표할 수도 있음.\n",
    "- AWS의 관리를 제외한 모든 작업은 IAM을 사용하는 것을 권장"
   ]
  },
  {
   "cell_type": "markdown",
   "metadata": {},
   "source": [
    "## AWS 계정의 의미\n",
    "- AWS 리소스 관리의 일반적인 최대 단위\n",
    "    - 일반적으로 설정의 가장 큰 단위는 계정\n",
    "    - 예 : 계정 별 최대 S3 버킷 개수 등\n",
    "- 관리, 피해 범위를 한정할 수 있음\n",
    "    - 권한 관리를 쉽게 할 수 있음\n",
    "    - 해킹 등의 피해 발생 시 피해 범위 최소화 가능\n",
    "- 비용 범위에 대한 확인을 쉽게할 수 있음"
   ]
  },
  {
   "cell_type": "markdown",
   "metadata": {},
   "source": [
    "## AWS 계정 생성\n",
    "- 처음 생성할 때 본인 명의의 신용카드 필요\n",
    "- 처음에는 루트 사용자와 기본 리소스(default VPC)등이 생성됨\n",
    "- AWS 계정 아이디가 부여됨(숫자)\n",
    "    - 로그인할 때 해당 숫자를 기억해야 함\n",
    "    - 추후 AWS계정에 별명 지정 가능(문자)"
   ]
  },
  {
   "cell_type": "markdown",
   "metadata": {},
   "source": [
    "## AWS 프리티어\n",
    "- AWS 프리티어는 고객에게 서비스별로 지정된 한도 내에서 무료로 AWS 서비스를 살펴보고 사용해볼 수 있는 기능을 제공합니다. 프리티어는 12개월 무료, 상시 무료, 단기 무료 평가판의 세 가지 유형으로 구성됩니다.\n",
    "- 서비스별로 지정된 한도 내에서 무료로 서비스를 살펴보고 사용해 볼 수 있는 기능\n",
    "    - 누구나 사용 가능\n",
    "- 총 세 가지 종류\n",
    "    - 언제나 무료\n",
    "    - 무료 평가\n",
    "    - 12개월 무료\n",
    "- Cost Explorer / AWS Budget 등으로 사용량 추적 및 알림 가능\n"
   ]
  },
  {
   "cell_type": "markdown",
   "metadata": {},
   "source": [
    "### 언제나 무료\n",
    "- 기존 및 신규 고객 모두에게 일정 기간동안 일정 사용량을 무료로 제공하는 방식\n",
    "    - 일정 시간 동안 일정 사용량 이상을 사용하면 그 이후부터 과금\n",
    "- 예 \n",
    "    - AWS Lambda (AWS Serverless 컴퓨팅 서비스) : 월 100만건 무료\n",
    "    - Amazon CloudFront: 월 1TB 데이터 송신, HTTP/HTTPS 천만건, CloudFront 함수 200만건 무료\n",
    "    - Amazon DynamoDB : 월 25gb 저장공간, 월 2억개 처리 용량 무료"
   ]
  },
  {
   "cell_type": "markdown",
   "metadata": {},
   "source": [
    "### 12개월 무료\n",
    "- 신규 고객에게 12개월 동안 일정 사용량에 대해서 무료\n",
    "    - 12개월이 넘어가거나, 월 사용량을 넘어서면 과금\n",
    "- 예\n",
    "    - EC2 : t2.micro/t3.micro 월 750 시간 무료 (12개월 간)\n",
    "    - RDS : 몇 타입 월 750 시간 무료 (12개월간)\n",
    "- 퍼블릭 IPv4 IP의 경우 월 750 시간 무료 = 이 이상은 과금 대상\n",
    "    - IPv4 주소는 여러 개 필요한 경우가 많으니 주의"
   ]
  },
  {
   "cell_type": "markdown",
   "metadata": {},
   "source": [
    "### 무료 평가\n",
    "- 사용을 시작한 후 일정 기간 혹은 일정 사용량 사용 이후부터 요금을 청구하는 방식\n",
    "    - 즉, 무료 사용 기간을 초과하거나, 무료 사용량을 초과하면 요금 발생\n",
    "- 예\n",
    "    - QuickSight : 처음 30일 무료\n",
    "    - Lightsail : 처음 3개월, 월 750시간 무료\n",
    "    - Chime : 30일 동안 Pro티어 무료"
   ]
  },
  {
   "cell_type": "markdown",
   "metadata": {},
   "source": [
    "### 기타\n",
    "- AWS에서 인터넷으로 데이터 전달은 월 100GB 무료 (EC2, S3, ELB 등)\n",
    "- 인터넷에서 AWS로 들어오는 트래픽은 언제나 무료"
   ]
  },
  {
   "cell_type": "markdown",
   "metadata": {},
   "source": [
    "### 무료 티어 트랙/알람\n",
    "- AWS Free Tier Usage Alert : 각 서비스 별로 85% 정도에 도달했을 때 이메일로 알림\n",
    "    - 이외에 AWS budget의 Zero Spend Budget 템플릿으로 좀 더 정확한 알람 가능\n",
    "- Billing and Cost management에서 현재 사용량 체크 가능"
   ]
  },
  {
   "cell_type": "markdown",
   "metadata": {},
   "source": [
    "### AWS의 비용 관리 및 보안\n",
    "- 아무리 프리티어라도 제한이 존재\n",
    "    - 다양한 이유로 요금 청구 가능\n",
    "    - 예 : EC2 프로비전 후 정리하지 않은 경우 등\n",
    "- 해킹 및 보안 사고 때문에 비용 발생 가능\n",
    "- AWS 계정을 지키는 설정\n",
    "    - 루트 사용자 및 IAM 사용자의 MFA\n",
    "    - 비용 모니터링 설정 : AWS Budget\n",
    "    - 리소스 모니터링: Config, User Notifications"
   ]
  }
 ],
 "metadata": {
  "language_info": {
   "name": "python"
  }
 },
 "nbformat": 4,
 "nbformat_minor": 2
}
