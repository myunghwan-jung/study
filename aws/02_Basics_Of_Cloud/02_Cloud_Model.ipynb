{
 "cells": [
  {
   "cell_type": "markdown",
   "metadata": {},
   "source": [
    "# 클라우드 컴퓨팅 모델\n",
    "- 클라우드 컴퓨팅 모델을 기준으로 분류\n",
    "    1. SaaS\n",
    "    2. PaaS\n",
    "    3. IaaS\n",
    "- 클라우드 컴퓨팅 배포 모델을 기준으로 분류\n",
    "    1. 공개형 (클라우드)\n",
    "    2. 혼합형 (하이브리드)\n",
    "    3. 온-프레미스 (폐쇄형)"
   ]
  },
  {
   "cell_type": "markdown",
   "metadata": {},
   "source": [
    "## 클라우드 컴퓨팅 모델\n",
    "- 어플리케이션의 구성 요소들\n",
    "1. Computing: CPU + RAM\n",
    "2. Storage : HDD/SSD\n",
    "3. OS : windows, linux\n",
    "4. Application\n",
    "5. Network : 랜카드"
   ]
  },
  {
   "cell_type": "markdown",
   "metadata": {},
   "source": [
    "### IaaS : Infrastruction as a Service\n",
    "- 인프라만 제공 : Network, Storage, Computing\n",
    "- OS를 직접 설치하고, 필요한 소프트웨어를 개발해서 사용\n",
    "- 즉 가상의 컴퓨터를 하나 임대하는 것과 비슷\n",
    "- 예 : AWS EC2"
   ]
  },
  {
   "cell_type": "markdown",
   "metadata": {},
   "source": [
    "### PaaS : Platform as a service\n",
    "- 인프라 + OS + 기타 프로그램 실행에 필요한 부분(런타임)\n",
    "- 바로 코드만 올려서 돌릴 수 있도록 구성\n",
    "- 예 : Firebase, Google App Engine 등"
   ]
  },
  {
   "cell_type": "markdown",
   "metadata": {},
   "source": [
    "SaaS : Software as a Service\n",
    "- 모든 레이어를 제공\n",
    "- 서비스 자체를 제공\n",
    "- 다른 세팅 없이 서비스만 이용\n",
    "- 예 : Gmail, Slack, Google docs 등"
   ]
  },
  {
   "cell_type": "markdown",
   "metadata": {},
   "source": [
    "## 클라우드 컴퓨팅 배포 모델\n",
    "1. 공개형(클라우드)\n",
    "    - 모든 부분이 클라우드에서 실행\n",
    "    - 낮은 비용\n",
    "    - 높은 확장성\n",
    "2. 혼합형(하이브리드)\n",
    "    - 폐쇄형과 공개형의 혼합\n",
    "    - 폐쇄형에서 공개형으로 전환하는 과도기에 사용\n",
    "    - 혹은 폐쇄형의 백업으로 사용\n",
    "3. 폐쇄형\n",
    "    - 모든 부분을 사설 데이터센터에서 실핼\n",
    "    - 높은 수준의 커스터마이징\n",
    "    - 초기 비용이 비쌈\n",
    "    - 유지보수 비용이 비쌈\n",
    "    - 높은 보안"
   ]
  }
 ],
 "metadata": {
  "language_info": {
   "name": "python"
  }
 },
 "nbformat": 4,
 "nbformat_minor": 2
}
