{
 "cells": [
  {
   "cell_type": "markdown",
   "metadata": {},
   "source": [
    "# AWS의 구조"
   ]
  },
  {
   "cell_type": "markdown",
   "metadata": {},
   "source": [
    "## 리전\n",
    "- AWS의 서비스가 제공되는 서버의 물리적 위치\n",
    "- 전 세계에 흩어져 있으며, 큰 구분(동남아, 유럽, 북아메리카 등등)으로 묶여 있음\n",
    "- 각 리전에는 고유의 코드가 부여됨\n",
    "    - 예시 : 서울 리전은 ap-northeast-2\n",
    "    - 예시 : 미국 동부 리전은 us-east-1\n",
    "- 리전별로 가능한 서비스가 다름"
   ]
  },
  {
   "cell_type": "markdown",
   "metadata": {},
   "source": [
    "### 리전을 선택할 때 고려할 점\n",
    "- 지연 속도\n",
    "- 법률(데이터, 서비스 제공 관련)\n",
    "- 사용 가능한 AWS 서비스\n",
    "\n",
    "### US-East-1 리전\n",
    "- 모든 aws의 서비스가 최초로 서비스되는 리전\n",
    "- 기타 글로벌 서비스의 서비스 리전\n",
    "    - 예 : 빌링, CloudFront 등"
   ]
  },
  {
   "cell_type": "markdown",
   "metadata": {},
   "source": [
    "## 가용 영역\n",
    "- 리전의 하부 단위\n",
    "    - 하나의 리전은 3개 이상의 가용 영역으로 구성 (때로 2개인 경우도 있음)\n",
    "- AZ라고 부름\n",
    "\n",
    "### 가용 영역의 구성\n",
    "- 하나 이상의 데이터 센터로 구성\n",
    "- AZ간의 연결은 매우 빠른 전용 네트워크로 연결\n",
    "- 반드시 물리적으로 일정 거리 이상 떨어져 있음\n",
    "    - 단, 모든 AZ는 서로 100km 이내의 거리에 위치\n",
    "    - 재해에 대한 대비 및 보안\n",
    "\n",
    "### 가용 영역의 위치\n",
    "- 각 계정 별로 AZ의 코드와 실제 위치는 다름\n",
    "    - 예 : 계정 Test1의 AZ-A는 계정 Test2의 AZ-A와 다른 위치(랜덤)\n",
    "    - 보안 및 한 AZ로 몰림을 방지"
   ]
  },
  {
   "cell_type": "markdown",
   "metadata": {},
   "source": [
    "## Edge Location\n",
    "- AWS의 CloudFront(CDN) 등의 여러 서비스들을 가장 빠른 속도로 제공(캐싱)하기 위한 거점\n",
    "- Global Accelerator와 유저를 연결하는 거점\n",
    "- 전 세계에 여러 장소에 흩어져 있음"
   ]
  },
  {
   "cell_type": "markdown",
   "metadata": {},
   "source": [
    "## 서비스의 종류\n",
    "- AWS에서 제공되는 서비스는 지역 기반에 따라 글로벌 서비스 / 리전 서비스로 분류\n",
    "- 글로벌 서비스\n",
    "    - 데이터 및 서비스를 전 세계의 모든 인프라가 공유\n",
    "    - 예 : IAM, Route53, WAF\n",
    "- 지역 서비스\n",
    "    - 특정 리전을 기반으로 데이터 및 서비스를 제공\n",
    "    - 예 : 대부분 서비스\n",
    "        - 리전 전체의 가용역역에서 서비스 or 리전의 하나의 가용역역에서만 서비스"
   ]
  },
  {
   "cell_type": "markdown",
   "metadata": {},
   "source": [
    "## ARN(Amazon Resource Names)\n",
    "- AWS의 리소스에 부여되는 고유 아이디\n",
    "- 서비스, 리전, 계정 아이디, 리소스 이름 등의 정보가 들어감"
   ]
  }
 ],
 "metadata": {
  "language_info": {
   "name": "python"
  }
 },
 "nbformat": 4,
 "nbformat_minor": 2
}
