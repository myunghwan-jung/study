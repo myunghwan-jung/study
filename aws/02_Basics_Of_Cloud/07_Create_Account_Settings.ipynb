{
 "cells": [
  {
   "cell_type": "markdown",
   "metadata": {},
   "source": [
    "# 계정 생성 및 초기 설정\n",
    "- 기존 계정이 있거나, 로그인 정보가 캐시로 남아있으면 회원 가입 버튼이 활성화 되지 않음 : 프리티어로 시작하기 클릭!\n",
    "- 프리티어로 시작하기도 안보이면 AWS 신규가입 링크 : https://signin.aws.amazon.com/signup?request_type=register\n",
    "- 가입 끝나면 MFA 설정부터 하자."
   ]
  },
  {
   "cell_type": "markdown",
   "metadata": {},
   "source": [
    "## 버짓 설정\n",
    "- 우측 상단 결제 및 비용 관리\n",
    "- 좌측 메뉴 예산"
   ]
  },
  {
   "cell_type": "markdown",
   "metadata": {},
   "source": [
    "## IAM 계정 생성\n",
    "- 숫자 아이디를 스트링 아이디로 바꾸자 (계정 별칭 생성)\n",
    "- 이후 사용자 생성\n",
    "    - 콘솔 접근 권한 부여\n",
    "    - 사용자 유형 IAM\n",
    "    - 만약 관리자가 다른 사람을 위해 사용자를 생성하는 경우, 첫 로그인 시 새 비밀번호 생성 기능 체크\n",
    "- 권한 부여하기\n",
    "    - 직접 권한 부여 : AdministratorAccess\n",
    "- 이 IAM 사용자 또한 강력한 권한이 있기에, MFA 부여 권장. (사용자 - 보안 자격 증명)\n",
    "- 로그인 해보면 빌링 정보 조회가 안됨\n",
    "    - 루트 계정으로 다시 로그인해서 권한을 부여하자.\n",
    "    - 우측 상단 아이디 클릭, 계정 메뉴에서 \"결제 정보에 대한 IAM 사용자 및 역할 액세스\""
   ]
  }
 ],
 "metadata": {
  "language_info": {
   "name": "python"
  }
 },
 "nbformat": 4,
 "nbformat_minor": 2
}
