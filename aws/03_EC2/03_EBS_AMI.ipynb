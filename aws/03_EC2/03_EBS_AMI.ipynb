{
 "cells": [
  {
   "cell_type": "markdown",
   "metadata": {},
   "source": [
    "# EBS\n",
    "- EBS : Amazon Elastic Block Store(EBS)는 AWS 클라우드의 Amazon EC2 인스턴스에 사용할 영구 블록 스토리지 볼륨을 제공합니다. 각 Amazon EBS 볼륨은 가용 영역 내에 자동으로 복제되어 구성요소 장애로부터 보호해주고, 고가용성 및 내구성을 제공합니다.\n",
    "- 가상 하드드라이브\n",
    "- EC2 인스턴스가 종료되어도 계속 유지 가능.\n",
    "- EC2 인스턴스와 네트워크로 연결되어 있음 = 인스턴스 타입을 바꿀 때, EBS와 연결을 끊었다가 새로 연결하기만 하면 됨.\n",
    "- 더 큰 볼륨이 필요하면 인스턴스에 더 많은 EBS를 연결하면 됨.\n",
    "- 용량을 범위에 따라 자유롭게 설정 가능\n",
    "- 하나의 EBS를 여러 EC2에 장착하는 경우도 있음\n",
    "- EC2 인스턴스와 같은 가용영역에 존재\n",
    "    - 즉 하나의 가용역역 안에서만 존재\n",
    "- 가용영역 안에 자동으로 분산 저장 : 99.999% 가용성 목표"
   ]
  },
  {
   "cell_type": "markdown",
   "metadata": {},
   "source": [
    "## EBS의 유형\n",
    "- 범용(General Purpose : GP) : SSD\n",
    "- 프로비저닝 된 IOPS (Provisioned IOPS or io) : SSD (빠르게 전송)\n",
    "- 쓰루풋 최적화 (Throughtput Optimized HDD or st) : HDD (많이 전송)\n",
    "- 콜드 HDD (SC) : HDD\n",
    "- 마그네틱 (Standard) : HDD\n",
    "    - 콜드, 마그네틱은 매우 느림 = 백업용!"
   ]
  },
  {
   "cell_type": "markdown",
   "metadata": {},
   "source": [
    "### Snapshot\n",
    "- EBS의 특정 시점을 저장한 이미지\n",
    "    - 이후 EBS로 다시 복구 가능\n",
    "    - EBS의 백업 용도로 활용 가능\n",
    "- 증분식 : 바뀐 부분만 저장\n",
    "    - 즉, 100gb 볼륨의 스냅샷을 5번 찍어도 500gb가 아닌, 100gb + 4번의 변경 부분만 저장\n",
    "    - 비용 최적화\n",
    "- S3에 저장 : 99.999999999% 내구성\n",
    "- Data Lifecycle Manager / AWS Backup 등으로 자동 생성 가능\n",
    "- 기타 여러 기능\n",
    "    - 암호화\n",
    "    - 아카이브 : 더 적은 비용으로 저장할 수 있으나 몇 가지 제약 사항 적용\n",
    "        - 최소 90일 이상 저장\n",
    "        - 복원에 최대 72시간 소요\n",
    "    - 공유 : 다른 계정에 공유 가능\n",
    "    - EBS Direct API를 통해서 스냅샷에 직접 내용을 쓰거나 읽기 가능"
   ]
  },
  {
   "cell_type": "markdown",
   "metadata": {},
   "source": [
    "# AMI\n",
    "- Amazon Machine Image\n",
    "- EC2 인스턴스를 실행하기 위해 필요한 정보를 모은 템플릿\n",
    "- 구성\n",
    "    - 1개 이상의 EBS 스냅샷\n",
    "    - 사용 권한 (어떤 AWS 어카운트가 사용할 수 있는지)\n",
    "    - 블록 디바이스 맵핑(EC2 인스턴스를 위한 볼륨 정보 = EBS가 어떤 용량으로 몇 개 붙는지)\n",
    "- 필요에 따라 Private으로 가지고 있거나 Public 공개 가능\n",
    "- 인스턴스 저장 유형에 따른 AMI의 생성 방법\n",
    "    - EBS : 스냅샷을 기반으로 루트 디바이스 생성\n",
    "    - 인스턴스 저장 : S3에 저장된 템플릿을 기반으로 생성"
   ]
  }
 ],
 "metadata": {
  "language_info": {
   "name": "python"
  }
 },
 "nbformat": 4,
 "nbformat_minor": 2
}
