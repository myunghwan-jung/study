{
 "cells": [
  {
   "cell_type": "markdown",
   "metadata": {},
   "source": [
    "# EC2 요금 모델 기초"
   ]
  },
  {
   "cell_type": "markdown",
   "metadata": {},
   "source": [
    "## AWS의 가격 정책\n",
    "- 미리 내지 않고, 사용한 만큼 낸다. : 예치금 등이 없고 온디맨드 요금 지불\n",
    "- 많이 쓸수록 적게 내고 : 사용하면 사용할 수록 단위 가격이 더 저렴해짐\n",
    "- 예약할 수록 더 적게 낸다 : 미리 요금을 낼 필요는 없지만, 미리 예약하면 더 저렴함 (온디맨드는 유용하지만 비싸다.)"
   ]
  },
  {
   "cell_type": "markdown",
   "metadata": {},
   "source": [
    "### EC2의 요금 구성\n",
    "- 인스턴스 요금\n",
    "- 데이터 전송 요금\n",
    "- Public IPv4 요금\n",
    "- 연동 서비스 요금"
   ]
  },
  {
   "cell_type": "markdown",
   "metadata": {},
   "source": [
    "### EC2의 요금 모델\n",
    "- 온디맨드 : 사용한 시간 만큼만 요금 지불\n",
    "- Spot Instance : 남는 인스턴스를 저렴하게 사용\n",
    "- Reserved Instance : 인스턴스 사용 기간을 약정\n",
    "- Dedicated : 물리적인 전용 인스턴스 임대 (Dedicated Instance / Dedicated Host)\n",
    "- Savings Plan : AWS의 컴퓨팅 사용량을 약정"
   ]
  },
  {
   "cell_type": "markdown",
   "metadata": {},
   "source": [
    "#### 온디맨드 모델\n",
    "- 실행하는 인스턴스에 따라 초당 혹은 시간당 컴퓨팅 파워로 측정된 가격을 지불\n",
    "- 약정 필요 없음\n",
    "- 수요 예측이 힘들거나 유연하게 EC2를 사용하고 싶을 때"
   ]
  },
  {
   "cell_type": "markdown",
   "metadata": {},
   "source": [
    "#### 예약 인스턴스\n",
    "- EC2 인스턴스를 일정 기간 약정하여 요금을 할인 받는 방식\n",
    "    - 온디맨드 EC2 사용 요금을 할인 받는 방식으로 적용\n",
    "    - 할인 받고 싶은 EC2 인스턴스와 같은 리전, 유형 구매 필요\n",
    "- 약정 기간이 길 수록 더 큰 할인율 적용 (1년 혹은 3년)\n",
    "- 최대 72% 저렴"
   ]
  },
  {
   "cell_type": "markdown",
   "metadata": {},
   "source": [
    "#### Saving Plan\n",
    "- 컴퓨팅 파워의 사용량을 약정하는 요금 모델\n",
    "- 종류\n",
    "    - Compute Saving Plans : 다른 서비스(Lambda, Fargate 등과 같이 사용)와 같이 약정\n",
    "    - EC2 Instance Savings Plans : EC2 인스턴스 패밀리를 지정해서 약정\n",
    "- 최대 72% 저렴"
   ]
  },
  {
   "cell_type": "markdown",
   "metadata": {},
   "source": [
    "#### Spot Instance\n",
    "- AWS에서 보유중인 남는 인스턴스를 저렴한 가격으로 제공\n",
    "    - 가용영역, 인스턴스 유형 별 다른 풀로 관리\n",
    "- 최대 90%까지 절약\n",
    "    - 가격은 상황에 따라 변동하지만 온디맨드 이하를 보장\n",
    "- 단 인스턴스가 언제 종료될지 예측 불가능 (Spot Instance interruption)"
   ]
  },
  {
   "cell_type": "markdown",
   "metadata": {},
   "source": [
    "#### 전용 인스턴스(Dedicated Instance)\n",
    "- 물리적으로 인스턴스/호스트 단위로 격리된 서버에서 EC2를 실행\n",
    "- 주로 라이선스 이슈/퍼포먼스 이슈를 해결하기 위해서 활용"
   ]
  }
 ],
 "metadata": {
  "language_info": {
   "name": "python"
  }
 },
 "nbformat": 4,
 "nbformat_minor": 2
}
