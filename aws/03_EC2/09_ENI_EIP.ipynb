{
 "cells": [
  {
   "cell_type": "markdown",
   "metadata": {},
   "source": [
    "# ENI와 Elastic IP"
   ]
  },
  {
   "cell_type": "markdown",
   "metadata": {},
   "source": [
    "## ENI(Elastic Network Interface)\n",
    "- 탄력적 네트워크 인터페이스는 VPC에서 가상 네트워크 카드를 나타내는 논리적 네트워킹 구성 요소입니다.\n",
    "- EC2의 가상의 랜카드\n",
    "- IP 주소와 MAC 주소를 보유\n",
    "- 하나의 인스턴스에 여러개의 ENI를 연동 가능\n",
    "    - 하나의 인스턴스가 한 개 이상의 아이피를 보유 가능\n",
    "- 인스턴스 유형 및 사이즈에 따라 최대 보유 가능한 IP 주소가 변동\n",
    "- 내부적으로, 보안 그룹은 ENI에 부착\n",
    "- 기본적으로 Private IP 주소와 Private DNS 보유\n",
    "    - 선택적으로 Public Ip와 Public DNS 보유"
   ]
  },
  {
   "cell_type": "markdown",
   "metadata": {},
   "source": [
    "## EIP(Elastic IP)\n",
    "- EC2의 퍼블릭 IP를 고정해주는 서비스\n",
    "    - 즉 인스턴스를 중지했다가 재시작해도 고정적인 IP주소를 확보 가능\n",
    "- EC2이외의 다른 서비스에도 사용\n",
    "- 내가 보유한 IP주소를 AWS에서 사용하는 것도 가능\n",
    "- 리전 단위 (다른 리전으로 옮길 수 없음)\n",
    "- 연결하지 않아도(보유하기만 해도)비용 발생 (IPv4비용 발생)\n"
   ]
  },
  {
   "cell_type": "markdown",
   "metadata": {},
   "source": [
    "### 실습\n",
    "- EC2 생성\n",
    "- EIP설정 후 인스턴스 재시작, IP 변동이 없는 것을 확인\n",
    "- 리소스 정리"
   ]
  }
 ],
 "metadata": {
  "language_info": {
   "name": "python"
  }
 },
 "nbformat": 4,
 "nbformat_minor": 2
}
