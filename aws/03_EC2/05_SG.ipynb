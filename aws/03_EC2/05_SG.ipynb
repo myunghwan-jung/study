{
 "cells": [
  {
   "cell_type": "markdown",
   "metadata": {},
   "source": [
    "# 보안 그룹\n",
    "- 인스턴스에 대한 인바운드 및 아웃바운드 트래픽을 제어하는 가상 방화벽 역할을 합니다.\n",
    "- EC2의 방화벽 역할을 하는 서비스\n",
    "- 원하는 Port 허용 \n",
    "    - 기본적으로 모든 포트는 비활성화\n",
    "    - 선택적으로 트래픽이 지나갈 수 있는 Port와 Source를 설정 가능\n",
    "    - Deny는 불가능\n",
    "- 인스턴스 단위\n",
    "    - 하나의 인스턴스에 하나 이상의 보안 그룹 설정 가능\n",
    "    - 인스턴스에 여러 보안 그룹이 적용될 경우, 모든 보안 그룹의 규칙을 적용 받음"
   ]
  }
 ],
 "metadata": {
  "language_info": {
   "name": "python"
  }
 },
 "nbformat": 4,
 "nbformat_minor": 2
}
