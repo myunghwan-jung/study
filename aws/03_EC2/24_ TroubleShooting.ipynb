{
 "cells": [
  {
   "cell_type": "markdown",
   "metadata": {},
   "source": [
    "# TroubleShooting\n",
    "## EC2, ALB등 접속이 안돼요. (오류 코드가 나오지 않고, 연길이 오래 지나서 종료돼요)\n",
    "    - 보안 그룹 설정 확인\n",
    "## EC2 키페어를 잊어버렸어요\n",
    "    - 다시 찾을 수 없습니다. 만약 접속해야 한다면\n",
    "        - 해당 EC2를 AMI로 만들어서 새로 만들기\n",
    "        - EBS의 스냅샷을 만들어서 다른 EC2에 붙이고 설정 변경\n",
    "        - SSM Session manager / Instance Connect 등으로 접속해서 변경\n",
    "## 인스턴스가 먹통이 되거나 접속이 안된다\n",
    "    - T인스턴스에 대한 강의 확인\n",
    "## 스냅샷 삭제 불가능. AMI 등록 해제하려는데 등록된 AMI가 안보임\n",
    "    - AMI목록의 상단에서 내 소유 드롭다운에서 맨 밑에 비활성화된 이미지 확인"
   ]
  }
 ],
 "metadata": {
  "language_info": {
   "name": "python"
  }
 },
 "nbformat": 4,
 "nbformat_minor": 2
}
