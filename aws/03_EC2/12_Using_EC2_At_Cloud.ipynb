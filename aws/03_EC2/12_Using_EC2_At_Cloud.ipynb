{
 "cells": [
  {
   "cell_type": "markdown",
   "metadata": {},
   "source": [
    "# 클라우드 환경의 EC2 활용 방식"
   ]
  },
  {
   "cell_type": "markdown",
   "metadata": {},
   "source": [
    "## 수직 확장 / Vertical Scale(Scale Up)\n",
    "- 16배 좋은 성능의 인스턴스를 프로비전\n",
    "- 근데 비용은 30배 오름\n",
    "- 스케일 업의 한계도 존재. 백만배 좋은 성능의 인스턴스는 아직 없으니까."
   ]
  },
  {
   "cell_type": "markdown",
   "metadata": {},
   "source": [
    "## 수평 확장 / Horizontal Scale (Scale Out)\n",
    "- 기존 인스턴스랑 같은 성능의 인스턴스를 16개 프로비전\n",
    "- 비용도 정확하게 16배"
   ]
  },
  {
   "cell_type": "markdown",
   "metadata": {},
   "source": [
    "## 탄력성 \n",
    "- 수요에 따라 컴퓨팅 파워 / 용량을 확장하거나 축소할 수 있는 능력"
   ]
  },
  {
   "cell_type": "markdown",
   "metadata": {},
   "source": [
    "## 안정성\n",
    "- 클라우드 환경은 언제나 문제가 발생할 수 있음\n",
    "- 이를 대비할 수 있도록 설계해야 함"
   ]
  },
  {
   "cell_type": "markdown",
   "metadata": {},
   "source": [
    "## 클라우드 환경에서 컴퓨팅 자원 활용\n",
    "- 온프레미스 환경에서는 각 서버를 반영구적으로 사용\n",
    "- vs 클라우드 환경에서 각 인스턴스는 소모품\n",
    "    - 예고 없이 장애가 발생하거나 통제된 방법으로 종료되는 것이 정상\n",
    "        - 즉, \"언제나 인스턴스는 예고 없이 종료된다.\" 라고 가정하고 아키텍처 설계 필요\n",
    "    - 필요하면 더 가져다 쓰고, 필요 없으면 버릴 수 있어야 함\n",
    "- 따라서 Statless 하며 고가용성의 확보가 필요."
   ]
  },
  {
   "cell_type": "markdown",
   "metadata": {},
   "source": [
    "### 고가용성과 Stateless\n",
    "- 고가용성 : 인스턴스 중 하나가 떨어져도 자동으로 복구 가능\n",
    "- Stateless : 인스턴스가 상태에 의존적이지 않음\n",
    "    - 어떤 인스턴스도 특정 정보를 특별하게 저장하지 않음\n",
    "    - 언제나 추가될 수 있고 언제나 삭제되어도 무방한 환경을 만들어야 함"
   ]
  },
  {
   "cell_type": "markdown",
   "metadata": {},
   "source": [
    "## 그래서 EC2를 잘 활용하려면?\n",
    "- 언제나 떨어질 수 있기 때문에\n",
    "    - 인스턴스를 자동으로 프로비전할 수 있는 방법 필요\n",
    "    - 인스턴스를 가용영역 별로 분산할 수 있는 방법 필요\n",
    "    - 인스턴스 클러스터에 트래픽을 분산할 수 있는 방법 필요\n",
    "    - 인스턴스 각자가 상태를 저장하지 않고, 언제나 삭제되고 추가되어도 무방할 수 있는 방법 필요"
   ]
  }
 ],
 "metadata": {
  "language_info": {
   "name": "python"
  }
 },
 "nbformat": 4,
 "nbformat_minor": 2
}
