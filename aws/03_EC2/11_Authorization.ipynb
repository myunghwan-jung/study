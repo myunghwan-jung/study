{
 "cells": [
  {
   "cell_type": "markdown",
   "metadata": {},
   "source": [
    "# EC2 권한 부여하기\n",
    "## 권한 부여 방법\n",
    "- IAM 자격 증명을 등록\n",
    "    - IAM 사용자를 생성하고, IAM 자격 증명을 발급받아 EC2에 등록\n",
    "    - AWS Configure를 통해 자격 증명을 파일로 등록 (~/.aws/credentials 에 하드코딩됨)\n",
    "    - 직관적이긴 하나 관리가 어렵고 바꾸기 힘들다.\n",
    "        - 예 : EC2 100대의 자격 증명을 교체해야 한다면?\n",
    "- IAM 역할을 부여\n",
    "    - 권한이 부여된 IAM 역할을 만들고 EC2에 부여\n",
    "    - 관리, 교체가 쉬움\n",
    "    - 내부적으로 지속적으로 자격 증명을 변경 : 뛰어난 보안성"
   ]
  },
  {
   "cell_type": "markdown",
   "metadata": {},
   "source": [
    "### IAM 역할 부여하기\n",
    "- 사용자 뿐 아니라, 서비스에도 역할 부여 가능\n",
    "    - 예시 : 람다에 S3 Access Role을 부여하면, S3의 데이터를 불러오는 것이 가능해짐\n",
    "    - 예시 : EC2에 개발자 Role을 부여, 서비스 관리 프로그램으로서 EC2 관련 정보 조회, 설정 변경 등이 가능해짐"
   ]
  },
  {
   "cell_type": "markdown",
   "metadata": {},
   "source": [
    "### 실습\n",
    "- Demo - AWS EC2의 권한 부여\n",
    "    1. IAM 역할 생성\n",
    "        - 엔터티 유형은 AWS 서비스, EC2\n",
    "        - 권한은 IAMREADONLYACCESS 부여\n",
    "    2. EC2 생성 후 역할 연동\n",
    "        - 프로비전 : 키페어 사용, http 접근 허용, 고급 세부 정보에서 IAM 인스턴스 프로파일 연결, 유저데이터에 스크립트 입력\n",
    "    3. AWS CLI를 활용하여 IAM 사용자 목록 출력\n",
    "        - sudo -s\n",
    "        - aws iam list-users : 시크릿 키와 엑세스 키를 configure에 등록하지 않아도 결과 출력 (권한이 있으니까)\n",
    "    4. Node.js 어플리케이션에서 IAM 사용자 목록 출력\n",
    "        - 키 없는 상태의 코드를 업로드 (파일질라 사용)\n",
    "        - unzip 업로드 파일 이름\n",
    "        - cd src/lambda\n",
    "        - nano test.js\n",
    "        - node test.js : 결과 출력\n",
    "        "
   ]
  }
 ],
 "metadata": {
  "language_info": {
   "name": "python"
  }
 },
 "nbformat": 4,
 "nbformat_minor": 2
}
