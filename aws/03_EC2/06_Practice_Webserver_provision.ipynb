{
 "cells": [
  {
   "cell_type": "markdown",
   "metadata": {},
   "source": [
    "# 웹 서버 프로비전 및 백업 실습\n",
    "- 실습 순서\n",
    "    1. EC2 프로비전 (t2.micro)\n",
    "    2. AMI 선택 (Amazon Linux 3)\n",
    "    3. 보안 그룹 설정 (80,22 포트 허용)\n",
    "    4. 아파치 설치 및 설정\n",
    "    5. 웹 서버 확인\n",
    "    6. AMI 생성\n",
    "    7. 기존 인스턴스 종료\n",
    "    8. AMI로부터 새로운 EC2 인스턴스 생성\n",
    "    9. 신규 인스턴스 확인 및 종료"
   ]
  },
  {
   "cell_type": "markdown",
   "metadata": {},
   "source": [
    "## 1. 인스턴스 프로비전\n",
    "1. 인스턴스 이름은 demo-my-web-server\n",
    "2. AMI는 Amazon Linux 2023\n",
    "3. 인스턴스 유형은 t2.micro\n",
    "4. 키페어 없이 진행\n",
    "5. 보안 그룹에서 HTTP 프로토콜 허용"
   ]
  },
  {
   "cell_type": "markdown",
   "metadata": {},
   "source": [
    "## 2. 인스턴스와 연결(SSH)\n",
    "1. sudo -s\n",
    "2. dnf install httpd -y\n",
    "3. service httpd start\n",
    "4. chkconfig httpd on (인스턴스 재부팅 시 서버 자동 실행)\n",
    "5. nano /var/www/html/index.html (원하는 문구 입력하고 저장)\n",
    "6. 이후 해당 인스턴스의 Public IP로 접속하면 입력했던 문구가 출력. (Public DNS도 가능)\n"
   ]
  },
  {
   "cell_type": "markdown",
   "metadata": {},
   "source": [
    "## 3. 해당 인스턴스 기반 AMI 만들기\n",
    "1. AMI 이름은 demo-my-webserver-ami\n",
    "2. 새로운 태그 추가 : Name, demo-my-webserver-ami"
   ]
  },
  {
   "cell_type": "markdown",
   "metadata": {},
   "source": [
    "## 4. AMI로 인스턴스 시작\n",
    "- 인스턴스 설정은 아까와 동일"
   ]
  },
  {
   "cell_type": "markdown",
   "metadata": {},
   "source": [
    "## 5. 새로 생성된 인스턴스의 Public IP로 접속해서 확인."
   ]
  },
  {
   "cell_type": "markdown",
   "metadata": {},
   "source": [
    "## 6. 리소스 정리 : 인스턴스 종료, AMI 등록 취소, Snapshot 삭제"
   ]
  }
 ],
 "metadata": {
  "language_info": {
   "name": "python"
  }
 },
 "nbformat": 4,
 "nbformat_minor": 2
}
