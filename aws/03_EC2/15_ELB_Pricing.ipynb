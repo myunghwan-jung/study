{
 "cells": [
  {
   "cell_type": "markdown",
   "metadata": {},
   "source": [
    "# ELB 요금\n",
    "- 기본적으로 시간 당 프로비전 비용\n",
    "- 추가적으로 트래픽 / 사용량 비용"
   ]
  },
  {
   "cell_type": "markdown",
   "metadata": {},
   "source": [
    "## ALB의 비용\n",
    "- 프로비전 시 시간 당 비용 청구 (서울 리전 기준)\n",
    "    - 기본 $0.0225 / 시간\n",
    "    - $0.008 / LCU - 시간\n",
    "- LCU(Load Balancer Capacity Units) : ALB가 트래픽을 처리하는 단위\n",
    "    - 1 LCU는\n",
    "        - 25개의 새로운 커넥션 /초\n",
    "        - 3000 /분 연결 숫자 or 1500 /분 TLS\n",
    "        - 1GB /시간의 EC2, 컨테이너, IP주소 혹은 0.4GB /시간의 Lambda 함수 트래픽\n",
    "        - 1000 룰 평가 /초 (10개 무료)\n",
    "    - 이 중 가장 높게 측정된 것 기준으로 계산"
   ]
  },
  {
   "cell_type": "markdown",
   "metadata": {},
   "source": [
    "## NLB의 비용\n",
    "- NLB의 비용\n",
    "    - 프로비전 시 시간당 비용 청구 (서울 리전 기준)\n",
    "        - $0.0225 / 시간\n",
    "        - $0.006 / NLCU\n",
    "    - NLCU(Network Load Balancer Capacity Units) : NLB가 트래픽을 처리하는 단위\n",
    "        - 1 NLCU는\n",
    "            - 800 TCP 연결, 400UDP /초\n",
    "            - 100000 TCP 연결 유지 (1분 단위), 50000 UDP\n",
    "            - 1GB /시간 EC2, 컨테이너, IP, ALB 대상 트래픽\n",
    "        - 이 중 가장 높게 측정된 것 기준으로 계산"
   ]
  }
 ],
 "metadata": {
  "language_info": {
   "name": "python"
  }
 },
 "nbformat": 4,
 "nbformat_minor": 2
}
