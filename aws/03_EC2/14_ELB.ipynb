{
 "cells": [
  {
   "cell_type": "markdown",
   "metadata": {},
   "source": [
    "# Elastic Load Balancer\n",
    "- Elastic Load Balancing은 둘 이상의 가용 영역에서 EC2 인스턴스, 컨테이너, IP 주소 등 여러 대상에 걸쳐 수신되는 트래픽을 자동으로 분산합니다. 등록된 대상의 상태를 모니터링 하면서 상태가 양호한 대상으로만 트래픽을 라우팅합니다.\n",
    "- 유저와 EC2 클러스터 사이에 위치하여, 트래픽을 분배하고 응답을 받아오는 역할을 수행\n",
    "- 클라이언트와 백엔드의 느슨한 연결을 가능하게 만들어줌\n",
    "- ELB란?\n",
    "    - 다수의 EC2에 트래픽을 분산 시켜주는 서비스\n",
    "    - 총 4 종류\n",
    "        - Application Load Balancer\n",
    "        - Network Load Balancer\n",
    "        - Classic Load Balancer\n",
    "        - Gateway Load Balancer\n",
    "    - Health Check : 직접 트래픽을 발생시켜 인스턴스가 살아있는지 체크\n",
    "    - Autoscaling과 연동 가능\n",
    "    - 지속적으로 IP 주소가 바뀌며 IP 고정 불가능 : 항상 도메인 기반으로 사용"
   ]
  },
  {
   "cell_type": "markdown",
   "metadata": {},
   "source": [
    "## Application Load Balancer\n",
    "- 똑똑이\n",
    "- OSI Model Layer 7\n",
    "- 트래픽을 모니터링 하여 라우팅 가능\n",
    "    - 예 : image.sample.com 은 이미지 서버로, web.sample.com 은 웹 서버로 트래픽 분산\n"
   ]
  },
  {
   "cell_type": "markdown",
   "metadata": {},
   "source": [
    "## Network Load Balancer\n",
    "- 빠르다\n",
    "- OSI Model Layer 4\n",
    "- TCP, UDP 기반으로 빠른 트래픽 분산\n",
    "- Elastic IP 할당 가능 (IP 고정 가능)"
   ]
  },
  {
   "cell_type": "markdown",
   "metadata": {},
   "source": [
    "## Classic Load Balancer\n",
    "- 옛날거\n",
    "- 예전에 사용되던 타입으로 현재는 잘 사용하지 않음"
   ]
  },
  {
   "cell_type": "markdown",
   "metadata": {},
   "source": [
    "## Gateway Load Balancer\n",
    "- 먼저 트래픽을 체크\n",
    "- OSI Layer 3\n",
    "- 가상 어플라이언스 배포/확장 관리를 위한 서비스"
   ]
  },
  {
   "cell_type": "markdown",
   "metadata": {},
   "source": [
    "## EC2 Auto Scaling과 연동\n",
    "- ELB + Autoscaling\n",
    "    - Auto Scaling을 통해 EC2 인스턴스 숫자를 관리하고 ELB를 통해 분산 트래픽 처리\n",
    "    - Auto Scaling의 인스턴스 증감과 같이 ELB에 연결"
   ]
  },
  {
   "cell_type": "markdown",
   "metadata": {},
   "source": [
    "## 대상 그룹(Target Group)\n",
    "- 대상 그룹이란?\n",
    "    - ELB가 라우팅 할 대상의 집합\n",
    "    - 구성\n",
    "        - 대상 종류\n",
    "            - Instance\n",
    "            - IP\n",
    "            - Lambda\n",
    "            - ALB\n",
    "        - 프로토콜 : http, https, TCP 등\n",
    "        - 기타 설정\n",
    "            - 트래픽 분산 알고리즘, 고정 세션 등"
   ]
  },
  {
   "cell_type": "markdown",
   "metadata": {},
   "source": [
    "## 리스너\n",
    "- ALB로 들어오는 요청을 처리하는 주체\n",
    "    - 들어오는 트래픽의 프로토콜 + 포트 단위\n",
    "- 규칙으로 ALB에서 어떤 요청을 받을지, 요청을 어떻게 어디로 처리할지 결정\n",
    "    - 예 : http 8080 포트로 트래픽을 받아서 A 대상 그룹의 80번 포트로 배분\n",
    "    - 예 : https 443 포트로 트래픽을 받아서 B 대상 그룹의 80번 포트로 배분\n",
    "    - 예 : http post 요청이 들어왔을 경우 지정된 응답 전달\n",
    "- 규칙을 활용해 다양한 조건에 따라 트래픽 배분 가능\n",
    "    - 활용 가능한 조건 : Header, QueryString, source IP, Method등\n",
    "- 들어온 트래픽 처리 방식 : foward, redirect, fixed-response, cognito 인증 등"
   ]
  }
 ],
 "metadata": {
  "language_info": {
   "name": "python"
  }
 },
 "nbformat": 4,
 "nbformat_minor": 2
}
