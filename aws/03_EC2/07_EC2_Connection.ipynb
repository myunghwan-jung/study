{
 "cells": [
  {
   "cell_type": "markdown",
   "metadata": {},
   "source": [
    "# EC2 접속 방법\n",
    "- SSH(FTP) 연결, EC2 인스턴스 연결, Session Manager, EC2 직렬 콘솔\n",
    "    - 연결 인증 방식\n",
    "    - 감사(Auditing), 로깅 방식\n",
    "    - 연결 주요 사항\n",
    "    - 주요 기능"
   ]
  },
  {
   "cell_type": "markdown",
   "metadata": {},
   "source": [
    "## SSH\n",
    "- 연결 방밥 : SSH 연결\n",
    "- 동작 방식 : SSH\n",
    "- 연결 인증 방식 : SSH 키 페어 인증\n",
    "- 감사 방법 : 직접 로깅 혹은 기타 3rd Party 어플리케이션 필요\n",
    "- 연결 요구 사항 : 인터넷 연결 필요\n",
    "- 주요 기능 : 기본적인 SSH 통신"
   ]
  },
  {
   "cell_type": "markdown",
   "metadata": {},
   "source": [
    "## FTP\n",
    "- 연결 방법 : FTP 연결\n",
    "- 동작 방식 : FTP(실제로는 SFTP)\n",
    "- 연결 인증 방식 : SSH 키 페어로 인증\n",
    "- 감사 방법 : 직접 로깅 혹은 기타 3rd Party 어플리케이션 필요\n",
    "- 연결 요구 사항 : 인터넷 연결 필요\n",
    "- 주요 기능 : 기본적인 FTP 통신 (파일 전송)"
   ]
  },
  {
   "cell_type": "markdown",
   "metadata": {},
   "source": [
    "## SSH 연결\n",
    "- SSH 키 페어\n",
    "    - 인스턴스에 연결할 때 (SSH / FTP) 자격 증명 입증에 사용하는 보안 자격 증명 집합\n",
    "    - 프라이빗 키와 퍼블릭 키로 구성\n",
    "    - 다시 발급 불가능 : 분실 시 EBS를 분리해 다른 인스턴스에 연결하거나 스냅샷을 통해 재생성 필요\n",
    "    - 리전 단위 : 다른 리전에서 사용하기 위해서는 import 필요"
   ]
  },
  {
   "cell_type": "markdown",
   "metadata": {},
   "source": [
    "## EC2 인스턴스 연결\n",
    "- 연결 방법 : EC2 인스턴스 연결\n",
    "- 동작 방식 : 임시 SSH키를 생성해서 EC2로 밀어 넣어 연결하는 방식\n",
    "- 연결 인증 방식 : IAM 인증\n",
    "- 감사 방법 : 연결 기록만 감사 가능(CloudTrail)\n",
    "- 연결 요구 사항 : 인터넷 연결 필요, EC2-instance-connect 에이전트 설치 필요\n",
    "- 주요 기능 : 기본적인 SSH 통신"
   ]
  },
  {
   "cell_type": "markdown",
   "metadata": {},
   "source": [
    "## EC2 직렬 콘솔\n",
    "- 연결 방법 : EC2 직렬 콘솔\n",
    "- 동작 방식 : EC2 시리얼 포트로 연결\n",
    "- 연결 인증 방식 : IAM 인증 + Root Password\n",
    "- 감사 방법 : 연결 기록만 감사 가능 (CloudTrail)\n",
    "- 연결 요구 사항: 계정 단위 활성화, OS Password 설정, 특정 인스턴스 타입 / 리전에서만 사용 가능 (예 : t2시리즈 사용 불가)\n",
    "- 주요 기능 : 직접 컴퓨터에 모니터 키보드를 붙인 것 같이 동작. 부팅 및 네트워크 문제 해결"
   ]
  },
  {
   "cell_type": "markdown",
   "metadata": {},
   "source": [
    "# 실습\n",
    "## FTP 연결\n",
    "    1. FileZilla 설치(맥, 윈도우 동일)\n",
    "    2. EC2 인스턴스 프로비전\n",
    "        - 이 때 ssh key 생성\n",
    "    3. EC2 인스턴스에 HTTP 웹서버 설치 및 구동\n",
    "        - sudo -s\n",
    "        - dnf install httpd -y\n",
    "        - chown ec2-user /var/www/html\n",
    "        - service httpd start\n",
    "        - index.html 파일 업로드 후, cp ./index.html /var/www/html\n",
    "    4. FTP로 index.html 파일 전송하여 확인\n",
    "        - Filezilla에서 파일 / 사이트 관리자\n",
    "        - 새 사이트 생성\n",
    "            - 프로토콜 : SFTP\n",
    "            - 호스트 : 인스턴스의 퍼블릭 IP\n",
    "            - 로그온 유형 : 키 파일\n",
    "            - 사용자 : ec2-user\n",
    "        - 원하는 로컬 파일을 인스턴스에 업로드 (여기서는 index.html)\n",
    "    5. 인스턴스 종료\n"
   ]
  },
  {
   "cell_type": "markdown",
   "metadata": {},
   "source": [
    "## 직렬 콘솔 연결\n",
    "    1. 직렬 콘솔 활성화\n",
    "    2. t3.micro 인스턴스 프로비전\n",
    "    3. 접속 후 패스워드 설정\n",
    "    4. 직렬 콘솔 접속\n",
    "    5. 인스턴스 재부팅 후 확인\n",
    "    6. 인스턴스 종료"
   ]
  }
 ],
 "metadata": {
  "kernelspec": {
   "display_name": "Python 3",
   "language": "python",
   "name": "python3"
  },
  "language_info": {
   "name": "python",
   "version": "3.9.18"
  }
 },
 "nbformat": 4,
 "nbformat_minor": 2
}
