{
 "cells": [
  {
   "cell_type": "markdown",
   "metadata": {},
   "source": [
    "# AWS EC2 기초\n",
    "- Amazon Elastic Compute Cloud(EC2)는 안전하고 크기 조정이 가능한 컴퓨팅 파워를 클라우드에서 제공하는 웹 서비스입니다. 개발자가 더 쉽게 웹 규모의 클라우드 컴퓨팅 작업을 할 수 있도록 설계되었습니다."
   ]
  },
  {
   "cell_type": "markdown",
   "metadata": {},
   "source": [
    "## EC2 : 컴퓨팅을 빌려 쓰는 서비스\n",
    "- aws의 근간을 이루는 가장 중요한 서비스\n",
    "- 초 단위 온디맨드 가격 모델\n",
    "    - 온디맨드 모델에서는 가격이 초 단위로 결정\n",
    "    - 서비스 요금을 미리 약적하거나 선입금이 필요 없음\n",
    "- 빠른 구축 속도와 확장성\n",
    "    - 몇 분이면 전 세계에 인스턴스 수백여대를 구축 가능\n",
    "- 다양한 구성 방법 지원\n",
    "    - 머신러닝, 웹서버, 게임서버 등 다양한 용도에 최적화된 서버 구서 가능\n",
    "    - 다양한 과금 모델 사용 가능\n",
    "- 여러 AWS 서비스와 연동\n",
    "    - 오토스케일링, ELB, CloudWatch\n"
   ]
  },
  {
   "cell_type": "markdown",
   "metadata": {},
   "source": [
    "### EC2의 사용 사례\n",
    "- 데이터베이스\n",
    "- 웹서버\n",
    "- 머신 러닝\n",
    "- 어플리케이션의 백엔드 서버\n",
    "- 기타 서버가 필요한 모든 작업"
   ]
  },
  {
   "cell_type": "markdown",
   "metadata": {},
   "source": [
    "### 이번 챕터에서 배우는 내용\n",
    "- EC2와 EC2를 활용하기 위한 다양한 주변 서비스\n",
    "- 몇몇 EC2의 활용 방식은 다른 고급 AWS 서비스와 연동 필요"
   ]
  }
 ],
 "metadata": {
  "language_info": {
   "name": "python"
  }
 },
 "nbformat": 4,
 "nbformat_minor": 2
}
