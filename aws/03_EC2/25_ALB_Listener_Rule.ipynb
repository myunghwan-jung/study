{
 "cells": [
  {
   "cell_type": "markdown",
   "id": "1153b12e",
   "metadata": {},
   "source": [
    "# ALB 리스너와 규칙\n",
    "- 리스너 : 프로토콜과 포트를 기반으로 ALB에 들어오는 요청을 확인하는 주체\n",
    "    - ALB 당 최소 하나 이상의 리스너가 필요\n",
    "- 규칙 : ALB가 요청을 분배하는 기준이 되는 규칙\n",
    "    - 조건, 작업, 우선순위로 구성"
   ]
  },
  {
   "cell_type": "markdown",
   "id": "1bfdfd8c",
   "metadata": {},
   "source": [
    "## ALB 규칙\n",
    "- 조건 (모두 만족해야 작업 이행) :\n",
    "    - 호스트 헤더, 경로, HTTP Method, Source IP, HTTP Header, QueryString\n",
    "- 작업 유형 :\n",
    "    - 대상 그룹(최대 5개) 전달\n",
    "        - 가중치(0~999)를 설정 가능\n",
    "    - URL Redirection (URI만, 전체 URL)\n",
    "    - 고정응답\n",
    "- 규칙 순위(1~50000)\n",
    "- 규칙 설정에 따라 많은 프로젝트들을 하나의 ALB로 관리할 수 있기 떄문에 비용 효율적"
   ]
  }
 ],
 "metadata": {
  "language_info": {
   "name": "python"
  }
 },
 "nbformat": 4,
 "nbformat_minor": 5
}
