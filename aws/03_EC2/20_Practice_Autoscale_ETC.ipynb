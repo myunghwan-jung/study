{
 "cells": [
  {
   "cell_type": "markdown",
   "metadata": {},
   "source": [
    "# Autoscale 기타 기능 실습"
   ]
  },
  {
   "cell_type": "markdown",
   "metadata": {},
   "source": [
    "1. 시작 탬플릿 생성\n",
    "    - 키페어 없음, 보안그룹 디폴트\n",
    "2. ASG 생성\n",
    "    - 방금 만든 시작 탬플릿 적용\n",
    "    - 가용 영역 전부 선택\n",
    "    - 태그 추가 Name:demo-asg\n",
    "3. ASG의 축소 보호 실험\n",
    "    - ASG 메뉴 중 인스턴스 관리 - 축소 보호 설정\n",
    "    - 원하는 용량, 최소 용량을 0으로 변경 (원래대로라면 인스턴스 Terminate)\n",
    "4. 다음 실험을 위해 용량 1, 최대 용량 2로 변경\n",
    "    - 인스턴스를 대기로 설정 (ASG 인스턴스 관리 메뉴)\n",
    "    - 인스턴스 교체를 체크하면, stanbby되는 인스턴스를 대신할 새 인스턴스가 프로비전 됨\n",
    "    - standby였던 인스턴스를 다시 복구시키면? 인스턴스가 2개가 됨!\n",
    "    - 최대가 2개로 설정되었으니 문제 없다고 판단. 2개 유지\n",
    "    - 이 때, 최대를 1개로 줄이면? 인스턴스 종료 정책에 따라 달라짐. (종료의 기준을 설정해 주는 것) 기본적으로는 옛날 인스턴스를 Terminate\n",
    "5. ASG 세부 정보 - 고급 구성\n",
    "    - 일시 중지된 프로세스 : Launch, Terminate 중지\n",
    "    - 이 때 그룹 크기를 편집하면? 당연히 인스턴스 개수 변화 없음\n",
    "6. ASG, Instance terminate!!!!\n"
   ]
  }
 ],
 "metadata": {
  "language_info": {
   "name": "python"
  }
 },
 "nbformat": 4,
 "nbformat_minor": 2
}
