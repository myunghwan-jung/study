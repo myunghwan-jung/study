{
 "cells": [
  {
   "cell_type": "markdown",
   "metadata": {},
   "source": [
    "# EC2 생명 주기"
   ]
  },
  {
   "cell_type": "markdown",
   "metadata": {},
   "source": [
    "- 인스턴스를 실행하면, pending 상태를 거쳐 running 상태로 (여기서 인스턴스는 냅둔 채 reboot으로 os만 재시작 가능)\n",
    "- running에서 중지를 하게 되면, stopping을 거쳐 stopped 상태로 (이 때 바로 terminate 가능 / 재시작을 통해 pending상태를 거쳐 running)\n",
    "- running에서 종료를 하게 되면, shutting-down을 거쳐 terminated 된다."
   ]
  },
  {
   "cell_type": "markdown",
   "metadata": {},
   "source": [
    "## 중지\n",
    "- 인스턴스 요금 미 청구\n",
    "- 단, EBS나 EIP등은 청구\n",
    "- 중지 후 재시작 시 퍼블릭 IP 변경\n",
    "- EBS를 사용하는 인스턴스만 중지 가능, 인스턴스 스토리지 볼륨을 사용하는 인스턴스는 중지 불가"
   ]
  },
  {
   "cell_type": "markdown",
   "metadata": {},
   "source": [
    "## 재부팅\n",
    "- 재부팅 시에는 퍼블릭 IP 변동 없음\n"
   ]
  },
  {
   "cell_type": "markdown",
   "metadata": {},
   "source": [
    "## 최대 절전 모드\n",
    "- 메모리 내용을 보존해서 재시작 시 중단지점에서 시작할 수 있는 정지 모드"
   ]
  },
  {
   "cell_type": "markdown",
   "metadata": {},
   "source": [
    "## 인스턴스 상태\n",
    "- pending = 인스턴스가 running 상태로 될 준비, 요금 미청구\n",
    "- running = 인스턴스 사용 중, 요금 청구\n",
    "- stopping = 인스턴스가 중지 또는 최대 절전 모드로 전환 중, 요금 미청구 (최대 절전 시 청구)\n",
    "- stopped = 인스턴스가 중지 상태: 재시작 가능, 요금 미청구\n",
    "- shutting-down = 인스턴스가 종료 중 = 요금 미청구\n",
    "- terminated = 인스턴스가 영구적으로 삭제됨, 요금 미청구"
   ]
  },
  {
   "cell_type": "markdown",
   "metadata": {},
   "source": [
    "## 실습\n",
    "- 중지 후 재실행 시 퍼블릭 IP 주소가 바뀌는 것을 확인\n",
    "- 재부팅 시 IP 주소가 바뀌지 않는 것을 확인"
   ]
  }
 ],
 "metadata": {
  "language_info": {
   "name": "python"
  }
 },
 "nbformat": 4,
 "nbformat_minor": 2
}
