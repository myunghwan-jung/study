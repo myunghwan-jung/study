{
 "cells": [
  {
   "cell_type": "markdown",
   "metadata": {},
   "source": [
    "# EC2 모니터링 기초"
   ]
  },
  {
   "cell_type": "markdown",
   "metadata": {},
   "source": [
    "## Amazon CloudWatch\n",
    "- 아마존 클라우드 워치는 DevOps엔지니어, 개발자, SRE(사이트 안정성 엔지니어) 및 IT 관리자를 위해 구축된 모니터링 및 관찰 기능 서비스입니다. CloudWatch는 어플리케이션을 모니터링 하고, 시스템 전반의 성능 변경 사항에 대응하며, 리소스 사용률을 최적화하고, 운영 상태에 대한 통합된 보기를 확보하는데 필요한 데이터와 실행 가능한 통찰력을 제공합니다."
   ]
  },
  {
   "cell_type": "markdown",
   "metadata": {},
   "source": [
    "## CloudWatch와 EC2\n",
    "- AWS에서 제공하는 어플리케이션 모니터링 서비스\n",
    "- EC2를 포함한 AWS의 다양한 서비스에 기본적인 모니터링을 지원\n",
    "- EC2의 주요 지표(시간 순서로 정리된 데이터의 집합)\n",
    "    - CPU사용량\n",
    "    - 디스크\n",
    "    - 네트워크\n",
    "    - CPU Credit 관련 지표\n",
    "    - 상태 관련\n",
    "- 이 외에 커스텀 지표(메모리 사용량 등) 활용 가능\n",
    "- EC2의 경우 별도로 활성화 불필요 (무료)\n",
    "- 기본적으로 5분 단위로 갱신 (상태 확인만 1분)\n",
    "- EC2 세부 모니터링\n",
    "    - 모든 지표 1분 단위 갱신\n",
    "    - 메트릭 별로 비용 발생(저장 비용은 없음)\n",
    "    - 별도로 활성화 필요"
   ]
  },
  {
   "cell_type": "markdown",
   "metadata": {},
   "source": [
    "## CloudWatch와 Autoscale\n",
    "- Autoscale 지표 : 별도로 활성화 필요\n",
    "- 주요 지표\n",
    "    - 용량(Min/Max/Desired)\n",
    "    - 인스턴스 상태(서비스 중, 종료, 멈춤 등)\n",
    "    - 기타 관리중인 인스턴스 모두의 통합 지표 제공\n",
    "- 이외에 내부적으로 Autoscaling 알람, 타켓 추적 스케일링 정책 등은 CloudWatch 기반"
   ]
  },
  {
   "cell_type": "markdown",
   "metadata": {},
   "source": [
    "## CloudWatch와 ELB\n",
    "- ELB 지표는 기본적으로 활성화\n",
    "- 주요 지표\n",
    "    - 요청, 연결\n",
    "    - Status Code별 카운트\n",
    "    - IPv6 처리\n",
    "    - 네트워크 지표(처리된 네트워크 트래픽)"
   ]
  },
  {
   "cell_type": "markdown",
   "metadata": {},
   "source": [
    "## 실습\n",
    "1. 시작 템플릿 생성\n",
    "    - AMI : Amazon Linux 2023\n",
    "    - Instance : t2 micro\n",
    "    - keypair : X\n",
    "    - SG : default\n",
    "2. 템플릿으로 인스턴스 시작\n",
    "    - keypair : X\n",
    "3. 인스턴스 모니터링 (기본 지표들)\n",
    "    - 메모리가 빠져있음 : 커스텀 지표가 필요\n",
    "    - 세부 모니터링 관리 활성화 : 1분 단위로 지표 갱신, 비용 발생\n",
    "4. 시작 템플릿 수정\n",
    "    - 템플릿의 세부 정보에서 템플릿 수정(추가 버전 생성)\n",
    "    - 세부 CloudWatch 모니터링 활성화\n",
    "5. Autoscaling 그룹 만들기\n",
    "    - 시작 템플릿은 새 버전으로\n",
    "    - 가용 가능한 서브넷 모두 선택\n",
    "    - 인스턴스 개수 3, 모니터링에 CloudWatch 그룹 지표 수집 활성화(무료)\n",
    "    - 태그 Name:Demo-Monitoring 입력\n",
    "6. ASG의 모니터링에서 지표 확인 가능\n",
    "7. 리소스 정리(ASG, Instance 삭제)\n"
   ]
  }
 ],
 "metadata": {
  "language_info": {
   "name": "python"
  }
 },
 "nbformat": 4,
 "nbformat_minor": 2
}
