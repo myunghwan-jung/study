{
 "cells": [
  {
   "cell_type": "markdown",
   "metadata": {},
   "source": [
    "# Amazon Elastic File System\n",
    "- Amazon EFS는 AWS 클라우드 서비스와 온프레미스 리소스에서 사용할 수 있는, 간단하고 확장 가능하며 탄력적인 완전관리형 NFS 파일 시스템을 제공합니다. 이 제품은 어플리케이션을 중단하지 않고 온디맨드 방식으로 페타바이트 규모까지 확장하도록 구축되어, 파일을 추가하고 제거할 때 자동으로 확장하고 축소하며 확장 규모에 맞게 용량을 프로비저닝 및 관리할 필요가 없습니다.\n",
    "- NFS 기반 공유 스토리지 서비스(NFSv4)\n",
    "    - 따로 용량을 지정할 필요 없이 사용한 만큼 용량이 증가 <-> EBS는 미리 크기를 지정해야 함\n",
    "- 페타바이트 단위까지 확장 가능\n",
    "- 몇 천개의 동시 접속 유지 가능\n",
    "- 데이터는 여러 AZ에 나누어 분산 저장\n",
    "- 쓰기 후 읽기 일관성\n",
    "- Private Service : AWS 외부에서 접속 불가능\n",
    "    - AWS 외부에서 접속하기 위해서는 VPN / Direct Connect 등, 별도로 VPC와 연결이 필요\n",
    "- 각 가용영역에 Mount Target을 두고 각각의 가용영역에서 해당 Mount Target으로 접근\n",
    "- Linux Only"
   ]
  },
  {
   "cell_type": "markdown",
   "metadata": {},
   "source": [
    "## Amazon EFS Type\n",
    "- Regional : 리전 전체를 활용하여 고가용성과 내구성 확보\n",
    "- One-Zone : 하나의 AZ만 활용, 고가용성을 확보하지만 내구성은 떨어짐. 저렴한 가격"
   ]
  },
  {
   "cell_type": "markdown",
   "metadata": {},
   "source": [
    "## Amazon EFS Performance mode\n",
    "- General Purpose : 가장 보편적인 모드. 거의 대부분의 경우 사용 권장\n",
    "- Max IO : 매우 높은 IOPS가 필요한 경우 (빅데이터, 미디어 처리 등)\n"
   ]
  },
  {
   "cell_type": "markdown",
   "metadata": {},
   "source": [
    "## Amazon EFS Throughput mode\n",
    "- Elastic Throughput : EFS가 자동으로 Throughput을 조절 - 예측하기 어렵거나 적은 범위에서 변동이 있는 경우\n",
    "- Bursting Throughput : 낮은 Throughput일 때 크레딧을 모아서 높은 Throughput이 필요할 때 사용 \n",
    "    - EC2 T타입과 비슷한 개념\n",
    "- Provisioned Throughput : 미리 지정한 만큼의 Throughput을 미리 확보해두고 사용"
   ]
  }
 ],
 "metadata": {
  "language_info": {
   "name": "python"
  }
 },
 "nbformat": 4,
 "nbformat_minor": 2
}
