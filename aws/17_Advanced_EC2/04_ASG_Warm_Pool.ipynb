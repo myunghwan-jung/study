{
 "cells": [
  {
   "cell_type": "markdown",
   "id": "70f1cba3",
   "metadata": {},
   "source": [
    "# ASG Warm Pool\n",
    "- Autoscale에서 확장에 필요한 인스턴스를 미리 준비하는 서비스\n",
    "    - 인스턴스의 준비 기간이 매우 긴 상황에서 Autoscaling의 확장 시 인스턴스를 빠르게 준비 가능\n",
    "        - 즉 인스턴스 준비 기간이 길지 않을 경우 체감 효과는 미비\n",
    "    - 대표 사용 사례 : 볼륨 용량이 매우 커서 AMI -> 인스턴스 준비 기간이 오래 걸리는 경우\n",
    "- Warm Pool : Autoscale 상황을 위해 미리 준비해둔 인스턴스의 Pool\n",
    "    - 3가지 상태\n",
    "        - Running : 인스턴스 비용을 포함한 모든 비용 지불\n",
    "        - Stopped / Hibernate(지원하는 경우) : EBS 비용과 IP 비용\n",
    "- 재활용 정책\n",
    "    - 기본적으로 Scale In 활동 시 인스턴스는 삭제됨\n",
    "    - 단, Reuse Policy를 설정하여 다시 Warm Pool로 복귀시켜 재사용 가능\n",
    "        - Warm Pool 생성 설정을 제외하고는 AWS CLI / SDK 로만 작동 가능\n",
    "- EC2 뿐만 아니라 EKS / ECS 등에서도 활용 가능"
   ]
  },
  {
   "cell_type": "markdown",
   "id": "6248e900",
   "metadata": {},
   "source": [
    "## Hibernate(최대 절전 모드)\n",
    "- 단순하게 인스턴스만 중지하는 것이 아니라 메모리의 상태 역시 데이터화해서 저장해둔 상태\n",
    "    - 즉 어플리케이션을 처음부터 시작하는 것이 아니라 중단 시점부터 재개 가능"
   ]
  },
  {
   "cell_type": "markdown",
   "id": "ed13eb5b",
   "metadata": {},
   "source": [
    "## Autoscale Warm Pool의 크기\n",
    "- 기본적으로 웜 풀의 크기는 오토스케일 그룹의 Max Capacity - Desired Capacity\n",
    "    - EX. Min / Desired / Max = 1 / 3 / 8 이라면 웜풀 사이즈는 5\n",
    "- MaxGroupPreparedCapacity를 별도로 설정하여 크기 고정 가능\n",
    "    - 예 : Desired / Max 가 1000 / 1500 이라면 500개의 웜풀 사이즈는 과할 수도 있음"
   ]
  },
  {
   "cell_type": "markdown",
   "id": "96d6c591",
   "metadata": {},
   "source": [
    "## AUtoscale Warm Pool Flow\n",
    "- Lifecycle Hook을 활용하여 추가적인 설정 가능\n",
    "    - EC2_INSTANCE_LAUNCHING : WarmPool 진인 시 / 실제로 Live로 올라갈 때 2번 실행\n",
    "    - EC2_INSTANCE_TERMINATING : 종료되거나 WarmPool로 돌아갈 때 실행\n",
    "- Lifecycle Hook이 없다면 Warm Pool 진입 후 Userdata 수행 중 Stop / Hibernate 될 수 있음"
   ]
  },
  {
   "cell_type": "markdown",
   "id": "1da89576",
   "metadata": {},
   "source": [
    "### 데모\n",
    "1. IAM 역할 생성\n",
    "    - EC2가 사용\n",
    "    - 인라인 권한 생성, JSON 스크립트 입력\n",
    "2. EC2 시작 템플릿 생성\n",
    "    - 키페어x\n",
    "    - 보안그룹 디폴트\n",
    "    - 고급 세부 정보에 IAM 프로파일 적용\n",
    "    - 유저데이터에 스크립트 입력\n",
    "3. ASG 생성\n",
    "    - 이름 : demo-asg-warmpool\n",
    "    - 원하는 용량 0, 최소 용량 0, 최대 용량 2\n",
    "    - 태그 Name 입력\n",
    "4. Lifecycle Hook 생성\n",
    "    - 이름 : on-instance-start\n",
    "    - 하트비트 제한 시간 300초\n",
    "5. ASG Desired Capacity 조정\n",
    "    - 1로 올리고 웜풀 생성\n",
    "        - 중지됨, 스케일 인 재사용\n",
    "    - 2로 올려보자\n",
    "        - 인스턴스가 빠르게 준비되는 것을 확인할 수 있음\n",
    "    - 1로 다시 줄이면?\n",
    "        - 다시 웜풀로 돌아가겠지"
   ]
  }
 ],
 "metadata": {
  "language_info": {
   "name": "python"
  }
 },
 "nbformat": 4,
 "nbformat_minor": 5
}
