{
 "cells": [
  {
   "cell_type": "markdown",
   "id": "0f40d7ac",
   "metadata": {},
   "source": [
    "# ELB 고급 기능"
   ]
  },
  {
   "cell_type": "markdown",
   "id": "0216c47b",
   "metadata": {},
   "source": [
    "## ELB LCU Reservation\n",
    "- LCU(Load Balancer Capacity Units) : ALB가 트래픽을 처리하는 단위\n",
    "- LCU Reservation : 증설 속도를 따라오지 못할 정도로 순간 많은 트래픽이 예상되는 경우, 미리 최저 리소스를 맞추는 기능\n",
    "    - 예 : 이벤트 오픈 당일, 블랙 프라이데이 행사 등\n",
    "- LCU 확인은 콘솔에서 Amazon CloudWatch로 가능\n",
    "    - ALB 는 PeakLCU, NLB는 ProcessedBytes를 기준으로 연산을 통해 확인"
   ]
  },
  {
   "cell_type": "markdown",
   "id": "e416596e",
   "metadata": {},
   "source": [
    "## ALB Stickiness\n",
    "- ALB에서 한번 연결한 대상에 지속적으로 연결할 수 있도록 지원하는 서비스\n",
    "- 두 가지 종류\n",
    "    - Sticky Session : 어플리케이션이 EC2 인스턴스와 지속적인 연결을 보장\n",
    "    - Target Group Stickiness : ALB뒤에 여러 대상이 있을 경우 특정 대상 그룹(Target Group)으로 연결을 보장\n",
    "        - 예 : 배포 상황 등"
   ]
  },
  {
   "cell_type": "markdown",
   "id": "dd26c73c",
   "metadata": {},
   "source": [
    "### Target Group stickiness\n",
    "- ALB 뒤에 여러 대상이 있을 경우 특정 대상 그룹으로 연결을 보장\n",
    "- 설정을 통해 일정 시간동안 특정 요청은 특정 대상 그룹으로만 전달\n",
    "    - 설정한 시간이 만료되면 기본 로직 적용\n",
    "- 기본 로직 : 가중치 기반 등"
   ]
  },
  {
   "cell_type": "markdown",
   "id": "e3195d73",
   "metadata": {},
   "source": [
    "### Sticky Session\n",
    "- 어플리케이션이 EC2 인스턴스와 지속적인 연결을 보장\n",
    "- 쿠키를 발급하여 해당 쿠키의 내용을 기반으로 대상을 선택\n",
    "    - 두 가지 방식\n",
    "        - ALB가 발급\n",
    "        - 어플리케이션에서 직접 발급\n",
    "- 최소 1초에서 최대 7일 기간 한정"
   ]
  }
 ],
 "metadata": {
  "language_info": {
   "name": "python"
  }
 },
 "nbformat": 4,
 "nbformat_minor": 5
}
