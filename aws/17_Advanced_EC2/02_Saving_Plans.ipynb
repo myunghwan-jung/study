{
 "cells": [
  {
   "cell_type": "markdown",
   "id": "bf39ebb4",
   "metadata": {},
   "source": [
    "# Savings Plans\n",
    "- Savings Plans은 1년 또는 3년 기간에 특정 사용량 약정(시간당 USD 요금으로 측정)을 조건으로, 온디맨드 요금에 비해 저렴한 요금을 제공하는 유연한 요금 모델입니다. AWS Cost Explorer에서 1년 또는 3년 약정으로 Savings Plans에 쉽게 가입할 수 있으며, 권장 사항, 성능 보고 및 예산 알림 기능을 활용하여 플랜을 관리할 수 있습니다.\n",
    "- 종류\n",
    "    - Compute Savings Plans\n",
    "    - EC2 Instance Savings Plans"
   ]
  },
  {
   "cell_type": "markdown",
   "id": "066f5ba0",
   "metadata": {},
   "source": [
    "## Compute Savings Plans\n",
    "- 컴퓨팅 파워의 사용량을 약정하는 요금 모델\n",
    "    - 컴퓨팅 파워를 사용하는 EC2, AWS Lambda, AWS Fargate에서 사용 가능\n",
    "    - 인스턴스 패밀리, 크기, AZ, 리전, OS, 테넌시 등에 관계없이 사용량에 적용\n",
    "    - 즉 리전을 옮기거나, 인스턴스 패밀리를 변경하거나, EC2 -> Fargate로 옮기기 가능\n",
    "- 최대 66%의 할인\n",
    "- 가장 유연한 요금 모델"
   ]
  },
  {
   "cell_type": "markdown",
   "id": "6409b071",
   "metadata": {},
   "source": [
    "## EC2 Instance Savings Plans\n",
    "- 특정 리전의 특정 인스턴스 패밀리를 선택해 사용을 약정하는 요금 모델\n",
    "    - 사이즈, OS, 테넌시의 약정 없이 사용\n",
    "    - 즉 같은 패밀리 타입이라면 사이즈 변경, OS 변경 등이 자유로움\n",
    "    - 리전과 패밀리 타입은 변경 불가능\n",
    "- 최대 72%의 할인"
   ]
  },
  {
   "cell_type": "markdown",
   "id": "ff4dc6f5",
   "metadata": {},
   "source": [
    "### Reserved Instance VS Savings Plans\n",
    "- Reserved Instance : 사용 기간을 약정해서 할인 받는 모델\n",
    "    - 1~3년의 사용 기간을 약정해서 할인\n",
    "    - 인스턴스 미리 확보 가능\n",
    "    - (경우에 따라) 판매, 교체 가능\n",
    "    - Savings Plan에 비해 다소 제약사항이 많음\n",
    "    - RDS, EC2, Redshift, ElasticCache 등\n",
    "    - 좀 더 세세한 관리가 가능하나 신경 쓸 점도 많음\n",
    "        - 구매한 RI가 어떤 인스턴스에 쓰일지 등에 대한 세세한 컨트롤 가능\n",
    "        - 다만 비교적 약정 내용이 더 많음\n",
    "- Savings Plans : 사용량 혹은 인스턴스 패밀리를 약정해서 할인 받는 요금 모델\n",
    "    - RI에 비해 유연함\n",
    "        - Compute Savings Plans의 경우 리전, 패밀리, OS, 테넌시 등에 관계 없이 할인\n",
    "    - 인스턴스 예약 불가능\n",
    "    - 판매 불가능\n",
    "    - 약간 덜 관리하고 덜 할인 받는 방식\n",
    "    - 설정해두면 여러 혜택을 자동으로 분배하지만, 세세한 컨트롤은 불가능"
   ]
  }
 ],
 "metadata": {
  "language_info": {
   "name": "python"
  }
 },
 "nbformat": 4,
 "nbformat_minor": 5
}
