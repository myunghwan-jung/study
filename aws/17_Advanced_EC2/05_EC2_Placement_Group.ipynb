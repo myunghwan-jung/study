{
 "cells": [
  {
   "cell_type": "markdown",
   "id": "30260dc4",
   "metadata": {},
   "source": [
    "# Placement Group\n",
    "- Workload의 특성에 따라서 인스턴스의 배치를 조절하는 기능\n",
    "- 세 가지 종류\n",
    "    - Cluster : 하나의 AZ 안에 인스턴스를 최대한 가까이 배치\n",
    "    - Partition : 서로 공유하지 않는 하드웨어 단위(파티션)로 인스턴스를 묶어 분산 배치\n",
    "    - Spread : 최대한 하드웨어를 공유하지 않도록 분산 배치"
   ]
  },
  {
   "cell_type": "markdown",
   "id": "d826f05d",
   "metadata": {},
   "source": [
    "## Cluster Placement Group\n",
    "- 하나의 가용영역 안에 인스턴스를 최대한 가까이 배치\n",
    "    - 상호간의 Low Latency 네트워크가 필요한 경우 (예: HPC)\n",
    "- Group 안의 인스턴스는 서로 최대 10Gbps의 대역폭으로 네트워크 통신 가능\n",
    "    - ENA(Elastic Network Adapter) 활용 시 25 Gbps\n",
    "    - 인스턴스의 크기(vCPU 숫자)에 따라 다른 대역폭 : 클 수록 큰 대역폭 활용 가능\n",
    "- 가용 영역 단위 : 가용 영역 밖으로 확장 불가능\n",
    "- 여러 인스턴스 타입 프로비저을 시도할 수 있으나 실패 확률 있음 : 단일 인스턴스 타입 권장"
   ]
  },
  {
   "cell_type": "markdown",
   "id": "404486dd",
   "metadata": {},
   "source": [
    "## Partition Placement Group\n",
    "- 서로 공유하지 않는 하드웨어 단위(파티션)로 인스턴스를 묶어 분산 배치\n",
    "    - 한꺼번에 다수의 인스턴스 실패가 발생하지 않도록 위치 분산이 목적\n",
    "- 가용 영역 당 최대 7개의 파티션\n",
    "    - 인스턴스를 자동으로 파티션 별로 분산시키거나 특정 파티션에 프로비전 가능\n",
    "    - EC2 프로비전 요청 시 하드웨어가 충분하지 않을 경우 요청 실패\n",
    "- 각 인스턴스가 어느 파티션에 위치해 있는지 별도로 확인 가능\n",
    "    - 즉 HDFS, HBase, Cassandra등에 위치 정보 전달 가능"
   ]
  },
  {
   "cell_type": "markdown",
   "id": "ba967120",
   "metadata": {},
   "source": [
    "## Spread Placement Group\n",
    "- 최대한 하드웨어를 공유하지 않도록 분산 배치\n",
    "    - 작은 규모의 매우 중요한 인스턴스 클러스터의 안정성 확보 목적\n",
    "- 두 가지 종류\n",
    "    - Rack Level : 단일 Rack 단위로 Rack 하나당 하나의 인스턴스\n",
    "        - AZ 당 7개의 Rack : AZ당 최대 7개의 인스턴스\n",
    "        - 더 많은 인스턴스가 필요하다면 여러 Spread Placement Group 활용 가능\n",
    "    - Host Level : AWS Outpost를 활용\n",
    "        - AWS Outpost : AWS 서비스를 고객의 데이터센터로 확장하는 서비스"
   ]
  }
 ],
 "metadata": {
  "language_info": {
   "name": "python"
  }
 },
 "nbformat": 4,
 "nbformat_minor": 5
}
