{
 "cells": [
  {
   "cell_type": "markdown",
   "id": "dd021c6d",
   "metadata": {},
   "source": [
    "# Network Load Balancer"
   ]
  },
  {
   "cell_type": "markdown",
   "id": "2f2482a9",
   "metadata": {},
   "source": [
    "## Elastic Load Balancer의 종류\n",
    "- Application Load Balancer\n",
    "    - 똑똑\n",
    "    - OSI Model Layer 7\n",
    "    - 트래픽을 모니터링하여 라우팅 가능\n",
    "        - 예 : image.sample.com -> 이미지 서버로, web.sample.com -> 웹 서버로 트래픽 분산\n",
    "- Network Load Balancer\n",
    "    - 빠름\n",
    "    - OSI Model Layer 4\n",
    "    - TCP, UDP 기반 빠른 트래픽 분산\n",
    "    - Elastic IP 할당 가능\n",
    "- Classic Load Balancer\n",
    "    - 옛날\n",
    "    - 예전에 사용되던 타입, 현재는 잘 사용하지 않음\n",
    "- Gateway Load Balancer\n",
    "    - 먼저 트래픽을 체크\n",
    "    - OSI Model Layer 3\n",
    "    - 가상 어플라이언스 배포/확장 관리를 위한 서비스"
   ]
  },
  {
   "cell_type": "markdown",
   "id": "42470777",
   "metadata": {},
   "source": [
    "### Application Load Balancer\n",
    "- OSI Model Layer 7\n",
    "    - header, cookie, domain 이해 가능\n",
    "        - header를 변경하거나 domain 기반 라우팅\n",
    "    - health check 역시 Layer 7 프로토콜 기반(http)\n",
    "- HTTP / HTTPs 프로토콜만 지원\n",
    "    - 지속적인 연결 없이 요청 시에만 연결 수립\n",
    "- 다양한 규칙 기반으로 여러 대상그룹에 분배 가능\n",
    "- IP 고정 불가능\n",
    "    - IPAM을 활용할 수 있음(고급 기능)\n",
    "    - Network Load Balancer 뒤에 Application Load Balancer를 놓는 것을 추천"
   ]
  },
  {
   "cell_type": "markdown",
   "id": "0b6ad363",
   "metadata": {},
   "source": [
    "### Network Load Balancer\n",
    "- OSI Model Layer 4\n",
    "    - TCP, UDP, TLS 등\n",
    "    - HTTP 프로토콜 이해 불가능\n",
    "        - 즉 Header, Cookie, 세션 등 활용 불가능\n",
    "- ALB에 비한 장점\n",
    "    - 매우 빠른 속도 : 초당 수백만건 이상 요청 처리\n",
    "    - 연결 지속 가능\n",
    "    - Elastic IP 활용 가능 : IP 고정 가능\n",
    "- 주요 사용 사례:\n",
    "    - 빠른 TCP / UDP 연결이 필요한 어플리케이션 : 게임, SSH, 실시간성이 필요한 어플리케이션, 금융 등"
   ]
  },
  {
   "cell_type": "markdown",
   "id": "0896951d",
   "metadata": {},
   "source": [
    "### Network Load Balancer의 고정 IP\n",
    "- 본래 ELB의 경우 DNS기반으로 접속하며 프로비전 된 Node의 IP 목록 중 하나를 전달\n",
    "- NLB의 경우 이 Node중 하나를 Elastic IP로 고정 가능\n",
    "- 이미 생성된 NLB에 EIP를 붙이고 싶은 경우 노드 재 생성 필요\n",
    "    - 연동 서브넷을 제거하고 다시 생성 필요"
   ]
  },
  {
   "cell_type": "markdown",
   "id": "b10c714e",
   "metadata": {},
   "source": [
    "### 데모 - NLB 프로비전 및 테스트\n",
    "- EC2 + nodejs 기반 TCP 서버를 클라우드포메이션으로 프로비전\n",
    "    - 간단하게 TCP로 접속한 클라이언트에게 1초마다 현재 시각을 전달하는 서버\n",
    "    - 3000포트를 활용하며 해당 포트를 여는 보안그룹 역시 프로비전\n",
    "- 대상 그룹 추가 및 프로비전한 EC2 추가\n",
    "- Nodejs 기반 클라이언트로 접속 확인\n",
    "- 이후 고정 IP를 추가하여 고정 아이피로 접속 확인"
   ]
  },
  {
   "cell_type": "markdown",
   "id": "56a43edc",
   "metadata": {},
   "source": [
    "### 데모 순서\n",
    "1. 클라우드 포메이션으로 인스턴스 프로비전\n",
    "2. NLB 생성\n",
    "    - 대상 그룹부터 생성 : TCP 프로토콜, 3000 포트\n",
    "    - CF로 프로비전한 인스턴스를 대상 그룹에 추가\n",
    "    - NLB 생성 : 리스너 포트 3000\n",
    "3. NLB 테스트\n",
    "    - client.js 내용 수정 : NLB의 DNS 이름 사용\n",
    "4. Elastic IP 붙이기\n",
    "    - 탄력적 IP 생성\n",
    "    - NLB의 네트워크 매핑에서 서브넷을 하나 지웠다가 새로 만들어보자 : EIP 적용 가능\n",
    "5. NLB 테스트\n",
    "    - 호스트 주소에 EIP 입력\n",
    "    - 연결 불가 : NLB의 노드가 다른 가용영역에 접근할 수 없기 떄문\n",
    "        - EIP는 가용영역 d의 노드에 붙었는데, 인스턴스는 가용영역 c에 있음 : 교차 영역 로드 밸런싱 활성화가 필요\n",
    "6. 리소스 정리 : 로드밸런서, CF스택"
   ]
  }
 ],
 "metadata": {
  "language_info": {
   "name": "python"
  }
 },
 "nbformat": 4,
 "nbformat_minor": 5
}
