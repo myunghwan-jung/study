{
 "cells": [
  {
   "cell_type": "markdown",
   "id": "4cc1bc83",
   "metadata": {},
   "source": [
    "# Dedicated Host vs Dedicated Instance"
   ]
  },
  {
   "cell_type": "markdown",
   "id": "4f392e6b",
   "metadata": {},
   "source": [
    "## 가상화\n",
    "- 단일 컴퓨터의 하드웨어 요소를 일반적으로 가상 머신(VM) 이라고 하는 다수의 가상 컴퓨터로 분할할 수 있도록 해주는 기술"
   ]
  },
  {
   "cell_type": "markdown",
   "id": "318ea269",
   "metadata": {},
   "source": [
    "## Dedicated Instance\n",
    "- 전용 인스턴스는 단일 고객 전용 하드웨어의 VPC에서 실행되는 Amazon EC2 인스턴스입니다. 전용 인스턴스는 호스트 하드웨어 수준에서 다른 AWS 계정에 속하는 인스턴스로부터 물리적으로 격리됩니다\n",
    "- 물리적으로 인스턴스 단위로 격리된 서버에서 EC2를 실행\n",
    "- 한 계정에서 전용 호스트를 잠시 빌려서 사용\n",
    "    - 호텔처럼 쓰는 동안에만 내 꺼 -> 체크아웃 하면 다른 방에 묵어야 할 수도 있음\n",
    "    - 인스턴스 재부팅 시 다른 전용 호스트에서 인스턴스가 동작할 가능성 존재\n",
    "    - 내 계정의 전용 인스턴스가 아닌 인스턴스도 섞여 들어갈 수 있음\n",
    "    - 인스턴스 배치 컨트롤 불가능\n",
    "- 인스턴스 단위 빌링\n",
    "    - 전용 요금(Dedicated Instance의 숫자와 관계 없이, 단 하나라도 사용 시 부과) : 시간당 2$\n",
    "    - 시간당 인스턴스 사용료 : 약 10% 더 비싼 요금\n",
    "- 내 라이선스를 직접 활용 불가능(Bring Your Own License 불가능)"
   ]
  },
  {
   "cell_type": "markdown",
   "id": "efb6f186",
   "metadata": {},
   "source": [
    "## Dedicated Host\n",
    "- Amazon EC2 전용 호스트를 사용하면 Amazon EC2 에서 Microsoft 및 Oracle 같은 공급업체의 적격 소프트웨어 라이선스를 사용할 수 있으므로, 고객이 자사의 보유 라이선스를 활용하는 유연성과 비용 효율성을 보장받으면서 AWS의 복원력, 간편성 및 탄력성을 활용할 수 있습니다. Amazon EC2 전용 호스트는 고객에게 전용으로 제공되는 물리적 서버로, 회사 규정 준수 요건을 해결하는 데 유용합니다\n",
    "- 물리적 호스트 단위로 격리된 서버를 빌려서 그 안에서 EC2를 실행\n",
    "- 전용 호스트(서버)를 전세 내서 빌려쓰는 개념\n",
    "    - 전세집\n",
    "    - 인스턴스 재부팅 시 확보한 호스트에서 다시 동작\n",
    "    - 인스턴스 배치 컨트롤 가능\n",
    "- 호스트 단위 빌링\n",
    "    - 패밀리 선택 후, 호스트 당 요금 지불\n",
    "    - 하나의 호스트 안에 인스턴스가 몇개가 있는지 상관 없이 호스트 통째 요금 지불\n",
    "- 내 라이선스를 직접 활용 가능(Bring Your Own License)\n",
    "    - AWS License Manager 등 활용\n",
    "- 인스턴스 간 통신이 매우 낮은 레이턴시로 가능"
   ]
  },
  {
   "cell_type": "markdown",
   "id": "aee383fe",
   "metadata": {},
   "source": [
    "### Dedicated Instance VS Dedicated Host\n",
    "- Dedicated Instance : 호텔 - 쓰는 동안에 나 혼자, 체크아웃 이후엔 다른 방 사용\n",
    "    - 인스턴스 간의 간섭을 배제하거나 보안 규정 등의 이유로 사용\n",
    "    - 기본 요금 + 사용 인스턴스 당 비용 지불\n",
    "- Dedicated Host : 전세\n",
    "    - 인스턴스 간의 간섭을 배제하거나 보안 규정 등의 이유로 사용\n",
    "    - 라이선스 이슈와 인스턴스 간 레이턴시를 줄이기 위해 사용\n",
    "        - 자신의 라이선스 활용 나긍\n",
    "    - 호스트 비용 지불\n",
    "    - 이후 호스트를 어떻게 이용할 지는 마음대로\n",
    "    - 인스턴스 개수 제한 없음(정해진 한도 내)"
   ]
  }
 ],
 "metadata": {
  "language_info": {
   "name": "python"
  }
 },
 "nbformat": 4,
 "nbformat_minor": 5
}
