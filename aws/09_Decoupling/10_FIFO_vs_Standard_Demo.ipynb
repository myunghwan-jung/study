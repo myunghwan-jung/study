{
 "cells": [
  {
   "cell_type": "markdown",
   "metadata": {},
   "source": [
    "# SQS FIFO vs Standard Demo\n",
    "- SQS Standard와 SQS FIFO를 만들고 로컬 어플리케이션으로 실험\n",
    "    - 순서 보장 / 중복 여부\n",
    "    - Visibility Timeout이 만료되면 Queue의 어디로 돌아가는지?\n",
    "    - Visibility Timeout이 만료되고 메세지를 삭제하면 어떻게 되는지?"
   ]
  },
  {
   "cell_type": "markdown",
   "metadata": {},
   "source": [
    "## 실험 결과\n",
    "- 스탠다드 큐는 생각보다 순서 보장이 잘 되지 않는다.\n",
    "- FIFO 큐는 순서가 완벽하게 보장된다.\n",
    "- 스탠다드 큐의 경우, Visibility Timeout이 만료된 메세지는 Queue의 어디로 갈까?\n",
    "    - 순서 보장이 확실하지 않기 때문에 부정확 하지만, 맨 뒤로 갈 것이라고 예상할 수 있다\n",
    "- FIFO 큐이 경우, Visibility Timeout이 만료된 메세지는 Queue의 어디로 갈까?\n",
    "    - 큐의 맨 뒤로 돌아간다\n",
    "- 스탠다드 큐의 경우, Visibility Timeout이 만료되고 메세지를 삭제하면 어떻게 되는지?\n",
    "    - 삭제가 가능\n",
    "- FIFO 큐의 경우, Visibility Timeout이 만료되고 메세지를 삭제하면 어떻게 되는지?\n",
    "    - 에러 발생 : FIFO 큐에서는 예전 메세지를 지울 수 없다"
   ]
  },
  {
   "cell_type": "markdown",
   "metadata": {},
   "source": [
    "## 대기열 삭제 시 주의 사항사항\n",
    "- 큐 내부의 메세지들을 비우고 싶다면? 제거\n",
    "- 큐 자체를 삭제하고 싶다면 ? 삭제"
   ]
  }
 ],
 "metadata": {
  "language_info": {
   "name": "python"
  }
 },
 "nbformat": 4,
 "nbformat_minor": 2
}
