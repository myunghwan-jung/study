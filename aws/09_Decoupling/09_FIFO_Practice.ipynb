{
 "cells": [
  {
   "cell_type": "markdown",
   "metadata": {},
   "source": [
    "# SNS FIFO Storage / Replay Demo\n",
    "- SNS FIFO와 SQS 큐로 연결하는 구독 생성\n",
    "    - DynamoDB에 요청을 저장하는 로직\n",
    "    - 이메일을 보내는 로직\n",
    "- 데이터를 삭제하고 리플레이로 DB에 데이터가 다시 생성되는 것을 확인\n",
    "- S3에 데이터를 저장하는 로직을 담은 구독 추가\n",
    "    - 이후 리플레이로 기존 로직과 싱크 맞추는 부분 구현"
   ]
  },
  {
   "cell_type": "markdown",
   "metadata": {},
   "source": [
    "## 순서\n",
    "1. 이번 데모는 준비해야할 리소스가 많기 때문에, 콘솔에서 하나씩 준비하는 것이 아니라 로컬에서 한번에 프로비전.\n",
    "    - readme 파일에 aws 프로파일을 업데이트 필요\n",
    "        - IAM의 admin 선택\n",
    "            - 보안 자격, 액세스 키 만들기\n",
    "    - aws cli를 컨피규어 해보자 (brew install awscli)\n",
    "        - 보안 자격에서 만든 액세스 키 필요.\n",
    "        - readme를 따라 진행해보자"
   ]
  }
 ],
 "metadata": {
  "language_info": {
   "name": "python"
  }
 },
 "nbformat": 4,
 "nbformat_minor": 2
}
