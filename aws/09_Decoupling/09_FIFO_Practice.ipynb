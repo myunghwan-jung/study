{
 "cells": [
  {
   "cell_type": "markdown",
   "metadata": {},
   "source": [
    "# SNS FIFO Storage / Replay Demo\n",
    "- SNS FIFO와 SQS 큐로 연결하는 구독 생성\n",
    "    - DynamoDB에 요청을 저장하는 로직\n",
    "    - 이메일을 보내는 로직\n",
    "- 데이터를 삭제하고 리플레이로 DB에 데이터가 다시 생성되는 것을 확인\n",
    "- S3에 데이터를 저장하는 로직을 담은 구독 추가\n",
    "    - 이후 리플레이로 기존 로직과 싱크 맞추는 부분 구현"
   ]
  },
  {
   "cell_type": "markdown",
   "metadata": {},
   "source": [
    "## 순서\n",
    "1. 이번 데모는 준비해야할 리소스가 많기 때문에, 콘솔에서 하나씩 준비하는 것이 아니라 로컬에서 한번에 프로비전.\n",
    "    - readme 파일에 aws 프로파일을 업데이트 필요\n",
    "        - IAM의 admin 선택\n",
    "            - 보안 자격, 액세스 키 만들기\n",
    "    - aws cli를 컨피규어 해보자 (brew install awscli)\n",
    "        - 보안 자격에서 만든 액세스 키 필요.\n",
    "        - readme를 따라 진행해보자\n",
    "2. 프론트엔드 서버 배포까지 끝나게 되면, 어플리케이션을 조작해보자\n",
    "    - 이메일 수신 확인\n",
    "    - DynamoDB의 항목 검색이 업데이트된 것을 확인(항목 삭제하고 재주문도 해보자)\n",
    "3. SNS Replay 기능을 활용해보자\n",
    "    - SNS의 콘솔 - 주제\n",
    "    - 아카이브 정책 수정(활성화)\n",
    "    - 어플리케이션에서 주문 기록을 넣은 후, DynamoDB의 항목들을 모두 삭제해보자\n",
    "    - SNS의 record 구독 선택, 재생 시작\n",
    "4. S3에도 저장할 수 있도록 구현해보자(Sync)\n",
    "    - SNS에서 구독 생성 (SNS FIFO는 구독 프로토콜을 SQS만 선택할 수 있다)\n",
    "    - S3 콘솔로 이동\n",
    "    - 아까처럼 레코드 구독 선택, 재생 시작\n",
    "    - 결국 SNS에 새로운 구독을 붙이고, 이전 레코드를 다시 재생해서 Sync를 맞추는 방법\n",
    "5. 리소스 정리\n",
    "    - SNS의 아카이브 정책 비활성화\n",
    "    - 클라우드포메이션 삭제\n",
    "    - IAM 액세스키 삭제"
   ]
  }
 ],
 "metadata": {
  "language_info": {
   "name": "python"
  }
 },
 "nbformat": 4,
 "nbformat_minor": 2
}
