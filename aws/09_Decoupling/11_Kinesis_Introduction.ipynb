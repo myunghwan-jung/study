{
 "cells": [
  {
   "cell_type": "markdown",
   "metadata": {},
   "source": [
    "# Amazon Kinesis 소개\n",
    "- Amazon Kinesis를 사용하면 실시간 스트리밍 데이터를 손쉽게 수집, 처리 및 분석할 수 있으므로 적시에 통찰력을 확보하고 새로운 정보에 신속하게 대응할 수 있습니다. Amazon Kinesis는 모든 규모의 스트리밍 데이터를 비용 효율적으로 처리할 수 있는 핵심 기능과 더불어 어플리케이션 요구 사항에 가장 적합한 도구를 선택할 수 있는 유연성을 제공합니다.\n",
    "- Kinesis 서비스\n",
    "    - AWS에서 스트리밍 데이터(실시간으로 오고 가는 대규모 데이터)를 수집하고 분석 처리하는 서비스\n",
    "- 총 4가지 서비스\n",
    "    - Kinesis Data Stream\n",
    "        - 스트리밍 데이터를 수집하는 서비스\n",
    "    - Amazon Data Firehose(예전엔 Kinesis Data Firehose로 Kinesis 하위 서비스였으나 독립)\n",
    "        - 데이터를 수집하고 변환하여 공급자(S3, Redshift, AWS OpenSearch, DataDog, HTTP등)에게 전송하는 서비스\n",
    "    - Kinesis Data Analytics Studio\n",
    "        - 실시간 스트리밍 데이터를 분석하는 서비스\n",
    "    - Kinesis Videos Streams\n",
    "        - 재생, 분석 및 머신 러닝을 위해 미디어 스트림을 캡처, 처리 및 저장"
   ]
  }
 ],
 "metadata": {
  "language_info": {
   "name": "python"
  }
 },
 "nbformat": 4,
 "nbformat_minor": 2
}
