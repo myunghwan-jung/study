{
 "cells": [
  {
   "cell_type": "markdown",
   "metadata": {},
   "source": [
    "# Amazon SNS 소개\n",
    "- Amazon Simple Notification Server는 어플리케이션 간 및 어플리케이션과 사용자 간 통신 모두를 위한 완전관리형 메시징 서비스입니다.\n",
    "- Pub/Sub 기반의 메세징 서비스\n",
    "    - 하나의 메세지를 여러 서비스에서 처리\n",
    "- 주요 사용 사례\n",
    "    - 하나의 메세지를 다수의 주체에서 처리하고 싶을 때(Fan Out 아키텍처)\n",
    "    - 서비스에서 서비스로 메세지를 전달하고 싶을 때\n",
    "    - 메세지를 임시로 저장하고 있거나 재생하여 동일한 로직을 다시 처리하고 싶을 때(FIFO)\n",
    "- 사용 방식\n",
    "    - 하나의 토픽을 여러 주체가 구독\n",
    "    - 토픽에 전달된 내용을 구독한 모든 주체가 전달받아 처리 : 하나의 메세지를 여러 주체에서 처리\n",
    "    - 다양한 프로토콜 및 서비스 지원 (이메일, HTTP, SQS, SMS, Lambda)\n",
    "    - 메세지 리플레이 기능 제공(FIFO)\n",
    "- 기본적으로 퍼블릭 서비스 : AWS 외부에서 인터넷을 통해 사용 가능\n",
    "- 서버리스 서비스로 분류 : 고가용성이 자체적으로 확보되어 있음\n",
    "- 요청 횟수, 메세지 크기 등으로 과금"
   ]
  },
  {
   "cell_type": "markdown",
   "metadata": {},
   "source": [
    "## SNS vs SQS 비교\n",
    "- 목적\n",
    "    - SNS : 여러 서비스에 메세지를 전달하기 위해 사용\n",
    "    - SQS : 특정 작업을 다음 서비스로 넘겨주기 위해 사용\n",
    "- 메세지 처리 횟수\n",
    "    - SNS : 하나의 메세지를 여러 서비스에서 처리\n",
    "    - SQS : 하나의 메세지는 한번만 처리\n",
    "- 메세지 보관\n",
    "    - SNS : 보관 불가능\n",
    "    - SQS : 최대 14일 보관 가능\n",
    "- 전달 방식\n",
    "    - SNS : Push\n",
    "    - SQS : Pull\n",
    "- 아키텍처 활용\n",
    "    - SNS : Fan Out\n",
    "    - SQS : Decoupling"
   ]
  }
 ],
 "metadata": {
  "language_info": {
   "name": "python"
  }
 },
 "nbformat": 4,
 "nbformat_minor": 2
}
