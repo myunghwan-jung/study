{
 "cells": [
  {
   "cell_type": "markdown",
   "metadata": {},
   "source": [
    "# AWS의 디커플링 서비스 서론"
   ]
  },
  {
   "cell_type": "markdown",
   "metadata": {},
   "source": [
    "## 디커플링\n",
    "- 아키텍처에서 주체간의 의존성을 낮추는 방법\n",
    "    - 아키텍처의 유연성을 높이고 효율적으로 최적화\n",
    "- 긴밀한 결합(Tight Coupling)\n",
    "    - 다른 주체에 대해서 단단하게 얽힌 상태\n",
    "    - 주체끼리 높은 의존성을 가지고 있어 변경이 쉽지 않음\n",
    "    - 예 : 우리 몸\n",
    "- 느슨한 결합(Loose Coupling)\n",
    "    - 다른 요소에 대해 얽히지 않고 연결되어있는 상태\n",
    "    - 주체끼리 낮은 의존성을 가지고 있어 쉽게 변경할 수 있고 유연함\n",
    "    - 예 : 전동 공구, 로봇 등\n",
    "- 긴밀한 결합을 느슨한 결합으로 바꾸는 것이 디커플링"
   ]
  },
  {
   "cell_type": "markdown",
   "metadata": {},
   "source": [
    "## AWS의 디커플링 서비스\n",
    "- AWS에서 아키텍처의 유연성을 확보하기 위해 사용하는 서비스들\n",
    "    - Amazon SQS\n",
    "    - Amazon SNS\n",
    "    - Amazon Kinesis\n",
    "    - Amazon MQ\n",
    "    - Amazon MSK (Kafka)\n",
    "    - 기타 다양한 이벤트 기반 기능들\n",
    "        - 예 : S3 Event, Eventbridge, DynamoDB Stream 등\n",
    "    - 이번 챕터에서는 SQS, SNS, Kinesis를 다뤄보자"
   ]
  }
 ],
 "metadata": {
  "language_info": {
   "name": "python"
  }
 },
 "nbformat": 4,
 "nbformat_minor": 2
}
