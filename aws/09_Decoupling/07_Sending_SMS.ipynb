{
 "cells": [
  {
   "cell_type": "markdown",
   "metadata": {},
   "source": [
    "# Amazon SNS로 SMS 보내기"
   ]
  },
  {
   "cell_type": "markdown",
   "metadata": {},
   "source": [
    "## 고려할 점\n",
    "- 특정 리전에서만 문자 보내기 가능 (서울 리전 불가능)\n",
    "- Spending Threshhold : SNS SMS 최초 사용 시 설정되어있는 지출 비용 제한\n",
    "    - 기본 1달러, 늘리려면 서포트케이스 오픈 필요\n",
    "- Origination Identities 필요 : 나라마다 정책이 다르고 필수 여부 역시 다름\n",
    "    - Sender ID : 메세지를 보낸 대상으로 표시되는 ID\n",
    "        - 예 : US 리전은 Sender ID 사용 불가능 / India 리전에서는 필수\n",
    "        - 몇몇 나라에서는 Sender ID가 필수이며 생성에 몇 주의 기간이 소요되는 경우도 있음\n",
    "        - 서포트 케이스 등의 지원이 필요\n",
    "    - Origination Numbers : 메세지를 받은 사람에게 보이는 전달자 번호"
   ]
  },
  {
   "cell_type": "markdown",
   "metadata": {},
   "source": [
    "## Amazon SNS SMS Sandbox\n",
    "- 최초로 제공되는 환경으로 테스트 및 준비를 진행\n",
    "- 샌드박스에 있을 때는 지정한 번호로만 문자 메세지 가능\n",
    "    - 최대 10개\n",
    "    - 삭제는 24+ 시간 이후 번호 삭제 가능\n",
    "- 샌드박스 탈출\n",
    "    - 전화번호 인증\n",
    "    - 테스트 문자 확인\n",
    "    - 서포트 케이스에 연결\n",
    "        - 목적, 사용계획, 리전, 쿼타 계획 제출"
   ]
  },
  {
   "cell_type": "markdown",
   "metadata": {},
   "source": [
    "## SMS 메세지 종류\n",
    "- One Time Password : OTP 용도\n",
    "- Promotional : 홍보\n",
    "- Transactional : 어카운트 상태 알람, 배송 상태 확인\n",
    "    - 마케팅 내용 포함 불가능"
   ]
  }
 ],
 "metadata": {
  "language_info": {
   "name": "python"
  }
 },
 "nbformat": 4,
 "nbformat_minor": 2
}
