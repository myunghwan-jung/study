{
 "cells": [
  {
   "cell_type": "markdown",
   "metadata": {},
   "source": [
    "# Amazon Data Firehose\n",
    "- Amazon Data Firehose는 Amazon S3, Amazon Redshift, Amazon OpenSearch, Splunk 및 타사 서비스 (Datadog, LogicMonitor Dynatrace, MongoDB, New Relic, Coraloc) 등의 대상에 실시간 스트리밍 데이터를 전송하는 완전 관리형 서비스입니다.\n",
    "- 데이터를 원하는 주체로 전달해주는 서비스(손쉽게 전달하는 것을 목표)\n",
    "    - 주로 데이터를 처리하는 주체로 전달 (OpenSearch, Reshif, Splunk, Datadog등)\n",
    "    - 혹은 S3에 직접 저장해서 보관, Athena 분석 가능\n",
    "- 일정 버퍼, 시간이 찰 때까지 기다렸다가 하나의 파일로 flush 하는 방식\n",
    "    - 전달 대상에 따라 버퍼 사이즈와 시간이 변동"
   ]
  },
  {
   "cell_type": "markdown",
   "metadata": {},
   "source": [
    "## Data Transform\n",
    "- 데이터를 원하는 형식으로 변경시켜서 Firehose로 받는 기능\n",
    "    - 데이터 포맷, 파일 사이즈 등 데이터 내용을 원하는대로 변경 가능\n",
    "    - 예 : Apache Parquet으로 변경, 로그 중 민감정보 제거, 필터링 등\n",
    "- Apache Parquet or Apache ORC 데이터 포맷 변경은 기본 지원\n",
    "- 다른 변경 (CSV로 변경, 민감정보 제거 등) 은 AWS Lambda 서비스를 호출해서 변경\n",
    "    - 기본 1MB~6MB(Lambda Payload Limit)로 전달"
   ]
  },
  {
   "cell_type": "markdown",
   "metadata": {},
   "source": [
    "## 기타 \n",
    "- S3에 저장 시 오브젝트 Key(파일명) 지정 가능\n",
    "    - 예 : Athena에서 활용하기 위한 포맷"
   ]
  }
 ],
 "metadata": {
  "language_info": {
   "name": "python"
  }
 },
 "nbformat": 4,
 "nbformat_minor": 2
}
