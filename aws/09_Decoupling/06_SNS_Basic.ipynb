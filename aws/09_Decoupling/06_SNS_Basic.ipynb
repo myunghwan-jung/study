{
 "cells": [
  {
   "cell_type": "markdown",
   "metadata": {},
   "source": [
    "# Amazon SNS 기초"
   ]
  },
  {
   "cell_type": "markdown",
   "metadata": {},
   "source": [
    "## SNS의 구성요소\n",
    "- 토픽 : SNS의 커뮤니케이션 채널\n",
    "- 구독 : 토픽으로 들어온 메세지를 받아볼 수 있는 리소스\n",
    "- 퍼블리셔 : 메세지를 생상하고 SNS에 전달하는 주체\n",
    "- 섭스크라이버 : 실제 구독으로부터 메세지를 받아 처리하는 주체\n",
    "- 메세지 : SNS에서 전달하는 데이터\n",
    "- 액세스 정책 : SNS에 접근할 수 있는 주체에 대한 권한 설정 정책"
   ]
  },
  {
   "cell_type": "markdown",
   "metadata": {},
   "source": [
    "## Topic / Subscription\n",
    "- 토픽 : SNS의 커뮤니케이션 채널\n",
    "    - 해당 토픽에 메세지를 발행하면, 토픽을 구독한 모든 대상에게 메세지를 발송\n",
    "    - 즉 하나의 메세지를 다수의 대상이 처리 = Fan Out 아키텍처\n",
    "- 구독 프로토콜 : 이메일, HTTP, SQS, SMS(서울 리전은 불가능), Lambda, Kinesis Data Firehose\n",
    "- 최초 구독시 확인 필요 (확인 이메일, Lambda의 경우 확인 이벤트)"
   ]
  },
  {
   "cell_type": "markdown",
   "metadata": {},
   "source": [
    "## SNS 메세지 구성(스탠다드)\n",
    "- 메세지 바디 : 실제 메세지의 내용(String)\n",
    "    - 제목, 내용\n",
    "    - 최대 256kb(Message Attribute 포함)\n",
    "    - 크기가 큰 컨텐츠의 경우 S3에 저장 후 버킷/키 정보만을 저장하는 형식으로 전달 가능\n",
    "    - Raw Message Delivery : SNS 메세지 포멧을 따르지 않고 전달받은 메세지를 그대로 전달\n",
    "        - 주로 S3 Logging, SQS 등 메세지를 파싱하지 않고 있는 그대로 처리해야 할 경우에 활용\n",
    "- Message Attribute : Key-Value 형식의 메타데이터로 바디에 포함되지 않는 추가적인 데이터\n",
    "    - 주로 분류, 필터링, 바디를 처리하기 위한 컨텍스트등에 활용\n",
    "        - 예 : Attribute에 영상 처리 알고리즘 명시, 분류를 위한 Tag 정의 등\n",
    "    - Raw Message Delivery 활성화시 최대 10개\n",
    "- TTL(모바일 전용)\n",
    "- 기타 : Timestamp, 토픽 ARN, 시그니처, 구독 해제를 위한 URL 등\n"
   ]
  },
  {
   "cell_type": "markdown",
   "metadata": {},
   "source": [
    "## SNS 메세지 필터링\n",
    "- 메세지 필터링을 통해 모든 메세지 대신 특정 메세지만 수신 가능\n",
    "- 각 Subscription Filter Policy 설정\n",
    "    - Filter Policy : 메세지의 바디 혹은 Attributes 단위로 원하는 메세지를 매칭\n",
    "    - 매칭시 메세지 발송 / 불일치시 메세지를 전달하지 않음\n",
    "- 필터링 가능 대상 : Message Body, Message Attributes\n",
    "    - 예시 : 구매타입='Express' and (구매 나라가 미국 or 유럽) and (가격이 20불 이상)"
   ]
  },
  {
   "cell_type": "markdown",
   "metadata": {},
   "source": [
    "## SNS 보안\n",
    "- Access Policy : 어떤 주체가 SNS에 접근하여 메세지를 보내거나 구독할 수 있는 리소스 기반 정책\n",
    "    - 주체에게 권한이 없더라도 권한 부여 가능\n",
    "    - 예 : IAM 사용자에 아무 권한이 없더라도 Access 정책에 권한이 명시되어 있으면 SNS로 퍼블리시 가능\n",
    "- 암호화\n",
    "    - KMS를 활용하여 Server Side Encryption 구현\n",
    "    - 바디만 암호화(메타데이터, 타임스탬프 등은 암호화 처리 하지 않음)"
   ]
  },
  {
   "cell_type": "markdown",
   "metadata": {},
   "source": [
    "## 모니터링\n",
    "- 클라우드트레일로 API 로깅 가능\n",
    "- 클라우드워치 기본 지표로 다양한 Metric 제공"
   ]
  },
  {
   "cell_type": "markdown",
   "metadata": {},
   "source": [
    "## 기타 기능\n",
    "- Amazon SNS Data Protection : SNS의 메세지 중 민감한 정보를 감지하거나 검열해주는 서비스\n",
    "    - Data Protection Policy를 기반으로 필터링\n",
    "    - Inbound Message / Outbound Message 모두 확인\n",
    " - 메세지 순서 보장 및 중복 제거 (FIFO)\n",
    " - 메세지 보관 및 리플레이 기능 (FIFO)"
   ]
  },
  {
   "cell_type": "markdown",
   "metadata": {},
   "source": [
    "## 데모\n",
    "1. 주제 생성\n",
    "    - 표준 모드 선택\n",
    "2. 구독 생성\n",
    "    - 주제 ARN : 방금 만든 주제\n",
    "    - 프로토콜 : 이메일\n",
    "    - 엔드포인트 : 본인 이메일\n",
    "3. 주제에 메세지 게시\n",
    "    - 메세지 본문 입력, 메세지 게시 (이메일 수신 확인)\n",
    "4. 구독 생성 (제이슨)\n",
    "    - 프로토콜 : 이메일 제이슨\n",
    "5. 주제에 메세지 게시, 이메일 수신 확인 (제이슨 형태로 오는 것을 확인)\n",
    "6. 리소스 정리 : 구독 삭제, 주제 삭제\n"
   ]
  }
 ],
 "metadata": {
  "language_info": {
   "name": "python"
  }
 },
 "nbformat": 4,
 "nbformat_minor": 2
}
