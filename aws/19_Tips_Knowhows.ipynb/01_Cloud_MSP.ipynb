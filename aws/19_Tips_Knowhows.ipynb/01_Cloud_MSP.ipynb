{
 "cells": [
  {
   "cell_type": "markdown",
   "id": "15733770",
   "metadata": {},
   "source": [
    "# Cloud MSP(Managed Service Provide)\n",
    "- 클라우드 인프라 관리 서비스 제공 업체\n",
    "- 주요 역할\n",
    "    - 컨설팅\n",
    "        - 아키텍처 설계 / 업데이트 / Best Practice 지원 등\n",
    "    - 마이그레이션 지원\n",
    "    - 운영 관리 / 티켓 처리\n",
    "    - 빌링 관련 지원\n",
    "    - 교육 지원\n",
    "    - POC 지원\n",
    "    - 기타 클라우드 운영, 관리에 필요한 모든 서비스를 제공\n",
    "- AWS 사용 계획 -> 도입 -> 운영 -> 업데이트 과정을 같이 수행, 성장"
   ]
  },
  {
   "cell_type": "markdown",
   "id": "42110c2f",
   "metadata": {},
   "source": [
    "## MSP\n",
    "- 몇몇 지원 사업의 경우 MSP를 필수로 끼고 지원하는 경우가 있음\n",
    "- MSP 별로 집중 분야가 따로 있음\n",
    "- 기타 여러가지 혜택\n",
    "    - 파트너사 행사, 이벤트 지원\n",
    "- 규모의 경제\n",
    "    - MSP 에서 고객사들을 모두 묶어서 통합 결제 = 단위당 가격이 낮아짐"
   ]
  },
  {
   "cell_type": "markdown",
   "id": "e392dac2",
   "metadata": {},
   "source": [
    "## AWS의 MSP 평가 관리\n",
    "- AWS에서 직접 MSP의 퀄리티를 평가, 관리\n",
    "- 주기적인 감사 및 평가(feat.외부기관)(매년+3년마다 Full Audit)\n",
    "- 주요 지표\n",
    "    - 세일즈, 프레젠테이션 능력\n",
    "    - 고객 성장\n",
    "    - 기업 건전성 및 영속성\n",
    "    - 내부 보안, AWS 관련 보안\n",
    "    - AWS 기술에 대한 이해\n",
    "    - 기타 파트너 수행 능력"
   ]
  },
  {
   "cell_type": "markdown",
   "id": "bfb5da3c",
   "metadata": {},
   "source": [
    "## 사용 사례\n",
    "- RI, Savings Plan 추천\n",
    "- RI 매입\n",
    "- 신규 서비스 아키텍처 설계 문의\n",
    "- DevOps 파이프라인 구축 컨설팅\n",
    "- 비용 절감을 위한 아키텍처 수정\n",
    "- 티켓 지원\n",
    "    - 문의 사항 기술 지원, 답변\n",
    "- 마이그레이션 과정 지원 요청\n",
    "- POC(신규 서비스 도입 등)\n",
    "- 비용 처리"
   ]
  },
  {
   "cell_type": "markdown",
   "id": "edf450e3",
   "metadata": {},
   "source": [
    "## MSP의 단점\n",
    "- 추가 비용 발생 (일정 퍼센테이지)\n",
    "- 경우에 따라 빌링 서비스 이용 불가(예: Cost Explorer)\n",
    "    - 자체적인 빌링 시스템을 갖춘 MSP도 존재\n",
    "- 경우에 따라 Organization, SCP 이용 불가\n",
    "    - Payer 계정으로 묶어 사용은 가능한 경우도 있지만 SCP 사용 불가\n",
    "- 일정 단계 이상의 서포트 티어 요구 있을 수 있음"
   ]
  }
 ],
 "metadata": {
  "language_info": {
   "name": "python"
  }
 },
 "nbformat": 4,
 "nbformat_minor": 5
}
