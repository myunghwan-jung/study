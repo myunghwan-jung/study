{
 "cells": [
  {
   "cell_type": "markdown",
   "metadata": {},
   "source": [
    "# 보안 그룹\n",
    "- 보안 그룹은 인스턴스에 대한 인바운드 및 아웃바운드 트래픽을 제어하는 가상 방화벽 역할을 합니다.\n",
    "- 인스턴스 뿐 아니라 RDS 등 다른 리소스에도 필요\n",
    "- Network Access Control List(NACL)과 함께 방화벽의 역할을 하는 서비스\n",
    "- Port 허용\n",
    "    - 기본적으로 모든 포트는 비활성화\n",
    "    - 선택적으로 트래픽이 지나갈 수 있는 Port 와 Source를 설정 가능\n",
    "    - Deny는 불가능 : NACL로 가능\n",
    "- 인스턴스 단위 (정확히는 ENI 단위)\n",
    "    - 하나의 인스턴스에 하나 이상의 보안그룹 설정 가능\n",
    "        - 설정된 인스턴스는 모든 보안그룹의 룰을 적용 받음\n",
    "    - NACL의 경우 서브넷 단위\n",
    "- 기본적으로 VPC안에서 생성하고 관리\n",
    "    - 단, VPC간 보안그룹 공유 기능으로 여러 VPC에서 사용 가능(제약 있음)"
   ]
  },
  {
   "cell_type": "markdown",
   "metadata": {},
   "source": [
    "## Stateful\n",
    "- 보안 그룹은 Stateful\n",
    "    - Inbound로 들어온 트래픽이 별 다른 Outbound 설정 없이 나갈 수 있음\n",
    "- NACL은 Stateless"
   ]
  },
  {
   "cell_type": "markdown",
   "metadata": {},
   "source": [
    "## 보안 그룹의 Source\n",
    "- IP Range(CIDR)\n",
    "- 접두사 목록\n",
    "- 다른 보안그룹 (보안그룹 참조)"
   ]
  },
  {
   "cell_type": "markdown",
   "metadata": {},
   "source": [
    "### 접두사 목록\n",
    "- 하나 이상의 CIDR 블록의 집합\n",
    "- 보안 그룹 혹은 Route Table에서 많은 대상을 참조하기 위해 사용\n",
    "- 두 가지 종류\n",
    "    - 고객 관리형 : 직접 IP 주소를 생성/수정/삭제할 수 있으며 다른 계정과 공유 가능\n",
    "    - AWS 관리형 : AWS의 서비스들을 위한 IP목록. 수정, 삭제, 업데이트 불가능\n",
    "        - DynamoDB, S3, CloudFront\n",
    "- IPv4, IPv6 둘 다 사용 가능. 단 한 접두사 목록에 두 가지 타입을 동시에 사용하는 것은 불가능\n",
    "- 생성 시점에 최대 엔트리 숫자를 지정(이후 변경 가능)"
   ]
  },
  {
   "cell_type": "markdown",
   "metadata": {},
   "source": [
    "### 보안그룹 참조\n",
    "- 특정 보안그룹을 뚫고 들어온 트래픽은 나도 허용할게!\n",
    "    - 대상 보안그룹 내부에 속한 리소스들의 IP 주소가 바뀌어도 상관이 없음"
   ]
  },
  {
   "cell_type": "markdown",
   "metadata": {},
   "source": [
    "### DEMO\n",
    "1. ALB, AutoScale, Instance 2개로 이루어진 아키텍쳐 구축\n",
    "2. 개별 인스턴스에 대한 유저의 접근을 막고, 오직 ALB를 통해서만 접근할 수 있도록 만들자\n",
    "3. 로드 밸런서의 보안 그룹을 만들고, 그 보안그룹을 참조하는 보안그룹을 인스턴스 클러스터에 적용\n",
    "4. 리소스 정리!! ALB, Autoscale, Instance"
   ]
  }
 ],
 "metadata": {
  "language_info": {
   "name": "python"
  }
 },
 "nbformat": 4,
 "nbformat_minor": 2
}
