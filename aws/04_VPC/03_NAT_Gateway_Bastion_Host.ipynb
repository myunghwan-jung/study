{
 "cells": [
  {
   "cell_type": "markdown",
   "metadata": {},
   "source": [
    "# NAT Gateway, Bastion Host"
   ]
  },
  {
   "cell_type": "markdown",
   "metadata": {},
   "source": [
    "## NAT Gateway\n",
    "- NAT Gateway는 Amazon Virtual Private Cloud의 프라이빗 서브넷에 있는 인스턴스에서 인터넷에 쉽게 연결할 수 있도록 지원하는 가용성이 높은 AWS 관리형 서비스입니다.\n",
    "- NAT Gateway / NAT Instance\n",
    "    - 프라이빗 서브넷의 리소스가 외부의 인터넷과 통신하기 위한 통로\n",
    "    - NAT Instance는 단일 EC2 Instance / NAT Gateway는 AWS에서 제공하는 서비스\n",
    "        - NAT Gateway는 고가용성이 확보된 관리형 서비스 \n",
    "        - 따라서 고가용성 확보를 위해 AutoScaling을 설정하는 등의 노력이 필요 없다.\n",
    "    - NAT Gateway / Instance는 모두 서브넷 단위\n",
    "        - Public Subnet에 위치해야 함\n",
    "        - 고가용성 확보를 위해서는 두 개 이상의 가용영역(서브넷)필요\n",
    "    - 프로비전만 해두어도 비용 발생, 트래픽 처리량에 따라 추가 비용 발생"
   ]
  },
  {
   "cell_type": "markdown",
   "metadata": {},
   "source": [
    "## Bastion Host\n",
    "- 외부에서 사설 네트워크에 접속할 수 있도록 경로를 확보해주는 서버\n",
    "- 프라이빗 서브넷 안의 리소스에 접근하기 위한 EC2 인스턴스\n",
    "- 퍼블릭 서브넷에 위치해야 함"
   ]
  }
 ],
 "metadata": {
  "language_info": {
   "name": "python"
  }
 },
 "nbformat": 4,
 "nbformat_minor": 2
}
