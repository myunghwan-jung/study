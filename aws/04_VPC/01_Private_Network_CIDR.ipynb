{
 "cells": [
  {
   "cell_type": "markdown",
   "metadata": {},
   "source": [
    "# 사설망과 CIDR"
   ]
  },
  {
   "cell_type": "markdown",
   "metadata": {},
   "source": [
    "## 사설망\n",
    "- 한정된 IP주소를 최대한 활용하기 위해 IP주소를 분할하고자 만든 개념\n",
    "    - IPv4 기준으로 최대 개수는 약 43억개\n",
    "- 사설망\n",
    "    - 사설망 내부에는 외부 인터넷 망으로 통신이 불가능한 사설 IP로 구성\n",
    "    - 외부로 통실할 때는 통신 가능한 공인 IP로 나누어 사용\n",
    "    - 보통 하나의 망에는 사설 IP를 부여받은 기기들과 NAT 기능을 갖춘 Gateway로 구성\n",
    "- 참고 : IPv6는 v4와 비교도 안될 정도로 많음 : 사설망 필요 없음"
   ]
  },
  {
   "cell_type": "markdown",
   "metadata": {},
   "source": [
    "## NAT(Network Address Translation)\n",
    "- 사설 IP가 공용 IP로 통신할 수 있도록 주소를 변환해주는 방법\n",
    "    - Dynamic NAT : 1개의 사설 IP를 가용 가능한 공인 IP로 연결\n",
    "        - 공인 IP 그룹(NAT Pool)에서 현재 사용 가능한 IP를 가져와서 연결\n",
    "    - Static NAT : 하나의 사설 IP를 고정된 하나의 공인 IP로 연결 (사설 IP 개수 만큼 공용 IP가 필요)\n",
    "        - AWS Internet Gateway가 사용하는 방식\n",
    "    - PAT(Port Address Translation) : 많은 사설 IP를 하나의 공인 IP로 연결\n",
    "        - NAT Gateway / NAT Instance가 사용하는 방식"
   ]
  },
  {
   "cell_type": "markdown",
   "metadata": {},
   "source": [
    "### 사설 IP를 구분하는 법 - 약속!\n",
    "- Class A // 이름 : 24-bit block // 대역 : 10.0.0.0 ~ 10.255.255.255 // 서브넷 마스크 : 255.0.0.0\n",
    "- Class B // 이름 : 20-bit block // 대역 : 172.16.0.0 ~ 172.31.255.255 // 서브넷 마스크 : 255.240.0.0\n",
    "- Class C // 이름 : 16-bit block // 대역 : 192.168.0.0 ~ 192.168.255.255 // 서브넷 마스크 : 255.255.0.0\n",
    "    - 각 대역에 속하는 IP들은 사설망 IP로 쓰자고 약속해둠"
   ]
  },
  {
   "cell_type": "markdown",
   "metadata": {},
   "source": [
    "### Classless Inter Domain Routing(CIDR)\n",
    "- CIDR\n",
    "    - IP는 주소의 영역을 여러 네트워크 영역으로 나누기 위해 IP를 묶는 방식\n",
    "    - 여러 개의 사설망을 구축하기 위해 망을 나누는 방법\n",
    "- CIDR Notation\n",
    "    - IP주소의 집합\n",
    "    - 네트워크 주소와 호스트 주소로 구성\n",
    "    - 각 호스트 주소 숫자 만큼의 아이피를 가진 네트워크 망 형성 가능\n",
    "    - A.B.C.D/E 형식\n",
    "        - 예 : 10.0.1.0/24 , 72.16.0.0/12\n",
    "        - ABCD : 네트워크 주소 + 호스트 주소 표시\n",
    "        - E : 네트워크 주소가 몇 bit인지 표시"
   ]
  },
  {
   "cell_type": "markdown",
   "metadata": {},
   "source": [
    "## 서브넷\n",
    "- 네트워크 안의 네트워크\n",
    "- 큰 네트워크를 잘게 쪼갠 단위\n",
    "- 일정 IP주소의 점위를 보유\n",
    "    - 큰 네트워크에 부여된 IP 범위를 조금씩 잘라 작은 단위로 나눈 후 각 서브넷에 할당"
   ]
  }
 ],
 "metadata": {
  "language_info": {
   "name": "python"
  }
 },
 "nbformat": 4,
 "nbformat_minor": 2
}
