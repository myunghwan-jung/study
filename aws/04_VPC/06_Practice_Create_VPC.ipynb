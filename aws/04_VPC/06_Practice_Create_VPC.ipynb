{
 "cells": [
  {
   "cell_type": "markdown",
   "metadata": {},
   "source": [
    "# VPC 생성 실습\n",
    "- VPC 관련 몇 가지 알아둘 점\n",
    "    - 커스텀 VPC 생성 시 만들어지는 리소스 : 라우팅 테이블, 기본 NACL, 기본 보안그룹\n",
    "        - 서브넷 생성 시 모두 기본 라우팅 테이블로 자동 연동\n",
    "    - VPC에는 단 하나의 Internet Gateway만 생성 가능\n",
    "        - Internet Gateway 생성 후 직접 VPC에 연동 필요\n",
    "        - Internet Gateway는 자체적으로 고가용성/장애내구성을 확보\n",
    "    - 보안 그룹은 VPC 단위\n",
    "    - 서브넷은 가용영역 단위(1서브넷 : 1가용영역)\n",
    "    - 가장 작은 서브넷 단위는 /28(11개 IP = 2^4-5)"
   ]
  },
  {
   "cell_type": "markdown",
   "metadata": {},
   "source": [
    "## 실습 순서\n",
    "- 직접 커스텀 VPC 생성 (10.0.0.0/16)\n",
    "- 서브넷 3개 생성 : Public, Web, DB\n",
    "- 각 서브넷에 각각 Routing Table 연동\n",
    "- Public 서브넷에 인터넷 경로 구성 : Internet Gateway \n",
    "- 퍼블릭 서브넷에 인스턴스 프로비전\n",
    "- 프라이빗 서브넷에 인스턴스 프로비전\n",
    "    - Bastion Host 사용\n",
    "    - 해당 인스턴스에 웹 서버 설치\n",
    "        - NAT Gateway Setup\n",
    "    - Curl로 조회 테스트\n",
    "- DB Subnet에 DB 설정 후 퍼블릭 인스턴스에서 접근"
   ]
  },
  {
   "cell_type": "markdown",
   "metadata": {},
   "source": [
    "## VPC 직접 구성하기\n",
    "- 생성 방법은 두 가지\n",
    "    - VPC만 생성\n",
    "    - VPC와 다른 리소스 같이 생성 (쉽다!)\n",
    "        - 서브넷, 라우팅테이블, 네트워크 연결 등이 쉽게 생성됨\n",
    "    - 여기서는 VPC만 생성하고 이후 리소스 수동으로 프로비전"
   ]
  },
  {
   "cell_type": "markdown",
   "metadata": {},
   "source": [
    "# 실습 시작!\n",
    "- 리전은 도쿄\n",
    "1. VPC 생성\n",
    "    - 생성할 리소스 VPC만 선택\n",
    "    - CIDR블록 수동으로 입력 (10.0.0.0/16)\n",
    "    - 테넌시 기본값\n",
    "        - 테넌시란? 클라우드 리소스의 분리 및 공유 방식에 대한 개념. 독립적인 리소스를 사용할 것인지, 공유된 리소스를 사용할 것인지.\n",
    "    - 기본적으로 생성되는 리소스 : 라우팅 테이블, 보안 그룹(구분을 위해 이름을 붙여주자), NACL(얘도 이름 붙여주자)\n",
    "2. 서브넷 생성(총 3개)\n",
    "    - 서브넷 CIDR은 10.0.0.0/24, 10.0.1.0/24, 10.0.2.0/24"
   ]
  }
 ],
 "metadata": {
  "language_info": {
   "name": "python"
  }
 },
 "nbformat": 4,
 "nbformat_minor": 2
}
