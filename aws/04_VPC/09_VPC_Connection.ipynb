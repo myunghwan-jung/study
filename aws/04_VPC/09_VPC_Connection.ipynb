{
 "cells": [
  {
   "cell_type": "markdown",
   "metadata": {},
   "source": [
    "# VPC Connection\n",
    "## VPC Peering\n",
    "    - VPC 피어링 연결은 프라이빗 IPv4 주소 또는 IPv6 주소를 사용하여 두 VPC간에 트래픽을 라우팅할 수 있도록 하기 위한 두 VPC 사이의 네트워킹 연결입니다. 동일한 네트워크에 속하는 경우와 같이 VPC의 인스턴스가 서로 통신할 수 있습니다.\n",
    "    - 두 개의 다른 VPC를 연결하여 VPC 안의 리소스끼리 통신이 가능하도록 설정하는 것\n",
    "    - 다른 리전, 다른 계정의 VPC 끼리 연결 가능\n",
    "    - CIDR Range의 중첩 불가능\n",
    "    - Transitive Peering 불가능\n",
    "        - 통신을 위해서는 직접 연결되어 있어야 함\n",
    "        - 혹은 Transit Gateway 사용\n",
    "    - Peering 설정 이후 라우팅 테이블을 업데이트 해서 경로 설정 필요"
   ]
  },
  {
   "cell_type": "markdown",
   "metadata": {},
   "source": [
    "## AWS Virtual Private Network(VPN)\n",
    "    - AWS Virtual Private Network 솔루션은 온프레미스 네트워크, 원격 사무실, 클라이언트 디바이스 및 AWS 글로벌 네트워크 사이에서 보안 연결을 설정합니다.\n",
    "    - Site-to-Site VPN\n",
    "        - 데이터센터와 AWS를 연결하는 하드웨어 to 하드웨어 연결 (1:1 연결)\n",
    "        - IPSec 프로토콜 사용\n",
    "    - Client VPN\n",
    "        - AWS와 온프레미스 or AWS VPN 장비와 사용자의 PC를 연결하는 하드웨어 to 소프트웨어 연결 (1:다수)\n",
    "        - PC가 네트워크 내부에 있는 것 처럼 작동\n",
    "        - TLS 프로토콜 사용"
   ]
  },
  {
   "cell_type": "markdown",
   "metadata": {},
   "source": [
    "## AWS Direct Connect\n",
    "    - AWS Direct Connect 클라우드 서비스는 AWS 리소스에 대한 최단 경로입니다.\n",
    "    - AWS와 온프레미스간에 DX Location을 경유한 전용선을 통해 연결\n",
    "    - 외부 인터넷과 분리되어 있음\n",
    "        - 외부에서 접근이 불가능하기 때문에 높은 보안\n",
    "        - 인터넷 환경에 상관 없이 일정한 속도 보장\n",
    "    - Direct Connect Gateway : 여러 리전의 VPC를 한번에 Direct Connect로 연결할 수 있는 서비스\n",
    "    - 성능이 좋고 빠른 대신 비싸고 설치가 오래 걸림"
   ]
  },
  {
   "cell_type": "markdown",
   "metadata": {},
   "source": [
    "## AWS Transit Gateway\n",
    "- 중앙 허브를 통해 VPC들과 온프레미스 네트워크를 연결하는 서비스\n",
    "- 복잡한 Peering 관계를 제거하여 간소화\n",
    "- 리전 간에는 서로 다른 Transit Gateway 끼리 연결"
   ]
  },
  {
   "cell_type": "markdown",
   "metadata": {},
   "source": [
    "### VPC Peering Demo\n",
    "- VPC1, VPC2 연결\n",
    "    - VPC Peering 연결\n",
    "    - 라우팅 테이블에 연결 추가\n",
    "- VPC1의 EC2에서 VPC2의 EC2에 Private IP로 연결"
   ]
  },
  {
   "cell_type": "markdown",
   "metadata": {},
   "source": [
    "### 실습 순서\n",
    "1. 도쿄 리전\n",
    "2. VPC 2개 만들자\n",
    "    - CIDR 10.0.0.0/16, 10.1.0.0/16\n",
    "    - VPC Endpoint 필요 없음\n",
    "    - 나머지 그대로\n",
    "3. VPC Peering 연결 생성\n",
    "    - VPC 1번이 요청\n",
    "    - VPC 2번이 수락자\n",
    "    - 작업, 요청 수락\n",
    "    - DNS 설졍 편집 : 요청자, 수락자 둘 다 체크\n",
    "4. 라우팅 테이블 수정\n",
    "    - 퍼블릭 서브넷에 있는 라우팅 테이블만 수정\n",
    "    - vpc1의 라우팅 테이블에서 10.1.0.0/16을 VPC Peering으로 연결\n",
    "    - vpc2의 라우팅 테이블에서 10.0.0.0/16을 VPC Peering으로 연결\n",
    "5. 인스턴스 생성\n",
    "    - vpc, public subnet, public IP activate, default SG\n",
    "6. SG 수정\n",
    "    - 인바운드 규칙 모든 트래픽, 소스 허용으로\n",
    "7. VPC2의 인스턴스에 웹서버 설치\n",
    "    - VPC1의 인스턴스에서 curl VPC2의PrivateIP\n",
    "    - 반대도 해보자\n",
    "8. 리소스 정리\n",
    "    - 인스턴스, VPC 피어링 삭제, VPC 삭제"
   ]
  }
 ],
 "metadata": {
  "language_info": {
   "name": "python"
  }
 },
 "nbformat": 4,
 "nbformat_minor": 2
}
