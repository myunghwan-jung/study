{
 "cells": [
  {
   "cell_type": "markdown",
   "metadata": {},
   "source": [
    "# VPC 설계\n",
    "## VPC 설계시 고려할 점\n",
    "    - VPC간의 IP Range\n",
    "        - VPC간 Peering을 위해서는 서로 IP Range가 겹치지 않아야 함\n",
    "    - 고가용성을 위한 서브넷 및 어플리케이션 티어 구분\n",
    "        - 고가용성\n",
    "            - 적어도 3개 이상의 가용영역에 분산 필요 + 추가 가용 영역\n",
    "        - 어플리케이션 티어\n",
    "            - 보통 3 Tier 아키텍처가 기본 + 추가로 예비 티어\n",
    "    - 서브넷 단위는 /20 or /24\n",
    "        - /20 : 많은 IP\n",
    "        - /24 : 알아보기 쉬움"
   ]
  }
 ],
 "metadata": {
  "language_info": {
   "name": "python"
  }
 },
 "nbformat": 4,
 "nbformat_minor": 2
}
