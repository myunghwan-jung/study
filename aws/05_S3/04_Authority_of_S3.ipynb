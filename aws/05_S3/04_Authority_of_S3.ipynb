{
 "cells": [
  {
   "cell_type": "markdown",
   "metadata": {},
   "source": [
    "# S3의 권한 관리 방법\n",
    "- IAM 정책 : 자격증명(IAM사용자, 그룹, 역할) 등에 부여하는 정책으로 S3에 대한 권한 부여/거부\n",
    "- 버킷 정책 : 버킷 자체에 특정 주체가 행사할 수 있는 권한 부여/거부\n",
    "    - 주체 : IAM 사용자, 역할 등\n",
    "- ACL(Access Control List) : 잘 사용되지 않는 추세"
   ]
  },
  {
   "cell_type": "markdown",
   "metadata": {},
   "source": [
    "## S3의 계층 구조\n",
    "- AWS 콘솔에서는 S3의 디렉토리(폴더)를 생성 가능하고 확인 가능\n",
    "- 근데 사실 S3 내부적으로는 계층 구조가 존재하지 않음\n",
    "    - 단지 키 이름에 포함된 / 로 계층 구조를 표현\n",
    "    - s3: //mybucket/world/southkorea/seoul/guro/map.json\n",
    "    - mybucket은 버켓명, world/~가 키 값"
   ]
  },
  {
   "cell_type": "markdown",
   "metadata": {},
   "source": [
    "## S3 버킷 정책\n",
    "- 버킷 단위로 부여되는 리소스 기반 정책\n",
    "- 해당 버킷의 데이터에 \"언제 어디서 누가 어떻게 무엇을\" 할 수 있는지 정의 가능\n",
    "    - 리소스의 계층 구조에 따라 권한 조절 가능\n",
    "    - 예 : resource : \"arn:aws:s3:::my-bucket/images/*\" -> my-bucket의 images/로 시작하는 모든 객체에 대해..\n",
    "    - 다른 계정의 엔티티(리소스, IAM 사용자, 역할 등)에 대해 권한 설정 가능\n",
    "    - 익명 사용자에 대한 권한 설정 가능 : S3에 익명으로 접근 가능하다는 뜻\n",
    "- 기본적으로 모든 bucket은 private = 접근 불가능"
   ]
  },
  {
   "cell_type": "markdown",
   "metadata": {},
   "source": [
    "## S3 버킷 관리 방법의 선택\n",
    "- IAM 정책\n",
    "    - 같은 계정 내 IAM 엔티티의 S3 권한을 관리할 때\n",
    "    - S3 이외의 다른 AWS 서비스와 같이 권한을 관리할 때\n",
    "- 버킷 정책\n",
    "    - 익명 사용자 혹은 다른 계정의 엔티티의 S3 이용 권한을 관리할 때\n",
    "    - S3만의 권한을 관리할 때"
   ]
  },
  {
   "cell_type": "markdown",
   "metadata": {},
   "source": [
    "## S3 Access Control List(ACL)\n",
    "- 버킷 홋은 객체 단위로 읽기, 쓰기의 권한을 부여\n",
    "- S3에서 설정을 통해 ACL를 활성화 시킨 후에 적용 가능\n",
    "- 파일 업로드 시 설정 가능\n",
    "- 간단하고 단순한 권한 관리만 가능\n",
    "- 점점 사용하지 않는 추세\n",
    "    - 대부분의 경우 버킷 정책 / IAM 정책으로 대체 가능"
   ]
  },
  {
   "cell_type": "markdown",
   "metadata": {},
   "source": [
    "### Demo - S3 권한 부여\n",
    "- IAM 정책/버킷 정책으로 S3 버킷에 대한 권한 부여\n",
    "    - IAM 사용자에 S3 접근을 허용하는 권한 부여 (IAM 정책)\n",
    "    - IAM 사용자에 대한 접근을 허가하는 버킷 정책을 만들어 S3에 붙여 접근 허용 (버킷 정책)"
   ]
  },
  {
   "cell_type": "markdown",
   "metadata": {},
   "source": [
    "### Demo - 나만의 S3 홈 디렉토리 만들기\n",
    "- IAM 사용자를 생성해서 해당 사용자만 접근 가능한 S3 버킷 디렉토리 만들기"
   ]
  },
  {
   "cell_type": "markdown",
   "metadata": {},
   "source": [
    "### 실습 순서 - S3 권한 부여\n",
    "1. IAM 사용자 그룹 만들기\n",
    "    - 기본 생성\n",
    "    - 권한 부여 : 인라인 정책 생성\n",
    "        - 서비스 선택 : S3\n",
    "        - 나열 : ListAllMyBuckets\n",
    "        - 읽기 : GetBucketLocation\n",
    "    - 리소스 : 모두\n",
    "    - 사용자 생성\n",
    "        - 사용자 이름 : Alice, 콘솔 액세스 권한 부여(IAM), 사용자 지정 암호 입력, 다음 암호 생성 체크 해제\n",
    "        - 사용자 이름 : Bob, 나머지 동일\n",
    "2. S3 버킷 만들기\n",
    "    - 이름에 계정 아이디 넣기\n",
    "    - 버킷 리젼 확인 (서울로 변경)\n",
    "3. Alice로 로그인해서 S3에 접속\n",
    "    - 권한 없어서 아무것도 안됨\n",
    "4. 사용자 그룹 권한 수정\n",
    "    - s3FullAccess 추가 (업로드 삭제 해보자)\n",
    "\n",
    "### 실습 순서 - 나만의 홈 디렉토리 만들기\n",
    "1. 버킷 생성\n",
    "    - 퍼블릭 액세스 차단 해제, 경고 문구 체크\n",
    "2. 버킷 권한 수정\n",
    "    - 버킷 정책 편집, 실습 스크립트 복붙 (버킷명을 실제 버킷명으로 변경)\n",
    "3. 버킷에 폴더 만들기\n",
    "    - home/alice , home/bob 만들기\n",
    "    - alice로 로그인해서 alice 디렉토리에 접근해보자 (bob 디렉토리에는 접근 가능할까? 불가능)\n",
    "4. 리소스 정리\n",
    "    - 버킷\n",
    "    "
   ]
  }
 ],
 "metadata": {
  "language_info": {
   "name": "python"
  }
 },
 "nbformat": 4,
 "nbformat_minor": 2
}
