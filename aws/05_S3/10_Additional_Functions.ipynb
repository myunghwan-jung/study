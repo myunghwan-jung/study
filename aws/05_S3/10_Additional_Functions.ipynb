{
 "cells": [
  {
   "cell_type": "markdown",
   "metadata": {},
   "source": [
    "# S3의 기타 기능"
   ]
  },
  {
   "cell_type": "markdown",
   "metadata": {},
   "source": [
    "## Amazon S3 액세스 로깅\n",
    "- 버킷을 정해 활동 로그를 다른 S3 버킷에 저장하는 기능\n",
    "    - 지정한 버킷에 로그 파일 저장\n",
    "    - 반드시 기록 대상 버킷과 로그 저장 버킷의 분리 필요 - 무한 파일 생성 방지\n",
    "- 보안 감사 및 분석 목적으로 활용"
   ]
  },
  {
   "cell_type": "markdown",
   "metadata": {},
   "source": [
    "## 이벤트 호출\n",
    "- 객체의 생성/삭제/변경 이벤트 발생 -> 다른 서비스 호출\n",
    "    - 예 : 파일 업로드시 람다를 호출해 파일 무결성 검사\n",
    "- SNS, SQS, Lambda 호출 가능"
   ]
  },
  {
   "cell_type": "markdown",
   "metadata": {},
   "source": [
    "## S3 복제\n",
    "- 지정 S3 버킷의 변경 내역을 다른 버킷으로 비동기 복제하는 기능\n",
    "    - 다른 리전, 다른 계정의 버킷으로도 복제 가능\n",
    "    - Delete Marker 복제 가능\n",
    "- Transfer Acceleration : CloudFront를 통해 다운르도를 최적화시키는 서비스\n",
    "- Requester Pay : 버킷의 소유자 대신 요청자가 요청 및 다운로드 비용을 부담하는 모드\n",
    "    - 주요 사용 사례 : 기업간 데이터 공유, 리서치 데이터 공유 등"
   ]
  }
 ],
 "metadata": {
  "language_info": {
   "name": "python"
  }
 },
 "nbformat": 4,
 "nbformat_minor": 2
}
