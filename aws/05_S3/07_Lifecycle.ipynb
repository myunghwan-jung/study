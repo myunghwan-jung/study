{
 "cells": [
  {
   "cell_type": "markdown",
   "metadata": {},
   "source": [
    "# S3 수명 주기\n",
    "- 일정 기간 이후 오브젝트의 상태를 변경 가능\n",
    "    - 전환 작업(Transition actions) : 오브젝트를 다른 스토리지 티어로 옮기기\n",
    "        - 예 : 특정 파일을 30일 후 아카이브로 보낸다\n",
    "        - 예 : 50일 후 객체를 IA로 보낸다\n",
    "    - 만료 작업(Expiration actions) : 오브젝트를 삭제\n",
    "- 수명 주기 설정 시 소급 적용\n",
    "    - 예 : 30일 이후 만료 작업을 설정했다면, 기존 버킷의 모든 30일 이상된 오브젝트에도 같이 적용\n",
    "- 필터 및 날짜 적용 가능\n",
    "    - 예 : 특정 경로에 있는 5mb이상 파일을 30일 뒤에 모두 아카이브한다\n",
    "    - 예 : 2024-05-30일부터 특정 디렉토리에 있는 이미지를 모두 삭제한다"
   ]
  },
  {
   "cell_type": "markdown",
   "metadata": {},
   "source": [
    "## 전환 작업\n",
    "- 일정 기간 이후 오브젝트의 클래스를 변경 가능\n",
    "    - Waterfall 모델 사용 : 스탠다드에서는 ia, glacier등 하위 티어로 이동 가능 // IA에서 스탠다드로 상위 티어 이동은 불가능\n",
    "- 제약 사항 있음\n",
    "    - 예 : 다른 클래스에서 스탠다드로 변경 불가능\n",
    "    - 128kb 미만 파일의 경우, Standard/IA 에서 Glacier Instant Retrieval로 이동 불가능\n"
   ]
  },
  {
   "cell_type": "markdown",
   "metadata": {},
   "source": [
    "## 만료 작업\n",
    "- 버저닝에 따라 다른 방식\n",
    "    - 버저닝이 없을 때 : async로 영구 삭제 (해당 객체가 즉시 삭제된 것 처럼 보이지만, 실제로는 버킷 안에서 삭제가 진행 중)\n",
    "    - 버저닝이 있을 때 : delete marker가 현재 version이 아니라면, marker 추가 후 현재 버전으로 격상"
   ]
  }
 ],
 "metadata": {
  "language_info": {
   "name": "python"
  }
 },
 "nbformat": 4,
 "nbformat_minor": 2
}
