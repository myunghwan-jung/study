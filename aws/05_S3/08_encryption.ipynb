{
 "cells": [
  {
   "cell_type": "markdown",
   "metadata": {},
   "source": [
    "# S3의 암호화"
   ]
  },
  {
   "cell_type": "markdown",
   "metadata": {},
   "source": [
    "## 객체 암호화\n",
    "- S3 데이터의 암호화는 3가지 단계로 구성\n",
    "    1. On Transit : SSL/TLS(HTTPs)\n",
    "    2. At Rest(Server Side)\n",
    "        - SSE-S3 : S3에서 알아서 암호화(디폴트)\n",
    "        - SSE-KMS : KMS 서비스를 이용해 암호화\n",
    "        - SSE-C : 클라이언트에서 제공한 암호화키를 통해 암호화\n",
    "        - DSSE-KMS : KMS를 활용해서 Dual Layer(2계층) 암호화를 적용하는 암호화\n",
    "    3. Client Side : 클라이언트가 직접 암호화\n",
    "- 기본적으로 활성화(SSE-S3)\n",
    "- 암호화시 데이터의 복제가 불가능한 경우 발생"
   ]
  },
  {
   "cell_type": "markdown",
   "metadata": {},
   "source": [
    "### SSE-S3\n",
    "- 클라이언트에게서 받은 데이터를 S3 자체의 관리 키를 통해 암호화, 이 키를 사용하여 다시 복호화 하여 클라이언트에게 데이터 전달\n",
    "- 따라서 클라이언트는 S3안에서 어떤 일이 일어나는지 알 수 없음"
   ]
  },
  {
   "cell_type": "markdown",
   "metadata": {},
   "source": [
    "### SSE-KMS\n",
    "- SSE-S3 방식과 비슷하나, AWS KMS서비스에서 받은 Encryption 키를 사용하여 암호화 및 복호화를 진행한다는 차이점이 있다.\n",
    "- KMS 키 권한을 관리할 수 있어 좀 더 세부적인 권한 컨트롤이 가능"
   ]
  },
  {
   "cell_type": "markdown",
   "metadata": {},
   "source": [
    "### SSE-Client\n",
    "- 클라이언트에서 S3에 업로드할 때, 데이터와 함께 클라이언트 키를 전송. S3는 이 키를 통해 암호화 한 후 스토리지에 저장 (이후 키 삭제)\n",
    "- 다운로드 시에 다시 클라이언트에서 키를 보내주고, 이 키를 통해 복호화"
   ]
  }
 ],
 "metadata": {
  "language_info": {
   "name": "python"
  }
 },
 "nbformat": 4,
 "nbformat_minor": 2
}
