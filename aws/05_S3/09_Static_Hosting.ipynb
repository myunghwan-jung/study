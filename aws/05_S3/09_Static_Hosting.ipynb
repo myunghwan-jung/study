{
 "cells": [
  {
   "cell_type": "markdown",
   "metadata": {},
   "source": [
    "# S3 정적 호스팅"
   ]
  },
  {
   "cell_type": "markdown",
   "metadata": {},
   "source": [
    "## Static VS Dynamic Contents\n",
    "- 정적 컨텐츠 (Static Contents)\n",
    "    - 서버에 저장된 파일이 모든 사용자에게 동일하게 전달되는 컨텐츠\n",
    "    - 매번 서버에 요청할 필요 없이 캐싱 가능\n",
    "    - HTML / Javascrpit 등으로 구성\n",
    "    - 예 : 이미지, 글, 뉴스 등\n",
    "- 동적 컨텐츠 (Dynamic Contents)\n",
    "    - 시간, 사용자, 입력 등에 따라 내용이 변경되는 컨텐츠\n",
    "    - 매번 서버에 요청하여 내용을 구성하고 전달받아야 함\n",
    "    - PHP, JSP, ASP.net 등으로 서버 처리\n",
    "    - 예 : 로그인이 필요한 내용, 게시판, 댓글 등"
   ]
  },
  {
   "cell_type": "markdown",
   "metadata": {},
   "source": [
    "## Amazon S3 Static Hosting\n",
    "- S3를 사용해서 정적 웹 컨텐츠를 호스팅하는 기능\n",
    "- 별도의 서버 없이 웹사이트 호스팅 가능\n",
    "- 사용 사례 : 대규모 접속이 예상되는 사전 예약 페이지, 홍보 페이지, 회사 웹사이트 등\n",
    "- 장점\n",
    "    - 고가용성/장애 내구성을 확보 (아키텍처에 대한 고민을 줄여줌)\n",
    "    - 서버리스\n",
    "        - 사용한 만큼만 비용을 지불\n",
    "        - 배포와 수정이 쉬움\n",
    "- 자체적으로 도메인 주소 변경, HTTPs 불가능\n",
    "    - 단, Route53 / CloudFront등과 연동하여 주소 변경 및 HTTPs 구현 가능\n",
    "    - 주의 : Route53 레코드로 Static Hosting을 연결하려면, 버킷명과 도메인명이 같아야함"
   ]
  },
  {
   "cell_type": "markdown",
   "metadata": {},
   "source": [
    "## 실습\n",
    "- S3 버킷의 정적 호스팅 기능 활성화하기\n",
    "- S3 버킷에 Static Contents 파일을 작성해서 업로드하기\n",
    "- S3 정적 호스팅 웹 주소를 사용해 웹사이트 동작 확인하기"
   ]
  },
  {
   "cell_type": "markdown",
   "metadata": {},
   "source": [
    "## 실습 순서\n",
    "1. S3 버킷 생성\n",
    "    - 퍼블릭 엑세스 차단 해제\n",
    "2. 버킷 권한 변경\n",
    "    - 버킷 정책 수정 : 실습 스크립트 복붙(버킷명 수정)\n",
    "3. 버킷 속성 변경\n",
    "    - 정적 웹 사이트 호스팅 활성화\n",
    "    - 인덱스 문서 : index.html\n",
    "4. 버킷 객체 업로드\n",
    "    - 실습 파일 업로드\n",
    "5. 버킷 속성 - 정적 웹사이트 엔드포인트로 접속\n",
    "    - index.html 파일 수정해서 다시 업로드해보자\n",
    "6. 리소스 정리 - 버킷 삭제\n"
   ]
  }
 ],
 "metadata": {
  "language_info": {
   "name": "python"
  }
 },
 "nbformat": 4,
 "nbformat_minor": 2
}
