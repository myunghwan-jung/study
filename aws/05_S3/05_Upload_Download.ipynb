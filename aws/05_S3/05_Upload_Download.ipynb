{
 "cells": [
  {
   "cell_type": "markdown",
   "metadata": {},
   "source": [
    "# S3의 업로드, 다운로드\n",
    "- S3의 업로드, 다운로드 방법\n",
    "    - AWS Web Console\n",
    "    - AWS SDK, AWS CLI (S3에 접근할 수 있는 IAM 사용자 필요)\n",
    "    - 일반 URL (버킷/파일이 공개되어 있을 경우, 다운로드만 가능)\n",
    "    - 미리 서명된 URL (Presigned URL)\n"
   ]
  },
  {
   "cell_type": "markdown",
   "metadata": {},
   "source": [
    "## 파일을 공유하는 방법\n",
    "- 영상 공유 서비스\n",
    "- 인증 정보 : IAM 유저, Access Key ID / Secret Access Key\n",
    "- 수동 파일 공유의 문제점\n",
    "    - IAM 유저의 개수 제한\n",
    "    - 관리가 어려움\n",
    "    - 만료 기간 설정이 어려움\n",
    "    - 유출 시 모두에게 다시 공유 필요\n",
    "    - 세세한 권한 조절 불가능"
   ]
  },
  {
   "cell_type": "markdown",
   "metadata": {},
   "source": [
    "## 미리 서명된 URL (Presigned URL)\n",
    "- S3의 파일을 안전하게 공유하고 싶을 때 사용\n",
    "- 생성자가 가진 권한으로 파일에 접근 가능한 임시 URL을 생성\n",
    "    - URL의 만료 기간 지정 가능\n",
    "    - Method(Get, Put 등) 설정 가능\n",
    "- URL의 권한은 생성자가 가진 권한 중 일부 혹은 전체를 사용\n",
    "    - 예 : 생성자가 Get 권한이 없다면 URL로 GET 불가능"
   ]
  },
  {
   "cell_type": "markdown",
   "metadata": {},
   "source": [
    "## Amazon S3 멀티파트 업로드\n",
    "- 하나의 파일을 여러 파트로 나누어서 업로드하는 방식\n",
    "- 장점\n",
    "    - 빠른 속도\n",
    "    - 파일 업로드의 컨트롤 보장 (예 : 중간부터 업로드하기)\n",
    "- 단점\n",
    "    - 업로드 로직이 단일 파트보다 조금 더 복잡\n",
    "    - 업로드에서 발생하는 파일들의 관리 포인트의 증가\n",
    "- AWS에서는 100mb 이상의 파일을 업로드 할 경우 멀티파트 업로드를 권장\n",
    "- 주의사항\n",
    "    - 멀티파트 업로드가 중지되거나(명시적 중지가 아닌 에러 등), 업로드 이후 합치지 않을 경우 업로드된 파트 파일은 S3에 잔류\n",
    "    - 비용 발생\n",
    "    - S3 Storage Lens등의 서비스로 현재 완료되지 않은 멀티파트 업로드 파일 확인 가능\n",
    "    - S3 생명주기 설정을 통해 일정 시간 이후 삭제 가능\n",
    "        - 예 : \"완료되지 않은 멀티파트 업로드의 경우 7일 후 삭제\""
   ]
  },
  {
   "cell_type": "markdown",
   "metadata": {},
   "source": [
    "### Demo - Upload/Download 실제 구현\n",
    "- 실제 백엔드/프론트엔드 기반으로 업로드, 다운로드 구현\n",
    "- AWS Serverless 서비스인 Lambda 기반 백엔드\n",
    "    - node.js 18이상 설치 필요\n",
    "    - aws cli 설치 필요 : aws 프로파일 설정 필요\n",
    "- react 기반 프론트엔드"
   ]
  },
  {
   "cell_type": "markdown",
   "metadata": {},
   "source": [
    "### 실습 순서\n",
    "1. IAM 사용자 생성\n",
    "    - 사용자 : admin의 보안 자격에서 액세스키 생성(기타)\n",
    "2. 로컬에서 readme 따라하자\n",
    "3. 프론트엔드 코드 중 .env의 react_app_api_path에 api url의 ~dev 까지를 복붙\n",
    "4. 프론트엔드의 readme 따라하자 : 웹 어플리케이션 실행\n",
    "5. 크롬 - 검사 - 네트워크에서 모니터링 시작\n",
    "6. 큰 파일을 업로드해보자. 멀티파트, 싱글파트로 업로드 하면서 모니터링\n",
    "7. 리소스 정리 : 액세스 키, cloudformation에서 스택 삭제"
   ]
  }
 ],
 "metadata": {
  "language_info": {
   "name": "python"
  }
 },
 "nbformat": 4,
 "nbformat_minor": 2
}
