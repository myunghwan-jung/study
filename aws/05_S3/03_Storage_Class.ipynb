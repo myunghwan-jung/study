{
 "cells": [
  {
   "cell_type": "markdown",
   "metadata": {},
   "source": [
    "# S3 스토리지 클래스\n",
    "- S3는 다양한 스토리지 클래스를 제공\n",
    "    - 클래스별로 저장의 목적, 예산에 따라 다른 저장 방법을 적용\n",
    "    - 총 9가지 클래스"
   ]
  },
  {
   "cell_type": "markdown",
   "metadata": {},
   "source": [
    "## S3 스탠다드\n",
    "- 99.99% 가용성\n",
    "- 99.9999999% 내구성\n",
    "- 최소 3개 이상의 가용영역에 분산 보관 - 복제 파일 3개를 분산 저장한다는 뜻\n",
    "- 최소 보관 기간 없음, 최소 보관 용량 없음\n",
    "- 요청 비용 $0.0045/1000 request (ap-northeast-2 기준)\n",
    "- 저장 비용 $0.025/GB (ap-northeast-2 기준) - 월 단위\n"
   ]
  },
  {
   "cell_type": "markdown",
   "metadata": {},
   "source": [
    "## S3 스탠다드 IA (Infrequently Accessed)\n",
    "- 자주 사용되지 않는 데이터를 저렴한 가격에 보관\n",
    "- 최소 3개 이상의 가용영역에 분산 보괸 = 높은 내구성\n",
    "- 최소 저장 용량 : 128kb (100kb를 저장해도 128kb로 취급한다는 뜻)\n",
    "- 최소 저장 기간 : 30일 (10일 저장해도 30일로 취급한다는 뜻)\n",
    "- 데이터 요청 비용 발생 : 데이터를 불러올 때마다 비용을 스탠다드보다 더 많이 지불(per GB)\n",
    "    - 요청비용 $0.01/1000 request (스탠다드는 0.0045/1000 request)\n",
    "- 사용 사례 : 자주 사용하지 않는 파일 중 중요한 파일\n",
    "- 저장 비용 : 0.0138/GB (스탠다드는 0.025/GB)"
   ]
  },
  {
   "cell_type": "markdown",
   "metadata": {},
   "source": [
    "## S3 One Zone-IA\n",
    "- 자주 사용되지 않고, 중요하지 않은 데이터를 저렴한 가격에 보관\n",
    "- 단 한 개의 가용 영역에만 보관 : 가용 영역 터지면 날아감\n",
    "- 최소 저장 용량 : 128kb\n",
    "- 최소 저장 기간 : 30일\n",
    "- 데이터 요청 비용 발생 : 데이터를 불러올 때마다 비용을 더 많이 지불\n",
    "- 사용 사례 : 자주 사용하지 않으며 쉽게 복구할 수 있는 파일 (예 : 오래된 썸네일)\n",
    "- 스탠다드 IA에 비해 싼 저장 비용"
   ]
  },
  {
   "cell_type": "markdown",
   "metadata": {},
   "source": [
    "## S3 Express One Zone\n",
    "- 매우 빠른 퍼포먼스를 위해서 하나의 가용영역에 위치한 특별한 저장소에 저장\n",
    "    - millisecond 단위의 응답속도 (약 10배 빠름)\n",
    "    - 스탠다드와 비교해 50% 저렴한 요청 비용\n",
    "- Amazon S3 Directory Bucket에 저장\n",
    "- 컴퓨팅 리소스와 스토리지 리소스를 같은 공간에 위치시켜 더 빠른 액세스 가능\n",
    "- 몇몇 리전만 사용 가능\n",
    "- 저장 비용 $0.16/GB 로 꽤나 비쌈\n",
    "- 사용 사례 : 머신러닝, 빅데이터"
   ]
  },
  {
   "cell_type": "markdown",
   "metadata": {},
   "source": [
    "## S3 Glacier Instant Retrieval\n",
    "- 아카이브용 저장소 (Glacier이 아카이브용이라는 뜻 - 장기 보관용으로 저렴하지만 느리다)\n",
    "- 최소 저장 용량 : 128kb\n",
    "- 최소 저장 기간 : 90일\n",
    "- 바로 액세스 가능\n",
    "- 사용 사례 : 의료 이미지, 뉴스 아카이브 등\n",
    "- 저장 비용은 스탠다드의 약 1/5"
   ]
  },
  {
   "cell_type": "markdown",
   "metadata": {},
   "source": [
    "## S3 Glacier Flexible Retrieval\n",
    "- 아카이브용 저장소\n",
    "- 최소 저장 용량 : 40kb\n",
    "- 최소 저장 기간 : 90일\n",
    "- 액세스에 분~시간 단위가 필요\n",
    "- 사용 사례 : 장애 복구용 데이터, 백업 데이터 등\n",
    "- 저장 비용은 Instant Retrieval 보다도 쌈"
   ]
  },
  {
   "cell_type": "markdown",
   "metadata": {},
   "source": [
    "## S3 Glacier Deep Archive\n",
    "- 아카이브용 저장소\n",
    "- 최소 저장 용량 : 40kb\n",
    "- 최소 저장 기간 : 90일\n",
    "- 데이터를 가져오는데 12~48시간 소용\n",
    "- 사용 사례 : 오래된 로그 저장, 사용할 일이 거의 없지만 법적으로 보관해야 하는 서류 등\n",
    "- 저장 비용은 제일 저렴"
   ]
  },
  {
   "cell_type": "markdown",
   "metadata": {},
   "source": [
    "## S3 Intelligent-Tiering\n",
    "- 머신 러닝을 사용해 자동으로 클래스 변경 (사용 패턴을 분석해서 적절한 클래스로 옮겨줌)\n",
    "- 퍼포먼스 손해 / 오버헤드 없이 요금 최적화"
   ]
  },
  {
   "cell_type": "markdown",
   "metadata": {},
   "source": [
    "## S3 on Outposts\n",
    "- 온프레미스 환경에 S3 제공\n",
    "- 내구성을 확보한 상태로 파일을 저장하도록 설계\n",
    "- IAM, S3 SDK등 사용 가능"
   ]
  }
 ],
 "metadata": {
  "language_info": {
   "name": "python"
  }
 },
 "nbformat": 4,
 "nbformat_minor": 2
}
