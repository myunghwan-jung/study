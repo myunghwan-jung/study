{
 "cells": [
  {
   "cell_type": "markdown",
   "metadata": {},
   "source": [
    "# S3 기초\n",
    "- 객체 스토리지 서비스 : 파일 보관만 가능 <-> Block Storage Service (EBS, EFS등)\n",
    "    - 어플리케이션 설치 불가능\n",
    "- 글로벌 서비스. 데이터는 리전에 저장\n",
    "- 용량 무제한(단, 하나의 객체는 0byte에서 5TB의 용량)"
   ]
  },
  {
   "cell_type": "markdown",
   "metadata": {},
   "source": [
    "## 버킷\n",
    "- S3의 저장공간을 구분하는 단위\n",
    "- 디렉토리/폴더와 같은 개념\n",
    "- 버킷 이름은 전 세계에서 고유 값 : 리전에 관계 없이 중복된 이름이 존재할 수 없음"
   ]
  },
  {
   "cell_type": "markdown",
   "metadata": {},
   "source": [
    "## S3 객체의 구성\n",
    "- Owner : 소유자\n",
    "- Key : 파일의 이름\n",
    "- Value : 파일의 데이터\n",
    "    - 실제 Value에 아무것도 안들어갈 수도 있음.\n",
    "- Version ID : 파일의 버전 아이디\n",
    "- Metadata : 파일에 대한 정보를 담은 데이터\n",
    "- ACL : 파일의 권한을 담은 데이터\n",
    "- Torrents : 토렌트 공유를 위한 데이터\n"
   ]
  },
  {
   "cell_type": "markdown",
   "metadata": {},
   "source": [
    "##  S3의 내구성(파일을 잃어버리지 않을 확률)\n",
    "- 최소 3개의 가용영역에 데이터를 분산 저장 (스탠다드 클래스의 경우)\n",
    "- 99.9999999% 내구성\n",
    "- 99.9% SLA 가용성 (스토리지 클래스에 따라 다름)"
   ]
  },
  {
   "cell_type": "markdown",
   "metadata": {},
   "source": [
    "## S3 보안 설정\n",
    "- S3 모든 버킷은 새로 생성시 기본적으로 Private (비공개)\n",
    "    - 따로 설정을 통해 불특정 다수에게 공개 가능 (웹 호스팅 가능)\n",
    "- 보안 설정은 객체 단위 or 버킷 단위\n",
    "    - Bucket Policy : 버킷 단위\n",
    "    - ACL(Access Control List) : 객체 단위\n",
    "- MFA를 통해 객체 삭제 방지 가능\n",
    "- Versioning을 통해 파일 관리 가능\n",
    "- 액세스 로그 생성 및 전송 가능\n",
    "    - 다른 버킷 혹은 다른 계정으로도 전송할 수 있다"
   ]
  },
  {
   "cell_type": "markdown",
   "metadata": {},
   "source": [
    "## S3의 비용\n",
    "- 비용 종류\n",
    "    - 데이터 보관 비용 (용량에 따라 부과)\n",
    "    - 데이터 요청 비용 (요청 개수에 따라 부과)\n",
    "    - 데이터 전송 비용 (용량에 따라 부과)\n",
    "    - 기타 : 암호화 / 스토리지 관리 / 복제 등"
   ]
  },
  {
   "cell_type": "markdown",
   "metadata": {},
   "source": [
    "### 데모\n",
    "- S3 버킷 생성\n",
    "- 파일 업로드\n",
    "- S3 접근 권한을 가진 EC2 IAM 역할 생성\n",
    "- EC2 시작 구성 생성\n",
    "    - 유저데이터에서 S3 파일을 가져와서 적용하도록 설정\n",
    "### 실습 순서\n",
    "1. 서울 리전\n",
    "2. S3 버킷 생성\n",
    "    - 버킷 이름에 계정 ID 복붙\n",
    "3. index.html 파일 업로드\n",
    "4. IAM 역할 생성\n",
    "    - s3fullaccess 권한 부여\n",
    "5. 인스턴스 생성\n",
    "    - 키페어 X\n",
    "    - 디폴트 보안그룹\n",
    "    - IAM 인스턴스 프로파일 적용\n",
    "    - 사용자 데이터에 스크립트 입력 (버킷명 수정)\n",
    "6. 리소스 정리\n",
    "    - 인스턴스, S3버킷"
   ]
  }
 ],
 "metadata": {
  "language_info": {
   "name": "python"
  }
 },
 "nbformat": 4,
 "nbformat_minor": 2
}
