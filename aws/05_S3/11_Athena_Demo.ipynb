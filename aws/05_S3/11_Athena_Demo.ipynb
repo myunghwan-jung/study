{
 "cells": [
  {
   "cell_type": "markdown",
   "metadata": {},
   "source": [
    "# S3 - Amazon Athena 데모\n",
    "-  Amazon Athena는 표준 SQL을 사용해 Amazon S3에 저장된 데이터를 간편하게 분석할 수 있는 대화식 쿼리 서비스입니다. Athena는 서버리스 서비스이므로 관리할 인프라가 없으며, 실행한 쿼리에 대해서만 비용을 지불합니다.\n",
    "- 인터렉티브 쿼리를 통해 S3의 데이터를 조회할 수 있는 서비스\n",
    "    - S3를 SQL기반의 언어로 조회\n",
    "- 별도의 프로비저닝 혹은 서버 없이 동작\n",
    "- 사용 사례\n",
    "    - 여러 로그 파일이 저장된 S3에서 필요한 데이터를 조회\n",
    "    - 정형화된 메타데이터 혹은 저장 데이터를 조회\n",
    "    - 이벤트 데이터에서 필요한 정보를 추출(A/B 테스트)등\n",
    "- 주로 AWS Glue 서비스로 데이터 스키마 생성"
   ]
  },
  {
   "cell_type": "markdown",
   "metadata": {},
   "source": [
    "## AWS Glue\n",
    "- AWS Glue는 완전 관리형 추출, 변환 및 로드(ETL : Extract, Transform, Load) 서비스로, 효율적인 비용으로 간단하게 여러 데이터 스토어 및 데이터 스트림 간에 원하는 데이터를 분류, 정리, 보강 이동합니다."
   ]
  }
 ],
 "metadata": {
  "language_info": {
   "name": "python"
  }
 },
 "nbformat": 4,
 "nbformat_minor": 2
}
