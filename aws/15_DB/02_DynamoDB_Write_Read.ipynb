{
 "cells": [
  {
   "cell_type": "markdown",
   "id": "8e8fa2e9",
   "metadata": {},
   "source": [
    "# Amazon DynamoDB 읽기, 쓰기"
   ]
  }
 ],
 "metadata": {
  "language_info": {
   "name": "python"
  }
 },
 "nbformat": 4,
 "nbformat_minor": 5
}
