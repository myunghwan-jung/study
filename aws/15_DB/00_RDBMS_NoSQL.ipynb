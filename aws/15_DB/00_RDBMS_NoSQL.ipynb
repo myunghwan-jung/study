{
 "cells": [
  {
   "cell_type": "markdown",
   "id": "4035c088",
   "metadata": {},
   "source": [
    "# RDBMS vs NoSQL"
   ]
  }
 ],
 "metadata": {
  "language_info": {
   "name": "python"
  }
 },
 "nbformat": 4,
 "nbformat_minor": 5
}
