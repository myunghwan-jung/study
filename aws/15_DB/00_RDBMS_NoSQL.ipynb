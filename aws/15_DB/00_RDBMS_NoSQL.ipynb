{
 "cells": [
  {
   "cell_type": "markdown",
   "id": "4035c088",
   "metadata": {},
   "source": [
    "# RDBMS vs NoSQL"
   ]
  },
  {
   "cell_type": "markdown",
   "id": "743d2d91",
   "metadata": {},
   "source": [
    "## RDBMS\n",
    "- Relational Database Management System : 데이터의 관계에 집중하여 정형화된 형식으로 데이터를 관리하는 DB 시스템\n",
    "    - 행과 열로 구성된 2차원 테이블을 기반으로 정형화된 스키마 형식으로 데이터를 저장\n",
    "- ACID 형태로 Transection을 처리"
   ]
  }
 ],
 "metadata": {
  "language_info": {
   "name": "python"
  }
 },
 "nbformat": 4,
 "nbformat_minor": 5
}
