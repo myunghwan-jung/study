{
 "cells": [
  {
   "cell_type": "markdown",
   "id": "4035c088",
   "metadata": {},
   "source": [
    "# RDBMS vs NoSQL"
   ]
  },
  {
   "cell_type": "markdown",
   "id": "743d2d91",
   "metadata": {},
   "source": [
    "## RDBMS\n",
    "- Relational Database Management System : 데이터의 관계에 집중하여 정형화된 형식으로 데이터를 관리하는 DB 시스템\n",
    "    - 행과 열로 구성된 2차원 테이블을 기반으로 정형화된 스키마 형식으로 데이터를 저장\n",
    "- ACID 형태로 Transection을 처리\n",
    "- 데이터간 관계를 기반으로 데이터를 처리 가능\n",
    "    - SQL, Join 등을 활용한 복잡한 쿼리 처리 가능\n",
    "- 주요 AWS 서비스\n",
    "    - Amazon RDS, Amazon Aurora, Amazon Redshift\n",
    "- 주요 사용 사례\n",
    "    - 대부분 어플리케이션의 메인 DB"
   ]
  },
  {
   "cell_type": "markdown",
   "id": "c3309e6a",
   "metadata": {},
   "source": [
    "### ACID\n",
    "- Transection : 데이터베이스의 상태 변화를 수행하는 작업들을 묶은 단위\n",
    "    - DB의 상태변화가 올바르게 이루어질 수 있도록 논리적으로 묶은 단위\n",
    "    - 예 : 내가 어머니 계좌에 송금할 경우, 내 계좌에서 돈 차감 + 어머니 계좌에 돈 추가 두 작업이 묶여서 수행되어야 함\n",
    "- Atomicity(원자성) : All or Nothing, 즉 전부 성공하거나 실패해야 함\n",
    "- Consistency(일관성) : 트렌젝션 수행 전과 후에 일관적으로 데이터가 올바른 상태를 유지해야 함\n",
    "    - 예 : 재고량이 음수가 되지 않을 것\n",
    "- Isolation(독립성) : 트렌젝션들의 수행은 서로 독립적\n",
    "- Durability(지속성) : 트렌젝션의 수행 결과는 영구적으로 데이터베이스에 반영되어야 함"
   ]
  },
  {
   "cell_type": "markdown",
   "id": "c7db17a9",
   "metadata": {},
   "source": [
    "## NoSQL\n",
    "- Not Only SQL : 스키마 없이 다양한 형식의 데이터를 처리하는 데이터베이스 시스템\n",
    "    - 별도로 정해진 스키마가 없으며 유연하게 데이터를 저장\n",
    "- 종류\n",
    "    - Key-Value Store : Key-Value 쌍으로 데이터를 저장\n",
    "    - Document Database : 데이터를 JSON 형식과 비슷한 일종의 문서 형식으로 데이터를 저장\n",
    "    - Graph Database : 데이터간의 연결을 중심으로 데이터를 저장\n",
    "- BASE 기반 처리\n",
    "- 가벼운 구조\n",
    "    - 대부분 SQL 사용이 불가능하고 쿼리가 복잡하지 않고 간단한 처리만 가능\n",
    "    - 확장성이 뛰어남\n",
    "- 주요 AWS 서비스\n",
    "    - Amazon DynamoDB, Amazon MemoryDB\n",
    "- 주요 사용 사례\n",
    "    - 캐시, 간단한 데이터 저장, 추천 로직 등 각 DB 구조에 맞는 사용"
   ]
  },
  {
   "cell_type": "markdown",
   "id": "3979cd15",
   "metadata": {},
   "source": [
    "### BASE\n",
    "- 일반적으로 ACID에 비해서 훨씬 느슨하고 유연한 모델\n",
    "    - BAsicaly Available : 가용성을 중심으로 처리(예: 가용성을 유지하기 위해 데이터는 다수 스토리지에 저장하며 접근 가능하게 유지)\n",
    "    - Soft-State : 데이터베이스의 상태는 느슨하고 유연함, 즉 확정된 상태로 계속 유지하지 않고 자연스럽게 원하는 상태로 수렴\n",
    "    - Eventual Consistancy : 일관성이 바로 확보되지 않고 시간이 지나서 언젠가 일관적인 상태로 수렴"
   ]
  }
 ],
 "metadata": {
  "language_info": {
   "name": "python"
  }
 },
 "nbformat": 4,
 "nbformat_minor": 5
}
