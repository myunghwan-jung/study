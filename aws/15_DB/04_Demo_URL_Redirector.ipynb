{
 "cells": [
  {
   "cell_type": "markdown",
   "id": "47b69ce4",
   "metadata": {},
   "source": [
    "# DDB Demo - URL Redirector"
   ]
  },
  {
   "cell_type": "markdown",
   "id": "91bb0a31",
   "metadata": {},
   "source": [
    "## 순서\n",
    "1. 버킷 프로비전\n",
    "    - demo-ddb-source-\n",
    "2. ddb 테이블 생성\n",
    "    - demo-shortling\n",
    "    - pk : url\n",
    "    - 사용자 설정\n",
    "        - 글로벌 인덱스 생성\n",
    "            - pk : shortlink\n",
    "3. 클라우드포메이션 스택 생성\n",
    "    - demo-short-link\n",
    "    - lumifla.com\n",
    "4. 프론트엔드 로컬 테스트\n",
    "    - 터미널에서 프론트엔드 폴더 연 후에 yarn\n",
    "    - .env 파일 수정 : sl.lumifla.com\n",
    "    - yarn dev\n",
    "5. 리소스 정리 : CF, DDB, Bucket\n"
   ]
  }
 ],
 "metadata": {
  "language_info": {
   "name": "python"
  }
 },
 "nbformat": 4,
 "nbformat_minor": 5
}
