{
 "cells": [
  {
   "cell_type": "markdown",
   "id": "0b1f1faa",
   "metadata": {},
   "source": [
    "# 기타 데이터베이스 서비스"
   ]
  }
 ],
 "metadata": {
  "language_info": {
   "name": "python"
  }
 },
 "nbformat": 4,
 "nbformat_minor": 5
}
