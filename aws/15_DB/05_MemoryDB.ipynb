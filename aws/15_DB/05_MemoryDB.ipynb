{
 "cells": [
  {
   "cell_type": "markdown",
   "id": "6ae85743",
   "metadata": {},
   "source": [
    "# AWS의 Memory DB 서비스\n",
    "- 데이터를 메모리에 저장하는 데이터베이스 (<-> 디스크 저장)\n",
    "    - 읽기/쓰기 속도가 매우 빠름\n",
    "    - 휘발성 : 영속성 확보를 위해서는 별도의 조치 필요\n",
    "    - 주로 Key-Value 모델의 NoSQL\n",
    "- 단위 활용 비용이 전통적인 RDBMS보다 비싸지만, 빠르기에 주로 빠른 속도가 필요한 어플리케이션에 활용\n",
    "    - 예 : 게임, 금융 트레이딩 플랫폼, 라이브 스트리밍 등\n",
    "- 두 가지 용도\n",
    "    - 메인 디비 : 빠른 데이터 처리, MSA 아키텍처 등\n",
    "    - 캐싱 : RDBMS 혹은 NoSQL 메인 DB의 부하를 경감시키기 위해서"
   ]
  },
  {
   "cell_type": "markdown",
   "id": "86a8c286",
   "metadata": {},
   "source": [
    "## Amazon Memory DB\n",
    "- Amazon Memory DB는 Valkey 및 Redis OSS 호환성 및 내구성을 바탕으로 초고속 성능을 제공하는 인 메모리 데이터베이스 서비스입니다\n",
    "- Valkey, Redis OSS를 지원하는 AWS의 Memory DB 서비스\n",
    "    - 메모리 DB를 메인 DB로 활용하기 위한 서비스\n",
    "    - Multi-AZ 및 Multi-Region 지원\n",
    "    - 주로 매우 빠른 응답속도를 요구하는 어플리케이션 혹은 높은 동시성이 필요한 메인 DB로 활용\n",
    "- Microsecond 단위의 응답 속도와 높은 throughput, muilti-az 확장성 지원\n",
    "- Strong Consistency 모델 (백업은 Eventual Consistancy)\n",
    "- 영속적인 데이터 저장 지원\n",
    "- 스냅샷 기반으로 백업"
   ]
  },
  {
   "cell_type": "markdown",
   "id": "bd2fa811",
   "metadata": {},
   "source": [
    "## Amazon ElstiCache\n",
    "- Amazon ElastiCache를 사용하면 널리 사용되는 오픈 소스 호환 인 메모리 데이터 스토어를 클라우드에서 원활하게 설정, 실행 및 크기 조정할 수 있습니다. 처리량이 많고 지연 시간이 짧은 인 메모리 데이터 스토어에서 데이터를 검색하여 데이터 집약적 앱을 구축하거나 기존 데이터베이스 성능을 강화합니다\n",
    "- 주로 캐싱 용도로 활용하는 In-Memory DB 엔진\n",
    "    - Multi AZ 지원\n",
    "    - Global Datastore 지원\n",
    "    - 주로 DB의 워크로드를 덜어주거나 특수한 목적(랭킹 등)을 위해 사용\n",
    "- Redis, Memcached, Valkey 지원"
   ]
  }
 ],
 "metadata": {
  "language_info": {
   "name": "python"
  }
 },
 "nbformat": 4,
 "nbformat_minor": 5
}
