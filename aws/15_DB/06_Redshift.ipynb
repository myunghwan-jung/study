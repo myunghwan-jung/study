{
 "cells": [
  {
   "cell_type": "markdown",
   "id": "99645987",
   "metadata": {},
   "source": [
    "# Amazon Redshift\n",
    "- Amazon Redshift는 클라우드에서 완벽하게 관리되는 페타바이트급 데이터 웨어하우스 서비스입니다. 작게는 수백 기가바이트부터 시작하여 페타바이트 이상까지 데이터를 확장할 수 있습니다. 이를 통해 데이터를 사용하여 비즈니스 및 고객에 대한 새로운 인사이트를 발굴하는 것도 가능합니다. \n",
    "- AWS에서 제공하는 데이터 웨어하우스 서비스 = OLAP 서비스\n",
    "    - OLAP와 OLTP는 서로 다른 아키텍처 및 시스템 구조를 요구함\n",
    "    - 기존의 데이터베이스와 비교하여 OLAP 데이터에 최적화된 압축 방식 사용\n",
    "- 병렬 처리에 탁월한 성능 : 컴퓨팅 노드의 증감이 쉽고 빠름"
   ]
  },
  {
   "cell_type": "markdown",
   "id": "2875b481",
   "metadata": {},
   "source": [
    "## OLTP vs OLAP\n",
    "- OLTP(Online Transactional Processing) : 데이터의 트렌젝션을 위주로 데이터 처리\n",
    "- OLAP(Online Analytical Processing) : 데이터의 분석을 위주로 데이터를 처리"
   ]
  },
  {
   "cell_type": "markdown",
   "id": "782fbcfd",
   "metadata": {},
   "source": [
    "## 레드시프트의 구조\n",
    "- Leader Node : 하나의 리더 노드가 다수의 Compute Node를 통솔하며 쿼리 방식, 순서, 작업 등을 계획하고 분배\n",
    "- Compute Node : 실제 연산을 담당하는 노드로 다양한 타입(CPU, RAM 등의 구성의 집합)으로 구성\n",
    "- Managed Storage : 실제 데이터를 저장하는 공간으로 S3를 활용\n",
    "- 기타 : Connector, Data API, 네트워크 등"
   ]
  },
  {
   "cell_type": "markdown",
   "id": "21c64a64",
   "metadata": {},
   "source": [
    "## 레드시프트 기타 기능\n",
    "- Redshift Spectrum : 정형화된 S3의 데이터를 레드시프트에 데이터 로딩 없이 쿼리할 수 있는 서비스\n",
    "    - 레드시프트의 강력한 쿼리 및 연산 능력만 활용\n",
    "- Redshift Serverless : 별도 인프라 프로비전 및 확장을 고민하지 않고 레드시프를 활용하는 모드\n",
    "    - 자동 스케일링을 지원하고 사용한 만큼 과금\n",
    "- Federated Queries : 다른 데이터베이스(예: 아마존 오로라)의 내용을 직접 쿼리하고 분석하는 기능\n",
    "- 기타\n",
    "    - 머신 러닝을 활용하여 예측하기\n",
    "    - 클라우드워치, 클라우드트레일을 활용한 모니터링 및 감사"
   ]
  }
 ],
 "metadata": {
  "language_info": {
   "name": "python"
  }
 },
 "nbformat": 4,
 "nbformat_minor": 5
}
