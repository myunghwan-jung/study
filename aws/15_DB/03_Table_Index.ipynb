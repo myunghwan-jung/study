{
 "cells": [
  {
   "cell_type": "markdown",
   "id": "4d4c814f",
   "metadata": {},
   "source": [
    "# Amazon DynamoDB 테이블과 인덱스"
   ]
  },
  {
   "cell_type": "markdown",
   "id": "aa78fd42",
   "metadata": {},
   "source": [
    "## DynamoDB Table\n",
    "- Table : 다양한 아이템의 집합\n",
    "- DynamoDB의 다양한 작업 단위(백업, 내보내기, 권한 등)\n",
    "- 하나의 테이블에는 반드시 하나의 파티션키를 위한 속성 지정 필요\n",
    "    - 선택적으로 정렬키를 위한 속성 지정도 가능\n",
    "- 두가지 클래스\n",
    "    - Standard : 표준\n",
    "    - Standard-Infrequent Access : 저장은 저렴하지만 처리(읽기, 쓰기) 비용은 더 높음\n",
    "- Capacity Mode\n",
    "    - On-Demand : 읽고 쓴 용량만큼 과금\n",
    "    - Provisioned Capacity : 시간단위당 릭고 쓸 수 있는 용량(WCU/RCU)을 미리 지정해서 과금"
   ]
  },
  {
   "cell_type": "markdown",
   "id": "d5dbace5",
   "metadata": {},
   "source": [
    "### DynamoDB Table Capacity Mode\n",
    "- OnDemand : 읽고 쓴 용량만큼 과금\n",
    "- Provisioned Capacity : 시간단위당 읽고 쓸 수 있는 용량(WCU/RCU)을 미리 지정해서 과금\n",
    "    - OnDemand에 비해서 5배 이상 저렴\n",
    "    - 필요 시 Reserved Capacity를 활용하여 추가 할인 가능\n",
    "    - 초당 허용된 RCU/WCU 초과 시 Throttling 발생, 읽기 쓰기가 막힐 수 있음\n",
    "    - Autoscaling 가능"
   ]
  },
  {
   "cell_type": "markdown",
   "id": "0bcd4c83",
   "metadata": {},
   "source": [
    "#### DynamoDB Autoscaling\n",
    "- Capacity를 상황에 따라 동적으로 조절 해주는 기능\n",
    "- Target Utilization, 즉 수렴하고자 하는 사용량을 정해서 알고리즘에 따라 Capacity를 조절\n",
    "    - 1분 단위로 측정하여 두번 이상 연속적으로 특정 사용량을 넘어선다면 Scale up : 2분 이상 소요\n",
    "    - 1분 단위로 측정하여 15번 이상 연속적으로 특정 사용량보다 적다면 Scale Down : 15분 이상 소요\n",
    "- 내부적으로 클라우드워치를 사용"
   ]
  },
  {
   "cell_type": "markdown",
   "id": "de0a232c",
   "metadata": {},
   "source": [
    "### DynamoDB의 테이블 구조\n",
    "- 각 DynamoDB 테이블은 PartitionKey의 Hash 값을 기준으로 각 10GB 단위 분산 저장\n",
    "    - 각 파티션 단위로 3000RCU / 1000WCU를 넘을 경우 쓰로틀링 발생\n",
    "- 즉 파티션 키는 최대한 유니크하게 유지할 필요가 있다"
   ]
  },
  {
   "cell_type": "markdown",
   "id": "80e8132d",
   "metadata": {},
   "source": [
    "### DynamoDB의 인덱스\n",
    "- 다이나모디비의 쿼리는 하나의 파티션 키만 활용 가능\n",
    "- 테이블에 추가로 파티션 키 및 정렬 키를 부여하여 쿼리가 가능하도록 설정 가능\n",
    "    - 일종의 View와 같은 개념\n",
    "    - 모든 속성을 포함하거나 일부 속성만 포함하도록 설정 가능\n",
    "- 두 가지 종류\n",
    "    - Local Secondary Index\n",
    "    - Global Secondary Index"
   ]
  },
  {
   "cell_type": "markdown",
   "id": "ca679423",
   "metadata": {},
   "source": [
    "#### Local Secondary Index\n",
    "- 기존의 테이블 구조에서 정렬 키만 더 추가하는 인덱스\n",
    "    - 파티션 내부에서 재정렬\n",
    "    - RCU/WCU 등의 테이블 설정 공유\n",
    "    - 정렬 키에 해당하는 값이 없다면 해당 항목은 제외\n",
    "- 테이블 생성 시 같이 생성 필요\n",
    "    - 테이블 생성 이후 추가 생성 불가능\n",
    "- 최대 5개\n",
    "- 새로 생성된 정렬 키와 파티션 키가 반드시 유니크일 필요 없음"
   ]
  },
  {
   "cell_type": "markdown",
   "id": "16013b64",
   "metadata": {},
   "source": [
    "#### Global Secondary Index\n",
    "- 기존의 테이블 구조에서 새로운 파티션 키와 정렬 키 추가 가능\n",
    "    - 추가로 파티션 생성 -> 일종의 서브 테이블을 따로 만드는 개념으로 스토리지 용량 추가\n",
    "    - 별도의 RCU/WCU 등의 테이블 설정\n",
    "- 언제든지 추가 가능\n",
    "- 최종 일관성 읽기만 가능\n",
    "    - 정확히는 GSI 자체가 업데이트를 할 때 최종 일관성 쓰기로 업데이트 진행\n",
    "- 테이블 당 20개\n",
    "- 새로 생성된 정렬 키와 파티션 키가 반드시 유니크일 필요 없음\n",
    "- 선택적으로 포함할 속성들을 선택 가능\n",
    "    - 쿼리할 때 해당 속성들의 크기를 합산해서 용량 계산에 반영"
   ]
  },
  {
   "cell_type": "markdown",
   "id": "70709292",
   "metadata": {},
   "source": [
    "### Demo\n",
    "1. 테이블 생성\n",
    "    - demo-ddb-table / Partition Key : pk / Sort Key : sk\n",
    "    - 로컬 인덱스 생성\n",
    "        - Sort Key : sk2\n",
    "        - 프로젝션 : All\n",
    "2. 항목 생성\n",
    "    - pk : pk1 / sk : sk1 /  sk2 : 11111 /  hype : movie / name : avengers\n",
    "    - 항목 복제, 값들 바꾸자 (세번)\n",
    "3. 쿼리 이리저리 해보자\n",
    "4. 글로벌 보조 인덱스를 만들어보자"
   ]
  }
 ],
 "metadata": {
  "language_info": {
   "name": "python"
  }
 },
 "nbformat": 4,
 "nbformat_minor": 5
}
