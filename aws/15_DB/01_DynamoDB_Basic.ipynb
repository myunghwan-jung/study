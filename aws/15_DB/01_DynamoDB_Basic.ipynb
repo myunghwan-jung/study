{
 "cells": [
  {
   "cell_type": "markdown",
   "id": "d1f6522b",
   "metadata": {},
   "source": [
    "# AWS DynamoDB Basic\n",
    "- Amazon DynamoDB는 어떤 규모에서도 10밀리초 미만의 성능을 제공하는 Key-Value 및 문서 데이터베이스입니다. 완전관리형의 내구성이 뛰어난 다중 리전, 다중 마스터 데이터베이스로서, 인터넷 규모 어플리케이션을 위한 보안, 백업 및 복원, 인 메모리 캐싱 기능을 기본적으로 제공합니다.\n",
    "- AWS에서 제공하는 NoSQL 데이터베이스 서비스\n",
    "    - RDS처럼 데이터베이스를 서비스로 제공\n",
    "    - 백업/암호화 등 다양한 기능 지원\n",
    "- Key-Value/NoSQL 데이터 모델\n",
    "    - 스키마가 존재하지 않아 데이터 형식이 자유로움\n",
    "    - 데이터를 단순히 Key-Value로 정의\n",
    "    - 키를 고유한 식별자로 사용하는 Key-Value 쌍의 집합으로 데이터를 저장\n",
    "- 서버리스 서비스\n",
    "    - 사용한 만큼만 비용 지불 가능 : True OnDemand\n",
    "    - 고가용성/장애 내구성을 아키텍처 단위에서 확보\n",
    "    - Event-Driven 아키텍처 활용 가능 : 데이터베이스의 내용 변화 시 Event 생성 가능"
   ]
  },
  {
   "cell_type": "markdown",
   "id": "7fd32163",
   "metadata": {},
   "source": [
    "## Amazon DynamoDB의 특징\n",
    "- NoSQL DB\n",
    "    - 관계형 데이터베이스에서 수행해야하는 작업(Join등)의 수행 불가능\n",
    "    - SQL 사용 불가능 : SDK/API/CLI로만 접근 가능하고 SQL 사용 불가능\n",
    "- 요금은 WCU(Write Capacity Unit), RCU(Read Capacity Unit) + 저장 데이터만큼 과금\n",
    "- 저장 공간 미리 설정 불필요"
   ]
  },
  {
   "cell_type": "markdown",
   "id": "ce89c669",
   "metadata": {},
   "source": [
    "## Amazon DynamoDB의 구조\n",
    "- 속성(Attribute) : Key-Value로 구성된 최소 단위의 데이터\n",
    "    - 단순한 값 혹은 집합(Set) 구성 가능\n",
    "    - 타입 지정 필요(예: String., Integer)\n",
    "- 항목(Item) : 여러 속성의 집합\n",
    "    - 각 항목은 최대 400KB (모든 항목 명, 항목 값 포함)\n",
    "- 테이블 : 다양한 아이템의 집합\n",
    "    - 하나의 테이블에는 반드시 하나의 파티션키(Partition Key)를 위한 속성 지정 필요\n",
    "    - 선택적으로 정렬 키(Sort Key)를 위한 속성 지정\n",
    "- 키 : 각 테이블 별로 파티션 키/정렬 키 지정 가능\n",
    "    - 파티션 키 단독, 혹은 파티션 키 + 정렬 키 조합으로 Unique 키 구성"
   ]
  },
  {
   "cell_type": "markdown",
   "id": "75e67261",
   "metadata": {},
   "source": [
    "## Amazon DynamoDB의 작업\n",
    "- 읽기\n",
    "    - Scan : 테이블의 전체 항목을 읽어오는 작업\n",
    "    - Query : 주어진 파티션 키에 해당하는 항목을 조회하는 작업, 추가적으로 정렬 키를 통해 조회한 항목들에서 필터링 가능\n",
    "    - GetItem : 기본 키 (파티션 키, 정렬 키)로 하나의 항목을 가져오는 작업\n",
    "    - BatchGetItem : 여러개의 기본 키를 통해 여러 항목을 가져오는 작업\n",
    "- 쓰기\n",
    "    - PutItem : 항목 하나(파티션 키, 정렬 키로 구분)를 쓰는 작업\n",
    "        - 만약 해당 키가 존재한다면, 기존 항목 갱신(중복 아닌 속성은 제거)\n",
    "    - UpdateItem : 항목 하나를 수정하는 작업\n",
    "        - 기존 속성은 그대로\n",
    "    - DeleteItem : 특정 항목을 삭제하는 작업"
   ]
  },
  {
   "cell_type": "markdown",
   "id": "e85e49fc",
   "metadata": {},
   "source": [
    "### 실습\n",
    "1. DynamoDB 테이블 생성\n",
    "    - 파티션 키 : partition_key (String)\n",
    "    - 정렬 키 : sort_key (Integer)\n",
    "2. 항목 탐색으로 이동, 항목들 생성\n",
    "3. 스캔 및 쿼리 테스트\n",
    "4. 업데이트를 해보자 : 항목 편집\n",
    "    - 클라우드쉘을 통해서 항목을 업데이트해보자"
   ]
  }
 ],
 "metadata": {
  "language_info": {
   "name": "python"
  }
 },
 "nbformat": 4,
 "nbformat_minor": 5
}
