{
 "cells": [
  {
   "cell_type": "markdown",
   "id": "9dae7c0a",
   "metadata": {},
   "source": [
    "# Cloushell VPC 모드\n",
    "- VPC 모드 : CloudShell을 VPC 안에서 사용할 수 있는 모드\n",
    "    - Private 서브넷 등에 접근 가능\n",
    "    - 예 : Private EC2 SSH 접속, RDS 접속 등\n",
    "- 제한 사항\n",
    "    - 최대 2개의 환경 구성, 각 환경 별 최대 5개의 보안그룹 적용 가능\n",
    "    - CloudShell UI에서 직접 업로드, 다운로드 불가능\n",
    "    - 영구 스토리지 활용 불가능 -> 세션 종료 후 바로 삭제\n",
    "- 인터넷 연결 조건\n",
    "    - Private Subnet에 위치\n",
    "    - NAT Gateway 필요\n",
    "- 기타 AWS 서비스를 호출하려면 VPC Endpoint 필요"
   ]
  },
  {
   "cell_type": "markdown",
   "id": "f09f6fa2",
   "metadata": {},
   "source": [
    "## 데모\n",
    "- 신규 VPC 생성\n",
    "- Private Subnet에 인스턴스 생성\n",
    "- CloudShell VPC 모드로 EC2 접근\n",
    "1. VPC 생성\n",
    "    - NAT Gateway 비활성화\n",
    "2. 인스턴스 프로비전\n",
    "    - 키페어 생성\n",
    "    - vpc 선택, 기존 보안그룹\n",
    "3. 보안그룹 생성\n",
    "    - 신규 생성된 보안그룹의 인바운드 규칙 편집 : 모든 트래픽\n",
    "4. CloudShell VPC 모드 생성\n",
    "5. nano my_keypair.pem에 키페어 복붙\n",
    "6. chmod 400 my_keypair.pem 으로 권한 변경\n",
    "7. ssh -i \"my_keypair.pem\" ec2-user@인스턴스 프라이빗 dns\n",
    "8. NAT Gateway 프로비전\n",
    "9. 라우팅 테이블 생성\n",
    "10. 리소스 정리 : 인스턴스, NATGW, EIP"
   ]
  }
 ],
 "metadata": {
  "language_info": {
   "name": "python"
  }
 },
 "nbformat": 4,
 "nbformat_minor": 5
}
