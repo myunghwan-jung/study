{
 "cells": [
  {
   "cell_type": "markdown",
   "id": "27e809f5",
   "metadata": {},
   "source": [
    "# AWS CloudShell\n",
    "- AWS CloudShell은 브라우저 기반의 사전 인증된 셸로, AWS Management Console에서 직접 시작할 수 있습니다\n",
    "- AWS Console에서 바로 실행 가능한 Shell 환경\n",
    "    - 콘솔에 로그인한 IAM 유저의 권한을 기반으로 미리 인증되어 있음\n",
    "- 무료\n",
    "- Bash, Powershell, Z Shell 환경 선택 가능\n",
    "- 기본적으로 인스톨되어있는 다양한 툴/유틸리티 활용 가능\n",
    "    - git, make, wget, zip / AWS CLI, AWS ECS-CLI, AWS ElasticBeanStalk등 기본 설치\n",
    "- 기본적으로 여러 프로그래밍 언어 환경을 제공\n",
    "    - Node.js, Python, .Net(Powershell) 등\n",
    "- 세션 기반, 즉 각 세션이 종료되면 직접 설정한 환경과 구성은 리셋\n",
    "    - 단, 1GB의 영구 스토리지 활용 가능"
   ]
  },
  {
   "cell_type": "markdown",
   "id": "28bfe906",
   "metadata": {},
   "source": [
    "## 세션\n",
    "- 두 가지 제약\n",
    "    - 마우스나 키보드 입력이 20~30분 동안 없다면 세션 종료\n",
    "        - 프로세스 실행은 입력으로 취급하지 않음 : 프로세스가 진행 중 이더라도 키보드, 마우스 입력이 없다면 세션 종료\n",
    "    - 약 12시간 동안 지속되었다면 종료됨\n",
    "- 리스타트 가능 : 몇 분 소요\n",
    "- 리전 당 최대 10개의 세션을 동시에 사용 가능\n",
    "- 홈 디렉토리 삭제를 통해 리셋 가능\n",
    "    - 시스템 파일이 손상되었거나 문제가 생긴 경우, 장애가 발생한 경우\n",
    "    - 보안적인 이유로 작업 내용을 정리하고 싶을 경우"
   ]
  },
  {
   "cell_type": "markdown",
   "id": "fb2b0b94",
   "metadata": {},
   "source": [
    "## 영구 스토리지\n",
    "- 각 리전 별로 1GB의 영구 스토리지 활용 가능\n",
    "    - 더 큰 용량이 필요하다면 CodeCommit 혹은 S3 활용 가능\n",
    "- 홈 디렉토리에 위치($HOME)\n",
    "- 120일 동안 사용하지 않으면 자동으로 삭제\n",
    "    - 120일 안에 다시 활용하면 계속 사용 가능\n",
    "- KMS로 암호화"
   ]
  },
  {
   "cell_type": "markdown",
   "id": "bd29aa36",
   "metadata": {},
   "source": [
    "## 컴퓨팅 및 네트워크\n",
    "- 내부적으로 Amazon Linux 2023 기반의 컴퓨팅 환경(1vCPU, 2GB RAM)을 만들고 SSM Session으로 연동\n",
    "    - 내부적으로 브라우저와 Websocket을 통해 연결 : 보안적 허용 필요\n",
    "- 네트워크\n",
    "    - Outbound : 인터넷 액세스 가능\n",
    "    - Inbound : 인바운드 포트 활용 불가능(Public IP 부여 불가능)"
   ]
  },
  {
   "cell_type": "markdown",
   "id": "4080e077",
   "metadata": {},
   "source": [
    "## 보안\n",
    "- IAM 인증을 활용하여 권한 제어\n",
    "- 일정 시간이 지나면 세션이 자동으로 종료됨\n",
    "- Safe Paste 기능이 기본적으로 활성화\n",
    "    - 악의적인 스크립트 내용의 복사, 붙여넣기를 막아주는 기능\n",
    "- CloudTrail로 기록 확인 가능\n",
    "    - 작업 내역에 대한 확인은 불가능\n",
    "- 외부 인터넷 엑세스가 가능하기 때문에 데이터 전송 등의 리스크 존재\n",
    "    - VPC모드 지원, VPC안에서 CloudShell을 프로비전해 사용 가능\n",
    "        - 외부 인터넷에 대한 통제 가능, 단 VPC 엔드포인트 프로비전 및 업로드, 다운로드 기능 사용 불가능 등의 제약"
   ]
  },
  {
   "cell_type": "markdown",
   "id": "9c3de547",
   "metadata": {},
   "source": [
    "## 기타\n",
    "- 커맨드 글자수 제한 : 65412\n",
    "    - 이 이상의 명령이 필요한 경우 스크립트로 처리 가능\n",
    "- 파일 다운로드, 업로드 지원\n",
    "- 리전 당 최대 10개의 세션 동시 사용 가능\n",
    "- 공식 지원 브라우저 : 크롬, 파이어폭스, Edge, Safari"
   ]
  },
  {
   "cell_type": "markdown",
   "id": "f0de460c",
   "metadata": {},
   "source": [
    "## 데모\n",
    "1. push 입력 = 파워셀로 진입, bash = bash로 진입\n",
    "2. aws s3 ls = s3 버킷 리스트 출력\n",
    "3. aws s3api get-object --bucket 버킷명 --key 키 파일이름 = 다운로드"
   ]
  }
 ],
 "metadata": {
  "language_info": {
   "name": "python"
  }
 },
 "nbformat": 4,
 "nbformat_minor": 5
}
