{
 "cells": [
  {
   "cell_type": "markdown",
   "id": "27e809f5",
   "metadata": {},
   "source": [
    "# AWS CloudShell"
   ]
  }
 ],
 "metadata": {
  "language_info": {
   "name": "python"
  }
 },
 "nbformat": 4,
 "nbformat_minor": 5
}
