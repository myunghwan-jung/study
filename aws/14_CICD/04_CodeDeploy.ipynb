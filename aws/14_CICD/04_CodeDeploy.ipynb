{
 "cells": [
  {
   "cell_type": "markdown",
   "id": "dbbe29f5",
   "metadata": {},
   "source": [
    "# AWS CodeDeploy\n",
    "- AWS CodeDeploy는 Amazon EC2, AWS Fargate, AWS Lambda 및 온프레미스 서버와 같은 다양한 컴퓨팅 서비스에 대한 소프트웨어 배포를 자동화하는 완전관리형 배포 서비스입니다\n",
    "- AWS의 리소스/온프레미스 리소스에 배포를 담당하는 서비스\n",
    "    - EC2, ECS, Lambda + 온프레미스 등의 리소스에 배포\n",
    "- 거의 대부분의 컨텐츠 배포 지원\n",
    "    - 코드, 람다, 웹, 패키지, 미디어 파일 등\n",
    "- 배포를 위한 소스로 S3, Github, Bitbucket 등 활용\n",
    "- AWS의 Autoscale, ELB와 연동 지원\n",
    "    - 예 : 오토스케일에서 EC2 신규 프로비전 시, CodeDeploy로 배포 완료 후 내보내기\n",
    "- 코드디플로이 에이전트 활용\n",
    "    - 조건 : Outbound 443 Open , CodeDeploy 서비스 접근 가능\n",
    "- 롤백 지원\n",
    "    - 배포에 실패하거나 클라우드워치 경보가 발생하는 경우"
   ]
  },
  {
   "cell_type": "markdown",
   "id": "48ce0afb",
   "metadata": {},
   "source": [
    "## AWS CodeDeploy의 배포 방식\n",
    "- 기존에 배포된 리소스를 활용하는 배포 방식 - In-Place/Rolling\n",
    "    - In-Place : 기존에 배포된 리소스를 인프라 교체 없이 업데이트\n",
    "    - Rolling : 기존에 배포된 리소스를 점진적으로 새로운 버전의 리소스로 교체\n",
    "- 특징\n",
    "    - 한번에 업데이트 하는 비율에 따라 All-At-Once ,  Half-At-A-Time, One-At-A-Time\n",
    "    - 업데이트가 비교적 빠르고 추가 비용이 없음\n",
    "    - 어플리케이션의 가용성에 영향 / 롤백이 어려움"
   ]
  },
  {
   "cell_type": "markdown",
   "id": "53c9a559",
   "metadata": {},
   "source": [
    "## AWS CodeDeploy의 배포 방식 2\n",
    "- Blue/Green\n",
    "- 기존 리소스(Blue)와 완전히 별도의 새로운 리소스(Green)를 프로비전하고 트래픽을 교체하는 방식\n",
    "- 특징\n",
    "    - 그린 리소스를 충분히 테스트할 수 있으며 롤백도 쉬워 안정적\n",
    "    - 트래픽의 중단 최소화\n",
    "    - 높은 비용"
   ]
  },
  {
   "cell_type": "markdown",
   "id": "dd15ce16",
   "metadata": {},
   "source": [
    "## AWS CodeDeploy의 배포 방식 3\n",
    "- Canary\n",
    "- Blue/Green 배포에서 트래픽의 전환을 점진적으로 하는 방식\n",
    "    - 일정 비율로 트래픽을 전환하여 예기치 못한 장애에 대비\n",
    "- 특징\n",
    "    - 블루그린보다 안정적이나 배포에 오랜 시간이 걸리고 복잡도 증가"
   ]
  },
  {
   "cell_type": "markdown",
   "id": "237913b1",
   "metadata": {},
   "source": [
    "## AWS CodeDeploy 배포 방식 정리\n",
    "- EC2 / On-premise : In-Place/Blue Green\n",
    "    - All at once, Half at a time, One at a time\n",
    "- ECS / Lambda : Canary / Blue Green\n",
    "    - All at once, X percent every N minute"
   ]
  },
  {
   "cell_type": "markdown",
   "id": "5718a8d6",
   "metadata": {},
   "source": [
    "## AppSpec.yml\n",
    "- 코드디플로이에서 수행할 내용을 정의한 문서\n",
    "    - yml 형식\n",
    "- 정의 가능한 내용\n",
    "    - 배포 방법\n",
    "    - 각 스테이지 별 수행 내용 정의"
   ]
  },
  {
   "cell_type": "markdown",
   "id": "904d44a5",
   "metadata": {},
   "source": [
    "## 코드디플로이의 구성\n",
    "- Application : CodeDeploy의 구성 단위\n",
    "    - EC2/온프레미스, 람다, ECS 플랫폼 지원\n",
    "- 배포 그룹 : 배포할 대상을 묶은 그룹\n",
    "    - 어플리케이션 종류에 따라 다른 구성\n",
    "        - 예 : EC2/온프레미스 어플리케이션이라면 환경은 ASG, EC2 Instance, 온프레미스 지원\n",
    "    - 별도로 트리거, 롤백, 경보 등의 설정 가능"
   ]
  },
  {
   "cell_type": "markdown",
   "id": "28ed5f09",
   "metadata": {},
   "source": [
    "## 코드디플로이의 롤백\n",
    "- 배포에 실패하거나 사용자가 원할 때 수동으로 롤백 가능\n",
    "    - 자동 롤백 : 클라우드워치 알람으로 트리거되어 특정 임계치가 넘어가면 롤백\n",
    "    - 수동 롤백 : 수동으로 이전 버전으로 롤백"
   ]
  }
 ],
 "metadata": {
  "language_info": {
   "name": "python"
  }
 },
 "nbformat": 4,
 "nbformat_minor": 5
}
