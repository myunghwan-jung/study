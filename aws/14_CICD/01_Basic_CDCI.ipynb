{
 "cells": [
  {
   "cell_type": "markdown",
   "id": "7003830d",
   "metadata": {},
   "source": [
    "# AWS CICD 기초"
   ]
  },
  {
   "cell_type": "markdown",
   "id": "8cf8af1c",
   "metadata": {},
   "source": [
    "## CICD?\n",
    "- Continuous Integration / Continuous Delivery\n",
    "- 어플리케이션 개발 단계를 자동화하여 어플리케이션을 보다 짧은 주기로 고객에게 제공하는 방법\n",
    "- 자주 빌드하고 자주 배포 = 유저에게 빠르게 제품을 전달\n",
    "    - 더 빠르게 버그가 수정되고 유저의 요구사항이 반영될 수 있는 시스템\n",
    "    - 더 안정적으로 어플리케이션이 배포될 수 있는 시스템"
   ]
  },
  {
   "cell_type": "markdown",
   "id": "c16f7754",
   "metadata": {},
   "source": [
    "## AWS CodeCommit\n",
    "- AWS CodeCommit은 프라이빗 깃 리포지토리를 호스팅하는 안전하고 확장성이 뛰어난 관리형 소스 제어 서비스입니다\n",
    "- AWS 버전의 깃허브\n",
    "- IAM 크레덴셜을 통해 접근 가능(기존의 HTTP, SSH 역시 지원)\n",
    "- AWS의 다양한 서비스와 연동\n",
    "- 이벤트버스를 통한 이벤트기반 로직 처리 가능\n",
    "- 서비스 종료, 기존 계정에서만 사용 가능하며 신규 계정에서는 생성 불가능"
   ]
  },
  {
   "cell_type": "markdown",
   "id": "3f4b357b",
   "metadata": {},
   "source": [
    "## AWS CodeBuild\n",
    "- AWS CodeBuild는 소스 코드를 컴파일하는 단계부터 테스트 실행 후 소프트웨어 패키지를 개발하여 배포하는 단계까지 마칠 수 있는 완전관리형의 지속적 통합 서비스입니다\n",
    "- CI/CD중 CI를 담당하는 서비스\n",
    "- 별도의 프로비전 불필요\n",
    "- 간단하게 빌드 세팅이 된 서버 하나 빌려서 사용하는 개념"
   ]
  },
  {
   "cell_type": "markdown",
   "id": "543521d3",
   "metadata": {},
   "source": [
    "## AWS CodeDeploy\n",
    "- AWS CodeDeploy는 Amazon EC2, AWS Fargate, AWS Lambda 및 온프레미스 서버와 같은 다양한 컴퓨팅 서비스에 대한 소프트웨어 배포를 자동화하는 완전 관리형 배포 서비스입니다\n",
    "- 빌드/테스트된 제품을 배포해주는 서비스\n",
    "- 다양한 배포 모드(In-Place, Blue, Green)등 지원\n",
    "- 배포 실패 시 자동으로 롤백 지원\n",
    "- 배포 상태를 모니터링 가능"
   ]
  },
  {
   "cell_type": "markdown",
   "id": "c782977b",
   "metadata": {},
   "source": [
    "## AWS CodePipeline\n",
    "- AWS CodePipeline은 빠르고 안정적인 어플리케이션 및 인프라 업데이트를 위해 릴리스 파이프라인을 자동화하는 데 도움이 되는 완전관리형 지속 전달 서비스입니다.\n",
    "- 전체 프로세스 오케스트레이션\n",
    "- 서버리스\n",
    "- 이벤트 기반 운영 가능\n",
    "- 다양한 AWS 서비스 연동 가능\n",
    "- 다양한 외부 서비스 연동 가능(Jenkins 등)"
   ]
  }
 ],
 "metadata": {
  "language_info": {
   "name": "python"
  }
 },
 "nbformat": 4,
 "nbformat_minor": 5
}
