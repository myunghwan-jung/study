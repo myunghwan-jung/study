{
 "cells": [
  {
   "cell_type": "markdown",
   "id": "a71c3cbb",
   "metadata": {},
   "source": [
    "# AWS CodePipeline"
   ]
  }
 ],
 "metadata": {
  "language_info": {
   "name": "python"
  }
 },
 "nbformat": 4,
 "nbformat_minor": 5
}
