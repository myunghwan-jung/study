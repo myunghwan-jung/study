{
 "cells": [
  {
   "cell_type": "markdown",
   "id": "3f636daf",
   "metadata": {},
   "source": [
    "# AWS CI/CD Demo\n",
    "- 예제 시나리오\n",
    "- 이미지를 업로드하면 지정한 사이즈로 리사이징 후 다운로드할 수 있는 웹사이트\n",
    "- 백엔드\n",
    "    - Node.js 기반으로 AWS의 2티어 아키텍처(ALB-ASG-EC2)로 호스팅\n",
    "    - CI/CD 파이프라인으로 소스 업데이트, 빌드, 배포 과정 구현\n",
    "- 프론트엔드\n",
    "    - Next.js 기반 스태틱 페이지를 S3로 호스팅\n",
    "    - CI/CD 파이프라인 기반으로 소스 업데이트, 빌드, 배포 구현\n",
    "- 소스 : 깃"
   ]
  },
  {
   "cell_type": "markdown",
   "id": "12ec1e28",
   "metadata": {},
   "source": [
    "## 데모 순서\n",
    "1. 클라우드 포메이션 스택 생성\n",
    "    - 템플릿 업로드(without dns)\n",
    "    - vpc, alb, asg를 만들어주는 템플릿\n",
    "2. 깃 레포 생성\n",
    "    - demo-image-resize-backend\n",
    "    - demo-image-resize-frontend\n",
    "3. 코드 파이프라인 생성\n",
    "    - demo-image-resize-backend\n",
    "    - 소스 공급자 깃허브\n",
    "    - 기본 브랜치 : prod\n",
    "    - 빌드 공급자 : other build provider, AWS CodeBuild\n",
    "        - 프로젝트 생성 : demo-image-resize-backend-build\n",
    "        - buildspec 파일 사용 체크 : buildspec.yml\n",
    "    - 배포 공급자 : codedeploy\n",
    "4. 코드디플로이에서 새로운 어플리케이션 생성\n",
    "    - demo-image-resize-deploy\n",
    "    - ec2/온프레미스\n",
    "    - 배포 그룹 생성\n",
    "        - demo-my-asg\n",
    "        - 서비스 역할 선택\n",
    "        - 환경 그룹 : EC2 ASG\n",
    "        - 로드 밸런서 유형 : ALB\n",
    "5. 다시 코드파이프라인 생성\n",
    "6. 클라우드포메이션에서 스택 생성 for Frontend\n",
    "    - without dns로 템플릿 업로드\n",
    "7. 프론트엔드 코드파이프라인 생성\n",
    "    - demo-image-resize-frontend\n",
    "    - 기본 브랜치 prod\n",
    "    - 빌드 공급자 codebuild, 프로젝트 생성\n",
    "        - demo-image-resize-frontend-build\n",
    "        - 환경 변수 추가\n",
    "            - ssm_parameter_name : ssm store에서 찾아서 입력\n",
    "        - buildspec 파일 사용 선택 : buildspec.yml\n",
    "8. 배포용 코드빌드 추가 : 파이프라인 편집, 스테이지 추가\n",
    "    - deploy\n",
    "    - 작업 그룹 추가 : deploy\n",
    "        - 작업 공급자 codebuild\n",
    "        - 아티팩트 buildatifact\n",
    "        - 프로젝트 생성 : demo-image-resize-frontend-deploy\n",
    "        - 환경변수 추가 : bucket_name\n",
    "        - 빌드 사양 : buildspec_deploy.yml\n",
    "9. 레포에 소스 코드 업데이트\n",
    "    - \n"
   ]
  }
 ],
 "metadata": {
  "language_info": {
   "name": "python"
  }
 },
 "nbformat": 4,
 "nbformat_minor": 5
}
