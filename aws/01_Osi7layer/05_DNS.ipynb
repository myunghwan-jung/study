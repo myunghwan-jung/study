{
 "cells": [
  {
   "cell_type": "markdown",
   "metadata": {},
   "source": [
    "# Domain Name System\n",
    "- IP주소는 의미 없는 숫자로 이뤄져있어서 외우기 어려움\n",
    "- 그러니까 문자열로 바꾸자\n",
    "- EX : 클라이언트가 DNS에 \"구글 IP주소 알려줘\"라고 물어보면, 기록해놓은 IP주소를 알려줘서 접속 가능해짐."
   ]
  },
  {
   "cell_type": "markdown",
   "metadata": {},
   "source": [
    "## AWS에서 DNS의 정의\n",
    "- 도메인 이름 시스템은 사람이 읽을 수 있는 도메인 이름을 머신이 읽을 수 있는 IP주소로 변환합니다."
   ]
  },
  {
   "cell_type": "markdown",
   "metadata": {},
   "source": [
    "## DNS의 주요 개념\n",
    "- 사람이 일글 수 있는 문자열과 인터넷 프로토콜 기반 정보를 매칭시켜주는 시스템\n",
    "    - Internet Corporation for Assigned Names and Numbers (ICANN)에서 관리\n",
    "- 도메인 : 대상의 IP 주소등의 정보와 매핑되는 사람이 알아볼 수 있는 문자열\n",
    "    - 서브도메인 : 도메인 중 스트링 앞에 추가 문자열이 붙은 도메인 (text.example.com)\n",
    "    - APEX도메인 : 도메인 중 앞에 추가 문자열이 없는 순수한 최상위 도메인 (example.com)\n",
    "- 레코드 : 도메인이 어떤 방식으로 데이터와 매칭되는지 정의하는 기록\n",
    "    - 다양한 레코드 종류가 있으며 각각 다른 정보와 매칭\n",
    "    - 예 : A 레코드는 IPv4 주소, MX 레코드는 메일 서버\n",
    "- Domain Zone : 도메인의 정보를 담은 레코드의 집합\n",
    "- Zone File : Domain Zone 정보를 저장한 텍스트 파일\n",
    "- DNS Query : 주어진 도메인에 해당하는 정보를 요청하는 쿼리\n",
    "- Name Server(NS) : DNS query를 Zone file 기반으로 응답할 수 있는 서버\n",
    "    - Authoritative : DNS 정보의 원본을 가지고 있는 가장 최상위 NS 서버\n",
    "    - None-Authoritative : Authoritative 서버를 조회하여 정보를 보관하거나 응답하는 서버 (캐시)\n",
    "- DNS Resolver : 사용자와 NS 서버 사이에 위치한 서버로, 실제 유저의 요청에 따라 IP 주소 등의 정보를 확보하는 서버\n",
    "    - 유저의 클라이언트가 제일 먼저 쿼리를 요청하는 대상이며, 보통 ISP가 관리"
   ]
  },
  {
   "cell_type": "markdown",
   "metadata": {},
   "source": [
    "## DNS의 규모\n",
    "- 2024년 7월 기준 약 3억 6천만개의 도메인 존재\n",
    "    - 그리고 거의 모든 HTTP통신에 활용\n",
    "- 매우 큰 규모이며, 이를 호스팅하기 위한 서버 구조가 필요"
   ]
  },
  {
   "cell_type": "markdown",
   "metadata": {},
   "source": [
    "## DNS의 구성\n",
    "- DNS는 계층 구조 : 최상위 도메인부터 차례대로 계층 구조로 구성되어 있음. 실제 레코드는 가장 마지막 게층에서 보관 및 처리"
   ]
  },
  {
   "cell_type": "markdown",
   "metadata": {},
   "source": [
    "### DNS Root\n",
    "- DNS 계층 구조의 최상위 레벨\n",
    "    - DNS Query 수행 시 최초로 조회하는 거점\n",
    "    - 다음 단계인 TLDs(Top Level Domain)의 Zone File을 가진 NS 서버의 주소 정보 보유\n",
    "- IANA(Internet Assigned Numbers Authority)에서 조율하는 13개의 주체에서 관리\n",
    "    - A~M까지 각 관리 주체별로 다른 서버 주소\n",
    "- Root Hints File\n",
    "    - DNS Root의 주소를 담은 파일\n",
    "    - 각 DNS Resolver에 하드 코딩"
   ]
  },
  {
   "cell_type": "markdown",
   "metadata": {},
   "source": [
    "### Top Level Domains (TLDs)\n",
    "- DNS 계층 구조의 두 번째 레벨\n",
    "    - 실질적으로 정보를 가지고 있는 최상위 레벨\n",
    "    - EX : .com / .org / .net 등등\n",
    "- 종류\n",
    "    - Country Code TLDs : 각 나라에 할당된 두자리 코드\n",
    "        - EX : .kr / .jp / .ai 등등\n",
    "    - Sponsored TLDs : 사설 조직이나 기관에 할당된 TLDs\n",
    "        - EX : .edu / .gov / .mil 등등\n",
    "    - New Generic TLDs : 기타\n",
    "        - EX : .app / .tech / .xyz 등등\n",
    "- 관리 주체 : TLDs Registry (각 회사, 나라 등등)\n",
    "    - .com / .net = Verisign\n",
    "    - .org = Public Interest Registry\n",
    "    - .kr = Korea Internet & Secutiry Agency (KISA)\n",
    "- 실제 도메인의 레코드를 관리하는 NS서버의 주소 정보를 담은 Zone File 보유"
   ]
  },
  {
   "cell_type": "markdown",
   "metadata": {},
   "source": [
    "### NS 서버\n",
    "- 실제 도메인의 레코드를 가지고 있는 서버\n",
    "    - 이 NS 서버의 주소를 TLDs에 등록해두면, 클라이언트에서 DNS쿼리에 따라 이쪽으로 도착\n",
    "- 해당 도메인 및 서브도메인들이 어떤 프로토콜의 어떤 주소로 맵핑되는지(레코드)에 관한 Zone File보유\n",
    "- 여기서 최종으로 맵핑된 주소 확보"
   ]
  },
  {
   "cell_type": "markdown",
   "metadata": {},
   "source": [
    "### 도메인 등록\n",
    "- 도메인 등록 대행(Domain Registrar)을 통해 등록\n",
    "    - 도메인 등록 대행 : ICANN에게 인증받고 TLDs Registry와 협의하여 도메인 등록의 권한을 가진 주체\n",
    "    - 예 : AWS Route53, Cafe24\n",
    "- 등록할 때 TLDs Registry에 자신이 원하는 NS서버 주소를 등록\n",
    "    - 일종의 남은 슬롯에 자신의 NS서버를 예치하는 개념\n",
    "    - NS서버는 자신의 개인 NS서버를 사용하거나, DNS Hosting Service 업체에서 대여 가능\n",
    "    - DNS Hosting Service : DNS 기능을 제공하는 주체\n",
    "        - 예 : AWS Route53, 가비아\n",
    "        - 대부분의 Registrar는 DNS Hosting Service를 같이 제공"
   ]
  }
 ],
 "metadata": {
  "language_info": {
   "name": "python"
  }
 },
 "nbformat": 4,
 "nbformat_minor": 2
}
