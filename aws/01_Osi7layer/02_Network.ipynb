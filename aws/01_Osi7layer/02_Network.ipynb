{
 "cells": [
  {
   "cell_type": "markdown",
   "metadata": {},
   "source": [
    "# Network\n",
    "- 스위치를 기반으로 (layer2) 이루어진 로컬 네트워크는 외부 네트워크와 통신이 불가능. 이를 극복하기 위해 layer3 - Network가 필요.\n",
    "- 여러 노드의 경로를 찾고, 올바르게 전달할 수 있는 기능과 수단을 정의\n",
    "- 주요 단위 : 패킷\n",
    "- 주요 구성 요소 : Router, IP, ARP\n",
    "- 주요 특징 : 서로 떨어진 Local Network간의 통신을 지원\n",
    "    - \"네트워크 간의\" : \"Inter Network\" = Internet\n",
    "    - 중간중간 Node들을 거쳐 목적지까지 도달할 수 있는 방법을 지원"
   ]
  },
  {
   "cell_type": "markdown",
   "metadata": {},
   "source": [
    "## Packet\n",
    "- Layer3에서 신호를 주고받는 단위\n",
    "- 구성 요소 \n",
    "    1. 소스, 대상 IP\n",
    "    2. Payload : 데이터 내용\n",
    "    3. TTL : 패킷이 얼마나 오래 Node를 넘어다닐 수 있는지\n",
    "    4. 기타\n",
    "- 이렇게 구성된 Packet을 Frame의 Payload에 넣게 된다."
   ]
  },
  {
   "cell_type": "markdown",
   "metadata": {},
   "source": [
    "## IP(Internet Protocol) address\n",
    "- Internet protocol 상에서 통신 주체를 식별하기 위한 아이디\n",
    "- 두가지 종류\n",
    "    - IPv4 : 32bit.(약 43억개)\n",
    "        - 아이피를 최대로 활용하기 위해 Private IP, Public IP로 분류\n",
    "    - IPv6: 128bit. (엄청 많음)\n",
    "        - 엄청 많기 때문에, private public 분류 필요 없음\n",
    "- MAC Address와 달리 수시로 변동 가능."
   ]
  },
  {
   "cell_type": "markdown",
   "metadata": {},
   "source": [
    "## Classless Inter Domain Routing (CIDR)\n",
    "- CIDR\n",
    "    - IP는 주소의 영역을 여러 네트워크 영억으로 나누기 위해 IP를 묶는 방식\n",
    "    - 여러개의 사설망을 구축하기 위해 망을 나누는 방법\n",
    "- CIDR Notation\n",
    "    - IP주소의 집합\n",
    "    - A.B.C.D/E형식\n",
    "        - A,B,C,D : 네트워크 주소 + 호스트 주소 표시\n",
    "        - E : 네트워크 주소가 몇 bit인지 표시\n",
    "    - 192.168.2.0/24\n",
    "        - 192,168.2 (24개 비트) : 네트워크 주소\n",
    "        - 0~255 : 호스트 주소"
   ]
  },
  {
   "cell_type": "markdown",
   "metadata": {},
   "source": [
    "## Subnet mask\n",
    "- 어느 부분이 호스트 비트인지, 어느 부분이 네트워크 비트인지 구분해주는 Mask\n",
    "- 네트워크 비트 수 만큼 1을 보유한 마스크를 IP에 적용하면 네트워크 비트만 추출 가능\n",
    "    - AND연산을 활용(두 비트가 모두 1일때만 1), 네트워크 주소를 필터링 "
   ]
  },
  {
   "cell_type": "markdown",
   "metadata": {},
   "source": [
    "## Router\n",
    "- 네트워크간 패킷을 주고 받는 layer3 장치\n",
    "- IP 대역별 최적 경로를 수집 및 관리\n",
    "    - 어떤 경로의 노드를 경유해야 가장 효율적으로 대상에 도착하는지 알고 있음 (Route Table)\n",
    "    - 이 경로를 바탕으로 특정 IP주소가 대상인 패킷의 전달을 요청받을 때 최적 경로로 요청\n",
    "- 로컬 네트워크는 자신의 로컬 네트워크 주소가 아니라면 라우터로 전달\n",
    "     - 확인 방법 : 네트워크 주소가 같은지!(subnet mask등)\n",
    "- 이후 Router는 패킷을 Frame안에 넣어서 최적 경로에 따라 다른 Router로 전달\n",
    "    - IP주소에 따른 Frame 확인 방법 : ARP"
   ]
  },
  {
   "cell_type": "markdown",
   "metadata": {},
   "source": [
    "## ARP(Address Resolution Protocol)\n",
    "- IP로 MAC Address를 찾는 프로토콜\n",
    "- 순서\n",
    "    1. Broadcast로 IP를 요청\n",
    "    2. 응답 받은 IP MAC Address를 기반으로 MAC 확정 후 테이블에 저장"
   ]
  },
  {
   "cell_type": "markdown",
   "metadata": {},
   "source": []
  },
  {
   "cell_type": "markdown",
   "metadata": {},
   "source": []
  },
  {
   "cell_type": "markdown",
   "metadata": {},
   "source": []
  },
  {
   "cell_type": "markdown",
   "metadata": {},
   "source": []
  }
 ],
 "metadata": {
  "language_info": {
   "name": "python"
  }
 },
 "nbformat": 4,
 "nbformat_minor": 2
}
