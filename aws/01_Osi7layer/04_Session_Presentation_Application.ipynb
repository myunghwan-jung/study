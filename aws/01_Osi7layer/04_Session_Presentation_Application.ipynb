{
 "cells": [
  {
   "cell_type": "markdown",
   "metadata": {},
   "source": [
    "# Session, Presentation, Application Layer\n",
    "- OSI 7 모델은 아주 옛날에 만들어졌음.\n",
    "    - 하드웨어 레이어들은 현재까지 거의 그대로 사용되고 있음\n",
    "    - 소프트웨어 레이어들은 과거와는 많이 달라짐\n",
    "- TCPI/IP Model 구조\n",
    "    1. Network Access Layer\n",
    "    2. Network Layer\n",
    "    3. Transport Layer\n",
    "    4. Application Layer (OSI7의 Session + Presentation + Application)"
   ]
  },
  {
   "cell_type": "markdown",
   "metadata": {},
   "source": [
    "## Session Layer\n",
    "- 통신 주체끼리 연결이 유지될 수 있는 방법을 정의\n",
    "- 예전의 컴퓨팅 환경에서 Layer 1,2,3,4 이외의 차원에서 지속적인 연결(세션)이 수립될 수 있는 방법을 제공\n",
    "    - MAC Address와 IP주소, Port까지 동일한 상황에서 어떻게 유저를 구분할 것인가?\n",
    "- 현대에서도 마찬가지로 Layer 4 이상의 추가적인 차원에서 지속적인 연결을 수립할 수 있는 방법을 포함\n",
    "    - HTTP Cookie\n",
    "- 몇몇 프로토콜은 세션 레이어를 구성하지 않음 (FTP)"
   ]
  },
  {
   "cell_type": "markdown",
   "metadata": {},
   "source": [
    "### HTTP\n",
    "- 쿠키를 통해 세션 유지\n",
    "- 서버에서 생성한 쿠키를 클라이언트에게 던져줌\n",
    "- 클라이언트의 아이피가 바뀌더라도, 쿠키를 통해 인증하여 세션을 유지"
   ]
  },
  {
   "cell_type": "markdown",
   "metadata": {},
   "source": [
    "### FTP\n",
    "- 세션 유지 기능이 없음\n",
    "- 클라이언트의 아이피가 변경되면 인증을 다시 해야함."
   ]
  },
  {
   "cell_type": "markdown",
   "metadata": {},
   "source": [
    "## Presentation Layer\n",
    "- 받은 데이터를 해석하는 방법을 정의\n",
    "    - 파싱, 압축 해제, 복호화 등 Application Layer에서 사용할 수 있는 형식으로 변환을 담당"
   ]
  },
  {
   "cell_type": "markdown",
   "metadata": {},
   "source": [
    "## Application Layer\n",
    "- 실제 받은 데이터를 처리하는 방법을 정의\n",
    "    - 말 그대로 데이터를 가지고 무엇을 어떻게 처리할지에 관한 레이어\n",
    "- EX : HTTP\n",
    "    1. method (get/post/...)\n",
    "    2. Status code (2xx/3xx/...)\n",
    "    3. Header\n"
   ]
  }
 ],
 "metadata": {
  "language_info": {
   "name": "python"
  }
 },
 "nbformat": 4,
 "nbformat_minor": 2
}
