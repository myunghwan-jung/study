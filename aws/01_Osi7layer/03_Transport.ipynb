{
 "cells": [
  {
   "cell_type": "markdown",
   "metadata": {},
   "source": [
    "# Transport\n",
    "- 통신 주체끼리 데이터 전달의 신뢰성을 확보하는 방법을 정의\n",
    "- 주요 단위 : 세그먼트\n",
    "- 주요 구성 요소\n",
    "    - TCP/UDP\n",
    "- 주요 특징\n",
    "    - Network Layer로 성립된 통신 위에서, 실질적인 활용을 위한 다양한 기능을 정의\n",
    "    - 패킷의 순서 보장, 에러 처리, 포트 기반 분할 등"
   ]
  },
  {
   "cell_type": "markdown",
   "metadata": {},
   "source": [
    "## Transmission Control Protocol(TCP)\n",
    "- 패킷의 전달 과정에서 순서를 보장하고 유실되지 않도록 보장할 수 있는 통신 규약\n",
    "    - 패킷 안에 세그먼트를 담아 주고 받아서 로직을 처리\n",
    "- 연결 지향\n",
    "    - 지속적으로 채널을 수립하여 전달 여부를 확인하고 무결성을 확인\n",
    "    - 지속적으로 무결성을 확보하는 과정에서 비교적 느리고 복잡한 과정 필요\n",
    "- 주요 사용 사례\n",
    "    - 웹 페이지(HTTP/HTTPS), 이메일, 파일 전송, SSH 등"
   ]
  },
  {
   "cell_type": "markdown",
   "metadata": {},
   "source": [
    "## Segment\n",
    "- TCP/UDP의 데이터 전달 단위\n",
    "- TCP 세그먼트의 주요 구성\n",
    "    1. Port (Source/Destination)\n",
    "    2. Sequence/Acknowledgement Number : 통신 주체끼리 데이터를 주고 받았는지 확인에 사용\n",
    "    3. Flags : Segment의 목적 등을 정의 (EX. ACK, SYN, FIN)\n",
    "    4. Window Size : 세그먼트를 만든 주체가 얼마나 많은 데이터를 받을지 전달\n",
    "    5. Urgent Pointer : 세그먼트의 중요도를 설정 (우선 순위)\n",
    "    6. 기타 (Checksum 등)\n",
    "    7. 실제 데이터\n",
    "- 1~6번을 TCP 헤더라고 부름\n",
    "- 이렇게 구성된 TCP 세그먼트가 layer3의 패킷에 담기게 됨"
   ]
  },
  {
   "cell_type": "markdown",
   "metadata": {},
   "source": [
    "## TCP는 어떻게 세그먼트 전달을 보장할까?\n",
    "1. 클라이언트 A가 B에게 1번 세그먼트를 성공적으로 전송\n",
    "2. 클라이언트 B는 A에게, 1번 세그먼트를 받았다는 Acknowledgement Number를 보내게 됨(2번 세그먼트 보내!)\n",
    "3. 클라이언트 A는 Acknowledgement Number를 받아보고 2번 세그먼트를 전송\n",
    "4. 3번 세그먼트가 유실되는 경우? 클라이언트 B의 응답이 없었으니, 못받은 것으로 간주하고 3번 세그먼트를 다시 보낸다.\n",
    "- 데이터를 잘 받았는지 지속적으로 확인하는 것이 핵심."
   ]
  },
  {
   "cell_type": "markdown",
   "metadata": {},
   "source": [
    "## Port\n",
    "- IP 프로토콜에서 패킷을 올바른 프로세스로 라우팅 하기 위한 논리적 단위\n",
    "- TCP / UDP port로 구분 : 각각 0~65535의 정수 범위\n",
    "- 클라이언트의 어플리케이션들, 서버 또한 프로세스 별로 Port를 하나씩 점유하게 됨.\n",
    "- 이러한 소스 port와 대상 port에 대한 정보가 세그먼트 안에 담겨있음.\n",
    "- Well Known Port : 주로 서버에서 사용하는 어플리케이션/프로토콜 별로 미리 지정된 포트 (국룰 느낌)\n",
    "    - 주요 사용에 따라 표준으로 공통적으로 사용\n",
    "    - 예: http=80, https=443, ssh=22, Mysql=3306\n",
    "- Ephemeral Port : 클라이언트에서 사용하는 포트로 연결할 때 마다 임의로 지정"
   ]
  },
  {
   "cell_type": "markdown",
   "metadata": {},
   "source": [
    "## TCP Handshake\n",
    "- TCP Protocol에서 통신을 수립하고 서로를 인식하는 첫 과정\n",
    "- 보통 Three Way Handshake로 부르며, 3단계 과정으로 구분\n",
    "    1. Syn(Synchronize) : 첫 요청으로, 사용할 첫 클라이언트 Sequence Number(CS)를 전달\n",
    "    2. Syn-Ack(Synchronize-Acknowledge) : Syn에 대한 응답으로, CS+1과 서버 Sequence Number(SS)를 전달\n",
    "    3. ACK(Acknowledge) : 마지막 단계. 연결이 수립되었음을 알려주며 CS+1과 SS+1을 전달."
   ]
  },
  {
   "cell_type": "markdown",
   "metadata": {},
   "source": [
    "1. Syn\n",
    "    - 클라이언트에서 서버로 세그먼트 전달\n",
    "    - [소스 Port:13321, 대상 Port:80, Sequence Number(cs):13, Ack Number: Null, Flags: SYN]\n",
    "2. Syn-Ack\n",
    "    - 서버에서 클라이언트로 세그먼트 전달\n",
    "    - [소스 Port:80, 대상 Port:13321, Sequence Number(SS): 4431, Ack Number:14, Flags: SYN,ACK]\n",
    "3. ACK\n",
    "    - 클라이언트에서 서버로 세그먼트 전달\n",
    "    - [소스 Port: 13321, 대상 Port:80, Sequence Number(cs): 14, Ack Number:4432, Flags: ACK]"
   ]
  },
  {
   "cell_type": "markdown",
   "metadata": {},
   "source": [
    "## User Datagram Protocol(UDP)\n",
    "- 빠르고 간단하게 데이터를 주고 받을 수 있는 방법을 정의\n",
    "- Connectionless\n",
    "    - 연결 지향과는 달리, 데이터의 무결성, 순서, 전달여부를 체크하지 않음\n",
    "    - 즉, 패킷이 순서대로 오지 않거나, 중복되거나, 아예 전달되지 않을 수 있음\n",
    "- 주요 사용 사례\n",
    "    - 스트리밍, 보이스톡, 온라인 게임\n",
    "- UDP 세그먼트의 구성 요소\n",
    "    - UDP 헤더 : 소스 Port, 대상 Port, Length, Checksum\n",
    "    - Data\n",
    "- 대상의 응답을 기다리지 않고 세그먼트를 전송"
   ]
  },
  {
   "cell_type": "markdown",
   "metadata": {},
   "source": [
    "## 주요 프로토콜 및 해당 Well known port\n",
    "- TCP\n",
    "    - HTTP/HTTPS : 80, 443\n",
    "    - FTP(File Transfer Protocol) : 20, 21\n",
    "    - SSH(Secure Shell) : 22\n",
    "    - DNS(Domain Name System) : 53\n",
    "- UDP\n",
    "    - DNS : 53\n",
    "    - DHCP(Dynamic Host Configuration Protocol) : 67, 68\n",
    "    - VoIP(Voice over IP) : 5060\n"
   ]
  },
  {
   "cell_type": "markdown",
   "metadata": {},
   "source": [
    "## OSI 7 Layer의 구분\n",
    "- 1~4 (Physical, Data link, Network, Transport) Layer : 하드웨어\n",
    "- 5~7 (Session, Presentation, Application) Layer : 소프트웨어"
   ]
  }
 ],
 "metadata": {
  "kernelspec": {
   "display_name": "Python 3",
   "language": "python",
   "name": "python3"
  },
  "language_info": {
   "name": "python",
   "version": "3.9.18"
  }
 },
 "nbformat": 4,
 "nbformat_minor": 2
}
