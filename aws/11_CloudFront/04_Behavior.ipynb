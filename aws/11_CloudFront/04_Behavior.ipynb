{
 "cells": [
  {
   "cell_type": "markdown",
   "metadata": {},
   "source": [
    "# Amazon CloudFront Cache Behavior(동작)\n",
    "- CloudFront의 요청이 어떻게 처리되는지 정의하는 다양한 설정의 모음\n",
    "- 경로 패턴 단위로 Behavior를 구성\n",
    "    - 예: files/* = 모든 파일에 대하여 N초 동안 캐싱하겠다\n",
    "    - 예: files/*.png = 파일 중 png 파일은 캐싱하지 않겠다\n",
    "    - 경로 패턴 목록 중 처음으로 매칭된 패턴의 동작을 적용\n",
    "    - 신규 생성시 *로 고정(모든 오브젝트로 고정)\n",
    "- 주요 구성 내용\n",
    "    - 원본 = Origin\n",
    "    - 뷰어 설정\n",
    "    - 캐시 정책, Viewer Response Policy, Lambda@EDGE 연경"
   ]
  },
  {
   "cell_type": "markdown",
   "metadata": {},
   "source": [
    "## Viewer 설정\n",
    "- 뷰어 프로토콜\n",
    "    - 뷰어가 클라우드프론트에 접근하는 프로토콜\n",
    "    - HTTP, HTTPS (왜 보안적으로 뛰어난 HTTPS만 쓰지 HTTP도 허용할까? HTTPS가 더 비싸니까)\n",
    "    - Redirect HTTP to HTTPS = HTTP로 들어오면 HTTPS로 재연결. 대부분의 경우 사용\n",
    "    - HTTPS only = HTTP로 접근하면 아예 막혀버림\n",
    "- HTTP Method\n",
    "    - GET, HEAD, OPTIONS, PUT, POST, PATCH, DELETE 등의 Method 중 어떤 접근을 허용할 지 설정 가능\n",
    "- 뷰어 엑세스를 제한 : Presigned URL / Presigned Cookie로만 접근 가능하도록 할지 여부 설정"
   ]
  },
  {
   "cell_type": "markdown",
   "metadata": {},
   "source": [
    "## 정책 설정\n",
    "- Cache Policy\n",
    "    - 어떤 키(HTTP Header, Cookie, QueryString)로 컨텐츠를 캐시하는지\n",
    "    - 얼마나 오래 캐시하는지 : TTL\n",
    "    - 컨텐츠 압축 저장 관련 설정\n",
    "- Origin Request Policy\n",
    "    - Origin에 컨텐츠를 요청할 때 어떤 내용을 전달할 것인지 (HTTP Header, QueryString등)\n",
    "    - 캐시 키로 사용할지 여부와 독립적으로 설정 가능\n",
    "- Response Header Policy\n",
    "    - 응답 과정에서 어떤 HTTP Header를 제거하거나 더할지 설정\n",
    "    - 최대 10개\n",
    "    - Authorization Header만 따로 불가능"
   ]
  },
  {
   "cell_type": "markdown",
   "metadata": {},
   "source": [
    "## 기타 설정\n",
    "- Field Level Encryption : CloudFront의 컨텐츠를 보호하는 방법\n",
    "- Lambda@Edge"
   ]
  }
 ],
 "metadata": {
  "language_info": {
   "name": "python"
  }
 },
 "nbformat": 4,
 "nbformat_minor": 2
}
