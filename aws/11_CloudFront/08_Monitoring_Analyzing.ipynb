{
 "cells": [
  {
   "cell_type": "markdown",
   "metadata": {},
   "source": [
    "# Amazon CloudFront Monitoring / Analyzing"
   ]
  },
  {
   "cell_type": "markdown",
   "metadata": {},
   "source": [
    "## 클라우드프론트 모니터링\n",
    "- 다양한 방법으로 모니터링 가능\n",
    "    - 클라우드워치 지표\n",
    "    - Access Log / Real Time Log"
   ]
  },
  {
   "cell_type": "markdown",
   "metadata": {},
   "source": [
    "### 클라우드프론트의 클라우드워치 지표\n",
    "- 클라우드워치를 통해 다양한 지표 제공\n",
    "    - 기본 지표\n",
    "        - 요청 숫자/Data Transfer/4xx,5xx,total error rate\n",
    "    - 추가 지표(추가 비용)\n",
    "        - Cache Hit Rage/Origin Latency/Error Rate By Status Code(401,403,404,502,503,504)\n",
    "        - 추가 지표 비용은 고정. 활성화 지표 별로 한달에 한번 발생(Per Distribution)\n",
    "- 지표들은 버지니아 리전(US-East-1)에서 확인"
   ]
  },
  {
   "cell_type": "markdown",
   "metadata": {},
   "source": [
    "### 클라우드프론트 Access Log\n",
    "- Access Log(Standard Log) : 모든 유저의 요청을 S3 버킷에 로깅. 실시간이 아니며 지연시간 발생\n",
    "    - 배포 단위로 요청받은 엣지로케이션에서 지속적으로 로그 파일을 만들고 S3 버킷으로 Flush\n",
    "    - 시간 단위로 여러번 Flush\n",
    "        - 최대 24시간 지연 가능\n",
    "        - 아예 전송되지 않고 누락될 수 있음\n",
    "        - 헤더와 쿠키의 크기가 20KB가 넘거나 URL이 8192바이트가 넘어갈 경우 클라우드프론트에서 요청을 별도로 Parse하지 않고 처리\n",
    "            - 이 경우 로깅이 되지 않음\n",
    "            - 바디의 크기는 상관 없음\n",
    "- Real Time Log : 초단위의 지연시간으로 요청을 실시간 로깅\n",
    "    - 클라우드프론트의 요청 로그를 실시간으로 처리할 수 있는 기능\n",
    "        - 키네시스 데이터 스트림으로 처리\n",
    "            - 추후 Firehose등으로 S3에 로그 저장, Redshift / Opensearch 등으로 분석 가능\n",
    "    - 추가 비용 발생\n",
    "    - 로그의 지연 시간이 발생하거나 누락될 수 있음\n",
    "    - 설정 값\n",
    "        - Sampling Rate : 요청 중 얼마만큼을 실제로 받아볼 것인지에 관한 설정 (1~100)\n",
    "        - Fields : 로그 내용 중 실시간으로 받아볼 필드\n",
    "            - 예 : 타임스탬프, 클라이언트 IP 등등\n",
    "        - Cache 동작 : 실시간 로그를 받아볼 패턴 단위의 동작(Behavior)\n",
    "    - Kinesis Stream 권한 설정에 IAM 역할 필요"
   ]
  },
  {
   "cell_type": "markdown",
   "metadata": {},
   "source": [
    "### 클라우드프론트 보고서 및 분석\n",
    "- AWS에서 제공하는 클라우드프론트의 통계 및 분석 페이지\n",
    "    - 캐시 통계, 인기 객체, 레퍼러, 사용량, 뷰어 종류 등을 배포 별로 확인 가능"
   ]
  },
  {
   "cell_type": "markdown",
   "metadata": {},
   "source": [
    "### 데모 - 클라우드프론트 로깅 확인"
   ]
  }
 ],
 "metadata": {
  "language_info": {
   "name": "python"
  }
 },
 "nbformat": 4,
 "nbformat_minor": 2
}
