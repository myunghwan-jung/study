{
 "cells": [
  {
   "cell_type": "markdown",
   "metadata": {},
   "source": [
    "# Amazon CloudFront 기초\n",
    "- Amazon CloudFront는 개발자 친화적 환경에서 짧은 지연 시간과 빠른 전송 속도로 데이터, 동영상, 어플리케이션 및 API를 전 세계 고객에게 안전하게 전송하는 고속 컨텐츠 전송 네트워크(CDN) 서비스입니다\n",
    "- AWS에서 제공하는 Contents Delivery Network(CDN)\n",
    "    - 웹 페이지, 이미지, 동영상 등의 컨텐츠를 본래 서버에서 받아와 캐싱\n",
    "    - 해당 컨텐츠에 대한 요청이 들어오면 캐싱해둔 컨텐츠를 제공\n",
    "    - 컨텐츠를 제공하는 서버와 실제 요청 지점간의 지리적 거리가 매우 먼 경우, 요청 지점 근처의 CDN을 통해 빠르게 컨텐츠 제공 가능\n",
    "- 엣지 로케이션에 데이터를 캐싱\n",
    "    - 따라서 원본이 변해도 캐싱이 만료되지 않는다면 유저가 보는 내용은 변하지 않음\n",
    "- 글로벌 서비스, 단 리전은 US-East-1 취급\n",
    "- 정적 컨텐츠, 동적 컨텐츠 모두 호스팅 가능"
   ]
  },
  {
   "cell_type": "markdown",
   "metadata": {},
   "source": [
    "## 엣지 로케이션\n",
    "- AWS의 CloudFront(CDN)등의 여러 서비스들을 가장 빠른 속도로 제공(캐싱)하기 위한 거점\n",
    "- Global Accelerator와 유저를 연결하는 거점\n",
    "- 전 세계 여러 장소에 흩어져있음"
   ]
  },
  {
   "cell_type": "markdown",
   "metadata": {},
   "source": [
    "## 정적 컨텐츠, 동적 컨텐츠\n",
    "- 정적 컨텐츠\n",
    "    - 서버에 저장된 파일이 모든 사용자에게 동일하게 전달되는 컨텐츠\n",
    "    - 매번 서버에 요청할 필요 없이 캐싱 가능\n",
    "    - HTML / Javascript 등으로 구성\n",
    "    - 예 : 이미지, 글, 뉴스 등\n",
    "- 동적 컨텐츠\n",
    "    - 시간, 사용자, 입력 등에 따라 내용이 변경되는 컨텐츠\n",
    "    - 매번 서버에 요청하여 내용을 구성하고 전달받아야 함\n",
    "    - PHP, JSP, ASP.net 등으로 서버 처리\n",
    "    - 예 : 로그인이 필요한 내용, 게시판, 댓글 등"
   ]
  },
  {
   "cell_type": "markdown",
   "metadata": {},
   "source": [
    "## 용어 정리\n",
    "- 원본(Origin) : 실제 컨텐츠가 존재하는 서버(EC2, S3 등)\n",
    "- 배포(Distribution) : CloudFront의 CDN 구분 단위. 여러 엣지 로케이션으로 구성된 컨텐츠 제공 채널\n",
    "- 동작(Behavior) : 프로토콜, 캐싱 정책, 로그 등 어떻게 컨텐츠를 전달할지 설정\n",
    "- Edge Location(=Points of Presence =POP) : 데이터를 가장 빠른 속도로 제공(캐싱)하기 위한 거점\n",
    "- Regional Edge Cache : Edge Location의 상위 단위로 좀 더 큰 캐싱 거점"
   ]
  },
  {
   "cell_type": "markdown",
   "metadata": {},
   "source": [
    "## 주요 비용\n",
    "- 데이터 송신/수신\n",
    "- 엣지 컴퓨팅\n",
    "- 추가 기능"
   ]
  }
 ],
 "metadata": {
  "language_info": {
   "name": "python"
  }
 },
 "nbformat": 4,
 "nbformat_minor": 2
}
