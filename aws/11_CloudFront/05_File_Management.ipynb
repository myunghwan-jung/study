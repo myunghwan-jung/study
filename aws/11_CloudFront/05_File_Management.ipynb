{
 "cells": [
  {
   "cell_type": "markdown",
   "metadata": {},
   "source": [
    "# Amazon CloudFront의 파일 관리\n",
    "- 컨텐츠에 해당하는 파일을 어떻게 업데이트하고 관리하는지\n",
    "- 크게 두 가지로 관리\n",
    "    - 싱글 파일 : 파일명을 유지한채로 캐시 만료 처리, 업데이트 등을 처리\n",
    "        - 별도로 클라이언트 업데이트 필요 없음\n",
    "        - 캐시 만료 전 제공 파일을 업데이트 하려면 Invalidation 필요\n",
    "        - Invalidation = 캐시를 삭제시켜서 CloudFront가 Origin에 새로운 파일을 요청하도록 만드는 것\n",
    "    - 버저닝 : 파일 이름에 다양한 방법으로 버전을 부여하여 관리\n",
    "        - 별도로 Invalidation 필요 없음\n",
    "        - 파일 업데이트 시 클라이언트 업데이트 필요 (파일 명이 달라지니까. 클라이언트 입장에서 호출할 이름이 달라짐)"
   ]
  },
  {
   "cell_type": "markdown",
   "metadata": {},
   "source": [
    "## Invalidation\n",
    "- 캐시 만료 전 파일 갱신\n",
    "- 버저닝이 아닌 형태로 파일을 제공할 경우 캐시 만료 전에 새 파일을 제공하기 위해서는 Invalidation 필요\n",
    "- 경로 기반\n",
    "    - /img/img1.png = 특정 파일\n",
    "    - /img/* = 경로 내 모든 파일\n",
    "- 한번에 최대 3000파일까지 Invalidation 가능\n",
    "    - 예 : 100개씩 30 Invalidations or 1000개씩 3 Invalidations\n",
    "- 한달에 1000 Path Invalidations는 무료 (계정 전체 Distribution 포함), 이후 한번 경로당 $0.005"
   ]
  },
  {
   "cell_type": "markdown",
   "metadata": {},
   "source": [
    "### 데모\n",
    "1. 인스턴스 프로비전\n",
    "    - 키페어 없음\n",
    "    - 보안 그룹 디폴트\n",
    "    - 유저데이터 스크립트 입력\n",
    "2. 클라우드프론트 배포 생성\n",
    "    - http만 해당\n",
    "    - 캐시 기간 설정 = Legacy, TTL 기본\n",
    "    - 보안 보호 비활성화\n",
    "3. 인스턴스 연결\n",
    "    - sudo -s\n",
    "    - nano /var/www/html/index.html 수정\n",
    "    - 클라우드프론트 페이지 새로고침해도 그대로임 (캐싱 중이니까)\n",
    "4. 클라우드프론트에서 무효화(Invalidation)\n",
    "    - 객체 경로 : /*\n",
    "    - 이제 클라우드프론트 페이지 새로고침하면 업데이트\n",
    "5. 리소스 정리 : 인스턴스, 클라우드프론트 배포"
   ]
  }
 ],
 "metadata": {
  "language_info": {
   "name": "python"
  }
 },
 "nbformat": 4,
 "nbformat_minor": 2
}
