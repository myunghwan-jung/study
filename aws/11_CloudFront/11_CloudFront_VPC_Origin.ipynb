{
 "cells": [
  {
   "cell_type": "markdown",
   "id": "41004afa",
   "metadata": {},
   "source": [
    "# CloudFront VPC Origin\n",
    "- CloudFront의 Origin으로 VPC 안의 리소스를 지정할 수 있는 기능\n",
    "    - 기존에는 S3 이외의 커스텀 오리진으로 퍼블릭 인터넷의 리소스만 지정 가능\n",
    "    - ALB / NLB / EC2 지원\n",
    "    - 보안 그룹으로 트래픽 통제 가능 : CloudFront Managed Prefix 활용\n",
    "- 제약 사항\n",
    "    - CloudFront와 같은 계정의 VPC만 연동 가능\n",
    "    - 지원하는 리전의 VPC만 사용 가능\n",
    "        - AP-Northeast-2의 경우 apne2-az1 사용 불가능 (ALB에 포함되어 있어도 불가능)\n",
    "    - VPC에 Internet Gateway 필요 (인터넷 통신용이 아니기에 대상으로 라우트테이블 연동은 필요 없음)\n",
    "    - Private Subnet에 적어도 하나의 IPv4 주소 가용 필요 (ENI 확보용)\n",
    "    - 웹소켓, gRPC, origin Rewrite with Lambda@Edge, Response Timeout, Keep Alive Timeout 불가능"
   ]
  },
  {
   "cell_type": "markdown",
   "id": "48e2505c",
   "metadata": {},
   "source": [
    "## 데모\n",
    "- CloudFormation으로 VPC + Internal ALB + Private EC2 프로비전\n",
    "- CloudFront VPC Origin으로 해당 컨텐츠 제공\n",
    "- 순서\n",
    "    1. 클라우드포메이션으로 리소스 생성\n",
    "    2. 클라우드프론트 생성"
   ]
  }
 ],
 "metadata": {
  "language_info": {
   "name": "python"
  }
 },
 "nbformat": 4,
 "nbformat_minor": 5
}
