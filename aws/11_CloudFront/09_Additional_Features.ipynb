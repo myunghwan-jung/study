{
 "cells": [
  {
   "cell_type": "markdown",
   "metadata": {},
   "source": [
    "# Amazon CloudFront 기타 기능"
   ]
  },
  {
   "cell_type": "markdown",
   "metadata": {},
   "source": [
    "## Staging Distribution\n",
    "- 클라우드 프론트 업데이트 전에 Stage Distribution을 만들어 테스트/카나리 적용 가능\n",
    "- 워크 플로우\n",
    "    - 원본 배포에서 파생된 Stage Distribution을 생성\n",
    "    - Stage Distribution으로 Header/Weight 기반으로 트래픽 라우팅\n",
    "    - 검수가 완료되면 Stage Distribution을 원본으로 승격\n",
    "- Stage Distribution은 원본과 다른 설정 가능(중간 변경 가능)\n",
    "    - Cache 정책, Origin 설정, 에러 설정, 지역별 제한 등\n",
    "    - S3의 경우 OAC 설정 별도로 추가 필요\n",
    "- Stage Distribution과 원본은 별도로 캐시 관리\n",
    "- CloudFront 서비스에 로드가 많을 경우 모든 요청을 Primary로 보내는 경우 발생 가능\n",
    "    - Distribution이 아닌 CloudFront 서비스 전체 단위"
   ]
  },
  {
   "cell_type": "markdown",
   "metadata": {},
   "source": [
    "## WebSocket\n",
    "- 별도의 설정 없이 기본적으로 웹소켓 프로토콜 지원\n",
    "    - 오리진 서버의 지원 필요\n",
    "- 다음 HTTP Header를 오리진으로 전달해야함\n",
    "    - Sec-WebSocket-Key\n",
    "    - Sec-WebSocket-Version\n",
    "    - Sec-Websocket-Protocol\n",
    "    - Sec-Websocket-Accept\n",
    "    - Sec-Websocket-Extensions"
   ]
  }
 ],
 "metadata": {
  "language_info": {
   "name": "python"
  }
 },
 "nbformat": 4,
 "nbformat_minor": 2
}
