{
 "cells": [
  {
   "cell_type": "markdown",
   "metadata": {},
   "source": [
    "# Amazon CloudFront 컨텐츠 보호(1)"
   ]
  },
  {
   "cell_type": "markdown",
   "metadata": {},
   "source": [
    "## 컨텐츠 접근 제한\n",
    "- 클라우드프론트에서 컨텐츠에 대한 접근 제한\n",
    "    - 클라우드프론트에 접근하는 주체 별로 다르게 컨텐츠의 접근 제한이 필요한 경우\n",
    "        - 예 : 프리미엄 티어용 영상, 유저 전용 다운로드 이미지 등\n",
    "- 클라우드프론트 오리진에 대한 직접 접근 제한\n",
    "    - 클라우드프론트를 거치지 않고 직접 오리진에 접근하는 것을 막고 싶은 경우"
   ]
  },
  {
   "cell_type": "markdown",
   "metadata": {},
   "source": [
    "## 클라우드프론트에서 컨텐츠 접근 제한\n",
    "- 두 가지 방법\n",
    "    - Signed URL : 권한 정보가 담긴 임시 URL을 발급하여 뷰어에게 전달, 컨텐츠를 다운로드 할 수 있도록 허용\n",
    "        - URL 당 하나의 파일만 사용 가능\n",
    "    - Sigend Cookie : 뷰어가 권한을 행사해 다운로드 할 수 있도록 컨텐츠 접근 권한을 가진 쿠키를 발급해 뷰어에게 전달\n",
    "        - 다수의 파일에 사용 가능\n",
    "    - 둘 다 만료 기간 설정 가능"
   ]
  },
  {
   "cell_type": "markdown",
   "metadata": {},
   "source": [
    "### Signer \n",
    "- Signed URL, Cookie를 만들 권한을 가진 주체\n",
    "- 두 가지 종류\n",
    "    - Trusted Key Group(추천) : CloudFront에 Public/Private Key Pair중 Public Key를 등록, 가지고 있는 Private Key로 Presigned URL, Cookie를 생성하는 방식\n",
    "    - AWS Account(비추천) : Root 사용자(IAM 사용자 불가능)로 계정의 CloudFront Key Pair를 다운받아 활용\n",
    "        - AWS Root 사용자를 활용해야 하고, API를 사용할 수 없고, IAM을 통한 권한제어 불가능 = 비추천\n",
    "- CloudFront URL을 만들 때 Distribution 단위로 등록된 Key Group을 활용\n",
    "    - Key Group : Private/Public Key로 이루어진 키 쌍의 집합. 클라우드프론트에 업로드하는 하나 이상의 퍼블릭키로 구성"
   ]
  },
  {
   "cell_type": "markdown",
   "metadata": {},
   "source": [
    "### Presigned 정책\n",
    "- Presigned URL, Cookie를 만들 때 URL, Cookie의 권한을 설정하기 위한 정책\n",
    "- 두 가지 종류\n",
    "    - Canned Policy : 간단한 버전, 만료시간만 설정 가능. URL이 짧아지는 장점이 있음\n",
    "        - 정책 재사용 불가능, 사용 가능 시점 적용 불가능, 만료 시점 적용 가능, IP Range 제한 불가능\n",
    "    - Custom Policy : 모든 제약 사항 설정 가능.(URL이 길어짐) Presigned URL, Cookie의 동작 범위, 만료 시간, IP제한 등\n",
    "        - 정책 재사용 가능, 사용 가능 시점 적용 가능(선택적), 만료 시점 적용 가능, IP Range 제한 가능(선택적)"
   ]
  },
  {
   "cell_type": "markdown",
   "metadata": {},
   "source": [
    "### 데모\n",
    "1. CloudShell에 스크립트 적용\n",
    "    - 생성된 키페어를 다운로드\n",
    "2. 클라우드프론트에 키페어 등록\n",
    "    - 키 관리 : 퍼블릭 키\n",
    "    - 키 그룹 생성 : 키그룹 아이디 복사, .env 파일에 등록\n",
    "3. readme에 따라 배포\n",
    "4. systems manager 콘솔로 이동\n",
    "    - 파라미터 스토어 : 프라이빗 키 업데이트\n",
    "5. 클라우드프론트 콘솔로 이동\n",
    "    - 배포를 확인해보면 뷰어 엑세스 제한이 설정되어있음\n",
    "6. s3 버킷으로 이동\n",
    "    - 이미지를 업로드해보자\n",
    "    - 배포시에 나왔던 url로 접속\n",
    "    - 출력되는 URL로 접속해보자\n",
    "7. 리소스 정리 : 클라우드포메이션, iam 사용자 엑세스키 삭제"
   ]
  }
 ],
 "metadata": {
  "language_info": {
   "name": "python"
  }
 },
 "nbformat": 4,
 "nbformat_minor": 2
}
