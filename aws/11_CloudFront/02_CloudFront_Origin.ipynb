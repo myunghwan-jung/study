{
 "cells": [
  {
   "cell_type": "markdown",
   "metadata": {},
   "source": [
    "# Amazon CloudFront Origin\n",
    "- 원본(Origin)\n",
    "- 뷰어에게 보여줄 컨텐츠의 원본이 있는 거점\n",
    "- 두 가지 종류\n",
    "    - Amazon S3\n",
    "    - Custom Origin\n",
    "        - EC2\n",
    "        - ELB\n",
    "        - 기타 EC2 및 다른 HTTP 소스\n",
    "- 기본적으로 Distribution 하나 당 최대 25개의 Origin"
   ]
  },
  {
   "cell_type": "markdown",
   "metadata": {},
   "source": [
    "## S3 Origin\n",
    "- Amazon S3를 Origin으로 설정해 컨텐츠를 제공하는 경우\n",
    "- 도메인 형식은 {bucketname}.s3.{region}.amazonaws.com\n",
    "    - 이렇게 설정하지 않을 경우 Custom Origin 취급\n",
    "        - s3.amazonaws.com/{bucketname} = Custom Origin 취급\n",
    "        - http://{bucketname}.s3-website-{region}.amazonaws.com = S3 Static Hosting. Custom Origin 취급\n",
    "- S3 Origin만의 추가 기능\n",
    "    - S3의 접근 제한 기능 (OAC, OAI)\n",
    "    - Post/Put 등으로 직접 S3에 컨텐츠 업데이트 가능\n",
    "- 기타 활용 : S3 Object Lambda"
   ]
  },
  {
   "cell_type": "markdown",
   "metadata": {},
   "source": [
    "## Custom Origin\n",
    "- S3를 제외한 모든 Origin (S3도 정해진 형식을 따르지 않으면 Custom Origin 취급)\n",
    "    - MediaStore\n",
    "    - S3 Static Hosting\n",
    "    - Lambda Function URL\n",
    "    - Application Load Balancer\n",
    "    - EC2 or other HTTP source\n",
    "- Origin Group\n",
    "    - Origin 여러개를 그룹으로 묶어 Failover 시나리오에 대응 가능\n",
    "    - 예 : Primary에서 HTTP status 500을 반환할 경우, Secondary에서 컨텐츠 가져오기\n",
    "- HTTP/HTTPS로 접근할지 선택 가능\n",
    "- IP 주소는 사용 불가 : 도메인만 사용 가능"
   ]
  },
  {
   "cell_type": "markdown",
   "metadata": {},
   "source": [
    "### Origin Group\n",
    "- Failover를 대비하여 Primary, Secondary 두 Origin을 그룹으로 묶어 관리 가능\n",
    "- Primary에서 실패한 경우 자동으로 Secondary에 요청 (실패 기준 설정 가능)\n",
    "    - 실패를 나타내는 HTTP 코드가 반환된 경우\n",
    "    - Primary에 통신을 할 수 없는 경우(타임아웃 등)\n",
    "        - 기본 10초(3번 시도)\n",
    "        - 시도 횟수와 시간 조절 가능\n",
    "    - 요청의 응답이 늦어지는 경우\n",
    "        - 기본 30초, 최대 60초 조절 가능\n",
    "- Get, Head, Option Method에만 적용\n",
    "- Primary/Secondary 모두 실패한 경우에 커스텀 에러페이지 생성 가능\n"
   ]
  },
  {
   "cell_type": "markdown",
   "metadata": {},
   "source": [
    "### Origin Custom Header\n",
    "- CloudFront에서 Origin에 요청 시 커스텀 추가 헤더 전달 가능\n",
    "- 이미 요청에 포함되어 있으면 덮어 씌움\n",
    "- 최대 10개 (증가 요청 가능)\n",
    "- 추가 불가능한 Header 존재\n",
    "    - 예 : Host, Range, Connection, Cache-Control, X-Amz-* 등"
   ]
  },
  {
   "cell_type": "markdown",
   "metadata": {},
   "source": [
    "## Demo\n",
    "1. "
   ]
  }
 ],
 "metadata": {
  "language_info": {
   "name": "python"
  }
 },
 "nbformat": 4,
 "nbformat_minor": 2
}
