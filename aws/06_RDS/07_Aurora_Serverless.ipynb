{
 "cells": [
  {
   "cell_type": "markdown",
   "id": "76d9b99c",
   "metadata": {},
   "source": [
    "# Aurora Serverless\n",
    "- Amazon Aurora Serverless는 Amazon Aurora의 온디맨드 Auto Scaling 구성입니다. 어플리케이션 요구 사항을 기반으로 자동으로 시작 및 종료하고 용량을 확장 또는 축소합니다. Aurora Serverless를 사용하면 데이터베이스 용량을 관리하지 않고도 클라우드에서 데이터베이스를 실행할 수 있습니다\n",
    "- Aurora의 Serverless 버전\n",
    "    - 인스턴스를 미리 프로비전하거나 관리할 필요 없이 DB 엔진을 사용 가능\n",
    "    - t2.micro / t2.medium 등 인스턴스 타입 선택 역시 불필요\n",
    "- V1, V2 존재\n",
    "    - V1은 2024-12-31 지원 종료\n",
    "- 주요 장점\n",
    "    - 초당 몇만건의 트렌젝션 수준에서 0 트래픽까지 연결/트렌젝션의 장애 없이 스케일 가능\n",
    "        - 컴퓨팅 파워 / 스토리지 자동 스케일링\n",
    "    - 사용한 만큼만 비용 지불\n",
    "- 주요 사용 사례\n",
    "    - 개발용 리소스 / Read Replica (원본은 Aurora로 쓰고 복제본은 Serverless) / Fail Over 대비 리소스 등"
   ]
  },
  {
   "cell_type": "markdown",
   "id": "d3ecf48b",
   "metadata": {},
   "source": [
    "## ACU\n",
    "- Aurora Capacity Unit : Aurora Serverless의 Scale 단위\n",
    "- 1 ACU : 약 2gb RAM, CPU, 네트워크\n",
    "- 최소 / 최대 ACU 설정 가능\n",
    "    - 최소 0 ~ 최대 256 (엔진 버전 별로 차이 존재)\n",
    "- 요금 역시 ACU 소모량에 따라 과금"
   ]
  },
  {
   "cell_type": "markdown",
   "id": "3580012b",
   "metadata": {},
   "source": [
    "## Aurora Serverless Auto Pause 기능\n",
    "- 사용하지 않는 기간(=트렌젝션이 없거나 연결이 없는 기간)에는 ACU를 0으로 유지\n",
    "    - 컴퓨팅 리소스에 대한 비용 절감\n",
    "    - 단, 스토리지 및 기타 비용은 부과\n",
    "    - MySQL 3.08+, PostgreSQL 13.15+, 14.12+, 16.7+, 16.3+ 만 지원\n",
    "- Cold Start 발생\n",
    "    - 유휴 상태에서 다시 연결 / 트렌젝션을 처리하기 전 대기시간 발생 (약 15초~)\n",
    "    - 비지니스 로직에 따라 크리티컬 할 수도 아닐 수도 있다\n",
    "- 비활성 후 일시 정지까지 걸리는 시간 설정 가능\n",
    "    - 트래픽 / 연결이 없는 상태에서 0 ACU로 전환 대기 전 대기 시간 (5분~24시간)\n",
    "- 유휴 / 재시작 시 AWS RDS 이벤트 발생 -> EventBridge로 확인 가능\n",
    "    - 기타 instace.log에서 중지 이유, 혹은 중지할 수 없는 이유 등에 대한 리포트 확인 가능"
   ]
  }
 ],
 "metadata": {
  "language_info": {
   "name": "python"
  }
 },
 "nbformat": 4,
 "nbformat_minor": 5
}
