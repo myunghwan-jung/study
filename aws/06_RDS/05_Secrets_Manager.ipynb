{
 "cells": [
  {
   "cell_type": "markdown",
   "metadata": {},
   "source": [
    "# AWS Secrets Manager\n",
    "- Secrets Manager는 어플리케이션, 서비스, IT 리소스에 액세스할 때 필요한 보안 정보를 보호하는데 도움이 됩니다. 이 서비스를 사용하면 수명 주기에 걸쳐 데이터베이스 자격 증명, API 키 및 다른 보안 정보를 손쉽게 교체, 관리 및 검색할 수 있습니다.\n",
    "- 보안 정보(암호, API Key 등)을 안전하게 저장하고 손쉽게 사용할 수 있도록 도와주는 서비스\n",
    "    - RDS, Redshift 등의 암호를 안전하게 저장하고 관리\n",
    "- 보안 정보의 주기적인 교체(Rotation)지원\n",
    "    - 일정 주기로 자동으로 RDS의 암호를 교체 및 데이터베이스에 적용\n",
    "- CloudFormation등 다른 서비스와 연동하여 안전한 보안 확보 가능\n",
    "- RDS및 관련 서비스(RDS Proxy등)와 연동\n",
    "- 보안 정보를 저장하고 불러오는데 비용이 발생\n",
    "    - Parameter Store와의 가장 큰 차이점 : Parameter Store는 무료, Rotation 기능은 없음\n",
    "- 바로 삭제 불가능 : 7일 대기 필요 (애초에 삭제가 어렵도록 만들었기 때문)"
   ]
  }
 ],
 "metadata": {
  "language_info": {
   "name": "python"
  }
 },
 "nbformat": 4,
 "nbformat_minor": 2
}
