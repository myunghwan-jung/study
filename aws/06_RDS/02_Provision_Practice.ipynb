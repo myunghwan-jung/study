{
 "cells": [
  {
   "cell_type": "markdown",
   "metadata": {},
   "source": [
    "# RDS 프로비전 실습\n",
    "1. RDS 콘솔 접속, 데이터베이스 생성\n",
    "    - Maria DB 선택\n",
    "    - 템플릿 : 프리티어\n",
    "    - DB 인스턴스 식별자 입력\n",
    "    - 자체관리 선택, 마스터 암호 설정\n",
    "    - 인스턴스 타입 선택 : t4g.micro\n",
    "    - EBS 설정 : 디폴트\n",
    "    - 퍼블릭 엑세스 오픈\n",
    "    - 보안 그룹 디폴트\n",
    "    - 추가 구성\n",
    "        - 초기 데이터베이스 생성\n",
    "        - 로그 내보내기 모두 선택\n",
    "2. 데이터베이스 선택\n",
    "    - 연결 및 보안\n",
    "        - 엔드포인트 복사 : MySql Workbench에서 호스트네임\n",
    "        - 유저 네임 : admin\n",
    "        - Password : 마스터 암호\n",
    "    - 데이터베이스 테스트\n",
    "        - query에 select now() 입력 : 한국 시간보다 9시간 전이 나올 거임\n",
    "        - RDS 콘솔의 파라미터 그룹에서 수정해보자\n",
    "            - 파라미터 그룹 생성\n",
    "                - 그룹 이름, 설명 : my-parameter-group\n",
    "                - 엔진 : mariadb\n",
    "                - 파라미터 그룹 패밀리 : db 엔진과 호환되는 버전 선택\n",
    "            - 파라미터 필터링에 time_zone 수정 : Asia/Seoul\n",
    "    - RDS에 파라미터 그룹 적용\n",
    "        - RDS 수정 : 생성한 파라미터 그룹 적용\n",
    "        - DB 재부팅\n",
    "    - Workbench에서 다시 접속해서 select now() 다시 입력해보자\n",
    "3. 리소스 정리 : DB 삭제 (스냅샷, 자동 백업 체크 해제)\n",
    "\n"
   ]
  }
 ],
 "metadata": {
  "language_info": {
   "name": "python"
  }
 },
 "nbformat": 4,
 "nbformat_minor": 2
}
