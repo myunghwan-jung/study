{
 "cells": [
  {
   "cell_type": "markdown",
   "id": "1fc6c92f",
   "metadata": {},
   "source": [
    "# Aurora Serverless 실습\n",
    "1. RDS에서 Aurora Serverless 생성\n",
    "    - 템플릿 : 개발/테스트\n",
    "    - 자격증명 : 자체 관리\n",
    "    - 인스턴스 구성 : 서버리스v2\n",
    "    - DB 엔진 버전 3.08+ 선택\n",
    "    - ACU 최소 용량 0, 최대 용량 16\n",
    "    - 비활성 대기 시간 5분\n",
    "    - 퍼블릭 엑세스 On\n",
    "2. Workbench 연결\n",
    "    - 접속 종료 후 유휴 상태로 전환되기를 기다려보자\n",
    "    - 다시 접속해보면 어떻게 될까? 콜드스타트로 인해 15초 소요\n",
    "3. 리소스 정리 : DB 인스턴스, 클러스터"
   ]
  },
  {
   "cell_type": "markdown",
   "id": "6edf5440",
   "metadata": {},
   "source": [
    "# 알아둘 점\n",
    "- Amazon Aurora의 몇몇 기능 사용 불가능\n",
    "    - 예 : Aurora DB Stream / Backtrack 등\n",
    "- 단위 시간당 비용은 기존 오로라에 비해 일반적으로 비싼 편\n",
    "    - Saving Plan(RDS도 불가능) / Reserved Instance 등 할인 혜택 적용 불가능\n",
    "- 생각보다 ACU는 민감하게 변동\n",
    "    - 유휴 상태에서 단순한 로그 조회로도 다시 ACU가 올라갈 수 있음\n",
    "    - 혹은 워크벤치 등 툴로 연결을 지속해둔 경우 유휴되지 않을 수 있음"
   ]
  }
 ],
 "metadata": {
  "language_info": {
   "name": "python"
  }
 },
 "nbformat": 4,
 "nbformat_minor": 5
}
