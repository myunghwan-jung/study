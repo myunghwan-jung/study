{
 "cells": [
  {
   "cell_type": "markdown",
   "metadata": {},
   "source": [
    "# Amazon RDS Proxy\n",
    "- AWS에서 제공하는 RDS의 Connection Pool 서비스\n",
    "    - Connection Pool : 커넥션 풀은 데이터베이스와의 연결을 관리하고 재사용하여 어플리케이션의 성능을 향상시키는 기능\n",
    "    - RDS로 연결하는 Connection들을 중간에서 관리하여 효율적으로 배분 및 관리\n",
    "- AWS의 EC2 혹은 Lambda와 같이 대규모의 Connection이 필요한 경우 활용 가능\n",
    "- 유저/패스워드 인증 혹은 IAM 인증 지원\n",
    "- 주의 사항\n",
    "    - VPC 내부에서만 활용 가능 : 퍼블릭 인터넷에서 접근 불가능(데이터베이스의 접근 가능 여부와 무관)\n",
    "    - 별도의 엔드포인트 보유 : RDS와 다른 엔드포인트 사용 필요\n",
    "        - 추가로 엔드포인트 생성 가능\n",
    "    - 기타 DB 엔진 별로 포트 제한이나 제약 사항이 있을 수 있음."
   ]
  },
  {
   "cell_type": "markdown",
   "metadata": {},
   "source": [
    "## RDS Proxy와 Secrets Manager\n",
    "- RDS Proxy는 Secrets Manager를 활용해서 RDS에 접근\n",
    "    - 즉 Secrets Manager에 RDS 자격증명 보관 필요\n",
    "    - 각 유저별로 다른 Secret 생성 필요\n",
    "- IAM DB 인증과 무관\n",
    "    - 즉 RDS Proxy는 IAM DB 인증을 사용하더라도, RDS Proxy에서 RDS는 Secrets Manager 활용\n",
    "    - RDS Proxy에 IAM DB 인증을 통해 접근할 뿐, 실제 Userid/Password(Secrets Manager)를 통해 RDS에 접근\n"
   ]
  },
  {
   "cell_type": "markdown",
   "metadata": {},
   "source": [
    "### 데모 - RDS Proxy 사용\n",
    "- RDS provision\n",
    "    - Secrets Manager 활용\n",
    "- RDS Proxy 설정\n",
    "- node.js 기반 어플리케이션으로 접속 테스트\n",
    "    - Secrets Manager를 활용해 인증 정보를 받아와 RDS와 통신\n",
    "    - RDS Proxy를 사용해 RDS와 통신\n",
    "    - RDS Proxy + IAM 인증을 사용해 RDS와 통신"
   ]
  },
  {
   "cell_type": "markdown",
   "metadata": {},
   "source": [
    "### 실습 순서\n",
    "1. RDS 프로비전\n",
    "    - MySQL\n",
    "    - 프리티어\n",
    "    - 데이터베이스 이름 my-db\n",
    "    - 자격 증명 관리 Secrets Manager 선택\n",
    "    - 퍼블릭 엑세스 yes\n",
    "2. IAM 권한 생성\n",
    "    - 역할 생성\n",
    "        - EC2가 사용\n",
    "        - 권한 : secretsmanagerreadwrite\n",
    "        - 권한 추가 : 인라인 정책, json에 스크립트 넣기\n",
    "3. Secrets Manager\n",
    "    - 보안 암호 세부 정보\n",
    "    - 보안 암호값 검색 : 나중에 이거 활용할 거임\n",
    "4. EC2 인스턴스 프로비전\n",
    "    - 키페어 사용\n",
    "    - 기존 보안 그룹 디폴트 선택\n",
    "    - 고급 세부 정보 : IAM 인스턴스 프로필 적용\n",
    "    - 유저데이터 입력 : 실습 스크립트\n",
    "5. RDS Proxy 프로비전\n",
    "    - 프록시 식별자 : my-db-proxy\n",
    "    - 대상 그룹 : my-db\n",
    "    - 인증 : secrets manager 보안 암호 선택\n",
    "    - IAM 인증 허용되지 않음\n",
    "    - 전송 계층 보안 선택\n",
    "6. .env 파일 수정, 인스턴스에 파일 넘기기\n",
    "7. 인스턴스에서 어플리케이션 실행, 각종 테스트\n",
    "8. rds proxy를 수정, iam db 인증으로 접근해보자\n",
    "    - iam 인증 필수로 변경\n",
    "9. 리소스 정리 : 인스턴스, 프록시, 데이터베이스, secrets manager"
   ]
  }
 ],
 "metadata": {
  "language_info": {
   "name": "python"
  }
 },
 "nbformat": 4,
 "nbformat_minor": 2
}
