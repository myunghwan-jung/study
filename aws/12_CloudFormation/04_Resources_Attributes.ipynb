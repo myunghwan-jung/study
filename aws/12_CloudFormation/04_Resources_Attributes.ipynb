{
 "cells": [
  {
   "cell_type": "markdown",
   "id": "5e14876c",
   "metadata": {},
   "source": [
    "# AWS CloudFormation Resources Attrbutes"
   ]
  },
  {
   "cell_type": "markdown",
   "id": "dc6ffd63",
   "metadata": {},
   "source": [
    "## 리소스 속성\n",
    "- 리소스 자체의 공통적인 속성을 정의\n",
    "    - CreationPolicy : 리소스의 생성 시 특정 조건을 만족해야 완료 처리 될 수 있도록 설정\n",
    "        - 예 : EC2에서 웹서버가 설치되어야 EC2 생성 완료 처리\n",
    "    - DeletionPolicy : 리소스 삭제 정책\n",
    "    - DependsOn : 특정 리소스가 생성된 이후 해당 리소스 생성을 시작하도록 설정\n",
    "        - 예 : 반드시 RDS가 생성된 이후에 EC2 생성을 시작해서 원활하게 서버가 설정되도록 구성\n",
    "    - Metadata : 리소스의 추가적인 정보를 제공\n",
    "    - UpdatePolicy : 리소스의 업데이트시 동작 방식을 정의\n",
    "        - 예 : Autoscale의 경우 업데이트 시 인스턴스 업데이트 방식 정의\n",
    "    - UpdateReplacePolicy : 리소스의 업데이트시 기존 리소스의 교체 방식을 정의\n",
    "        - 예 : EC2 인스턴스 업데이트 시 기존 EBS 볼륨의 스냅샷을 만들 것인지 여부 등을 정의"
   ]
  },
  {
   "cell_type": "markdown",
   "id": "ce9f31d8",
   "metadata": {},
   "source": [
    "### CreationPolicy\n",
    "- 리소스 생성 시 특정 조건을 만족해야 완료 처리될 수 있도록 설정\n",
    "    - 예 : EC2에서 웹서버가 설치되어야 EC2 생성 완료"
   ]
  },
  {
   "cell_type": "markdown",
   "id": "16f3acd9",
   "metadata": {},
   "source": [
    "### DeletionPolicy\n",
    "- 리소스 삭제 정책\n",
    "    - Delete : 스택 삭제 시 같이 삭제(몇 몇 리소스를 제외하고 기본 옵션)\n",
    "    - Retain : 스택 삭제 시 해당 리소스는 삭제하지 않고 보존\n",
    "        - 주의 : 리소스 생성에 실패하여 롤백할 때도 보존 됨\n",
    "        - RetainExceptOnCreate : 리소스 처음 생성할 때를 제외하고 보존. 즉 처음 생성 시 실패하면 삭제\n",
    "    - Snapshot(지원 시) : 스냅샷을 지원하는 리소스(EC2, RDS등)의 경우 삭제 시 스냅샷을 생성하고 삭제\n",
    "        - RDS, EBS, Redshift, ElasticCache 등"
   ]
  },
  {
   "cell_type": "markdown",
   "id": "cd7c13d6",
   "metadata": {},
   "source": [
    "### DependsOn\n",
    "- 특정 리소스가 생성된 이후 지정한 리소스 생성을 시작하도록 설정\n",
    "    - 참고 : !Ref, !GetAtt, !Sub로 묶인 경우에는 참조하는 리소스를 생성 후 해당 리소스 생성, 아닌 경우에는 DependsOn을 사용해야함\n",
    "- 즉, 참조가 없는 상태에서 리소스의 생성 순서를 제어하기 위해 사용"
   ]
  },
  {
   "cell_type": "markdown",
   "id": "458d7b92",
   "metadata": {},
   "source": [
    "### UpdatePolicy, UpdateReplacePolicy\n",
    "- UpdatePolicy : 리소스의 업데이트 시 동작 방식을 정의\n",
    "    - 예 : AutoScale의 경우 업데이트 시 인스턴스 업데이트 방식 정의(Replace, Rolling, Schedule)\n",
    "    - 예 : ElasticCache의 샤드의 업데이트 방식 정의\n",
    "- UpdateReplacePolicy : 리소스의 업데이트 시 기존 리소스의 교체 방식을 정의\n",
    "    - 예 : EC2 인스턴스, RDS의 업데이트 시 기존 EBS 볼륨의 스냅샷을 만들 것인지 여부 등을 정의"
   ]
  }
 ],
 "metadata": {
  "language_info": {
   "name": "python"
  }
 },
 "nbformat": 4,
 "nbformat_minor": 5
}
