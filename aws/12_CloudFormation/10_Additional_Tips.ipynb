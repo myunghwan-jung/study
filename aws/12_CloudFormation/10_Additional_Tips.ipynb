{
 "cells": [
  {
   "cell_type": "markdown",
   "id": "5a849a45",
   "metadata": {},
   "source": [
    "# CloudFormation 기타 팁"
   ]
  },
  {
   "cell_type": "markdown",
   "id": "19e722e1",
   "metadata": {},
   "source": [
    "## 콘솔에서는 숨겨진 리소스들\n",
    "- 클라우드포메이션에서 프로비전 시 콘솔에서 보이지 않는 리소스 존재\n",
    "    - 주로 하나의 리소스와 다른 리소스를 연결해주는 숨겨진 리소스\n",
    "        - 예 : Instance Profile : IAM 역할과 EC2를 연결\n",
    "        - 예 : EBS 볼륨 매핑"
   ]
  },
  {
   "cell_type": "markdown",
   "id": "d8c4ace8",
   "metadata": {},
   "source": [
    "## 유용한 기능 - 클라우드포메이션 가져오기\n",
    "- 기존에 있는 리소스를 만들어진 CloudFormation의 논리적 리소스(스택)으로 가져오기 가능\n",
    "    - 스택 간 리소스 옮기기도 가능\n",
    "- 두 가지 방법\n",
    "    - IaC Generator : 기존 리소스를 기반으로 자동으로 템플릿을 생성해주는 서비스(비추천)\n",
    "    - 수동 가져오기 : 수동으로 기존 리소스에 해당하는 리소스를 정의하여 가져오는 방법\n",
    "- 스택 작업 : 리소스를 스택으로 가져오기를 통해 가능!"
   ]
  },
  {
   "cell_type": "markdown",
   "id": "64ab5bc9",
   "metadata": {},
   "source": [
    "## 유용한 기능 - Drift Detection\n",
    "- Drift : CloudFormation의 논리적 리소스와 실제 물리적 리소스의 상태가 다른 경우\n",
    "    - 주로 물리적 리소스를 CloudFormation이 아닌 수단(SDK/CLI/콘솔)로 변경한 경우\n",
    "- 클라우드포메이션에서 스택의 Drift Detection 지원\n",
    "    - 현재 상태 기반으로 실제 리소스를 모니터링하여 논리적 리소스와 변경 점 확인\n",
    "    - 현재는 Retain Delete -> Import로만 해결 가능(딱히 자동 해결 기능은 없음)\n",
    "- 예를 들어 템플릿에서 t2.micro로 인스턴스 타입을 정의했는데, 콘솔에서 t2.medium으로 변경하면 drift에서 차이점을 Detect"
   ]
  },
  {
   "cell_type": "markdown",
   "id": "108836f3",
   "metadata": {},
   "source": [
    "## LLM 활용\n",
    "- 클라우드포메이션도 문서기 때문에 LLM을 활용해서 편리하게 작성 가능\n",
    "    - 리팩토링/주석/추가 리소스 등등"
   ]
  }
 ],
 "metadata": {
  "language_info": {
   "name": "python"
  }
 },
 "nbformat": 4,
 "nbformat_minor": 5
}
