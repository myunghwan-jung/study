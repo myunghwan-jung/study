{
 "cells": [
  {
   "cell_type": "markdown",
   "id": "a109a7db",
   "metadata": {},
   "source": [
    "# AWS CloudFormation - Nested Stack / Stack Set"
   ]
  },
  {
   "cell_type": "markdown",
   "id": "b86c30a9",
   "metadata": {},
   "source": [
    "## Nested Stack\n",
    "- 하나의 스택 안에 다른 스택을 포함하여 생성하는 기능\n",
    "    - 스택의 모듈화 가능\n",
    "- 계층 구조로 스택 프로비전 가능"
   ]
  },
  {
   "cell_type": "markdown",
   "id": "2f90d90d",
   "metadata": {},
   "source": [
    "### 데모 - Create Nested Stack\n",
    "1. S3에 instance.yml 템플릿 업로드\n",
    "    - 스택 생성에서 템플릿 파일 업로드를 사용하면 자동으로 업로드 된다\n",
    "    - S3 URL을 기억해두자\n",
    "2. 스택 생성 - nested_stack.yml로 스택 생성\n",
    "    - S3 URL에서 확인한 버킷 이름 입력\n",
    "    - 서브넷 모두 선택\n",
    "    - S3 URL에서 확인한 템플릿 이름 입력\n",
    "    - 기본 VPC 선택\n",
    "    - IAM 리소스 생성, CAPABILITY_AUTO_EXPAND 허용\n",
    "3. 생성되는 리소스를 확인\n",
    "    - 인스턴스 스택 1,2가 생성되고 있는 것을 확인할 수 있음(=개별 스택)\n",
    "    - 중첩된 스택들이 생성되는 것을 확인\n",
    "4. 스택 삭제 - 네스티드 스택을 삭제하면 안에 중첩된 스택들도 모두 삭제된다"
   ]
  },
  {
   "cell_type": "markdown",
   "id": "89ab5109",
   "metadata": {},
   "source": [
    "## Stack Set\n",
    "- 하나의 템플릿으로 다양한 리전 및 계정에 동시에 프로비전 및 관리 가능\n",
    "    - 업데이트 / 삭제 가능\n",
    "- 별도의 역할을 활용하여 프로비전(IAM 사용자 역할과 별도)\n",
    "    - 프로비전에 사용할 역할과, 해당 계정에서 사용할 역할의 분리\n",
    "- 다른 계정의 리소스를 프로비전 시키기 위해, 나의 계정 내부에서 IAM 역할로 리소스를 생성하는 것과 다른 방법이 필요\n",
    "- 다양한 설정 지원\n",
    "    - 리전, 계정 선택\n",
    "    - 동시에 프로비전할 스택 숫자\n",
    "    - 배포 방식 (순차/병렬)"
   ]
  },
  {
   "cell_type": "markdown",
   "id": "c7e4d5ff",
   "metadata": {},
   "source": [
    "### 데모 - 스택셋\n",
    "1. stack set role 템플릿으로 스택 생성\n",
    "    - 클라우드포메이션이 스택을 생성할 때 사용할 IAM Role을 생성한다고 보면 됨(Admin Role 부여)\n",
    "    - 실제로 유저에게는 어드민 권한이 없어도, 클라우드포메이션은 어드민 권한을 가지는 것과 같음\n",
    "2. instance stackset 템플릿으로 스택 생성\n",
    "    - stackset 메뉴 : 스택셋 만들기\n",
    "        - IAM 역할 선택\n",
    "        - 템플릿 업로드\n",
    "        - 계정 번호 입력\n",
    "        - us-east-1, us-west-1, ap-northeast-2 리전 선택\n",
    "        - 최대 동시 계정 : 3\n",
    "        - 내결함성 : 3\n",
    "        - 병렬적\n",
    "3. 리전 별 인스턴스 프로비전을 확인해보자\n",
    "4. 스택셋 삭제"
   ]
  }
 ],
 "metadata": {
  "language_info": {
   "name": "python"
  }
 },
 "nbformat": 4,
 "nbformat_minor": 5
}
