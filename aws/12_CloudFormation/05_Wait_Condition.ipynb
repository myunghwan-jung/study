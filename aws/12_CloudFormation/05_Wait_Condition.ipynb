{
 "cells": [
  {
   "cell_type": "markdown",
   "id": "2426debe",
   "metadata": {},
   "source": [
    "# AWS CloudFormation Wait Condition"
   ]
  },
  {
   "cell_type": "markdown",
   "id": "9d2aa239",
   "metadata": {},
   "source": [
    "## Wait Condition\n",
    "- 리소스의 프로비전 중 특정 주체가 로직을 수행 후 성공을 알릴 때 까지 리소스 프로비전을 멈추는 구성\n",
    "    - 예 : EC2 인스턴스를 프로비전할 때 다양한 설정작업(웹서버 설치 등) 이후 완료 처리\n",
    "- N개의 성공신호를 X초까지 대기 가능(최대 12시간)\n",
    "    - 실패 신호를 받으면 실패 처리\n",
    "    - X초 안에 N개의 성공 신호를 받지 못하면 실패 처리(TimeOut)\n",
    "- 두 가지 방법\n",
    "    - 별도의 AWS::CloudFormation::WaitCondition 리소스를 생성\n",
    "        - 다수의 리소스를 컨트롤할 경우\n",
    "    - 리소스의 CreationPolicy에서 설정\n",
    "        - EC2//Autoscale Group의 경우 추천"
   ]
  },
  {
   "cell_type": "markdown",
   "id": "12e30bca",
   "metadata": {},
   "source": [
    "## CloudFormation Helper Scripts\n",
    "- 클라우드포메이션과 소통을 도와주기 위한 Python 기반 스크립트\n",
    "    - cfn-signal : CloudFormation의 Wait Condition 리소스(혹은 CreationPolicy가 붙은 리소스)에 처리 완료 신호를 보내주는 스크립트\n",
    "        - cfn-signal -s {StackName/StackID} -r {ResourceID} --region {Region}\n",
    "    - cfn-init : 리소스 메타데이터 기반으로 패키지 설치나 파일 생성등을 담당\n",
    "    - cfn-get-metadata : 특정 경로의 메타데이터를 확보하는 스크립트\n",
    "    - cfn-hup : 업데이트를 체크하여 변경이 일어나면 커스텀 로직을 수행하는 스크립트\n",
    " Amazon Linux에는 기본적으로 설치\n",
    "    - 다른 OS에서는 별도로 설치 필요"
   ]
  }
 ],
 "metadata": {
  "language_info": {
   "name": "python"
  }
 },
 "nbformat": 4,
 "nbformat_minor": 5
}
