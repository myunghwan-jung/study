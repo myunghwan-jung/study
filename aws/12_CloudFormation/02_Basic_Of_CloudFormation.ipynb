{
 "cells": [
  {
   "cell_type": "markdown",
   "id": "16f88ae1",
   "metadata": {},
   "source": [
    "# AWS CloudFormation 기초"
   ]
  }
 ],
 "metadata": {
  "language_info": {
   "name": "python"
  }
 },
 "nbformat": 4,
 "nbformat_minor": 5
}
