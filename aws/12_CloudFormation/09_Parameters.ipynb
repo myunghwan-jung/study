{
 "cells": [
  {
   "cell_type": "markdown",
   "id": "ef1131e8",
   "metadata": {},
   "source": [
    "# CloudFormation 파라미터 활용"
   ]
  },
  {
   "cell_type": "markdown",
   "id": "980e23c7",
   "metadata": {},
   "source": [
    "## 추가 파라미터 타입\n",
    "- 일반적인 파라미터 타입(Integer/String) 이외에 클라우드 포메이션에서 지원하는 추가 파라미터 타입\n",
    "- AWS Parameter : AWS 리소스를 명시하는 파라미터 타입\n",
    "    - 예 : AWS::EC2::Instance::Id\n",
    "    - 예 : AWS::EC2::Image::Id\n",
    "    - 예 : List<AWS::EC2::AvailabilityZone::Name>\n",
    "- Systems Manager Parameter : AWS의 Systems Manager Parameter Store에서 값을 가져오는 타입\n",
    "    - 예 : AWS::SSM::Parameter::Value<AWS::EC2::Image::Id>"
   ]
  },
  {
   "cell_type": "markdown",
   "id": "265d6cce",
   "metadata": {},
   "source": [
    "## AWS Systems Manager\n",
    "- AWS Systems Manager는 AWS에서 인프라를 보고 제어하기 위해 사용할 수 있는 AWS 서비스입니다. Systems Manager 콘솔을 사용하여 여러 AWS 서비스의 운영 데이터를 보고 AWS 리소스에서 운영 태스크를 자동화할 수 있습니다"
   ]
  },
  {
   "cell_type": "markdown",
   "id": "ccac9d68",
   "metadata": {},
   "source": [
    "### AWS Systems Manager Parameter Store\n",
    "- AWS에서 주요 설정과 값들을 저장/관리/활용하기 위한 서비스\n",
    "    - 예 : API 주소, DB 호스트명, AMI ID, API Token, 유저 아이디/패스워드, 환경변수...\n",
    "- Public Parameter : AWS에서 공식적으로 배포하는 파라미터\n",
    "    - 각 OS별 최신 AMI의 아이디\n",
    "    - AWS의 모든 리전 목록\n",
    "    - AWS의 모든 서비스 목록\n",
    "    - 특정 서비스를 사용 가능한 리전 목록"
   ]
  },
  {
   "cell_type": "markdown",
   "id": "45edea0f",
   "metadata": {},
   "source": [
    "### Parameter Store 값 참조\n",
    "- 클라우드포메이션 템플릿 안에서 SSM Parameter Store의 값 참조 가능\n",
    "    - !Sub\"{{resolve:ssm:파라미터 이름}} 형식으로 사용\n",
    "- 주요 사용사례\n",
    "    - 퍼블릭 파라미터 참조(AMI Image ID, Endpoint 등)\n",
    "    - 환경 설정 값의 공유\n",
    "        - 예 : DB 패스워드, DB Host 명 등\n",
    "    - 기타 주요 값들 설정"
   ]
  },
  {
   "cell_type": "markdown",
   "id": "bdcaa3b6",
   "metadata": {},
   "source": [
    "### 데모\n",
    "1. instance and alb 템플릿으로 스택 만들기\n",
    "    - 템플릿을 살펴보면, AMI ID에 SSM 공용 파라미터 값이 들어가있는 것을 확인"
   ]
  },
  {
   "cell_type": "markdown",
   "id": "a996e9f4",
   "metadata": {},
   "source": [
    "### 파라미터 순서 및 규칙 정의\n",
    "- 클라우드포메이션의 파라미터를 입력 받을 때 그룹/라벨링/순서 조정 가능\n",
    "- Metadata 섹션 활용"
   ]
  },
  {
   "cell_type": "markdown",
   "id": "8ec7962a",
   "metadata": {},
   "source": [
    "### 다른 스택의 Ouput 참조\n",
    "- 다른 스택에서 Output 섹션으로 내보낸 값을 참조 가능\n",
    "- !ImportValue Intrisic 함수로 참조\n",
    "- 예 : !ImportValue MyExportedName\n",
    "- 스택 생성 후 \"출력\" 탭을 보면 Output Value들을 확인, 참조할 수 있다"
   ]
  }
 ],
 "metadata": {
  "language_info": {
   "name": "python"
  }
 },
 "nbformat": 4,
 "nbformat_minor": 5
}
