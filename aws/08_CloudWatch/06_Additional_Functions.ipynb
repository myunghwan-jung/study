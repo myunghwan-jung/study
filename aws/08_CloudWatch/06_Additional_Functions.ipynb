{
 "cells": [
  {
   "cell_type": "markdown",
   "metadata": {},
   "source": [
    "# Cloudwatch 기타 기능"
   ]
  },
  {
   "cell_type": "markdown",
   "metadata": {},
   "source": [
    "## 클라우드워치 대시보드\n",
    "- AWS의 다양한 메트릭, 로그데이터 기반으로 대시보드 생성 가능\n",
    "    - 외부 커스텀 그래프 등 대시보드 커스터마이징 가능\n",
    "- 외부에 공유 가능"
   ]
  },
  {
   "cell_type": "markdown",
   "metadata": {},
   "source": [
    "## 클라우드워치 Synthetics\n",
    "- 일정 기반으로 구성 가능한 스크립트인 \"Canary\"를 수행하여 엔드포인트 및 API를 모니터링할 수 있는 서비스\n",
    "- Canary : Puppeteer이나 Selenium Webdriver를 통해 헤드리스 Google Chrome 브라우저로 여러 액션을 수행\n",
    "    - Node.js 혹은 Python으로 코딩 가능\n",
    "    - 1~60분 간격으로 수행 설정 가능\n",
    "- 주기적으로 실행되어 엔드포인트의 상태를 확인하고, 에러 혹은 평소와 다른 내용이 있다면 기록\n",
    "    - 시각 모니터링 가능 : 스크린샷 기반으로 비교 분석\n",
    "    - Http 응답 코드 기반으로 분석 : HAR 파일 생성\n",
    "- 직접 지표를 생성하여 게시 : 다른 지표들처럼 대시보드 구성, 알람 설정 가능"
   ]
  },
  {
   "cell_type": "markdown",
   "metadata": {},
   "source": [
    "## 인터넷, 네트워크 모니터\n",
    "- 전 세계 인터넷 날씨 지도 제공 : 전 세계의 인터넷 장애 발생 현황과 영향을 받은 고객 위치 확인 가능\n",
    "- 추가로 VPC, Cloudfront, NLB등 AWS 서비스와 관련된 내용을 별도로 모니터링 가능\n",
    "- 네트워크 모니터로 온프레미스와 AWS간의 네트워크 모니터링 가능"
   ]
  },
  {
   "cell_type": "markdown",
   "metadata": {},
   "source": [
    "## 클라우드워치 Resource Health\n",
    "- EC2의 현재 상태 정보를 모아서 시각적으로 표현해주는 서비스\n",
    "    - 별도의 설정 없이 모든 EC2의 메트릭, 태그 등을 종합하여 실시간으로 시각화\n",
    "- CPU 사용률 / 메모리 사용률 / 상태 기준으로 색상을 입혀 인스턴스를 표시\n",
    "    - 예 : CPU 0~10은 흰색, 10~50은 주황색, 50~100은 빨간색\n",
    "- 시각화 커스터마이징 가능\n",
    "    - 묶음 표시 기능 : Group By, Filter By 인스턴스 타입, 이미지 명, VPC ID 등\n",
    "    - 인스턴스의 각 임계값 별 색상 커스터마이징 기능"
   ]
  }
 ],
 "metadata": {
  "language_info": {
   "name": "python"
  }
 },
 "nbformat": 4,
 "nbformat_minor": 2
}
