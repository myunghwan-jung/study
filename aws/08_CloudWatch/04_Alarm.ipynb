{
 "cells": [
  {
   "cell_type": "markdown",
   "metadata": {},
   "source": [
    "# 클라우드워치 경보\n",
    "- 수집된 지표 값의 변동에 따라 발생하는 알림 생성\n",
    "    - 일정 수치(Threshold)로 도달하거나 이상/이하일 때 이벤트 발생\n",
    "- 3가지 상태\n",
    "    - OK : 정상 상태\n",
    "    - Alarm : 경보 상태\n",
    "    - INSUFFICIENT_DATA : 경보 상태를 확인하기 위한 정보가 부족함\n",
    "- 다양한 방법으로 대응 가능\n",
    "    - SNS로 Lambda 실행, 이메일 전달 등\n",
    "    - 예 : 웹서버의 500에러가 일정 수치 이상일 때 슬랙 알림\n",
    "- 지표의 Resolution에 따라 경보의 평가 주기 변동\n",
    "    - High Resolution이라면 60초 미만 주기로 평가 가능\n",
    "    - 이외에는 모두 60초의 배수 단위로 평가"
   ]
  },
  {
   "cell_type": "markdown",
   "metadata": {},
   "source": [
    "## 결합 경보(Composite Alarm)\n",
    "- 여러 경보를 결합한 경보\n",
    "    - 불리안 관계로 경보를 묶어서 경보 조건 설정\n",
    "    - AND, OR, NOT\n",
    "- 많은 경보의 결과를 효율적으로 전달받기 위해 사용\n",
    "- 예:\n",
    "    - CPU 사용량 AND 네트워크 사용량 경보 : 웹 팀에 알림\n",
    "    - NOT 웹서버 CPU 사용량 AND RDS CPU 사용량 경보 : DB팀에 알림\n",
    "    - (500에러 경보 or 400에러 경보) AND 네트워크 사용량 경보 : 유저 피크 알림 전달\n",
    "- Suppressor Alarm 설정 가능\n",
    "    - 이 경보가 알람 상태일 경우 결합 경보의 알림을 중지"
   ]
  }
 ],
 "metadata": {
  "language_info": {
   "name": "python"
  }
 },
 "nbformat": 4,
 "nbformat_minor": 2
}
