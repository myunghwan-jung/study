{
 "cells": [
  {
   "cell_type": "markdown",
   "metadata": {},
   "source": [
    "# 클라우드워치 대시보드 실습\n",
    "- 클라우드워치 대시보드에 Autoscaling Group의 다양한 지표를 표시\n",
    "- 커스텀 대시보드 로직을 통해 직접 인스턴스를 시작/재부팅/종료시키거나 오토스케일링의 용량 변경\n",
    "- 만든 대시보드를 공유\n",
    "- CloudFormation을 활용하여 예제 프로비전 예정\n",
    "    - 클라우드포메이션 : 코드로 인프라를 관리하는 Infrastructure as a Code 서비스\n",
    "- 람다를 활용하여 커스텀 로직 처리\n",
    "    - 간단한 로직을 서버 없이 처리"
   ]
  },
  {
   "cell_type": "markdown",
   "metadata": {},
   "source": [
    "순서\n",
    "1. 클라우드워치 콘솔\n",
    "    - 대시보드 생성 : 위젯 생성해보자. (구경하고 삭제)\n",
    "2. 시작템플릿 생성\n",
    "    - AMI : 2023 Linux\n",
    "    - 보안그룹 디폴트\n",
    "3. 오토스케일링 그룹 생성\n",
    "    - 가용영역 모두 선택\n",
    "    - 원하는 용량 1, 최소 용량 1, 최대 용량 2\n",
    "    - 태그 Name : demo-cw-asg\n",
    "4. CloudFormation으로 이동\n",
    "    - 스택 생성\n",
    "        - 템플릿 파일 업로드 : 스크립트 업로드\n",
    "        - 스택 이름 : demo-cloudwatch-dashboard\n",
    "        - parameter : demo-cw-asg\n",
    "        - IAM 리소스 생성 승인\n",
    "5. 클라우드워치 대시보드로 이동\n",
    "    - 람다 함수 간접 호출 (해보면 각종 지표가 보이지 않는다 : ASG그룹 지표 수집을 활성화 해야함)\n",
    "    - 람다 함수 기능들을 이리저리 테스트해보자 (오토스케일링 용량 조절)\n",
    "    - 작업 : 대시보드 공유, 링크 확인 (여기서는 람다 사용 권한이 없음)\n",
    "    - 공유 링크의 IAM 역할에서 권한 수정 : Action 필드에 \"lambda:InvokeFunction\",\n",
    "6. 리소스 정리 : ASG, 클라우드포메이션\n",
    "\n"
   ]
  }
 ],
 "metadata": {
  "language_info": {
   "name": "python"
  }
 },
 "nbformat": 4,
 "nbformat_minor": 2
}
