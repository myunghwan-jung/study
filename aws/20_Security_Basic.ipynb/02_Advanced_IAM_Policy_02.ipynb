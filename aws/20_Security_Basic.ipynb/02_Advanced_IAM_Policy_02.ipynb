{
 "cells": [
  {
   "cell_type": "markdown",
   "id": "b654fa90",
   "metadata": {},
   "source": [
    "# IAM Advanced Policy 02"
   ]
  },
  {
   "cell_type": "markdown",
   "id": "0a3f14de",
   "metadata": {},
   "source": [
    "## IAM JSON 정책의 구성 요소\n",
    "- Version : JSON 정책 버전. \"2012-10-17\"로 설정 권장(최신 버전)\n",
    "- Statement : 아래 내용들을 담은 논리적 단위\n",
    "    - Sid(Optional) : Statement ID\n",
    "    - Effect : Allow or Deny\n",
    "    - Principal : 주로 리소스 기반 정책에서 \"누가\"에 해당하는 값\n",
    "        - 예 : S3 버킷 정책에서 \"누가\" 이 파일에 접근할 수 있는가에 대한 ARN\n",
    "    - Action : Allow or Deny 할 행동\n",
    "    - Resource : Action의 대상이 되는 리소스\n",
    "    - Condition(Optional) : 이 정책이 적용되는 조건"
   ]
  },
  {
   "cell_type": "markdown",
   "id": "f4653455",
   "metadata": {},
   "source": [
    "### Action\n",
    "- 특정 Allow / Deny할 Action을 정의\n",
    "- 예 : s3:GetObject\n",
    "- 와일드카드로 모든 Action 표현 가능\n",
    "    - 예 : ec2:*\n",
    "- List로 설정 가능\n",
    "    - 예 : [\"s3:*\",\"ec2:*\"]"
   ]
  },
  {
   "cell_type": "markdown",
   "id": "1ab2373c",
   "metadata": {},
   "source": [
    "### NotAction\n",
    "- 지정한 Action 이외에~ 에 해당하는 조건을 정의\n",
    "- 예: \"Effect\":\"Allow\",\"NotAction\":\"s3:DeleteBucket\",\"Resource\":\"arn:aws:s3:::*\""
   ]
  },
  {
   "cell_type": "markdown",
   "id": "05fb277d",
   "metadata": {},
   "source": [
    "### Resource\n",
    "- \"무엇을\"에 해당하는 내용을 정의\n",
    "- ARN을 사용해 리소스 표현\n",
    "    - 예 : \"arn:aws:dynamodb:us-east-2:12345678:table/books_table\",\n",
    "- 리스트 및 와일드카드로 여러 리소스 표현 가능\n",
    "- Variable 사용 가능\n",
    "    - 예 : \"arn:aws:dynamodb:us-east-2:account-id:table/${aws:username}\""
   ]
  },
  {
   "cell_type": "markdown",
   "id": "f4b6bda2",
   "metadata": {},
   "source": [
    "### NotResource\n",
    "- \"이것을 제외하고\"에 해당하는 내용을 정의\n",
    "- 예 : 특정 버킷을 제외한 모든 버킷에 대해~"
   ]
  },
  {
   "cell_type": "markdown",
   "id": "0739e005",
   "metadata": {},
   "source": [
    "### Condition\n",
    "- IAM 정책의 적용 조건을 판별 가능\n",
    "- 예 : \"Condition\":{StringLike\":{\"s3:prefix\":\"marketing/*\"}}\n",
    "- StringLike는 대소문자 구분 매칭. 와일드카드 사용 가능. 여러 스트링 포함 가능\n",
    "- 따라서 s3 패스가 marketing인 경우를 허용"
   ]
  },
  {
   "cell_type": "markdown",
   "id": "f5fb6367",
   "metadata": {},
   "source": [
    "### Condition - Wildcard\n",
    "- \"*\" : 길이 제한 없는 와일드카드\n",
    "    - 예 : \"Resource\":\"arn:aws:s3:::*-bucket*\"\n",
    "    - arn:aws:s3:::12345678-bucketfortest\n",
    "- ? : 길이 한 글자 와일드카드\n",
    "    - 예 : \"Resource\":\"arn:aws:dynamodb:*.*:table/test?table\"\n",
    "    - arn:aws:dynamodb:us-east-1:12345678:table/test_table\n",
    "    - arn:aws:dynamodb:us-east-1:12345678:table/test-table"
   ]
  },
  {
   "cell_type": "markdown",
   "id": "92f5e387",
   "metadata": {},
   "source": [
    "### Condition - Numeric\n",
    "- 숫자가 같거나, 크거나, 작거나 등등 조건 설정 가능"
   ]
  },
  {
   "cell_type": "markdown",
   "id": "df57ed07",
   "metadata": {},
   "source": [
    "### Condition - Date\n",
    "- 날짜, 시간이 같거나 크거나 작거나 등등 조건 설정 가능"
   ]
  },
  {
   "cell_type": "markdown",
   "id": "c16a1aa2",
   "metadata": {},
   "source": [
    "### Condition - 기타\n",
    "- 불리안\n",
    "- 아이피주소\n",
    "- ARN 매칭\n",
    "- BynaryEquals : Base 64 바이너리 체크\n",
    "- IfExists\n",
    "    - 만약 존재한다면을 체크\n",
    "    - 컨디션 Operator에 IfExists를 붙여서 체크\n",
    "    - 예 : StringLikeIfExists : String이 있다면 비교하겠다"
   ]
  },
  {
   "cell_type": "markdown",
   "id": "7b552a7e",
   "metadata": {},
   "source": [
    "### AWS Variable\n",
    "- aws:CurrentTime : 현재 시간 비교\n",
    "- aws:EpochTime : 현재 유닉스 타임\n",
    "- aws:TokenIssueTime : 임시 자격 증명에서 토큰이 발급된 시간(assume 된 시간)\n",
    "- aws:PrincipalType : 권한 행사 주체의 타입 (Account, User, FederatedUser, AssumedRole)\n",
    "- aws:SecureTransport : SSL 통신으로 권한이 행사 중인지 체크\n",
    "- aws:SourceIP : Source IP\n",
    "- aws:UserAgent : 유저 에이전트 정보(변조 가능)\n",
    "- aws:userid : IAM Unique Identifiers\n",
    "    - IAM Unique Identifiers : IAM 아이덴티티가 사용하는 유니크 구분 키\n",
    "        - AKIA : Access key\n",
    "        - AIDA : IAM User\n",
    "- aws:username : AWS 유저 이름\n",
    "- ec2:SourceInstanceARN : IAM Role을 사용해서 EC2에 요청을 한 경우에만 사용. Source Instance ARN"
   ]
  }
 ],
 "metadata": {
  "language_info": {
   "name": "python"
  }
 },
 "nbformat": 4,
 "nbformat_minor": 5
}
