{
 "cells": [
  {
   "cell_type": "markdown",
   "id": "6dd827cd",
   "metadata": {},
   "source": [
    "# Advanced IAM Policy"
   ]
  },
  {
   "cell_type": "markdown",
   "id": "2687fd08",
   "metadata": {},
   "source": [
    "## IAM Policy\n",
    "- 사용자와 그룹, 역할, AWS 리소스가 무엇을 할 수 있는지에 관한 문서\n",
    "- JSON 형식으로 정의\n",
    "- 그룹, 역할, 유저, AWS 리소스에 부여되어 각 주체가 행동 가능한 권한을 정의\n",
    "- 구성\n",
    "    - Resource : 어떤 AWS 리소스에 대해서\n",
    "    - Action : 어떤 행동을\n",
    "    - Effect : 허용 / 거부\n",
    "    - Condition : 정책이 적용되는 조건 (예: IP주소, 시간, 태그 등)\n",
    "    - Principal : 누가, 리소스 기반 정책에서만 사용"
   ]
  },
  {
   "cell_type": "markdown",
   "id": "a8ce512a",
   "metadata": {},
   "source": [
    "## IAM Policy의 종류\n",
    "- Identity-based policies : 자격 증면 기반 정책\n",
    "- Resource-based policies : 리소스 기반 정책\n",
    "- 권한 범위 제한 정책\n",
    "    - Session Policy\n",
    "    - AWS Organizations Service Control Policies(SCP)\n",
    "        - AWS Organizations RCP\n",
    "    - Permissions Boundaries\n",
    "    - Acess Control List"
   ]
  },
  {
   "cell_type": "markdown",
   "id": "bdbffeb9",
   "metadata": {},
   "source": [
    "### Identity-based Policies\n",
    "- 자격 증명 기반 정책 : 자격 증명(IAM유저, 그룹, 역할)에 부여하는 정책\n",
    "- 해당 자격 증명이 무엇을 할 수 있는지 정의"
   ]
  },
  {
   "cell_type": "markdown",
   "id": "9aefb436",
   "metadata": {},
   "source": [
    "### Resource-based Policies\n",
    "- 리소스 기반 정책 : 리소스(예:S3, SQS, VPC Endpoint, KMS 등)에 부여하는 정책\n",
    "- 해당 리소스에 누가 무엇을 할 수 있는지 정의\n",
    "    - 예: SQS 대기열에 Lambda Service가 접근 가능"
   ]
  },
  {
   "cell_type": "markdown",
   "id": "e5ce7f94",
   "metadata": {},
   "source": [
    "### 권한 범위 제한 정책\n",
    "- 실제로 권한을 부여하는 것을 아니지만 최대 권한 범위를 제한하는 정책\n",
    "- 종류\n",
    "    - 세션 정책(Session Policy)\n",
    "        - 임시 자격 증명을 생성할 때 같이 넣어주는 정책\n",
    "        - 임시 자격 증명의 권한을 제한하기 위해 활용\n",
    "    - AWS Organizations Service Control Policies(SCP)\n",
    "        - AWS Organizations에서 각 계정의 최대 권한 범위를 제한하는 정책\n",
    "    - 권한 범위(Permissions Boundaries)\n",
    "        - AWS의 사용자나 역할의 권한을 제한하기 위한 정책"
   ]
  },
  {
   "cell_type": "markdown",
   "id": "142042a4",
   "metadata": {},
   "source": [
    "### IAM 정책의 적용 방식\n",
    "- 한 주체에 다양한 정책을 동시에 적용 가능\n",
    "    - 예 : 그룹 정책 + 사용자 개인 정책 + SCP + 권한 제한 등\n",
    "- 권한 적용 시 다음 규칙에 따라 평가\n",
    "    1. 명시적인 Deny는 언제나 우선적용\n",
    "    2. 명시적으로 Allow 하지 않는 경우 묵시적으로 Deny\n",
    "    3. 명시적으로 Allow가 있다면 권한 획득\n",
    "- 이 외에 적용 순서 규칙에 따름\n",
    "    1. 명시적인 Deny\n",
    "    2. SCP\n",
    "    3. 리소스 정책\n",
    "    4. 자격 증명 정책\n",
    "    5. 권한 범위\n",
    "    6. 세션 정책 허용"
   ]
  }
 ],
 "metadata": {
  "language_info": {
   "name": "python"
  }
 },
 "nbformat": 4,
 "nbformat_minor": 5
}
