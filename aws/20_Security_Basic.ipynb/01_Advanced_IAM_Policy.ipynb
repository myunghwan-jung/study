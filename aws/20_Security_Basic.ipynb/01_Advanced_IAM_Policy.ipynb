{
 "cells": [
  {
   "cell_type": "markdown",
   "id": "6dd827cd",
   "metadata": {},
   "source": [
    "# Advanced IAM Policy"
   ]
  }
 ],
 "metadata": {
  "language_info": {
   "name": "python"
  }
 },
 "nbformat": 4,
 "nbformat_minor": 5
}
