{
 "cells": [
  {
   "cell_type": "markdown",
   "id": "6dd827cd",
   "metadata": {},
   "source": [
    "# Advanced IAM Policy"
   ]
  },
  {
   "cell_type": "markdown",
   "id": "2687fd08",
   "metadata": {},
   "source": [
    "## IAM Policy\n",
    "- 사용자와 그룹, 역할, AWS 리소스가 무엇을 할 수 있는지에 관한 문서\n",
    "- JSON 형식으로 정의\n",
    "- 그룹, 역할, 유저, AWS 리소스에 부여되어 각 주체가 행동 가능한 권한을 정의"
   ]
  }
 ],
 "metadata": {
  "language_info": {
   "name": "python"
  }
 },
 "nbformat": 4,
 "nbformat_minor": 5
}
