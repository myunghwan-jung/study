{
 "cells": [
  {
   "cell_type": "markdown",
   "id": "5d5a9854",
   "metadata": {},
   "source": [
    "# AWS Systems Manager 소개\n",
    "- AWS Systems Manager는 AWS에서 인프라를 보고 제어하기 위해 사용할 수 있는 AWS 서비스입니다. Systems Manager 콘솔을 사용하여 여러 AWS 서비스의 운영 데이터를 보고 AWS 리소스에서 운영 태스크를 자동화할 수 있습니다. Systems Manager는 관리형 인스턴스를 검사하고 탐지된 정책 위반을 보고하거나 시정 조치를 취해서 보안 및 규정 준수를 유지하는 데 도움이 됩니다.\n",
    "- What?\n",
    "    - WS의 리소스를 관리하고 AWS와 온프레미스의 운영작업을 자동화하며 관리를 위한 인사이트를 제공하는 서비스\n",
    "- When?\n",
    "    - AWS 리소스를 쉽게 관리하고 파악하고 싶을 때\n",
    "    - AWS 및 온프레미스 리소스에 쉽게 접근하고 싶을 때\n",
    "    - AWS 위에서 구동되는 다양한 앱, 소프트웨어, OS 등의 상태를 확인하고 싶을 때\n",
    "    - 다양한 시스템 환경 구성 설정 및 파라미터를 관리하고 싶을 때\n",
    "- How?\n",
    "    - Agent 설치로 운용중인 AWS/온프레미스 서버의 상태 파악\n",
    "    - 다양한 자동화 서비스 및 조회 서비스로 제어 및 현황 파악\n",
    "    - 기타 관리 기능 제공"
   ]
  },
  {
   "cell_type": "markdown",
   "id": "b1509a41",
   "metadata": {},
   "source": [
    "## 주요 기능\n",
    "- Run Command : 등록된 여러 인스턴스, 온프레미스 인스턴스에 명령 실행\n",
    "    - 예 : OS 업데이트, 전체 서버 리붓 등\n",
    "- Patch Manager : 패치 기준을 정하여 인스턴스가 항상 정한 기준을 지켜 최신 업데이트 상태를 유지할 수 있도록 설정\n",
    "- Inventory : 등록된 인스턴스의 데이터를 종합해 통계 데이터를 생성하여 표시\n",
    "    - 예 : 설치된 OS 종류 별 통계, 인스톨된 어플리케이션, 실행중인 서비스 목록 등\n",
    "- State Manager : 인스턴스의 상태 기준을 정해 인스턴스들이 정한 기준의 상태를 준수하도록 설정\n",
    "    - 예 : 특정 소프트웨어가 인스톨 되어있어야 함, 방화벽이 켜져 있어야 함\n",
    "- Parameter Store : AWS 및 여러 서비스에서 사용하는 값을 저장하고 손쉽게 사용하기 위한 서비스\n",
    "- Session Manager : 인스턴스에 대해 원클릭 엑세스를 제공하는 관리형 서비스\n",
    "    - 인스턴스에 SSH 연결 없이, 포트를 열 필요 없이, 배스쳔 호스트를 유지할 필요 없이 인스턴스에 로그인 가능\n",
    "- Automation : AWS에서 미리 지정된 행동들을 자동화하여 실행시켜주는 서비스\n",
    "    - 예 : AMI 생성, EC2의 시작/정지\n",
    "- Incident Manager : 갑작스러운 사고 및 장애 상황등의 대응을 위한 워크플로우를 제공하는 서비스\n",
    "- Change Calender : 리소스 관리 일정을 설정해주는 서비스\n",
    "    - 예 : 특정 날짜에 인스턴스 업데이트, 특정 주기별로 인스턴스 중지/시작 등\n",
    "- Quick Setup : 다양한 Systems Manager의 기능을 엮어서 빠르게 사용할 수 있도록 준비한 서비스"
   ]
  },
  {
   "cell_type": "markdown",
   "id": "68d50164",
   "metadata": {},
   "source": [
    "## SSM Agent\n",
    "- Systems Manager Agent : EC2 인스턴스, 온프레미스, VM에 설치해서 사용하는 Systems Manager 전용 Agent\n",
    "    - Systems Manager의 노드 업데이트/관리/설정을 지원\n",
    "- Systems Manager의 통신할 수 있는 환경 필요\n",
    "    - ssmmessages / ec2messages 서비스와 통신\n",
    "    - 보안그룹/NACL/방화벽 등의 허용\n",
    "- IAM 권한 필요\n",
    "    - 예 : AmazonSSMManagedInstanceCore\n",
    "- Amazon Linux AMI 및 AWS 지원 AMI등에 기본 설치\n",
    "- 기타 AWS 서비스들을 활용해서 SSM Agent의 자동 업데이트 가능"
   ]
  }
 ],
 "metadata": {
  "language_info": {
   "name": "python"
  }
 },
 "nbformat": 4,
 "nbformat_minor": 5
}
