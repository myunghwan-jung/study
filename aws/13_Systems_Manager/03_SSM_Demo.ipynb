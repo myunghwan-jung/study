{
 "cells": [
  {
   "cell_type": "markdown",
   "id": "f4b9205a",
   "metadata": {},
   "source": [
    "# DEMO - SSM Parameter Store\n",
    "- 파라미터 스토어를 통한 아키텍처 구현 데모\n",
    "- 이미지를 처리하는 두 가지 방식을(리사이징/로테이션) 파라미터 스토어를 활용하여 스위칭"
   ]
  },
  {
   "cell_type": "markdown",
   "id": "b0e2e81a",
   "metadata": {},
   "source": [
    "## 데모 순서\n",
    "1. 클라우드포메이션 스택 프로비전\n",
    "    - 스택 이름은 demo-image-handler\n",
    "2. 파라미터 스토어 생성\n",
    "    - 이름 : /demo-image-handler/current_sqs_url\n",
    "    - 계층 : 표준\n",
    "    - 유형 : 문자열\n",
    "    - 값 : 아무거나\n",
    "3. sqs에서 url 복사, 파라미터 스토어 값에 붙여넣기\n",
    "4. 버킷에 이미지 업로드\n",
    "    - images 폴더 생성\n",
    "    - 이미지 업로드\n",
    "5. 파라미터 스토어를 통해 리사이징을 정사각형으로 해보자\n",
    "    - dimension 파라미터의 내용을 200x200으로 수정\n",
    "6. 이번에는 sqs의 rotate queue를 복사해서 current_sqs_url에 넣어보자\n",
    "7. 스택 삭제, 직접 만든 파라미터 삭제"
   ]
  },
  {
   "cell_type": "markdown",
   "id": "52b409e7",
   "metadata": {},
   "source": [
    "## 기타 주의할 점\n",
    "- 파라미터 스토어는 tps 한계가(초당 만건) 존재하기 떄문에, 사용자가 몰릴 가능성이 있는 아키텍처에는 적합하지 않다."
   ]
  }
 ],
 "metadata": {
  "language_info": {
   "name": "python"
  }
 },
 "nbformat": 4,
 "nbformat_minor": 5
}
