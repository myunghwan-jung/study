{
 "cells": [
  {
   "cell_type": "markdown",
   "id": "35e2cc15",
   "metadata": {},
   "source": [
    "# AWS SSM Parameter Store Public Parameter"
   ]
  },
  {
   "cell_type": "markdown",
   "id": "76d364fc",
   "metadata": {},
   "source": [
    "## 데모 - AWS Public Parameter 조회\n",
    "- AWS의 모든 리전 목록\n",
    "- AWS의 모든 서비스 목록\n",
    "- 특정 서비스를 사용 가능한 리전 목록"
   ]
  },
  {
   "cell_type": "markdown",
   "id": "c5c4cff8",
   "metadata": {},
   "source": [
    "### 데모 순서\n",
    "1. CloudShell 열기\n",
    "    - AWS의 모든 리전 목록 띄우기 : aws ssm get-parameters-by-path \\\n",
    "  --path /aws/service/global-infrastructure/regions --output json | \\\n",
    "  jq '.Parameters[].Name'\n",
    "    - AWS의 서비스 목록 띄우기 : aws ssm get-parameters-by-path \\\n",
    "    --path /aws/service/global-infrastructure/services \\\n",
    "    --query 'Parameters[].Name | sort(@)'\n",
    "    - 특정 서비스를 사용 가능한 리전 목록 : aws ssm get-parameters-by-path \\\n",
    "  --path /aws/service/global-infrastructure/services/bedrock/regions --output json | \\\n",
    "  jq '.Parameters[].Value'"
   ]
  }
 ],
 "metadata": {
  "kernelspec": {
   "display_name": "Python 3",
   "language": "python",
   "name": "python3"
  },
  "language_info": {
   "codemirror_mode": {
    "name": "ipython",
    "version": 3
   },
   "file_extension": ".py",
   "mimetype": "text/x-python",
   "name": "python",
   "nbconvert_exporter": "python",
   "pygments_lexer": "ipython3",
   "version": "3.10.16"
  }
 },
 "nbformat": 4,
 "nbformat_minor": 5
}
