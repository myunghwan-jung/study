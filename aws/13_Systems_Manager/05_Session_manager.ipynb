{
 "cells": [
  {
   "cell_type": "markdown",
   "id": "14046004",
   "metadata": {},
   "source": [
    "# AWS Systems Manager Session Manager\n",
    "- EC2 인스턴스에 연결하는 하나의 방법\n",
    "- 인스턴스에 대해 원클릭 액세스를 제공하는 관리형 서비스\n",
    "    - 인스턴스에 SSH 연결 없이, 포트를 열 필요 없이, 배스쳔 호스트를 유지할 필요 없이 로그인 가능\n",
    "- IAM 유저 단위로 제어 가능(Key 파일로 제어할 필요 없음)\n",
    "    - 예 : 수백개의 인스턴스에 대해 일일이 로그인을 위한 키 파일을 관리해야할 때\n",
    "        - 개발자 별로 지정된 팀의 인스턴스만 로그인할 수 있도록 만들고 싶을 때\n",
    "    - 웹 브라우저 기반으로 OS와 무관하게 사용 가능\n",
    "- 로깅과 감사\n",
    "    - 언제 어디서 누가 접속했는지 확인 가능(CloudTrail)\n",
    "    - 접속 기록과 사용한 모든 커맨드 및 출력 내역을 S3 혹은 CloudWatch로 전송 가능\n",
    "    - AWS의 서비스와 연동되어있어 다양한 시나리오 구현 가능\n",
    "        - 예 : EventBridge등과 연동하여 실시간으로 접근에 대한 알림을 받기"
   ]
  },
  {
   "cell_type": "markdown",
   "id": "0744ec19",
   "metadata": {},
   "source": [
    "## SSM Session Manager 요구사항\n",
    "- EC2 Instance에 SSM Agent가 설치되어 있을 것 (Amazon Linux 및 여러 공식 AMI에는 기본 설치)\n",
    "- EC2 AmazonEC2RoleforSSM(구) / AmazonSSMManagedInstanceCore(신) Managed Policy가 포함된 Role이 적용돼 있을것\n",
    "- SSM Agent가 SSM 및 필요한 서비스에 접근할 수 있을것\n",
    "    - Private Instance라면 VPC Endpoint가 해당 VPC에 있을것\n",
    "        - ssm\n",
    "        - ssmmessages\n",
    "        - ec2messages\n",
    "        - logs(로깅 활성화시)\n",
    "        - s3(s3 로깅 활성화시)\n",
    "    - Security Group에서 OutBound 443포트가 열려있어야 함"
   ]
  }
 ],
 "metadata": {
  "language_info": {
   "name": "python"
  }
 },
 "nbformat": 4,
 "nbformat_minor": 5
}
