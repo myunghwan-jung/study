{
 "cells": [
  {
   "cell_type": "markdown",
   "id": "93bbb9c1",
   "metadata": {},
   "source": [
    "# AWS SSM Quick Setup\n",
    "- SSM의 기능들을 활용해서 가장 모범이 되는 방법으로 노드들을 빠르게 관리할 수 있는 서비스\n",
    "    - 자주 활용되는 패턴 및 관리 절차를 모아둔 서비스\n",
    "- 장점\n",
    "    - 다수의 계정/Organization안에 있는 다수의 관리 노드에 적용 가능\n",
    "    - 모범 사례들을 모아두었기에 복잡도 감소\n",
    "    - 각 사용 사례를 위한 UI 제공\n",
    "    - 주기적으로 Drift 감지해서 처리\n",
    "- 내부적으로 클라우드포메이션 활용 = 권한 필요\n",
    "- SSM의 이해를 바탕으로 설정 과정을 간소화하고 싶은 유저에게 적합\n",
    "    - 서비스를 처음 사용하거나 쉽게 사용하고 싶은 사용자 대상이 아님"
   ]
  },
  {
   "cell_type": "markdown",
   "id": "0b179b85",
   "metadata": {},
   "source": [
    "## 퀵셋업 주요 기능 예시\n",
    "- SSM Agent 주기적 업데이트\n",
    "- 30분마다 서버 인벤토리 수집\n",
    "- 하루마다 시스템/어플리케이션의 누락 패치 확인 및 패치 적용\n",
    "- 클라우드워치 에이전트 설정\n",
    "- EC2 자동 실행 및 종료\n",
    "- AWS 서비스 설정\n",
    "    - AWS Config\n",
    "    - DevOPs Guru\n",
    "    - Resource Explorer"
   ]
  },
  {
   "cell_type": "markdown",
   "id": "c01a2c66",
   "metadata": {},
   "source": [
    "### 데모 - 인스턴스 자동 실행 및 종료\n",
    "- AWS SSM Quick Setup을 활용해서 비용 절감을 위한 EC2 자동 시작/중지\n",
    "    - 특정 시각(예: 오전 8시)에 EC2 시작 -> 특정 시각(예:오후7시)에 중지\n",
    "    - 사용하지 않는 시간 동안에는 EBS 비용만 발생\n",
    "- 과정\n",
    "    - SSM 인스턴스 역할 생성\n",
    "    - EC2 프로비전\n",
    "    - SSM QuickSetup으로 설정 및 인스턴스 중지/시작 테스트\n",
    "- 순서\n",
    "1. IAM 역할 생성\n",
    "2. 인스턴스 프로비전\n",
    "    - 키페어 없음\n",
    "    - 디폴트 보안그룹\n",
    "    - 인스턴스 프로파일 적용\n",
    "3. SSM의 빠른설정으로 이동\n",
    "    - Resource Scheduler 선택\n",
    "        - 태그로 인스턴스 선택\n",
    "4. 리소스 정리 : 인스턴스 삭제, 빠른설정 삭제"
   ]
  }
 ],
 "metadata": {
  "language_info": {
   "name": "python"
  }
 },
 "nbformat": 4,
 "nbformat_minor": 5
}
