{
 "cells": [
  {
   "cell_type": "markdown",
   "metadata": {},
   "source": [
    "# Amazon Route53 기초"
   ]
  },
  {
   "cell_type": "markdown",
   "metadata": {},
   "source": [
    "## Route 53 주요 개념\n",
    "- 도메인 : 대상의 IP 주소등의 정보와 매핑되는 사람이 알아볼 수 있는 문자열\n",
    "    - 서브도메인 : 도메인 중 스트링 앞에 추가 문자열이 붙은 도메인 (예: text.example.com)\n",
    "    - APEX 도메인 (Zone Apex, Root Domain) : 도메인 중 앞에 추가 문자열이 없는 순수한 최상위 도메인 (예: example.com)\n",
    "- 레코드(DNS Record) : 도메인이 어떤 방식으로 트래픽을 대상에게 전달하는지 정의하는 데이터\n",
    "    - 레코드 종류, 대상 아이피주소 등의 정보를 포함\n",
    "    - 레코드 별 TTL : 얼마나 오랫동안 다른 DNS 서버들이 이 레코드를 캐싱할 지 결정\n",
    "        - TTL 값이 높다면 쿼리는 줄어들지만 업데이트 배포 시간 증가\n",
    "- Hosted Zone : 레코드의 집합으로 특정 도메인과 서브도메인의 레코드를 모은 컨테이너\n",
    "    - APEX 도메인과 같은 이름을 부여\n"
   ]
  },
  {
   "cell_type": "markdown",
   "metadata": {},
   "source": [
    "## 레코드의 종류\n",
    "- A(Address) Record : 도메인을 IPv4 주소와 연결\n",
    "- AAAA Record : 도메인을 IPv6 주소와 연결\n",
    "- CNAME(Canonical Name) Record : 도메인을 다른 도메인과 연결\n",
    "    - 예 : www.example.com -> example.com\n",
    "    - 규칙으로 Apex 도메인은 cname 사용 불가능\n",
    "- Alias(별칭) Record : AWS Route53에서만 지원하는 레코드 타입. 도메인과 AWS 리소스를 연결\n",
    "    - 예 : 도메인을 S3/CloudFront/ALB 등과 연결\n",
    "- NS(Name Server) Record : 도메인의 Authoritive DNS 서버를 지정\n",
    "- MX(Mail Exchange) Record : 도메인과 메일 서버를 연결\n",
    "- TXT Record : 도메인에 관련된 텍스트 기반 정보를 연결 (주로 도메인 인증에 관한 내용)"
   ]
  },
  {
   "cell_type": "markdown",
   "metadata": {},
   "source": [
    "## AWS Route53 사용 과정\n",
    "- 도메인 등록 (Route53 or 다른 Domain Registrar)\n",
    "    - kr 등의 도메인은 Route53에서 등록 불가능\n",
    "- Hosting Zone 생성\n",
    "    - Route53에서 도메인을 등록하면 자동으로 Hosting Zone 생성\n",
    "    - 다른 Domain Registrar 에서 등록했다면 수동으로 Hosting Zone 생성 후 DNS 연동 필요\n",
    "- 레코드 생성\n",
    "    - AWS 리소스를 연결하려면 Alias Record\n",
    "    - 기타 필요에 따라 적절한 레코드 타입 생성\n",
    "    - DNS 캐시 등의 이유로 최대 하루 이상 소요"
   ]
  }
 ],
 "metadata": {
  "language_info": {
   "name": "python"
  }
 },
 "nbformat": 4,
 "nbformat_minor": 2
}
