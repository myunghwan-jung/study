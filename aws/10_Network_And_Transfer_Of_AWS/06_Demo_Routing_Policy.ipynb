{
 "cells": [
  {
   "cell_type": "markdown",
   "metadata": {},
   "source": [
    "# Amazon Route 53 Routing Policy Demo"
   ]
  },
  {
   "cell_type": "markdown",
   "metadata": {},
   "source": [
    "## 실습 순서\n",
    "1. 인스턴스 프로비전\n",
    "    - 키페어 없음\n",
    "    - 디폴트 보안그룹\n",
    "    - 유저데이터에 스크립트 입력\n",
    "    - 2개 프로비전\n",
    "    - 구분하기 쉽도록 넘버링\n",
    "2. 레코드 생성\n",
    "    - 단순 라우팅\n",
    "    - TTL = 0\n",
    "    - 인스턴스 아이피 2개 입력(엔터로 구분)\n",
    "3. CloudShell \n",
    "    - 스크립트 입력\n",
    "        - sudo yum install bind-utils net-tools -y\n",
    "        - nslookup test.lumifla.com\n",
    "    - 두 개의 아이피 주소 확인\n",
    "    - 이 상황에서 둘 중 하나에 장애가 생기면, 자동으로 Failover 넘어가는 것이 아님. 클라이언트 레벨에서 결정되는 사항!\n",
    "        - 인스턴스에 연결, service httpd stop 해보자 : 나는 자동으로 2번째 IP로 FailOver (크롬 브라우저 특)\n",
    "4. Weighted Routing Policy 생성\n",
    "    - 기존 레코드 삭제\n",
    "    - 1번 인스턴스 아이피 입력, TTL = 0, 가중치 = 100, 레코드 ID 입력\n",
    "    - 2번 레코드 생성 (가중치만 5로 변경)\n",
    "        - 직관적으로는 100:5 비율로 2번 아이피로 라우팅될 것 같지만, 크롬 브라우저에서 DNS 캐싱을 하기 때문에 안됨\n",
    "    - nslookup 해보자(여기서는 100:5 비율로 뜸)\n",
    "5. Failover Policy 생성\n",
    "    - 헬스체크부터 만들자\n",
    "    - 장애조치 라우팅 생성\n",
    "    - 1번 인스턴스의 웹서버를 내려보면, 헬스체크 FAIL이 뜨는데 필요한 시간이 지난 후 Failover\n",
    "6. 리소스 정리 : 인스턴스, 레코드, 상태 검사\n"
   ]
  }
 ],
 "metadata": {
  "language_info": {
   "name": "python"
  }
 },
 "nbformat": 4,
 "nbformat_minor": 2
}
