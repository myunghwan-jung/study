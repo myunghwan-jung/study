{
 "cells": [
  {
   "cell_type": "markdown",
   "metadata": {},
   "source": [
    "# Amazon Route53 소개\n",
    "- Amazon Route53은 높은 가용성과 확장성이 뛰어난 클라우드 Domain Name System(DNS) 웹 서비스입니다\n",
    "- DNS는 사람이 읽을 수 있는 도메인 이름(예: www.amazon.com)을 머신이 읽을 수 있는 IP 주소(예: 192.0.2.44)로 변환합니다\n",
    "- AWS의 DNS 서비스\n",
    "    - DNS에서 사용하는 포트 숫자(53)에서 유래\n",
    "    - 도메인을 IP 어드레스 및 AWS의 리소스로 연결해주는 서비스\n",
    "- 기본적으로 고가용성을 갖춘 글로벌 서비스(99.99% SLA)\n",
    "- 주요 기능\n",
    "    - 도메인 관리(등록, 레코드 연결 등)\n",
    "    - Health Check 기능 : 주기적으로 지정된 주소에서 정상적인 응답을 받는지 확인\n",
    "    - 다양한 라우팅 정책\n",
    "    - 기타 하이브리드 아키텍쳐 환경에서 내부 도메인의 활용을 지원\n",
    "- 주요 비용 : 호스팅 영역 / DNS 쿼리 / 기타 기능 (Health Check등)"
   ]
  }
 ],
 "metadata": {
  "language_info": {
   "name": "python"
  }
 },
 "nbformat": 4,
 "nbformat_minor": 2
}
