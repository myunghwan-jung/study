{
 "cells": [
  {
   "cell_type": "markdown",
   "metadata": {},
   "source": [
    "# Amazon Route53 Routing Policy\n",
    "- 도메인 레코드를 대상에 연결하는 다양한 방법\n",
    "- 종류\n",
    "    - Simple\n",
    "    - Failover\n",
    "    - Geolocation\n",
    "    - Geoproximity\n",
    "    - Latency\n",
    "    - IP-Based\n",
    "    - Multivalue Answer\n",
    "    - Weighted"
   ]
  },
  {
   "cell_type": "markdown",
   "metadata": {},
   "source": [
    "## Simple Routing Policy\n",
    "- 가장 간단한 방식. 하나의 레코드를 하나의 대상으로 라우팅\n",
    "- 단일 서버, 단일 리소스 등의 라우팅을 위해 사용"
   ]
  },
  {
   "cell_type": "markdown",
   "metadata": {},
   "source": [
    "## Failover Routing Policy\n",
    "- 평소에는 기본 대상(Primary)으로 라우팅하고, 기본 대상에 문제가 있을 때 보조 대상(Secondary)으로 라우팅하는 정책\n",
    "- 헬스 체크를 활용하여 상태를 확인\n",
    "    - 기본 대상의 헬스 체크가 실패 상태일 경우 보조 대상으로 라우팅\n",
    "- 주요 사용 사례\n",
    "    - Active-Passive Failover\n",
    "        - 기본 대상이 대부분의 요청을 처리하고, 기본 대상의 실패를 대비하여 보조 대상이 준비만 하는 Failover 방식\n",
    "        - 즉, 평소에 대부분의 리소스를 기본 대상에 집중, 보조 대상은 최소한의 리소스로 장애를 준비\n",
    "        - Passive는 퍼포먼스에 거의 도움이 되지 않고, Active에 리소스가 집중"
   ]
  },
  {
   "cell_type": "markdown",
   "metadata": {},
   "source": [
    "## Geolocation Routing Policy\n",
    "- DNS Query가 발생한 위치에 따라 다른 응답을 보낼 수 있는 Routing Policy\n",
    "    - 즉 요청한 지점이 실제 지리적으로 어디에 위치해 있는지에 따라 응답을 다르게 설정 가능\n",
    "    - 예 : 동남아시아 지역에서 발생한 요청은 한국 리전, 유럽 지역에서 발생한 요청은 프랑크푸르트 리전으로\n",
    "- 대륙, 나라, (미국의 경우 +주) 기준으로 설정 가능\n",
    "    - 겹치는 범위라면 더 작은 지역을 우선 적용\n",
    "- 내가 지정한 지역의 요청은 내가 지정한 지역으로 라우팅한다는 것이 주요 컨셉\n",
    "- 주요 사용 사례\n",
    "    - 언어 별 라우팅\n",
    "    - 지역별 컨텐츠 제공 구분 (예: 넷플릭스의 지역 별 판권)\n",
    "    - 예상 가능한 부하를 기반(인구 등)으로 인프라를 구축하고 유지"
   ]
  },
  {
   "cell_type": "markdown",
   "metadata": {},
   "source": [
    "## Geoproximity Routing Policy\n",
    "- DNS Query가 발생한 위치와 리소스의 위치에 따라 다른 응답을 보낼 수 있는 Routing Policy\n",
    "    - 요청이 발생한 지점에서 가장 가까운 위치의 리소스로 라우팅\n",
    "    - 즉, \"요청한 지역과 리소스의 거리를 기준으로\"\n",
    "- 추가적으로 Bias를 지정해 지역 범위 조절 가능\n",
    "    - Bias : 특정 지역이 더 많은 범위 혹은 더 적은 범위를 커버하도록 조절하는 보정값\n",
    "- 주요 사용 사례\n",
    "    - 지역별 컨텐츠 제공 구분\n",
    "    - 최소 지연 속도로 라우팅 (거리가 가까우면 보통 Latency가 작으니까)"
   ]
  },
  {
   "cell_type": "markdown",
   "metadata": {},
   "source": [
    "## Latency-Based Routing Policy\n",
    "- 유저 기준으로 가장 빠른 Latency(네트워크 지연시간)를 가진 레코드로 라우팅하는 정책\n",
    "    - 예 : 도쿄 리전, 버지니아 리전에 ALB가 있을 때, 서울 리전에서 요청한 경우 : 서울-도쿄 / 서울-버지니아를 비교하여 가장 빠른 리전으로 라우팅\n",
    "- 주의 : AWS 데이터 센터간의 Latency를 기준으로 하기 때문에 AWS 외부의 소스일 경우 정확도가 매우 떨어질 수 있음\n",
    "- 주요 사용 사례\n",
    "    - 여러 리전간에 최적화된 유저 경험(가장 빠른)을 위한 라우팅\n",
    "    - Active-Active Fail Over (둘 다 Active로 작동하다가 한쪽이 Fail 하면 라우팅을 몰아주는 방식)"
   ]
  },
  {
   "cell_type": "markdown",
   "metadata": {},
   "source": [
    "## IP-Based Routing Policy\n",
    "- IP 기반으로 라우팅을 조절하는 정책\n",
    "    - 기존의 Geolocation / Latency-Based 라우팅 + 네트워크의 이해를 바탕으로 정교한 라우팅 정책 구성 가능\n",
    "- CIDR Block Range 별로 다른 라우팅 구성 가능\n",
    "- 주요 사용 사례\n",
    "    - 특정 네트워크를 구분하여 라우팅\n",
    "        - 예 : 특정 ISP 대역만 분리하여 라우팅하고 싶은 경우\n",
    "        - 예 : 회사 IP만 DEV리전으로 라우팅"
   ]
  },
  {
   "cell_type": "markdown",
   "metadata": {},
   "source": [
    "## Multivalue Routing Policy\n",
    "- 한 번의 요청으로 다양한 값을 전달하는 정책\n",
    "    - 헬스 체크와 연동하여 현재 원활한 상태인 값만 선별적으로 보내기 가능\n",
    "- 주요 사용 사례\n",
    "    - 로드 밸런싱\n",
    "    - 간단한 Failover"
   ]
  },
  {
   "cell_type": "markdown",
   "metadata": {},
   "source": [
    "## Weighted Routing Policy\n",
    "- 다수의 리소스를 하나의 도메인으로 묶어 각 리소스에 비중을 두고 분배하는 정책\n",
    "    - 같은 이름과 타입의 레코드를 만들고 비중(Weight)를 부여\n",
    "- 비중(Weight) : 1~255의 값으로, 높은 비중을 가진 레코드일수록 더 많은 트래픽을 분배\n",
    "- 주요 사용 사례\n",
    "    - 로드 밸런싱 : 더 많은 리소스를 가진 쪽에 더 높은 비중을 부여\n",
    "    - A/B 테스트 : 새로운 기능에 30프로 보내고 기존 상태에 70프로 보내면서 테스트\n",
    "    - 카나리 릴리즈 : 배포 방식. 신규 버전을 소수 유저에게만 보내면서 테스트\n",
    "    - Active - Active Failover"
   ]
  }
 ],
 "metadata": {
  "language_info": {
   "name": "python"
  }
 },
 "nbformat": 4,
 "nbformat_minor": 2
}
