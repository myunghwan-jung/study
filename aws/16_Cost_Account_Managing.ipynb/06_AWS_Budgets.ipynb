{
 "cells": [
  {
   "cell_type": "markdown",
   "id": "4a3a4553",
   "metadata": {},
   "source": [
    "# AWS Budgets\n",
    "- AWS Budgets 사용 시에는 사용자 지정 예산을 설정할 수 있으며, 시간별 비용/사용량을 지속적으로 파악하여 비용이나 사용량이 임계값을 초과하면 신속하게 대응할 수 있습니다\n",
    "- AWS에서 발생한 비용과 사용량을 추적하고 대응하는 서비스\n",
    "- 사용자가 지정한 비용 이상으로 비용이 발생 시 대응\n",
    "    - Action을 설정하여 리소스를 종료시키거나 신규 생성 금지\n",
    "    - SNS 수신 가능 = 다양한 방법으로 Fanout 대응 (slack, teams, 자동 로직 적용 등)\n",
    "- 보고서 작성 가능\n",
    "    - 일일, 주간, 월간 단위로 해당 예산의 사용 현황 보고\n",
    "- 다운로드 가능\n",
    "- Organization 단위로 비용 측정\n",
    "    - 같은 Organization의 AWS 계정들에서 발생한 비용을 포함해서 측정"
   ]
  },
  {
   "cell_type": "markdown",
   "id": "41d19c7f",
   "metadata": {},
   "source": [
    "## 예산 설정\n",
    "- 비용 예산\n",
    "    - 비용을 달라 단위로 측정하고 지정한 비용 이상으로 증가 시 알람을 받을 수 있음\n",
    "- 사용량 예산\n",
    "    - AWS의 서비스(EC2, DynamoDB, S3등) 사용량을 모니터링하고 설정한 사용량 이상으로 사용 시 알람\n",
    "- Savings Plan 예산\n",
    "    - Savings Plan에 따라 커버되는 사용량을 추적\n",
    "- 예약 예산\n",
    "    - 예약 인스턴스 등 예약 리소스의 사용량을 추적"
   ]
  },
  {
   "cell_type": "markdown",
   "id": "b4593786",
   "metadata": {},
   "source": [
    "## Action\n",
    "- 예산 허용 범위 이상으로 비용이 발생하거나 발생할 것으로 예상되는 경우 트리거되는 조치\n",
    "- 세 가지 종류\n",
    "    - IAM 정책을 특정 사용자, 그룹, 역할에 부여 (예: 인스턴스 생성 금지)\n",
    "    - Service Control Policy 부여 (AWS Organization 단위)\n",
    "    - EC2, RDS 자동 정지 (리전 단위)\n",
    "- SNS 트리거 혹은 이메일 발송 가능\n",
    "    - 이메일은 최대 10개까지, SNS 토픽은 한 개 지원"
   ]
  },
  {
   "cell_type": "markdown",
   "id": "f288f727",
   "metadata": {},
   "source": [
    "## 기타 주의할 점\n",
    "- 하루 최대 3번 업데이트(8~12시간 주기)\n",
    "- 실제 알림 시점까지 지연시간 발생 가능\n",
    "    - 즉, 실제 의도보다 비용이 더 발생할 가능성 존재\n",
    "- 요금에는 환급금, 크레딧, 세금 등을 포함하거나 제외 가능\n",
    "    - 크레딧이 있을 경우 실제 비용 청구에 반응할 때 유용"
   ]
  }
 ],
 "metadata": {
  "language_info": {
   "name": "python"
  }
 },
 "nbformat": 4,
 "nbformat_minor": 5
}
