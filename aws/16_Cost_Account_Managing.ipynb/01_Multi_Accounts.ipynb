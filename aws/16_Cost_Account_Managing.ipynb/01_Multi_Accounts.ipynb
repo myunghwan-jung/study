{
 "cells": [
  {
   "cell_type": "markdown",
   "id": "b9b72b0d",
   "metadata": {},
   "source": [
    "# 다중 계정 활용"
   ]
  },
  {
   "cell_type": "markdown",
   "id": "2f1bc95e",
   "metadata": {},
   "source": [
    "## 계정 분리의 장점\n",
    "- 보안 및 안정성\n",
    "    - 하나의 계정에 문제(해킹, 리소스 삭제, 장애)가 생겨도 다른 계정과 격리되어 통제 가능(Blast Radius)\n",
    "- 비용 관리\n",
    "    - 계정 단위로 비용을 확인 및 관리 가능\n",
    "- 관리 효율\n",
    "    - 각 계정별로 리소스 관리, 권한 할당등의 단위 분리 기능\n",
    "        - 예 : 로그 관리 전용 계정\n",
    "        - 예 : dev -> stage -> live 등"
   ]
  },
  {
   "cell_type": "markdown",
   "id": "2e5a6a55",
   "metadata": {},
   "source": [
    "## 교차 계정 Assume Role\n",
    "- IAM 계정으로 로그인 후에 다른 계정의 IAM 역할을 Assume해서 해당 계정을 제어하는 방식\n",
    "- 조건\n",
    "    - 원래 계정의 IAM 사용자가 다른 계정의 역할을 Assume할 수 있을 것\n",
    "    - 다른 계정의 역할이 원래 계정의 IAM 사용자가 사용할 수 있도록 할 것\n",
    "- 이후 원래 계정의 사용자는 다른 계정의 역할이 허용한 범위 내에서 권한 행사 가능\n",
    "- AWS 콘솔 UI에서 스위칭 가능"
   ]
  }
 ],
 "metadata": {
  "language_info": {
   "name": "python"
  }
 },
 "nbformat": 4,
 "nbformat_minor": 5
}
