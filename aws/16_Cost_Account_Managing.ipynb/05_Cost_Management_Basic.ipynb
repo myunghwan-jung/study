{
 "cells": [
  {
   "cell_type": "markdown",
   "id": "789eef21",
   "metadata": {},
   "source": [
    "# AWS 비용 관리 기초\n",
    "- 미리 내지 않고, 사용한 만큼 내고, 많이 쓸수록 적게 내고(단위 비용 절감), 예약할 수록 더 적게 낸다"
   ]
  },
  {
   "cell_type": "markdown",
   "id": "9e522726",
   "metadata": {},
   "source": [
    "## AWS의 비용 원칙\n",
    "- AWS에서는 사용 전 비용을 지불하지 않음\n",
    "    - 일부러 예약하는 경우 제외 : 예약하면 저렴\n",
    "- AWS에서는 서비스를 사용한 만큼만 비용 지불\n",
    "    - 일정 기간 단위 약정 없음\n",
    "- 많이 사용한 만큼 적게 냄 (단위당 비용이 낮아짐)\n",
    "    - 예 : S3 저장 비용"
   ]
  },
  {
   "cell_type": "markdown",
   "id": "d9e50b37",
   "metadata": {},
   "source": [
    "## AWS의 비용 발생\n",
    "- 연산, 저장, 데이터 통신에서 비용이 발생\n",
    "- 연산 : EC2, RDS 등 서비스를 사용한 만큼 발생\n",
    "- 저장 : S3, EBS 등 데이터를 저장한 만큼 시간당 비용 발생\n",
    "- 데이터 통신 : AWS 바깥으로 나간 데이터에 대해서만 요금 발생"
   ]
  },
  {
   "cell_type": "markdown",
   "id": "347238e7",
   "metadata": {},
   "source": [
    "### AWS 내부의 데이터 통신 비용\n",
    "- 같은 리전\n",
    "    - VPC의 인터넷 게이트웨이를 통한 AWS 서비스 연동은 비용 없음\n",
    "        - 단, NAT Gateway를 활용 시 데이터 비용 + 시간 당 비용 발생\n",
    "    - VPC 내부에서 같은 AZ간 통신은 비용 없음\n",
    "    - VPC 내부에서 다른 AZ간 통신은 비용 발생\n",
    "        - 서비스 자체적으로 비용이 발생하지 않는 경우도 있음\n",
    "            - 예: S3, RDS 등 자체적으로 멀티 AZ를 사용하는 경우\n",
    "- 다른 리전\n",
    "    - 리전 간 통신 비용 발생\n",
    "- 기타\n",
    "    - 온프레미스 통신 : 시간 당 비용 + 나간 데이터에 대해서 비용 발생"
   ]
  },
  {
   "cell_type": "markdown",
   "id": "451e3257",
   "metadata": {},
   "source": [
    "### 총 소유 비용(TCO)\n",
    "- Total Cost of Ownership\n",
    "- 인프라 환경을 운영하는 경우 발생하는 총 소유(자산 매입 + 운용) 비용\n",
    "- 단순히 서버, 인프라 요금 비교가 아닌 관리 비용, 효율성, 안정성, 확장성, 연계 가능성 등 모든 비용의 비교\n",
    "    - 예 : 데이터 센터 운영\n",
    "        - 인건비, 전기료, 건물 관리비, UPS, 냉각 시스템, 청소비\n",
    "        - 보안 유지비 (출입 통제, CCTV 등)\n",
    "        - 노후화에 따른 장비 성능 저하, 추후 신규 시스템 업그레이드 비용\n",
    "        - 확장성, 사용 종료에 따른 비용"
   ]
  },
  {
   "cell_type": "markdown",
   "id": "647b294d",
   "metadata": {},
   "source": [
    "### Capex vs Opex\n",
    "- Capex(Capital Expenditure)\n",
    "    - 시설 혹은 자원을 사용하기 위해 미리 지불하는 비용\n",
    "        - 예 : 서버 컴퓨터 구매, 서버실 설치 등\n",
    "        - AWS의 경우 Capex가 거의 없음\n",
    "- Opex(Operational Expenditure)\n",
    "    - 사용에 따라 발생하는 비용\n",
    "        - 예 : 전기비, 인건비 등\n",
    "        - AWS를 사용하여 Opex를 획기적으로 줄일 수 있음\n"
   ]
  },
  {
   "cell_type": "markdown",
   "id": "209d5ef1",
   "metadata": {},
   "source": [
    "### 주요 비용 관련 서비스\n",
    "- AWS Budget : 예산 범위를 지정, 이를 넘어가거나 넘어설 것으로 예상되는 경우 조치\n",
    "- AWS Cost Explorer : AWS 서비스의 비용 및 사용량을 분석하는 서비스\n",
    "- AWS Pricing Calcurator : AWS의 비용을 미리 추정해볼 수 있는 서비스\n",
    "    - 이미 발생한 비용이 아닌 미래의 비용을 추정\n",
    "    - 리전 별, 서비스 별 비용 추정 가능\n",
    "    - 추정 된 비용의 저장, 공유, 내보내기 가능"
   ]
  }
 ],
 "metadata": {
  "language_info": {
   "name": "python"
  }
 },
 "nbformat": 4,
 "nbformat_minor": 5
}
