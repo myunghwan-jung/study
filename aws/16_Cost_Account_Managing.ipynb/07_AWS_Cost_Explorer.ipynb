{
 "cells": [
  {
   "cell_type": "markdown",
   "id": "a0247b0f",
   "metadata": {},
   "source": [
    "# AWS Cost Explorer\n",
    "- AWS Cost Explorer는 시간에 따른 AWS 비용과 사용량을 시각화, 이해 및 관리할 수 있는 손쉬운 인터페이스를 제공합니다\n",
    "- AWS 서비스의 비용 및 사용량을 분석하고 시각적으로 확인할 수 있는 서비스\n",
    "    - 시간별, 서비스별, 계정별 비용 보고서의 생성 및 다운로드 가능\n",
    "- 최대 13개월까지 확인 가능\n",
    "- 별도로 API 호출을 활용하여 데이터 불러오기 가능\n",
    "- 처음 콘솔 UI로 접속할 때 자동적으로 활성화\n",
    "    - 이후 비활성화는 불가능\n",
    "    - 활성화 시점부터 최근 13개월의 비용을 기반으로 앞으로 12개월의 비용 예측을 계산"
   ]
  },
  {
   "cell_type": "markdown",
   "id": "a1814b72",
   "metadata": {},
   "source": [
    "## AWS Cost Explorer의 활성화\n",
    "- 처음 콘솔 UI로 접속할 때 자동적으로 활성화\n",
    "- 활성화 시 Cost Anomaly Detection 활성화\n",
    "    - 머신 러닝을 기반으로 비용 관련 이상 탐지 : 알림"
   ]
  },
  {
   "cell_type": "markdown",
   "id": "18eef2c0",
   "metadata": {},
   "source": [
    "## Organization과 Cost Explorer\n",
    "- Organizations에 속한 멤버 계정도 Cost Explorer 활용 가능\n",
    "    - 단 관리 계정에서 허용 필요\n",
    "- 새로 Organizations에 가입한 경우 이전 데이터 활용 불가능\n",
    "    - Organizations를 떠난 경우에도 Organizations에 속해 있을 시기의 데이터 활용 불가능\n",
    "    - 복귀 시 다시 액세스 가능\n",
    "- 대부분의 MSP 관리 환경에서는 Cost Explorer 사용 불가능"
   ]
  },
  {
   "cell_type": "markdown",
   "id": "e0d1a0e3",
   "metadata": {},
   "source": [
    "## AWS Cost Explorer의 구분\n",
    "- 날짜 범위, 세분성(일별, 월별, 시간별 - 추가 요금 발생), 그룹화(차원)\n",
    "- 이외에 다양한 필터(서비스, 리전, 사용량 유형 등)\n",
    "    - include, exclude 선택 가능\n",
    "- 주요 그룹화 추천\n",
    "    - 사용량 유형, 리소스, 서비스"
   ]
  }
 ],
 "metadata": {
  "language_info": {
   "name": "python"
  }
 },
 "nbformat": 4,
 "nbformat_minor": 5
}
