{
 "cells": [
  {
   "cell_type": "markdown",
   "id": "5ed6a7b4",
   "metadata": {},
   "source": [
    "# AWS Control Tower\n",
    "- AWS Control Tower는 규범 모범 사례에 따라 AWS 다중 계정 환경을 설정하고 관리하는 간단한 방법을 제공합니다\n",
    "- AWS의 다중 계정을 쉽고 빠르게 프로비전해주는 서비스\n",
    "    - Organiztion + Identity Center + CloudFormation + 기타 관리 기능\n",
    "    - 단순 계정 생성 이외에 보안 설정, 인프라 구현 규칙 설정 등 여러 가지 기능\n",
    "- 내부적으로 AWS의 다양한 서비스를 활용\n",
    "    - CloudFormation, Organizations, Config, Identity Center 등"
   ]
  },
  {
   "cell_type": "markdown",
   "id": "63fcb722",
   "metadata": {},
   "source": [
    "## AWS Control Tower의 주요 구현 요소\n",
    "- Landing Zone : 모범 사례를 기반으로 설계된 다중 계정 환경\n",
    "    - OU(조직 단위), 계정, 사용자 등이 포함된 전사 리소스의 컨테이너\n",
    "- Guard Rails : 전사 리소스의 규칙을 정하고 예방, 탐지, 제어하는 리소스\n",
    "- Account Factory : 자동화된 환경에서 사전에 구성된 템플릿 기반의 계정을 생성하는 리소스\n",
    "- 대시보드 : Landing Zone 전체를 모니터링 할 수 있는 대시보드"
   ]
  },
  {
   "cell_type": "markdown",
   "id": "00308186",
   "metadata": {},
   "source": [
    "### Landing Zone\n",
    "- 최초 생성 시 콘솔에서 설정한 리전을 Home Region으로 설정\n",
    "    - 주요 리소스들은 Home Region에 프로비전\n",
    "- 기본 생성 OU\n",
    "    - Foundational OU(Security OU - 기본 이름) : 보안과 감사를 위한 OU\n",
    "    - Additional OU(Sandbox OU - 기본 이름) : 기본적으로 생성되며 필요에 따라 다양한 OU 생성\n",
    "        - AWS 추천:\n",
    "            - Infrastructure OU : 주로 공유 서비스와 네트워크 리소스(예: Transit Gateway , Route 53 등)\n",
    "            - Sandbox OX : 개발 전용 Workload OU : 실제 워크로드 생성\n",
    "        - 기타 Policy OU, Exception OU, Deployment OU 등...\n",
    "- 내부적으로 Organizations + Identity Center + CloudFormation 활용"
   ]
  },
  {
   "cell_type": "markdown",
   "id": "573b3072",
   "metadata": {},
   "source": [
    "### Guard Rails\n",
    "- 주요 정책\n",
    "    - Mandatory Controls : 필수로 지켜야 하는 규칙. 해제할 수 없으며 Security OU를 제외하고 모두 적용\n",
    "        - 예 : 로그 버킷 삭제 금지\n",
    "    - Proactive Controls : 리소스 프로비전 전에 준수를 체크하는 규칙\n",
    "        - 예 : DynamoDB 생성 시 반드시 PITR 백업 활성화\n",
    "    - Preventive Controls : 특정 행동에 제약을 설정하는 규칙\n",
    "        - 주로 SCP로 설정하며, \"enforced\", \"not enabled\" 상태\n",
    "        - 예 : 4xlarge 이상의 인스턴스 생성 금지\n",
    "    - Detective Controls : 특정 상태가 준수되고 있는지 지속적으로 체크하며 준수되지 않은 리소스를 리포트\n",
    "        - 주로 Config로 설정\n",
    "        - 예 : 보안그룹 All Inbound open 금지"
   ]
  },
  {
   "cell_type": "markdown",
   "id": "010a26ba",
   "metadata": {},
   "source": [
    "### Account Factory\n",
    "- CloudFormation + Organization 기반으로 AWS 계정을 프로비전\n",
    "    - Guard Rail 리소스 자동으로 설정\n",
    "- Identity Center에 자동으로 사용자 생성 가능"
   ]
  },
  {
   "cell_type": "markdown",
   "id": "0ea0c4c0",
   "metadata": {},
   "source": [
    "### 데모 - Control Tower를 활용한 Landing Zone 설정\n",
    "- 모두 프로비전에 1시간 이상 소요\n",
    "- 삭제 시에도 2시간 이상 소요 가능 (리소스 숫자에 따라)\n",
    "1. 컨트롤 타워 콘솔로 이동 - 서울 리전 확인\n",
    "2. 랜딩 존 설정 : 서울\n",
    "    - 추가 리전 : 도쿄"
   ]
  }
 ],
 "metadata": {
  "language_info": {
   "name": "python"
  }
 },
 "nbformat": 4,
 "nbformat_minor": 5
}
