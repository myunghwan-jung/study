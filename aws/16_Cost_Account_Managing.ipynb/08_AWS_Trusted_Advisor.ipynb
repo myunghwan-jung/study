{
 "cells": [
  {
   "cell_type": "markdown",
   "id": "6b03f276",
   "metadata": {},
   "source": [
    "# AWS Trusted Advisor\n",
    "- AWS의 현재 상태를 기반으로 AWS를 최적으로 운용하기 위한 권장 사항을 제공\n",
    "- 카테고리\n",
    "    - 비용 최적화 : 예약 인스턴스, 사용 안하는 EC2 등\n",
    "    - 성능 : EBS의 IOPS, CloudFront 사용 등\n",
    "    - 보안 : 보안 그룹 포트, IAM 암호 로테이션 등\n",
    "    - 내결함성 : 백업 및 다중화(RDS의 Multi-AZ, EC2 가용 영역 분산)\n",
    "    - 서비스 한도 : AWS 리소스의 한도 (예: 인스턴스 타입별 갯수)\n",
    "- AWS Support 티어 별로 다른 점검 숫자\n",
    "    - 기본 56개, Business Support 이상에서는 최대 482개 이상"
   ]
  }
 ],
 "metadata": {
  "language_info": {
   "name": "python"
  }
 },
 "nbformat": 4,
 "nbformat_minor": 5
}
