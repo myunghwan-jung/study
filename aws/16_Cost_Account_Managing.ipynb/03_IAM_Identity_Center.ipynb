{
 "cells": [
  {
   "cell_type": "markdown",
   "id": "5b8f213f",
   "metadata": {},
   "source": [
    "## 계정 생성의 어려움\n",
    "- 수 많은 IAM의 자격 증명을 관리해야 함\n",
    "    - (IAM user name + password + MFA) x 계정 숫자\n",
    "- 다른 사람에게 권한을 주고 싶을 경우 계정 숫자만큼 유저를 생성해야 함\n",
    "- 모든 계정에 하나하나 세팅 필요"
   ]
  },
  {
   "cell_type": "markdown",
   "id": "bc33c86e",
   "metadata": {},
   "source": [
    "## 역할 전환의 한계\n",
    "- 하나의 IAM 유저 생성으로 다양한 계정 접근 가능\n",
    "- 하지만 모든 계정에 하나하나 세팅이 필요해짐\n",
    "- 권한 관리가 어려움\n",
    "- 역할 변경을 위한 URL 관리도 어려움 (UI의 한계도 존재)"
   ]
  },
  {
   "cell_type": "markdown",
   "id": "decf3c0b",
   "metadata": {},
   "source": [
    "# AWS IAM Indentity Center\n",
    "- AWS IAM Identity Center는 인력의 ID를 안전하게 생성하거나 연결하고 AWS 계정 및 어플리케이션 전체에서 이들의 액세스 권한을 중앙에서 관리하는 데 도움이 됩니다. IAM Identity Center는 모든 규모 및 유형의 조직에서 AWS 내 인력의 인증 및 권한 부여에 사용할 수 있는 권장 접근 방식입니다.\n",
    "- AWS의 다양한 계정(Organizations 소속)에 단일 로그인을 지원하는 서비스\n",
    "- 다양한 자격 증명(Identity) 소스 사용 가능\n",
    "    - SAML 2.0 지원 소스 (Microsoft Active Directory, 온프레미스 기반 등)\n",
    "    - AWS SSO 자체 자격증명 소스(무료)\n",
    "- IAM과 비슷하게 그룹 기반으로 유저 권한 관리 가능\n",
    "    - 사용자 MFA 설정 가능\n",
    "- 로그인 웹 UI를 통해 로그인\n",
    "    - 커스텀 주소 생성 가능"
   ]
  },
  {
   "cell_type": "markdown",
   "id": "42ab4d40",
   "metadata": {},
   "source": [
    "## IAM Identity Center의 구성 요소\n",
    "- 자격 소스 : 자격 증명을 검증해줄 수 있는 소스\n",
    "- AWS 권한 세트 (Permission Sets)\n",
    "    - 부여할 권한의 집합 (= IAM 역할)\n",
    "    - 사용자 / 그룹과 연동\n",
    "    - IAM 정책 같은 형식으로 정의 (JSON)\n",
    "    - 해당 권한 세트를 AWS 계정에 부여 가능\n",
    "- 사용자 : 로그인이 가능한 사용자\n",
    "    - MFA 설정 가능\n",
    "- 그룹 : 사용자의 집합\n",
    "- 어플리케이션 : 자격 증명 연동을 지원하는 어플리케이션 등"
   ]
  }
 ],
 "metadata": {
  "language_info": {
   "name": "python"
  }
 },
 "nbformat": 4,
 "nbformat_minor": 5
}
