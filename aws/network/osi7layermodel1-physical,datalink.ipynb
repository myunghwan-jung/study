{
 "cells": [
  {
   "cell_type": "markdown",
   "metadata": {},
   "source": [
    "# OSI 7 layer model\n",
    "- 컴퓨터 네트워크 및 통신을 7개의 계층으로 표현한 모델\n",
    "- 각 계층은 하위 계층의 기능을 활용해 역할을 수행하고 상위 계층으로 처리 결과를 전달\n",
    "- physical, data link, network, transport, session, presentation, application 순서(please do not throw sausage pizza away)"
   ]
  },
  {
   "cell_type": "markdown",
   "metadata": {},
   "source": [
    "## physical layer\n",
    "- 장치들을 연결하는 물리적 사항들(전압, 주기, 시간, 전선의 규격 등)\n",
    "- 주요 단위 : Bits (0과 1로 구성된 신호)\n",
    "- 구성 요소 : 케이블, 안테나, 허브, 리피터 등등"
   ]
  },
  {
   "cell_type": "markdown",
   "metadata": {},
   "source": [
    "### 허브\n",
    "- 허브 : 에러, 충돌, 디바이스 별 제어 기능이 없음. 받은 내용을 그대로 전달 (Broadcast)\n",
    "- 주체가 많을수록 네트워크가 복잡해짐. 이를 해결하기 위해 중앙화 시킨 것이 허브. (physical layer 단계에서 다수의 기기들을 연결해주는 장치)\n",
    "- 클라이언트들이 동시에 허브로 신호를 보내면? 충돌이 일어남. 허브는 이걸 제어하는 기능이 없음\n",
    "- Broadcast 때문에, 특정 클라이언트를 대상으로 신호를 보낼 수 없음."
   ]
  },
  {
   "cell_type": "markdown",
   "metadata": {},
   "source": [
    "### Physical layer의 한계\n",
    "- 충돌 해결 불가능, Broadcast만 가능 (대상 지정 불가능)\n",
    "- 이를 해결하기 위해 다음 layer인 data link가 필요."
   ]
  },
  {
   "cell_type": "markdown",
   "metadata": {},
   "source": [
    "## Data link layer\n",
    "- 물리적인 통신을 제어하여 디바이스간 통신 및 전송을 안정화 하기 위한 프로토콜\n",
    "- 주요 단위 : Frame\n",
    "- 주요 구성 요소 : Mac Address, Switch\n",
    "- 주요 특징 \n",
    "    - csma/cd 방식을 활용, 각 디바이스간 통신을 원할하게 연결\n",
    "    - 대상을 구별하여 디바이스간 통신 지원 (Unicast)\n",
    "    - Broadcast도 지원"
   ]
  },
  {
   "cell_type": "markdown",
   "metadata": {},
   "source": [
    "### MAC(Media Access Control) Address\n",
    "- 네트워크 인터페이스에 부여된 고유의 주소 (데이터가 지정된 대상에게 전달될 수 있도록 식별하는데 쓰이는 주소)"
   ]
  },
  {
   "cell_type": "markdown",
   "metadata": {},
   "source": [
    "### Frame\n",
    "- layer2에서 사용되는 통신 단위\n",
    "- 대상 및 소스 MAC Address, 데이터 내용인 Payload가 포함된다."
   ]
  },
  {
   "cell_type": "markdown",
   "metadata": {},
   "source": [
    "### CSMA/CD\n",
    "- Carrier-sense Multiple access with collision detection\n",
    "- Physical layer에 신호가 흐르고 있는지 없는지 감지하고, 신호가 없는 경우에만 작동 : Carrier-sense\n",
    "- 두 디바이스가 서로 신호가 없다고 판단, 신호를 보냈다가 Collision이 발생하는 경우, 양쪽 다 랜덤한 시간을 대기. : Collision detection"
   ]
  },
  {
   "cell_type": "markdown",
   "metadata": {},
   "source": [
    "### Switch\n",
    "- layer2 디바이스 : Data link layer에 대해 이해하고 있는 디바이스.\n",
    "- csma/cd가 있다고 하더라도, 네트워크에 디바이스가 많아지면 복잡해질 수 밖에 없음. 이걸 정리하기 위해 layer2를 이해하는 switch가 필요.\n",
    "- 연결된 디바이스들의 mac adress들을 기억하고, 프레임을 저장해둘 수 있는 Frame storage를 가지고 collision들을 처리."
   ]
  },
  {
   "cell_type": "markdown",
   "metadata": {},
   "source": [
    "### Data Link의 한계\n",
    "- 로컬 네트워크 외부로 통신 불가능"
   ]
  }
 ],
 "metadata": {
  "language_info": {
   "name": "python"
  }
 },
 "nbformat": 4,
 "nbformat_minor": 2
}
