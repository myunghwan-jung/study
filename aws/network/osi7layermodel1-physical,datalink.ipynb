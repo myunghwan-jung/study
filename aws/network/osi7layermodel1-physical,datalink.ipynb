{
 "cells": [
  {
   "cell_type": "markdown",
   "metadata": {},
   "source": [
    "# OSI 7 layer model\n",
    "- 컴퓨터 네트워크 및 통신을 7개의 계층으로 표현한 모델\n",
    "- 각 계층은 하위 계층의 기능을 활용해 역할을 수행하고 상위 계층으로 처리 결과를 전달\n",
    "- physical, data link, network, transport, session, presentation, application 순서(please do not throw sausage pizza away)"
   ]
  },
  {
   "cell_type": "markdown",
   "metadata": {},
   "source": [
    "## physical layer\n",
    "- 장치들을 연결하는 물리적 사항들(전압, 주기, 시간, 전선의 규격 등)\n",
    "- 주요 단위 : Bits (0과 1로 구성된 신호)\n",
    "- 구성 요소 : 케이블, 안테나, 허브, 리피터 등등"
   ]
  },
  {
   "cell_type": "markdown",
   "metadata": {},
   "source": [
    "### 허브\n",
    "- 허브 : 에러, 충돌, 디바이스 별 제어 기능이 없음. 받은 내용을 그대로 전달 (Broadcast)\n",
    "- 주체가 많을수록 네트워크가 복잡해짐. 이를 해결하기 위해 중앙화 시킨 것이 허브. (physical layer 단계에서 다수의 기기들을 연결해주는 장치)\n",
    "- 클라이언트들이 동시에 허브로 신호를 보내면? 충돌이 일어남. 허브는 이걸 제어하는 기능이 없음\n",
    "- Broadcast 때문에, 특정 클라이언트를 대상으로 신호를 보낼 수 없음."
   ]
  },
  {
   "cell_type": "markdown",
   "metadata": {},
   "source": [
    "### Physical layer의 한계\n",
    "- 충돌 해결 불가능, Broadcast만 가능 (대상 지정 불가능)\n",
    "- 이를 해결하기 위해 다음 layer인 data link가 필요."
   ]
  }
 ],
 "metadata": {
  "language_info": {
   "name": "python"
  }
 },
 "nbformat": 4,
 "nbformat_minor": 2
}
