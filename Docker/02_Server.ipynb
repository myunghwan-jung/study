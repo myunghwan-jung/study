{
 "cells": [
  {
   "cell_type": "markdown",
   "id": "0dbc4eec",
   "metadata": {},
   "source": [
    "# Docker로 서버 만들기\n",
    "- 웹 서버를 하나 만들어서 이미지로 만들고 배포까지\n",
    "- node js 사용하여 웹 서버 만들기\n",
    "    1. Node.js 설치\n",
    "    2. express 설치\n",
    "        - 작업 폴더로 이동, npm init -y\n",
    "        - npm install express\n",
    "    3. 코드 작성\n",
    "    4. 코드 실행\n",
    "        - 실시간으로 코드 수정 사항을 반영하려면 npm install -g nodemon\n",
    "        - 이후 nodemon server.js\n",
    "    5. 도커로 포장\n",
    "        - 어떤 OS를 쓸지\n",
    "        - 어떤 프로그램 설치할지\n",
    "        - 어떤 터미널 명령어를 실행할지\n",
    "        - 어떤 파일을 집어넣을건지"
   ]
  },
  {
   "cell_type": "markdown",
   "id": "adbac3c8",
   "metadata": {},
   "source": [
    "## Dockerfile 명령어\n",
    "- FROM 이미지명\n",
    "    - 어떤 OS로 프로그램을 실행할지 설정\n",
    "    - Docker hub에서 이미지를 찾아오자\n",
    "- RUN\n",
    "    - 터미널 명령어를 실행할 수 있다\n",
    "    - 설치할 라이브러리가 많으면 COPY를 먼저 활용하자\n",
    "- COPY 내컴퓨터파일경로 이미지내부파일경로\n",
    "    - .dockerignore로 copy하지 않을 파일 목록 기재\n",
    "- WORKDIR\n",
    "    - 폴더 이동 명령어\n",
    "    - WORKDIR /app : 작업 경로를 /app으로 바꿔주거나, /app이 없으면 하나 만들어줌\n",
    "- CMD\n",
    "    - 보통 마지막 명령어로 RUN 대신 사용\n",
    "- EXPOSE\n",
    "    - 사용할 포트 번호 기재\n",
    "- docker build -t 이미지이름:태그 경로\n",
    "    - 터미널에 입력해서 이미지 빌드"
   ]
  }
 ],
 "metadata": {
  "language_info": {
   "name": "python"
  }
 },
 "nbformat": 4,
 "nbformat_minor": 5
}
