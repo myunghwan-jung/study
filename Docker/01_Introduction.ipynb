{
 "cells": [
  {
   "cell_type": "markdown",
   "id": "1d46bb26",
   "metadata": {},
   "source": [
    "## Docker Introduction\n",
    "- Image : 음식으로 따지면 밀키트. OS, 환경세팅, 라이브러리, 소스코드 등을 묶어둔 것\n",
    "- 상단 검색창에서 전체공개 이미지를 다운받을 수 있다\n",
    "- Container : 밀키트로 만든 요리. 이미지를 실행중인 가상 컴퓨터"
   ]
  },
  {
   "cell_type": "markdown",
   "id": "183d54f8",
   "metadata": {},
   "source": [
    "## Docker Commands\n",
    "- docker image ls : 저장된 이미지 목록 출력\n",
    "- docker pull imagename : 특정 이미지 풀링\n",
    "- docker run imagename:태그 : 특정 이미지 실행\n",
    "- docker run --platform linux/amd64 dockercloud/hello-world : 플랫폼을 정의하여 이미지 실행"
   ]
  }
 ],
 "metadata": {
  "language_info": {
   "name": "python"
  }
 },
 "nbformat": 4,
 "nbformat_minor": 5
}
