{
 "cells": [
  {
   "cell_type": "markdown",
   "id": "03427361",
   "metadata": {},
   "source": [
    "# Basic Linear Algebra\n",
    "## Scalar, Vector, Matrix\n",
    "- Scalar : a single number\n",
    "- Vector : an ordered list of numbers. (<-> Set is a not ordered list of numbers)\n",
    "- Matrix : a two-demensional array of numbers\n",
    "    - Matrix size : 3 x 2 means 3 3 rows and 2 columns\n",
    "    - Row Vector : a horizontal vector\n",
    "    - Column Vector : a vertical vector"
   ]
  },
  {
   "cell_type": "markdown",
   "id": "8fb51565",
   "metadata": {},
   "source": [
    "## Colum Vector and Row Vector\n",
    "- A vector of n-demension is usually a column vector. i.e., a matrix of the size n x 1\n",
    "- Thus, a row vector is usually written as its transpose(전치행렬)"
   ]
  },
  {
   "cell_type": "markdown",
   "id": "7b569fa8",
   "metadata": {},
   "source": [
    "## Matrix Notations\n",
    "- Square matrix : #rows=#columns\n",
    "- Rectangular matrix : possibly #rows != #columns\n",
    "- A<sup>T</sup>(Transpose of matrix) : mirroring across the main diagonal\n",
    "- A<sub>ij</sub> : (i,j)-th component of A\n",
    "- A<sub>i,:</sub> : i-th row vector of A\n",
    "- A<sub>:,i</sub> : i-th coloumn vector of A"
   ]
  },
  {
   "cell_type": "markdown",
   "id": "34c58fb2",
   "metadata": {},
   "source": [
    "## Vector/Matrix Additions and Multiplications\n",
    "- C = A + B : Element-wise addition, ie., C<sub>ij</sub> = A<sub>ij</sub> + B<sub>ij</sub>\n",
    "    - A, B, C should have the same size\n",
    "- ca, cA : Scalar multiple of vector/matrix\n",
    "- C = AB : Matrix-matrix multiplication, ie., C<sub>ij</sub> = Σ<sub>k</sub>A<sub>i,k</sub>B<sub>k,j</sub>"
   ]
  },
  {
   "cell_type": "markdown",
   "id": "811cf9c2",
   "metadata": {},
   "source": [
    "## Matrix multiplication is Not commutative\n",
    "- AB != BA : Matrix multiplication is not commutative"
   ]
  },
  {
   "cell_type": "markdown",
   "id": "78fa0d07",
   "metadata": {},
   "source": [
    "## Other Properties\n",
    "- A(B+C) = AB + AB\n",
    "- A(BC) = (AB)C : Associative\n",
    "- (AB)<sup>T</sup> = B<sup>T</sup>A<sup>T</sup>\n",
    "- (AB)<sup>-1</sup> = B<sup>-1</sup>A<sup>-1</sup>"
   ]
  }
 ],
 "metadata": {
  "language_info": {
   "name": "python"
  }
 },
 "nbformat": 4,
 "nbformat_minor": 5
}
