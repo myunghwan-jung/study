{
 "cells": [
  {
   "cell_type": "markdown",
   "metadata": {
    "vscode": {
     "languageId": "raw"
    }
   },
   "source": [
    "## GitHUB = 원격 레포지토리\n",
    "- git? 버전 관리 프로그램. 파일 기록해두는 장소가 repository\n",
    "- 로컬에 저장되는 repository만으로는 불완전하니까, 온라인에도 repository를 만들면?\n",
    "- 그게 바로 github. 협업도 가능해짐."
   ]
  },
  {
   "cell_type": "markdown",
   "metadata": {
    "vscode": {
     "languageId": "raw"
    }
   },
   "source": [
    "### 푸쉬\n",
    "```bash\n",
    "git push -u 원격저장소주소 브랜치명"
   ]
  },
  {
   "cell_type": "markdown",
   "metadata": {
    "vscode": {
     "languageId": "raw"
    }
   },
   "source": [
    "### -u의 용도?\n",
    "- 방금 업로드한 원격저장소주소를 기억하라는 뜻, 이후로는 git push만 해도 자동으로 원격저장주소로 push!"
   ]
  },
  {
   "cell_type": "markdown",
   "metadata": {
    "vscode": {
     "languageId": "raw"
    }
   },
   "source": [
    "### 원격저장소주소를 변수로 저장하자\n",
    "```bash\n",
    "git remote add 변수명 주소"
   ]
  },
  {
   "cell_type": "markdown",
   "metadata": {},
   "source": [
    "### clone, push\n",
    "```bash\n",
    "git clone 원격저장소주소"
   ]
  },
  {
   "cell_type": "markdown",
   "metadata": {},
   "source": [
    "#### 협업을 위해 준비할 것들\n",
    "- 공동 작업자도 github 아이디 필요\n",
    "- 팀원의 깃헙 아이디를 repository의 collaborators에 추가해야 함."
   ]
  },
  {
   "cell_type": "markdown",
   "metadata": {},
   "source": [
    "- a팀원이 git push를 한 경우, b는 git push를 못할 수도 있음.\n",
    "- b는 먼저 pull을 먼저해서 변동사항을 동기화한 후에 push 해야함"
   ]
  },
  {
   "cell_type": "markdown",
   "metadata": {},
   "source": [
    "```bash\n",
    "git pull 원격저장소주소 브랜치명"
   ]
  },
  {
   "cell_type": "markdown",
   "metadata": {},
   "source": [
    "## 원격저장소 브랜치 만들기\n",
    "- github 페이지에서 만들기\n",
    "- 로컬 작업 환경에서 만들기(그냥 로컬에서 만들고 push하면 됨.)"
   ]
  },
  {
   "cell_type": "markdown",
   "metadata": {},
   "source": [
    "1. 새로운 브랜치 만들고\n",
    "2. 새 브랜치로 스위치 하고\n",
    "3. 스테이징 하고\n",
    "4. 커밋\n",
    "5. 새로운 브랜치를 push"
   ]
  },
  {
   "cell_type": "markdown",
   "metadata": {},
   "source": [
    "### 새로운 브랜치를 merge 하고 싶으면?\n",
    "- github 페이지에서 merge\n",
    "1. pull request가 merge 요청임\n",
    "2. 어떤 브랜치에 어떤 브랜치를 합칠 것인지 선택. 커밋 내용 확인.\n",
    "3. conflict있는 경우 해결 - commit merge\n",
    "4. merge 방식도 선택 가능\n",
    "- 로컬에서 merge하고 push 해도 됨."
   ]
  },
  {
   "cell_type": "markdown",
   "metadata": {},
   "source": [
    "## 협업시 개발 전략에 대한 방법론들\n",
    "- Git Flow\n",
    "- Github Flow\n",
    "- Trunk-based\n",
    "- Gitlab Flow"
   ]
  },
  {
   "cell_type": "markdown",
   "metadata": {},
   "source": [
    "### Git Flow\n",
    "  \n",
    "1. main  \n",
    "메인 브랜치  \n",
    "\n",
    "2. develop  \n",
    "새로운 기능을 넣을 때, 원본 코드를 복사한 develop 브랜치를 만들어놓음.  \n",
    "\n",
    "3. feature  \n",
    "develop 브랜치에 넣을 신 기능을 개발하는 브랜치  \n",
    "\n",
    "4. release  \n",
    "신 기능들이 잘 작동하면, develop 브랜치에 합친 후 release 브랜치로 복사. 테스트. 테스트 잘되면 메인으로 합침.  \n",
    "develop 브랜치로도 merge 해서 develop 브랜치에서 계속 개발  \n",
    "\n",
    "5. hotfix  \n",
    "급하게 수정해야 하는 버그는 메인브랜치에서 hotfix 브랜치를 만든 후, 오류 수정  \n",
    "이후 잘 작동하면 main, develop 브랜치로 merge\n"
   ]
  },
  {
   "cell_type": "markdown",
   "metadata": {},
   "source": [
    "### Trunk-based  \n",
    "- 메인 브랜치 하나만 운영\n",
    "- 수정이 필요하면 그때 그때 브랜치를 만들어서 수정\n",
    "- Github flow도 유사\n",
    "- 브랜치 관리가 편하다. 하지만 많은 테스트를 통해 완성도 높게 배포해야 함."
   ]
  },
  {
   "cell_type": "markdown",
   "metadata": {},
   "source": []
  },
  {
   "cell_type": "markdown",
   "metadata": {},
   "source": [
    "### git stash - 보관함에 잠시 코드를 보관해보자.\n",
    "1. 커밋까지 끝낸 코드에 새로운 코드를 추가. 근데 추가된 코드가 맘에 안들어\n",
    "2. git stash 하면 새로운 코드가 보관됨 (스테이징이랑 다른 개념인듯 -  최근 커밋과 차이점 전부 보관)  \n",
    "*새로운 파일을 추가하고 스테이징 안한 경우에는 stash 안될 수도 있음\n",
    "3. git stash list를 통해서 보관 리스트 출력  \n",
    "4. git stash save 'memo'  \n",
    "*메모와 함께 저장하는 기능\n",
    "5. git stash pop  \n",
    "*최근에 보관한 스태쉬 항목을 불러오는 기능 (가장 최근 stash부터 불러옴)"
   ]
  },
  {
   "cell_type": "markdown",
   "metadata": {},
   "source": [
    "#### 주석 기능이 있는데 왜 stash를 써야해?\n",
    "- 주석 처리 해도 커밋하면 결국 올라가니까..\n",
    "#### 각종 명령어\n",
    "```bash\n",
    "git stash list\n",
    "git stash drop 번호\n",
    "git stash clear"
   ]
  },
  {
   "cell_type": "markdown",
   "metadata": {},
   "source": []
  }
 ],
 "metadata": {
  "kernelspec": {
   "display_name": "Python 3",
   "language": "python",
   "name": "python3"
  },
  "language_info": {
   "codemirror_mode": {
    "name": "ipython",
    "version": 3
   },
   "file_extension": ".py",
   "mimetype": "text/x-python",
   "name": "python",
   "nbconvert_exporter": "python",
   "pygments_lexer": "ipython3",
   "version": "3.9.18"
  }
 },
 "nbformat": 4,
 "nbformat_minor": 2
}
