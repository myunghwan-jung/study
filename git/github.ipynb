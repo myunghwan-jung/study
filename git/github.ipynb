{
 "cells": [
  {
   "cell_type": "markdown",
   "metadata": {
    "vscode": {
     "languageId": "raw"
    }
   },
   "source": [
    "## GitHUB = 원격 레포지토리\n",
    "- git? 버전 관리 프로그램. 파일 기록해두는 장소가 repository\n",
    "- 로컬에 저장되는 repository만으로는 불완전하니까, 온라인에도 repository를 만들면?\n",
    "- 그게 바로 github. 협업도 가능해짐."
   ]
  },
  {
   "cell_type": "markdown",
   "metadata": {
    "vscode": {
     "languageId": "raw"
    }
   },
   "source": [
    "### 푸쉬\n",
    "```bash\n",
    "git push -u 원격저장소주소 브랜치명"
   ]
  },
  {
   "cell_type": "markdown",
   "metadata": {
    "vscode": {
     "languageId": "raw"
    }
   },
   "source": [
    "### 원격저장소주소를 변수로 저장하자\n",
    "```bash\n",
    "git remote add 변수명 주소"
   ]
  },
  {
   "cell_type": "markdown",
   "metadata": {
    "vscode": {
     "languageId": "raw"
    }
   },
   "source": [
    "### -u의 용도?\n",
    "- 방금 업로드한 원격저장소주소를 기억하라는 뜻, 이후로는 git push만 해도 자동으로 원격저장주소로 push!"
   ]
  },
  {
   "cell_type": "markdown",
   "metadata": {},
   "source": [
    "### clone, push\n",
    "```bash\n",
    "git clone 원격저장소주소"
   ]
  },
  {
   "cell_type": "markdown",
   "metadata": {},
   "source": []
  },
  {
   "cell_type": "markdown",
   "metadata": {},
   "source": [
    "#### 협업을 위해 준비할 것들\n",
    "- 공동 작업자도 github 아이디 필요\n",
    "- 팀원의 깃헙 아이디를 repository의 collaborators에 추가해야 함."
   ]
  },
  {
   "cell_type": "markdown",
   "metadata": {},
   "source": [
    "- a팀원이 git push를 한 경우, b는 git push를 못할 수도 있음.\n",
    "- b는 먼저 pull을 먼저해서 변동사항을 동기화한 후에 push 해야함"
   ]
  },
  {
   "cell_type": "markdown",
   "metadata": {},
   "source": []
  },
  {
   "cell_type": "markdown",
   "metadata": {},
   "source": []
  },
  {
   "cell_type": "markdown",
   "metadata": {},
   "source": []
  },
  {
   "cell_type": "markdown",
   "metadata": {},
   "source": []
  }
 ],
 "metadata": {
  "kernelspec": {
   "display_name": "Python 3",
   "language": "python",
   "name": "python3"
  },
  "language_info": {
   "codemirror_mode": {
    "name": "ipython",
    "version": 3
   },
   "file_extension": ".py",
   "mimetype": "text/x-python",
   "name": "python",
   "nbconvert_exporter": "python",
   "pygments_lexer": "ipython3",
   "version": "3.9.18"
  }
 },
 "nbformat": 4,
 "nbformat_minor": 2
}
