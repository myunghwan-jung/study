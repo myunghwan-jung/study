{
 "cells": [
  {
   "cell_type": "raw",
   "metadata": {
    "vscode": {
     "languageId": "raw"
    }
   },
   "source": [
    "기본 브랜치 이름을 마스터가 아닌 브렌치로 수정\n",
    "git config --global init.defaultBranch main"
   ]
  },
  {
   "cell_type": "raw",
   "metadata": {
    "vscode": {
     "languageId": "raw"
    }
   },
   "source": [
    "기본 에디터를 VScode로 설정\n",
    "git config --global core.editor \"code --wait\""
   ]
  },
  {
   "cell_type": "raw",
   "metadata": {
    "vscode": {
     "languageId": "raw"
    }
   },
   "source": [
    "이메일, 이름 등록\n",
    "git config --global user.email \"email\"\n",
    "git config --global user.name \"name\""
   ]
  },
  {
   "cell_type": "raw",
   "metadata": {},
   "source": [
    "깃 실행\n",
    "git init"
   ]
  },
  {
   "cell_type": "raw",
   "metadata": {
    "vscode": {
     "languageId": "raw"
    }
   },
   "source": [
    "파일 상태 기록\n",
    "git add 파일이름"
   ]
  },
  {
   "cell_type": "raw",
   "metadata": {
    "vscode": {
     "languageId": "raw"
    }
   },
   "source": [
    "커밋\n",
    "git commit -m '메세지'"
   ]
  },
  {
   "cell_type": "raw",
   "metadata": {
    "vscode": {
     "languageId": "raw"
    }
   },
   "source": [
    "추적하지 않는 파일을 무시하기\n",
    "echo \"파일명\" >> .gitignore\n",
    "git add .gitignore\n",
    "git commit -m \"Add \"파일명\" to .gitignore\""
   ]
  },
  {
   "cell_type": "raw",
   "metadata": {
    "vscode": {
     "languageId": "raw"
    }
   },
   "source": [
    "add로 기록을 남길 파일을 선택 (스테이징)\n",
    "commit 으로 기록 생성 (리포지토리)"
   ]
  },
  {
   "cell_type": "raw",
   "metadata": {
    "vscode": {
     "languageId": "raw"
    }
   },
   "source": [
    "여러 파일 동시 스테이징\n",
    "git add '파일명' '파일명'\n",
    "\n",
    "모든 파일 스테이징\n",
    "git add .\n"
   ]
  },
  {
   "cell_type": "raw",
   "metadata": {
    "vscode": {
     "languageId": "raw"
    }
   },
   "source": [
    "상태창\n",
    "git status"
   ]
  },
  {
   "cell_type": "raw",
   "metadata": {
    "vscode": {
     "languageId": "raw"
    }
   },
   "source": [
    "기록 보기\n",
    "git log --all --oneline\n",
    "그래프로 기록 보기\n",
    "git log --all --oneline --graph "
   ]
  },
  {
   "cell_type": "raw",
   "metadata": {
    "vscode": {
     "languageId": "raw"
    }
   },
   "source": [
    "스테이징 취소\n",
    "git restore --staged \"파일명\""
   ]
  },
  {
   "cell_type": "raw",
   "metadata": {
    "vscode": {
     "languageId": "raw"
    }
   },
   "source": [
    "커밋 하기 전 변경 사항 체크하는 것도 좋음\n",
    "git diff\n",
    "git difftool\n",
    "얘들은 스테이징되지 않은 변경사항만 보여줌."
   ]
  },
  {
   "cell_type": "raw",
   "metadata": {
    "vscode": {
     "languageId": "raw"
    }
   },
   "source": []
  },
  {
   "cell_type": "raw",
   "metadata": {},
   "source": []
  },
  {
   "cell_type": "raw",
   "metadata": {},
   "source": []
  }
 ],
 "metadata": {
  "language_info": {
   "name": "python"
  }
 },
 "nbformat": 4,
 "nbformat_minor": 2
}
