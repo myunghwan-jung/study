{
 "cells": [
  {
   "cell_type": "raw",
   "metadata": {
    "vscode": {
     "languageId": "raw"
    }
   },
   "source": [
    "기본 브랜치 이름을 마스터가 아닌 브렌치로 수정\n",
    "git config --global init.defaultBranch main"
   ]
  },
  {
   "cell_type": "raw",
   "metadata": {
    "vscode": {
     "languageId": "raw"
    }
   },
   "source": [
    "기본 에디터를 VScode로 설정\n",
    "git config --global core.editor \"code --wait\""
   ]
  },
  {
   "cell_type": "raw",
   "metadata": {
    "vscode": {
     "languageId": "raw"
    }
   },
   "source": [
    "이메일, 이름 등록\n",
    "git config --global user.email \"email\"\n",
    "git config --global user.name \"name\""
   ]
  },
  {
   "cell_type": "raw",
   "metadata": {},
   "source": [
    "깃 실행\n",
    "git init"
   ]
  },
  {
   "cell_type": "raw",
   "metadata": {
    "vscode": {
     "languageId": "raw"
    }
   },
   "source": [
    "파일 상태 기록\n",
    "git add 파일이름"
   ]
  },
  {
   "cell_type": "raw",
   "metadata": {
    "vscode": {
     "languageId": "raw"
    }
   },
   "source": [
    "커밋\n",
    "git commit -m '메세지'"
   ]
  },
  {
   "cell_type": "raw",
   "metadata": {
    "vscode": {
     "languageId": "raw"
    }
   },
   "source": [
    "추적하지 않는 파일을 무시하기\n",
    "echo \"파일명\" >> .gitignore\n",
    "git add .gitignore\n",
    "git commit -m \"Add \"파일명\" to .gitignore\""
   ]
  },
  {
   "cell_type": "raw",
   "metadata": {
    "vscode": {
     "languageId": "raw"
    }
   },
   "source": [
    "add로 기록을 남길 파일을 선택 (스테이징)\n",
    "commit 으로 기록 생성 (리포지토리)"
   ]
  },
  {
   "cell_type": "raw",
   "metadata": {
    "vscode": {
     "languageId": "raw"
    }
   },
   "source": [
    "여러 파일 동시 스테이징\n",
    "git add '파일명' '파일명'\n",
    "\n",
    "모든 파일 스테이징\n",
    "git add .\n"
   ]
  },
  {
   "cell_type": "raw",
   "metadata": {
    "vscode": {
     "languageId": "raw"
    }
   },
   "source": [
    "상태창\n",
    "git status"
   ]
  },
  {
   "cell_type": "raw",
   "metadata": {
    "vscode": {
     "languageId": "raw"
    }
   },
   "source": [
    "기록 보기\n",
    "git log --all --oneline\n",
    "그래프로 기록 보기\n",
    "git log --all --oneline --graph "
   ]
  },
  {
   "cell_type": "raw",
   "metadata": {
    "vscode": {
     "languageId": "raw"
    }
   },
   "source": [
    "스테이징 취소\n",
    "git restore --staged \"파일명\""
   ]
  },
  {
   "cell_type": "raw",
   "metadata": {
    "vscode": {
     "languageId": "raw"
    }
   },
   "source": [
    "커밋 하기 전 변경 사항 체크하는 것도 좋음\n",
    "git diff\n",
    "git difftool\n",
    "얘들은 스테이징되지 않은 변경사항만 보여줌."
   ]
  },
  {
   "cell_type": "raw",
   "metadata": {
    "vscode": {
     "languageId": "raw"
    }
   },
   "source": [
    "특정 커밋(버전)과 현재의 차이점 출력\n",
    "git difftool \"커밋아이디\"\n",
    "특정 커밋(버전)간의 차이점 출력\n",
    "git difftool \"커밋아이디1\" \"커밋아이디2\""
   ]
  },
  {
   "cell_type": "raw",
   "metadata": {
    "vscode": {
     "languageId": "raw"
    }
   },
   "source": [
    "difftool은 기본적으로 Vim에디터를 사용하는데, VScode로 바꾸고 싶으면\n",
    "git config --global diff.tool vscode\n",
    "git config --global difftool.vscode.cmd 'code --wait --diff $LOCAL $REMOTE'"
   ]
  },
  {
   "cell_type": "raw",
   "metadata": {
    "vscode": {
     "languageId": "raw"
    }
   },
   "source": [
    "브랜치 만들기\n",
    "git branch 이름"
   ]
  },
  {
   "cell_type": "raw",
   "metadata": {
    "vscode": {
     "languageId": "raw"
    }
   },
   "source": [
    "브랜치 이동\n",
    "git switch 이름"
   ]
  },
  {
   "cell_type": "raw",
   "metadata": {
    "vscode": {
     "languageId": "raw"
    }
   },
   "source": [
    "브랜치 합치기\n",
    "git switch 기준 브랜치 이름(주로 main)\n",
    "git merge 대상 브랜치"
   ]
  },
  {
   "cell_type": "raw",
   "metadata": {
    "vscode": {
     "languageId": "raw"
    }
   },
   "source": [
    "conflict\n",
    "두 브랜치가 같은 파일을 수정한 경우, 머지를 해버리면 컨틀릭트 발생"
   ]
  },
  {
   "cell_type": "raw",
   "metadata": {
    "vscode": {
     "languageId": "raw"
    }
   },
   "source": [
    "3-way merge\n",
    "신규 commit들이 있는 브랜치들을 merge 하는 경우\n",
    "새로운 commit이 생성됨"
   ]
  },
  {
   "cell_type": "raw",
   "metadata": {
    "vscode": {
     "languageId": "raw"
    }
   },
   "source": [
    "fast-forward merge\n",
    "브랜치 생성 이후 메인 브랜치에는 신규 커밋이 없는 경우\n",
    "새로 생성된 브랜치의 최종 커밋의 이름을 main으로 바꿔버림\n",
    "git merge --no-ff 를 통해서 강제로 3-way merge 할 수도 있음"
   ]
  },
  {
   "cell_type": "raw",
   "metadata": {
    "vscode": {
     "languageId": "raw"
    }
   },
   "source": [
    "브랜치 삭제하는 법 (merge 한다고 자동으로 삭제 안됨)\n",
    "merge 완료된 브랜치 삭제\n",
    "git branch -d 브랜치명\n",
    "merge 안한 브랜치 삭제\n",
    "git branch -D 브랜치명"
   ]
  },
  {
   "cell_type": "raw",
   "metadata": {
    "vscode": {
     "languageId": "raw"
    }
   },
   "source": [
    "merge 말고 다른 방식으로 합치는 법\n",
    "rebase\n",
    "신규 브랜치의 시작점을, 메인 브랜치의 최신 커밋으로 교체하고 fast forward merge로 합쳐버림\n",
    "(fast forward merge는, 신규 브랜치의 시작점 이후로 메인 브랜치에 커밋이 있었을 경우 불가능)\n",
    "브랜치가 너무 많으면 로그가 복잡해 보이니까 몇개는 그냥 rebase로 합쳐버림.\n",
    "단점으로는 conflict가 많이 발생할 수 있음\n",
    "\n",
    "1) 새로운 브랜치로 이동\n",
    "git switch 새로운 브랜치 명\n",
    "git rebase 중심 브랜치 명\n",
    "\n",
    "2) 중심 브랜치로 이동\n",
    "git switch 중심 브랜치 명\n",
    "git merge 새로운 브랜치 명 (fast-forward merge)"
   ]
  },
  {
   "cell_type": "raw",
   "metadata": {
    "vscode": {
     "languageId": "raw"
    }
   },
   "source": [
    "squash and merge\n",
    "브랜치가 많을수록 로그가 더러워짐. squash 쓰면 새 브랜치의 커밋 내역을 그냥 메인 브랜치의 새로운 커밋으로 생성해줌.\n",
    "git merge --squash 새브런치\n"
   ]
  },
  {
   "cell_type": "raw",
   "metadata": {},
   "source": []
  },
  {
   "cell_type": "raw",
   "metadata": {},
   "source": []
  }
 ],
 "metadata": {
  "kernelspec": {
   "display_name": "Python 3",
   "language": "python",
   "name": "python3"
  },
  "language_info": {
   "codemirror_mode": {
    "name": "ipython",
    "version": 3
   },
   "file_extension": ".py",
   "mimetype": "text/x-python",
   "name": "python",
   "nbconvert_exporter": "python",
   "pygments_lexer": "ipython3",
   "version": "3.9.18"
  }
 },
 "nbformat": 4,
 "nbformat_minor": 2
}
