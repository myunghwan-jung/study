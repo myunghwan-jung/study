{
 "cells": [
  {
   "cell_type": "markdown",
   "metadata": {
    "vscode": {
     "languageId": "raw"
    }
   },
   "source": [
    "# Git 명령어 요약\n",
    "\n",
    "## 기본 설정\n",
    "\n",
    "### 기본 브랜치 이름 변경\n",
    "```bash\n",
    "git config --global init.defaultBranch main"
   ]
  },
  {
   "cell_type": "markdown",
   "metadata": {
    "vscode": {
     "languageId": "raw"
    }
   },
   "source": [
    "### 기본 에디터 설정\n",
    "```bash\n",
    "git config --global core.editor \"code --wait\""
   ]
  },
  {
   "cell_type": "markdown",
   "metadata": {
    "vscode": {
     "languageId": "raw"
    }
   },
   "source": [
    "### 이메일, 이름 등록\n",
    "```bash\n",
    "git config --global user.email \"email\"\n",
    "git config --global user.name \"name\""
   ]
  },
  {
   "cell_type": "markdown",
   "metadata": {
    "vscode": {
     "languageId": "raw"
    }
   },
   "source": [
    "### 깃 실행\n",
    "```bash\n",
    "git init"
   ]
  },
  {
   "cell_type": "markdown",
   "metadata": {
    "vscode": {
     "languageId": "raw"
    }
   },
   "source": [
    "### 파일 상태 기록\n",
    "```bash\n",
    "git add 파일이름"
   ]
  },
  {
   "cell_type": "markdown",
   "metadata": {
    "vscode": {
     "languageId": "raw"
    }
   },
   "source": [
    "### 커밋\n",
    "```bash\n",
    "git commit -m '메세지'"
   ]
  },
  {
   "cell_type": "markdown",
   "metadata": {
    "vscode": {
     "languageId": "raw"
    }
   },
   "source": [
    "### 추적하지 않는 파일을 무시하기(.gitignore)\n",
    "```bash\n",
    "echo \"파일명\" >> .gitignore\n",
    "git add .gitignore\n",
    "git commit -m \"Add \"파일명\" to .gitignore\""
   ]
  },
  {
   "cell_type": "markdown",
   "metadata": {
    "vscode": {
     "languageId": "raw"
    }
   },
   "source": [
    "### 스테이징과 커밋\n",
    "* add로 기록을 남길 파일을 선택 (스테이징)\n",
    "* commit 으로 기록 생성 (리포지토리)"
   ]
  },
  {
   "cell_type": "markdown",
   "metadata": {
    "vscode": {
     "languageId": "raw"
    }
   },
   "source": [
    "### 여러 파일 동시 스테이징\n",
    "```bash\n",
    "git add '파일명' '파일명'\n"
   ]
  },
  {
   "cell_type": "markdown",
   "metadata": {},
   "source": [
    "### 모든 파일 스테이징\n",
    "```bash\n",
    "git add ."
   ]
  },
  {
   "cell_type": "markdown",
   "metadata": {
    "vscode": {
     "languageId": "raw"
    }
   },
   "source": [
    "### 상태창\n",
    "```bash\n",
    "git status"
   ]
  },
  {
   "cell_type": "markdown",
   "metadata": {
    "vscode": {
     "languageId": "raw"
    }
   },
   "source": [
    "### 기록 보기\n",
    "```bash\n",
    "git log --all --oneline"
   ]
  },
  {
   "cell_type": "markdown",
   "metadata": {},
   "source": [
    "### 그래프로 기록 보기\n",
    "```bash\n",
    "git log --all --oneline --graph "
   ]
  },
  {
   "cell_type": "markdown",
   "metadata": {
    "vscode": {
     "languageId": "raw"
    }
   },
   "source": [
    "### 스테이징 취소\n",
    "```bash\n",
    "git restore --staged \"파일명\""
   ]
  },
  {
   "cell_type": "markdown",
   "metadata": {
    "vscode": {
     "languageId": "raw"
    }
   },
   "source": [
    "### 커밋 하기 전 변경 사항 체크하는 것도 좋음\n",
    "```bash\n",
    "git diff\n",
    "git difftool\n",
    "```\n",
    "- 얘들은 스테이징되지 않은 변경사항만 보여줌."
   ]
  },
  {
   "cell_type": "markdown",
   "metadata": {
    "vscode": {
     "languageId": "raw"
    }
   },
   "source": [
    "- 특정 커밋(버전)과 현재의 차이점 출력\n",
    "```bash\n",
    "git difftool \"커밋아이디\"\n",
    "```\n",
    "- 특정 커밋(버전)간의 차이점 출력\n",
    "```bash\n",
    "git difftool \"커밋아이디1\" \"커밋아이디2\""
   ]
  },
  {
   "cell_type": "markdown",
   "metadata": {
    "vscode": {
     "languageId": "raw"
    }
   },
   "source": [
    "- difftool은 기본적으로 Vim에디터를 사용하는데, VScode로 바꾸고 싶으면\n",
    "```bash\n",
    "git config --global diff.tool vscode\n",
    "git config --global difftool.vscode.cmd 'code --wait --diff $LOCAL $REMOTE'"
   ]
  },
  {
   "cell_type": "markdown",
   "metadata": {
    "vscode": {
     "languageId": "raw"
    }
   },
   "source": [
    "## 브랜치\n",
    "#### 브랜치 만들기\n",
    "```bash\n",
    "git branch 이름"
   ]
  },
  {
   "cell_type": "markdown",
   "metadata": {
    "vscode": {
     "languageId": "raw"
    }
   },
   "source": [
    "### 브랜치 이동\n",
    "```bash\n",
    "git switch 이름"
   ]
  },
  {
   "cell_type": "markdown",
   "metadata": {
    "vscode": {
     "languageId": "raw"
    }
   },
   "source": [
    "### 브랜치 합치기\n",
    "```bash\n",
    "git switch 기준 브랜치 이름(주로 main)\n",
    "git merge 대상 브랜치"
   ]
  },
  {
   "cell_type": "markdown",
   "metadata": {
    "vscode": {
     "languageId": "raw"
    }
   },
   "source": [
    "#### conflict\n",
    "두 브랜치가 같은 파일을 수정한 경우, 머지를 해버리면 컨틀릭트 발생"
   ]
  },
  {
   "cell_type": "markdown",
   "metadata": {
    "vscode": {
     "languageId": "raw"
    }
   },
   "source": [
    "#### 3-way merge\n",
    "신규 commit들이 있는 브랜치들을 merge 하는 경우 새로운 commit이 생성됨"
   ]
  },
  {
   "cell_type": "markdown",
   "metadata": {
    "vscode": {
     "languageId": "raw"
    }
   },
   "source": [
    "### fast-forward merge\n",
    "브랜치 생성 이후 메인 브랜치에는 신규 커밋이 없는 경우  \n",
    "새로 생성된 브랜치의 최종 커밋의 이름을 main으로 바꿔버림  \n",
    "```bash\n",
    "git merge --no-ff 를 통해서 강제로 3-way merge 할 수도 있음"
   ]
  },
  {
   "cell_type": "markdown",
   "metadata": {
    "vscode": {
     "languageId": "raw"
    }
   },
   "source": [
    "### 브랜치 삭제하는 법 (merge 한다고 자동으로 삭제 안됨)\n",
    "- merge 완료된 브랜치 삭제\n",
    "```bash\n",
    "git branch -d 브랜치명\n",
    "```\n",
    "- merge 안한 브랜치 삭제\n",
    "```bash\n",
    "git branch -D 브랜치명"
   ]
  },
  {
   "cell_type": "markdown",
   "metadata": {
    "vscode": {
     "languageId": "raw"
    }
   },
   "source": [
    "### merge 말고 다른 방식으로 합치는 법\n",
    "#### rebase\n",
    "신규 브랜치의 시작점을, 메인 브랜치의 최신 커밋으로 교체하고 fast forward merge로 합쳐버림  \n",
    "(fast forward merge는, 신규 브랜치의 시작점 이후로 메인 브랜치에 커밋이 있었을 경우 불가능)  \n",
    "브랜치가 너무 많으면 로그가 복잡해 보이니까 몇개는 그냥 rebase로 합쳐버림.  \n",
    "단점으로는 conflict가 많이 발생할 수 있음  \n",
    "\n",
    "1) 새로운 브랜치로 이동  \n",
    "git switch 새로운 브랜치 명  \n",
    "git rebase 중심 브랜치 명  \n",
    "\n",
    "2) 중심 브랜치로 이동  \n",
    "git switch 중심 브랜치 명  \n",
    "git merge 새로운 브랜치 명 (fast-forward merge)  "
   ]
  },
  {
   "cell_type": "markdown",
   "metadata": {
    "vscode": {
     "languageId": "raw"
    }
   },
   "source": [
    "#### squash and merge\n",
    "브랜치가 많을수록 로그가 더러워짐.   \n",
    "squash 쓰면 새 브랜치의 커밋 내역을 그냥 메인 브랜치의 새로운 커밋으로 생성해줌.  \n",
    "```bash\n",
    "git switch main\n",
    "git merge --squash 새브런치"
   ]
  },
  {
   "cell_type": "markdown",
   "metadata": {
    "vscode": {
     "languageId": "raw"
    }
   },
   "source": [
    "### 파일 복구하기\n",
    "```bash\n",
    "git restore 파일명\n",
    "```\n",
    "파일을 최근 커밋 상태로 되돌려 줌\n",
    "```bash\n",
    "git restore --source 커밋아이디 파일명\n",
    "```\n",
    "파일을 특정 커밋 시점으로 되돌려 줌\n",
    "```bash\n",
    "git restore --staged 파일명\n",
    "```\n",
    "특정 파일의 스테이징 취소"
   ]
  },
  {
   "cell_type": "markdown",
   "metadata": {
    "vscode": {
     "languageId": "raw"
    }
   },
   "source": [
    "### 커밋 복구하기\n",
    "```bash\n",
    "git revert 커밋아이디\n",
    "```\n",
    "커밋아이디에서 변경한 내용이 모두 취소시켜 새로운 커밋을 생성\n",
    "```bash\n",
    "git revert 커밋아이디1 커밋아이디2\n",
    "```\n",
    "여러개의 커밋 취소\n",
    "```bash\n",
    "git revert HEAD\n",
    "```\n",
    "최근 커밋 취소  \n",
    "  \n",
    "merge로 생성된 커밋도 취소 가능"
   ]
  },
  {
   "cell_type": "markdown",
   "metadata": {
    "vscode": {
     "languageId": "raw"
    }
   },
   "source": [
    "### 특정 커밋 시점으로 되돌리기\n",
    "```bash\n",
    "git reset --hard 커밋아이디\n",
    "```\n",
    "커밋아이디 시점으로 싹 되돌려줌\n",
    "```bash\n",
    "git reset --soft 커밋아이디\n",
    "```\n",
    "커밋아이디 시점으로 싹 되돌려주는데, 변경사항들을 스테이징 해줌. 따라서 필요에 따라 다시 커밋 가능\n",
    "```bash\n",
    "git reset --mixed 커밋아이디\n",
    "```\n",
    "커밋아이디 시점으로 싹 되돌려주는데, 변동사항을 지우지 않지만 스테이징도 안해놓음."
   ]
  }
 ],
 "metadata": {
  "kernelspec": {
   "display_name": "Python 3",
   "language": "python",
   "name": "python3"
  },
  "language_info": {
   "codemirror_mode": {
    "name": "ipython",
    "version": 3
   },
   "file_extension": ".py",
   "mimetype": "text/x-python",
   "name": "python",
   "nbconvert_exporter": "python",
   "pygments_lexer": "ipython3",
   "version": "3.9.18"
  }
 },
 "nbformat": 4,
 "nbformat_minor": 2
}
