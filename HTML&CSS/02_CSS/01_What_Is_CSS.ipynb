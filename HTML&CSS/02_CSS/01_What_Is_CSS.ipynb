{
 "cells": [
  {
   "cell_type": "markdown",
   "id": "e6ec2841",
   "metadata": {},
   "source": [
    "# CSS(Cascading Style Sheets)\n",
    "- html을 꾸밀 때 사용하는 스타일 언어\n",
    "- html로 뼈대를 만들고, CSS로 Style 태그를 적용하여 예쁘게 꾸민다"
   ]
  },
  {
   "cell_type": "markdown",
   "id": "411aa3c0",
   "metadata": {},
   "source": [
    "## CSS의 구조\n",
    "- h1 {\n",
    "        color:blue;\n",
    "}\n",
    "- h1 : 선택자. 꾸미고 싶은 태그를 선택\n",
    "- color : 속성명\n",
    "- blue : 속성값"
   ]
  },
  {
   "cell_type": "markdown",
   "id": "3bc44b81",
   "metadata": {},
   "source": [
    "## CSS 적용 방법\n",
    "- 인라인 스타일 - Inline Style Sheet\n",
    "- 내부 스타일 - Internal Style Sheet\n",
    "- 외부 스타일 - External Style Sheet"
   ]
  },
  {
   "cell_type": "markdown",
   "id": "f58bf881",
   "metadata": {},
   "source": [
    "## CSS 출처\n",
    "- 제작자 스타일\n",
    "    - 제작자 스타일은 말 그대로 웹 사이트를 제작하는 우리가 작성한 스타일 시트\n",
    "- 사용자 스타일\n",
    "    - 사이트를 방문하는 일반 사용자들이 구성한 스타일 시트\n",
    "    - 예를 들어 저시력자는 글자를 명확히 읽기 위해 윈도우의 고대비 설정 기능을 사용 가능. 그러한 스타일이 시스템에 저장되는 것이 사용자 스타일 시트\n",
    "- 브라우저 스타일\n",
    "    - 브라우저들마다 기본적으로 지정하고 있는 스타일\n",
    "    - 크롬, 사파리, 파이어폭스 등 브라우저마다 기본 스타일 시트가 다를 수 있음"
   ]
  },
  {
   "cell_type": "markdown",
   "id": "e4c4e01a",
   "metadata": {},
   "source": [
    "## CSS 출처 적용 우선 순위\n",
    "- 사용자 !important -> 제작자 !important -> 제작자 -> 사용자 -> 브라우저\n",
    "- 주의 사항 : !important는 흐름을 꺨 수 있으니 주의\n",
    "    - !important : 우선 적용"
   ]
  },
  {
   "cell_type": "markdown",
   "id": "112a11ef",
   "metadata": {},
   "source": [
    "## Cascading 뜻\n",
    "- Cascading Style Sheet에서 Cascading은 폭포라는 뜻을 갖는다\n",
    "- HTML 문서는\n",
    "    - 제작자 스타일을 우선 적용\n",
    "    - 그 다음 브라우저 사용자 스타일\n",
    "    - 마지막으로 브라우저 기본 스타일을 적용\n",
    "- 이처럼 Cascading의 뜻인 폭포와 같이 스타일이 우선순위에 맞게 연속적으로 적용됨을 의미"
   ]
  }
 ],
 "metadata": {
  "language_info": {
   "name": "python"
  }
 },
 "nbformat": 4,
 "nbformat_minor": 5
}
