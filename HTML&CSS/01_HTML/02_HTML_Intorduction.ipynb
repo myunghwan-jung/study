{
 "cells": [
  {
   "cell_type": "markdown",
   "id": "27754c1d",
   "metadata": {},
   "source": [
    "# HTML이란?\n",
    "- Hyper Text Markup Language : 태그로 이루어진 마크업 언어\n",
    "- Hyper Link : 텍스트를 클릭하면 다른 웹 문서로 이동되는 문서 연결 기능\n",
    "- Markup : HTML 태그를 통해 텍스트를 마크, 원하는 정보를 효과적으로 표시"
   ]
  },
  {
   "cell_type": "markdown",
   "id": "e00e3c68",
   "metadata": {},
   "source": [
    "## HTML Tag\n",
    "- 태그명, 속성명, 속성값, 컨텐츠\n",
    "- 속성 : 속성명 + 속성값\n",
    "- 시작태그 : 태그명 + 속성명 + 속성값\n",
    "- HTML요소(태그) : 태그명 + 속성명 + 속성값 + 컨텐츠 + 종료태그\n",
    "- 예 : <h1 class = \"primary\"> 컨텐츠 </h1>\n",
    "- 컨텐츠가 없는 태그는 종료태그를 생략 가능"
   ]
  },
  {
   "cell_type": "markdown",
   "id": "683a4a2f",
   "metadata": {},
   "source": [
    "## HTML 문서 기본 구조\n",
    "- DOCTYPE = 어떤 버전으로 작성된 문서인지 정의. 문서 최 상단에 작성\n",
    "- lang = 어떠한 언어로 표현되었는지 정의\n",
    "- 이를 통해 웹 접근성을 향상\n",
    "- head = 문서의 메타데이터를 표시(html의 자식 태그)\n",
    "- body = 문서의 실제 컨텐츠를 표시\n",
    "- 주석 = <!--메모내용-->"
   ]
  }
 ],
 "metadata": {
  "language_info": {
   "name": "python"
  }
 },
 "nbformat": 4,
 "nbformat_minor": 5
}
